{
 "cells": [
  {
   "cell_type": "code",
   "execution_count": 1,
   "id": "shaped-reggae",
   "metadata": {},
   "outputs": [],
   "source": [
    "import numpy as np\n",
    "\n",
    "import pandas as pd\n",
    "\n",
    "import os as o\n",
    "\n",
    "import sys as ss\n",
    "\n",
    "import csv as cv\n",
    "\n",
    "import json as jayz\n",
    "\n",
    "#import lxml as xml Not working ecen though it is installed\n",
    "\n",
    "\n",
    "import requests\n",
    "\n",
    "import sqlite3\n",
    "\n",
    "# import sqlalchemy as sqa , not working even though installed\n",
    "\n",
    "\n",
    "import re\n",
    "\n",
    "import matplotlib.pyplot as plt\n",
    "\n",
    "from datetime import datetime  as datetm \n",
    "\n",
    "from datetime import timedelta as tdel\n",
    "\n",
    "import seaborn as sns\n",
    "\n",
    "# Now if you want to do the plotting in pycharm, remember that no matter which method you use the figure output will\n",
    "# not come unless until you write plt.show()\n",
    "\n",
    "\n",
    "from io import StringIO\n",
    "\n",
    "import pytz\n"
   ]
  },
  {
   "cell_type": "code",
   "execution_count": 2,
   "id": "egyptian-independence",
   "metadata": {},
   "outputs": [],
   "source": [
    "# Time is an important structured data used in many fields such as ecology and neuroscience. Anyting that is recorded at a \n",
    "# a fixed interval forms a time series. Many time series are fixed and occur at definite interval like 15 minutes or every month\n",
    "# Please note that time series can be irregular as well\n",
    "# How you mark and refer the time series data depends on the application."
   ]
  },
  {
   "cell_type": "code",
   "execution_count": 3,
   "id": "liked-springfield",
   "metadata": {},
   "outputs": [],
   "source": [
    "# Depending on the application you may have one of the following\n",
    "\n",
    "# Timestamps\n",
    "  # Specific instants in time\n",
    "\n",
    "# Fixed periods\n",
    "  # Such as whole month of january 2022 or entire 2023\n",
    "    \n",
    "# Intervals of time\n",
    "  # Indicated by start and end timestamp. Periods can be thought of as special cases of intervals\n",
    "    \n",
    "# Experiment or elapsed time\n",
    "  # Each timestamp is a measure of time relative to a particular start time starting from 0. (e.x. the diameter of a cookie\n",
    "    # being baked in an oven)"
   ]
  },
  {
   "cell_type": "code",
   "execution_count": 4,
   "id": "round-bikini",
   "metadata": {},
   "outputs": [],
   "source": [
    "# Now, pandas provides many built-in time series tools and algorithms. Also note that pandas supports timedelta based\n",
    "# indexing that can be used to represent Experiment or elapsed time. But in this chapter our focus will be on only\n",
    "# the first three topics"
   ]
  },
  {
   "cell_type": "code",
   "execution_count": 5,
   "id": "upper-means",
   "metadata": {},
   "outputs": [],
   "source": [
    "# The python standard library includes data types for date and time data. These include datetime, time and calendar\n",
    "# modules"
   ]
  },
  {
   "cell_type": "markdown",
   "id": "auburn-consolidation",
   "metadata": {},
   "source": [
    "## Date and Time Data Types and Tools"
   ]
  },
  {
   "cell_type": "code",
   "execution_count": 6,
   "id": "elementary-shirt",
   "metadata": {},
   "outputs": [
    {
     "data": {
      "text/plain": [
       "datetime.datetime(2023, 7, 7, 13, 1, 29, 82658)"
      ]
     },
     "execution_count": 6,
     "metadata": {},
     "output_type": "execute_result"
    }
   ],
   "source": [
    "# from datetime import datetime as datetm\n",
    "\n",
    "right_now = datetm.now()\n",
    "\n",
    "right_now\n",
    "\n",
    "\n"
   ]
  },
  {
   "cell_type": "markdown",
   "id": "lovely-charlotte",
   "metadata": {},
   "source": [
    "### The output format is yyyy-mm-dd-HH-mins-sec-milisec"
   ]
  },
  {
   "cell_type": "code",
   "execution_count": 7,
   "id": "linear-wyoming",
   "metadata": {},
   "outputs": [
    {
     "data": {
      "text/plain": [
       "(2023, 7, 7)"
      ]
     },
     "execution_count": 7,
     "metadata": {},
     "output_type": "execute_result"
    }
   ],
   "source": [
    "right_now.year,right_now.month,right_now.day"
   ]
  },
  {
   "cell_type": "code",
   "execution_count": 8,
   "id": "medieval-setting",
   "metadata": {},
   "outputs": [
    {
     "data": {
      "text/plain": [
       "datetime.date(2023, 7, 7)"
      ]
     },
     "execution_count": 8,
     "metadata": {},
     "output_type": "execute_result"
    }
   ],
   "source": [
    "right_now.date()"
   ]
  },
  {
   "cell_type": "code",
   "execution_count": 9,
   "id": "auburn-interstate",
   "metadata": {},
   "outputs": [],
   "source": [
    "# Now, using datetime we can find the temporal difference between two timestamps"
   ]
  },
  {
   "cell_type": "code",
   "execution_count": 10,
   "id": "shaped-asthma",
   "metadata": {},
   "outputs": [
    {
     "data": {
      "text/plain": [
       "datetime.timedelta(days=-108804, seconds=2940)"
      ]
     },
     "execution_count": 10,
     "metadata": {},
     "output_type": "execute_result"
    }
   ],
   "source": [
    "diff = datetm(2034,12,21) - datetm(2332,11,12,23,11)\n",
    "\n",
    "diff"
   ]
  },
  {
   "cell_type": "code",
   "execution_count": 11,
   "id": "successful-restriction",
   "metadata": {},
   "outputs": [
    {
     "data": {
      "text/plain": [
       "datetime.timedelta(days=325756, seconds=73620)"
      ]
     },
     "execution_count": 11,
     "metadata": {},
     "output_type": "execute_result"
    }
   ],
   "source": [
    "diff_proper = datetm(2994,10,3) - datetm(2102,11,12,3,33)\n",
    "\n",
    "diff_proper"
   ]
  },
  {
   "cell_type": "code",
   "execution_count": 12,
   "id": "ceramic-relaxation",
   "metadata": {},
   "outputs": [
    {
     "data": {
      "text/plain": [
       "325756"
      ]
     },
     "execution_count": 12,
     "metadata": {},
     "output_type": "execute_result"
    }
   ],
   "source": [
    "diff_proper.days"
   ]
  },
  {
   "cell_type": "code",
   "execution_count": 13,
   "id": "organized-buffalo",
   "metadata": {},
   "outputs": [
    {
     "data": {
      "text/plain": [
       "73620"
      ]
     },
     "execution_count": 13,
     "metadata": {},
     "output_type": "execute_result"
    }
   ],
   "source": [
    "diff_proper.seconds"
   ]
  },
  {
   "cell_type": "code",
   "execution_count": 14,
   "id": "tested-bachelor",
   "metadata": {},
   "outputs": [
    {
     "data": {
      "text/plain": [
       "datetime.timedelta(days=-999999999)"
      ]
     },
     "execution_count": 14,
     "metadata": {},
     "output_type": "execute_result"
    }
   ],
   "source": [
    "diff_proper.min"
   ]
  },
  {
   "cell_type": "code",
   "execution_count": 15,
   "id": "electrical-musical",
   "metadata": {},
   "outputs": [],
   "source": [
    "# Now, using timedelta you can add or subtract a time value to a datetime object"
   ]
  },
  {
   "cell_type": "code",
   "execution_count": 16,
   "id": "innovative-thousand",
   "metadata": {},
   "outputs": [],
   "source": [
    "# from datetime import timedelta as tdel"
   ]
  },
  {
   "cell_type": "code",
   "execution_count": 17,
   "id": "incomplete-postage",
   "metadata": {},
   "outputs": [
    {
     "data": {
      "text/plain": [
       "datetime.datetime(2011, 5, 15, 0, 0)"
      ]
     },
     "execution_count": 17,
     "metadata": {},
     "output_type": "execute_result"
    }
   ],
   "source": [
    "start = datetm(2011,5,15)\n",
    "start"
   ]
  },
  {
   "cell_type": "code",
   "execution_count": 18,
   "id": "organic-leonard",
   "metadata": {},
   "outputs": [
    {
     "data": {
      "text/plain": [
       "datetime.datetime(2011, 5, 3, 0, 0)"
      ]
     },
     "execution_count": 18,
     "metadata": {},
     "output_type": "execute_result"
    }
   ],
   "source": [
    "start - tdel(12) # You subtracted 12 days"
   ]
  },
  {
   "cell_type": "code",
   "execution_count": 19,
   "id": "fleet-handbook",
   "metadata": {},
   "outputs": [
    {
     "data": {
      "text/plain": [
       "datetime.datetime(2011, 4, 15, 0, 0)"
      ]
     },
     "execution_count": 19,
     "metadata": {},
     "output_type": "execute_result"
    }
   ],
   "source": [
    "start - (3* tdel(10)) # You subtractes 30 days"
   ]
  },
  {
   "cell_type": "code",
   "execution_count": 20,
   "id": "adjacent-congress",
   "metadata": {},
   "outputs": [
    {
     "data": {
      "text/plain": [
       "datetime.datetime(2011, 6, 4, 0, 0)"
      ]
     },
     "execution_count": 20,
     "metadata": {},
     "output_type": "execute_result"
    }
   ],
   "source": [
    "start + tdel(20)  # You added 20 days"
   ]
  },
  {
   "cell_type": "markdown",
   "id": "later-carolina",
   "metadata": {},
   "source": [
    "### "
   ]
  },
  {
   "cell_type": "markdown",
   "id": "obvious-vault",
   "metadata": {},
   "source": [
    "### Converting Between String and Datetime"
   ]
  },
  {
   "cell_type": "code",
   "execution_count": 21,
   "id": "peaceful-stuart",
   "metadata": {},
   "outputs": [],
   "source": [
    "# You can parse pandas object and also datetime objects as string method using a format specification"
   ]
  },
  {
   "cell_type": "code",
   "execution_count": 22,
   "id": "wanted-eligibility",
   "metadata": {},
   "outputs": [
    {
     "data": {
      "text/plain": [
       "datetime.datetime(3001, 1, 23, 0, 0)"
      ]
     },
     "execution_count": 22,
     "metadata": {},
     "output_type": "execute_result"
    }
   ],
   "source": [
    "stanp = datetm(3001,1,23)\n",
    "\n",
    "stanp"
   ]
  },
  {
   "cell_type": "code",
   "execution_count": 23,
   "id": "genuine-engineering",
   "metadata": {},
   "outputs": [
    {
     "data": {
      "text/plain": [
       "'3001-01-23 00:00:00'"
      ]
     },
     "execution_count": 23,
     "metadata": {},
     "output_type": "execute_result"
    }
   ],
   "source": [
    "str(stanp)"
   ]
  },
  {
   "cell_type": "code",
   "execution_count": 24,
   "id": "designed-polish",
   "metadata": {},
   "outputs": [
    {
     "data": {
      "text/plain": [
       "'3001-01-23'"
      ]
     },
     "execution_count": 24,
     "metadata": {},
     "output_type": "execute_result"
    }
   ],
   "source": [
    "stanp.strftime('%Y-%m-%d')"
   ]
  },
  {
   "cell_type": "code",
   "execution_count": 25,
   "id": "closing-founder",
   "metadata": {},
   "outputs": [],
   "source": [
    "# Now we can do the reverse as well i.e. converting string variable having date value to date format of datetime"
   ]
  },
  {
   "cell_type": "code",
   "execution_count": 26,
   "id": "twelve-ranking",
   "metadata": {},
   "outputs": [
    {
     "data": {
      "text/plain": [
       "datetime.datetime(4321, 5, 21, 0, 0)"
      ]
     },
     "execution_count": 26,
     "metadata": {},
     "output_type": "execute_result"
    }
   ],
   "source": [
    "valls = '4321-05-21'\n",
    "\n",
    "datetm.strptime(valls,'%Y-%m-%d')"
   ]
  },
  {
   "cell_type": "code",
   "execution_count": 27,
   "id": "grand-cooperation",
   "metadata": {},
   "outputs": [
    {
     "data": {
      "text/plain": [
       "[datetime.datetime(3011, 2, 12, 0, 0), datetime.datetime(2122, 12, 31, 0, 0)]"
      ]
     },
     "execution_count": 27,
     "metadata": {},
     "output_type": "execute_result"
    }
   ],
   "source": [
    "datestrs = ['3011/02/12','2122/12/31']\n",
    "\n",
    "datestr_to_proper = [ datetm.strptime(z,('%Y/%m/%d'))   for z in datestrs]\n",
    "\n",
    "datestr_to_proper"
   ]
  },
  {
   "cell_type": "code",
   "execution_count": 28,
   "id": "phantom-baptist",
   "metadata": {},
   "outputs": [],
   "source": [
    "# Now please note an important thing\n",
    "# If you string variable has the date format of YYYY-MM-DD then, while converting to actual datetime object you will\n",
    "# have to pass the format as %Y-%m-%d only you cannot convert it into a dateformat of %Y/%m/%d"
   ]
  },
  {
   "cell_type": "code",
   "execution_count": 29,
   "id": "super-horror",
   "metadata": {},
   "outputs": [],
   "source": [
    "# Now, pandas also is adept at converting data of string dates into proper datetime object, but it is more suited\n",
    "# to work with array of data that could be at index or column axis"
   ]
  },
  {
   "cell_type": "code",
   "execution_count": 30,
   "id": "innovative-tackle",
   "metadata": {},
   "outputs": [
    {
     "data": {
      "text/plain": [
       "DatetimeIndex(['2019-11-03 14:21:43', '2020-03-01 09:00:00'], dtype='datetime64[ns]', freq=None)"
      ]
     },
     "execution_count": 30,
     "metadata": {},
     "output_type": "execute_result"
    }
   ],
   "source": [
    "datestrs_pandu = ['2019-11-03 14:21:43','2020-03-01 09:00:00']\n",
    "\n",
    "pd.to_datetime(datestrs_pandu)"
   ]
  },
  {
   "cell_type": "code",
   "execution_count": 31,
   "id": "reasonable-suite",
   "metadata": {},
   "outputs": [
    {
     "data": {
      "text/plain": [
       "pandas.core.indexes.datetimes.DatetimeIndex"
      ]
     },
     "execution_count": 31,
     "metadata": {},
     "output_type": "execute_result"
    }
   ],
   "source": [
    "ik = pd.to_datetime(datestrs_pandu)\n",
    "\n",
    "type(ik)"
   ]
  },
  {
   "cell_type": "code",
   "execution_count": 32,
   "id": "pending-potato",
   "metadata": {},
   "outputs": [],
   "source": [
    "# it is also good at handling null or nan values"
   ]
  },
  {
   "cell_type": "code",
   "execution_count": 33,
   "id": "partial-framing",
   "metadata": {},
   "outputs": [],
   "source": [
    "datestrs_pandu = ['2019-11-03 14:21:43','2020-03-01 09:00:00',None]"
   ]
  },
  {
   "cell_type": "code",
   "execution_count": 34,
   "id": "vulnerable-affect",
   "metadata": {},
   "outputs": [
    {
     "data": {
      "text/plain": [
       "DatetimeIndex(['2019-11-03 14:21:43', '2020-03-01 09:00:00', 'NaT'], dtype='datetime64[ns]', freq=None)"
      ]
     },
     "execution_count": 34,
     "metadata": {},
     "output_type": "execute_result"
    }
   ],
   "source": [
    "ikn = pd.to_datetime(datestrs_pandu)\n",
    "\n",
    "ikn"
   ]
  },
  {
   "cell_type": "code",
   "execution_count": 35,
   "id": "contained-missouri",
   "metadata": {},
   "outputs": [],
   "source": [
    "# NaT stands for Not a Time"
   ]
  },
  {
   "cell_type": "code",
   "execution_count": 36,
   "id": "double-advocacy",
   "metadata": {},
   "outputs": [
    {
     "data": {
      "text/plain": [
       "NaT"
      ]
     },
     "execution_count": 36,
     "metadata": {},
     "output_type": "execute_result"
    }
   ],
   "source": [
    "ikn[2]"
   ]
  },
  {
   "cell_type": "markdown",
   "id": "heated-queensland",
   "metadata": {},
   "source": [
    "## Time Series Basics"
   ]
  },
  {
   "cell_type": "code",
   "execution_count": 37,
   "id": "conservative-package",
   "metadata": {},
   "outputs": [],
   "source": [
    "# Now, a basic type of pandas datetime object is pandas series which is indexed by timestamps. Let's see the\n",
    "# representation"
   ]
  },
  {
   "cell_type": "code",
   "execution_count": 38,
   "id": "organic-garbage",
   "metadata": {},
   "outputs": [],
   "source": [
    "dateless = [datetm(3100,2,1),datetm(3200,11,23),\n",
    "            datetm(4001,12,31),datetm(4221,10,19),\n",
    "            datetm(3342,8,29),datetm(3211,3,8)]"
   ]
  },
  {
   "cell_type": "code",
   "execution_count": 39,
   "id": "strange-spain",
   "metadata": {},
   "outputs": [
    {
     "data": {
      "text/plain": [
       "3100-02-01 00:00:00   -0.136704\n",
       "3200-11-23 00:00:00   -0.904014\n",
       "4001-12-31 00:00:00   -1.509254\n",
       "4221-10-19 00:00:00    0.508828\n",
       "3342-08-29 00:00:00   -0.729643\n",
       "3211-03-08 00:00:00    0.283172\n",
       "dtype: float64"
      ]
     },
     "execution_count": 39,
     "metadata": {},
     "output_type": "execute_result"
    }
   ],
   "source": [
    "tcs = pd.Series(np.random.standard_normal(6),index=dateless)\n",
    "\n",
    "tcs"
   ]
  },
  {
   "cell_type": "code",
   "execution_count": 40,
   "id": "desperate-celebration",
   "metadata": {},
   "outputs": [
    {
     "data": {
      "text/plain": [
       "Index([3100-02-01 00:00:00, 3200-11-23 00:00:00, 4001-12-31 00:00:00,\n",
       "       4221-10-19 00:00:00, 3342-08-29 00:00:00, 3211-03-08 00:00:00],\n",
       "      dtype='object')"
      ]
     },
     "execution_count": 40,
     "metadata": {},
     "output_type": "execute_result"
    }
   ],
   "source": [
    "tcs.index"
   ]
  },
  {
   "cell_type": "code",
   "execution_count": 41,
   "id": "empirical-swift",
   "metadata": {},
   "outputs": [
    {
     "data": {
      "text/plain": [
       "3100-02-01 00:00:00   -0.136704\n",
       "4001-12-31 00:00:00   -1.509254\n",
       "3342-08-29 00:00:00   -0.729643\n",
       "dtype: float64"
      ]
     },
     "execution_count": 41,
     "metadata": {},
     "output_type": "execute_result"
    }
   ],
   "source": [
    "tcs[::2]"
   ]
  },
  {
   "cell_type": "code",
   "execution_count": 42,
   "id": "historical-mapping",
   "metadata": {},
   "outputs": [
    {
     "data": {
      "text/plain": [
       "3100-02-01 00:00:00   -0.273408\n",
       "3200-11-23 00:00:00         NaN\n",
       "3211-03-08 00:00:00         NaN\n",
       "3342-08-29 00:00:00   -1.459286\n",
       "4001-12-31 00:00:00   -3.018507\n",
       "4221-10-19 00:00:00         NaN\n",
       "dtype: float64"
      ]
     },
     "execution_count": 42,
     "metadata": {},
     "output_type": "execute_result"
    }
   ],
   "source": [
    "tcs + tcs[::2]"
   ]
  },
  {
   "cell_type": "code",
   "execution_count": 43,
   "id": "collected-alias",
   "metadata": {},
   "outputs": [
    {
     "data": {
      "text/plain": [
       "a    1\n",
       "b    2\n",
       "d    3\n",
       "e    4\n",
       "g    5\n",
       "dtype: int64"
      ]
     },
     "execution_count": 43,
     "metadata": {},
     "output_type": "execute_result"
    }
   ],
   "source": [
    "dd = pd.Series([1,2,3,4,5],index=['a','b','d','e','g'])\n",
    "\n",
    "dd"
   ]
  },
  {
   "cell_type": "code",
   "execution_count": 44,
   "id": "enormous-oxide",
   "metadata": {},
   "outputs": [
    {
     "data": {
      "text/plain": [
       "0    1\n",
       "1    2\n",
       "2    3\n",
       "3    4\n",
       "4    5\n",
       "dtype: int64"
      ]
     },
     "execution_count": 44,
     "metadata": {},
     "output_type": "execute_result"
    }
   ],
   "source": [
    "sd = pd.Series([1,2,3,4,5])\n",
    "sd"
   ]
  },
  {
   "cell_type": "code",
   "execution_count": 45,
   "id": "literary-clarity",
   "metadata": {},
   "outputs": [
    {
     "data": {
      "text/plain": [
       "0   NaN\n",
       "1   NaN\n",
       "2   NaN\n",
       "3   NaN\n",
       "4   NaN\n",
       "a   NaN\n",
       "b   NaN\n",
       "d   NaN\n",
       "e   NaN\n",
       "g   NaN\n",
       "dtype: float64"
      ]
     },
     "execution_count": 45,
     "metadata": {},
     "output_type": "execute_result"
    }
   ],
   "source": [
    "sd + dd"
   ]
  },
  {
   "cell_type": "code",
   "execution_count": 46,
   "id": "suffering-campbell",
   "metadata": {},
   "outputs": [
    {
     "data": {
      "text/plain": [
       "-0.13670407625260264"
      ]
     },
     "execution_count": 46,
     "metadata": {},
     "output_type": "execute_result"
    }
   ],
   "source": [
    "tcs[0]"
   ]
  },
  {
   "cell_type": "code",
   "execution_count": 47,
   "id": "incoming-wireless",
   "metadata": {},
   "outputs": [
    {
     "data": {
      "text/plain": [
       "2"
      ]
     },
     "execution_count": 47,
     "metadata": {},
     "output_type": "execute_result"
    }
   ],
   "source": [
    "sd[1]"
   ]
  },
  {
   "cell_type": "code",
   "execution_count": 48,
   "id": "afraid-greene",
   "metadata": {},
   "outputs": [
    {
     "data": {
      "text/plain": [
       "2"
      ]
     },
     "execution_count": 48,
     "metadata": {},
     "output_type": "execute_result"
    }
   ],
   "source": [
    "dd[1]"
   ]
  },
  {
   "cell_type": "code",
   "execution_count": 49,
   "id": "dimensional-least",
   "metadata": {},
   "outputs": [
    {
     "data": {
      "text/plain": [
       "0       aaj\n",
       "1        ke\n",
       "2    partty\n",
       "3     merti\n",
       "4     taraf\n",
       "5        se\n",
       "dtype: object"
      ]
     },
     "execution_count": 49,
     "metadata": {},
     "output_type": "execute_result"
    }
   ],
   "source": [
    "asd = pd.Series(['aaj','ke','partty','merti','taraf','se'])\n",
    "\n",
    "asd"
   ]
  },
  {
   "cell_type": "code",
   "execution_count": 50,
   "id": "moving-specific",
   "metadata": {},
   "outputs": [
    {
     "data": {
      "text/plain": [
       "0    1\n",
       "1    2\n",
       "2    3\n",
       "3    4\n",
       "4    5\n",
       "dtype: int64"
      ]
     },
     "execution_count": 50,
     "metadata": {},
     "output_type": "execute_result"
    }
   ],
   "source": [
    "sd"
   ]
  },
  {
   "cell_type": "code",
   "execution_count": 51,
   "id": "engaging-fraction",
   "metadata": {},
   "outputs": [
    {
     "data": {
      "text/plain": [
       "datetime.datetime(3200, 11, 23, 0, 0)"
      ]
     },
     "execution_count": 51,
     "metadata": {},
     "output_type": "execute_result"
    }
   ],
   "source": [
    "stamp_me = tcs.index[1]\n",
    "\n",
    "stamp_me"
   ]
  },
  {
   "cell_type": "code",
   "execution_count": 52,
   "id": "compound-hundred",
   "metadata": {},
   "outputs": [],
   "source": [
    "# Scalar values from DatetimeIndex are pandas Timestamp object"
   ]
  },
  {
   "cell_type": "markdown",
   "id": "resident-bench",
   "metadata": {},
   "source": [
    "### Indexing, Selection, Subsetting"
   ]
  },
  {
   "cell_type": "code",
   "execution_count": 53,
   "id": "mobile-farmer",
   "metadata": {},
   "outputs": [
    {
     "data": {
      "text/plain": [
       "datetime.datetime(3200, 11, 23, 0, 0)"
      ]
     },
     "execution_count": 53,
     "metadata": {},
     "output_type": "execute_result"
    }
   ],
   "source": [
    "stamp_me"
   ]
  },
  {
   "cell_type": "code",
   "execution_count": 54,
   "id": "complimentary-reform",
   "metadata": {},
   "outputs": [
    {
     "data": {
      "text/plain": [
       "3100-02-01 00:00:00   -0.136704\n",
       "3200-11-23 00:00:00   -0.904014\n",
       "4001-12-31 00:00:00   -1.509254\n",
       "4221-10-19 00:00:00    0.508828\n",
       "3342-08-29 00:00:00   -0.729643\n",
       "3211-03-08 00:00:00    0.283172\n",
       "dtype: float64"
      ]
     },
     "execution_count": 54,
     "metadata": {},
     "output_type": "execute_result"
    }
   ],
   "source": [
    "tcs"
   ]
  },
  {
   "cell_type": "code",
   "execution_count": 55,
   "id": "worth-costume",
   "metadata": {},
   "outputs": [],
   "source": [
    "shest = tcs.index[2]"
   ]
  },
  {
   "cell_type": "code",
   "execution_count": 56,
   "id": "close-welsh",
   "metadata": {},
   "outputs": [
    {
     "data": {
      "text/plain": [
       "-1.5092536325906762"
      ]
     },
     "execution_count": 56,
     "metadata": {},
     "output_type": "execute_result"
    }
   ],
   "source": [
    "tcs[shest]"
   ]
  },
  {
   "cell_type": "code",
   "execution_count": 57,
   "id": "convenient-doctrine",
   "metadata": {},
   "outputs": [
    {
     "data": {
      "text/plain": [
       "Index([3100-02-01 00:00:00, 3200-11-23 00:00:00, 4001-12-31 00:00:00,\n",
       "       4221-10-19 00:00:00, 3342-08-29 00:00:00, 3211-03-08 00:00:00],\n",
       "      dtype='object')"
      ]
     },
     "execution_count": 57,
     "metadata": {},
     "output_type": "execute_result"
    }
   ],
   "source": [
    "tcs.index"
   ]
  },
  {
   "cell_type": "code",
   "execution_count": 58,
   "id": "august-combat",
   "metadata": {},
   "outputs": [],
   "source": [
    "# tcs['3100-02-01 00:00:00']"
   ]
  },
  {
   "cell_type": "code",
   "execution_count": 59,
   "id": "arbitrary-release",
   "metadata": {},
   "outputs": [],
   "source": [
    "daae = [datetm(2011,1,1),datetm(2011,1,4),\n",
    "        datetm(2011,1,6),datetm(2011,1,8),\n",
    "        datetm(2011,1,12),datetm(2011,1,21)]"
   ]
  },
  {
   "cell_type": "code",
   "execution_count": 60,
   "id": "combined-black",
   "metadata": {},
   "outputs": [
    {
     "data": {
      "text/plain": [
       "2011-01-01   -0.982458\n",
       "2011-01-04   -1.379299\n",
       "2011-01-06   -0.181925\n",
       "2011-01-08    0.162260\n",
       "2011-01-12   -1.071807\n",
       "2011-01-21    1.020842\n",
       "dtype: float64"
      ]
     },
     "execution_count": 60,
     "metadata": {},
     "output_type": "execute_result"
    }
   ],
   "source": [
    "# Now tcs_1 was created because the way of creating the index for tcs was not right apparantly. Even though you used the\n",
    "# the datem keyword only still maybe due to the absurd years parsed, the unwanted HH-mm-ss attribute also came and which\n",
    "# started causing key error.\n",
    "\n",
    "tcs_1 = pd.Series(np.random.standard_normal(6),index=daae)\n",
    "\n",
    "tcs_1"
   ]
  },
  {
   "cell_type": "code",
   "execution_count": 61,
   "id": "emerging-advance",
   "metadata": {},
   "outputs": [
    {
     "data": {
      "text/plain": [
       "1.020841687454897"
      ]
     },
     "execution_count": 61,
     "metadata": {},
     "output_type": "execute_result"
    }
   ],
   "source": [
    "tcs_1['2011-01-21']"
   ]
  },
  {
   "cell_type": "code",
   "execution_count": 62,
   "id": "quiet-villa",
   "metadata": {},
   "outputs": [
    {
     "data": {
      "text/plain": [
       "a    4234\n",
       "b    4235\n",
       "c    4236\n",
       "d    4237\n",
       "dtype: int32"
      ]
     },
     "execution_count": 62,
     "metadata": {},
     "output_type": "execute_result"
    }
   ],
   "source": [
    "aabe = pd.Series(np.arange(4234,4238),index=['a','b','c','d'])\n",
    "\n",
    "aabe"
   ]
  },
  {
   "cell_type": "code",
   "execution_count": 63,
   "id": "angry-company",
   "metadata": {},
   "outputs": [
    {
     "data": {
      "text/plain": [
       "4236"
      ]
     },
     "execution_count": 63,
     "metadata": {},
     "output_type": "execute_result"
    }
   ],
   "source": [
    "aabe[2]"
   ]
  },
  {
   "cell_type": "code",
   "execution_count": 64,
   "id": "loaded-nickel",
   "metadata": {},
   "outputs": [
    {
     "data": {
      "text/plain": [
       "4236"
      ]
     },
     "execution_count": 64,
     "metadata": {},
     "output_type": "execute_result"
    }
   ],
   "source": [
    "aabe['c']"
   ]
  },
  {
   "cell_type": "code",
   "execution_count": 65,
   "id": "federal-concern",
   "metadata": {},
   "outputs": [],
   "source": [
    "# Now, this is an interesting topic. Suppose your dataframe has dates ranging for multiple years. Well you can\n",
    "# just select a particular date range just by passing an year or an year and month value."
   ]
  },
  {
   "cell_type": "code",
   "execution_count": 66,
   "id": "specific-difficulty",
   "metadata": {},
   "outputs": [
    {
     "data": {
      "text/plain": [
       "2050-01-10    1.370852\n",
       "2050-01-11   -0.387727\n",
       "2050-01-12   -0.860304\n",
       "2050-01-13   -1.315340\n",
       "2050-01-14    2.119461\n",
       "                ...   \n",
       "2052-10-01    1.669606\n",
       "2052-10-02    0.446869\n",
       "2052-10-03   -0.884171\n",
       "2052-10-04    2.624826\n",
       "2052-10-05   -1.058618\n",
       "Freq: D, Length: 1000, dtype: float64"
      ]
     },
     "execution_count": 66,
     "metadata": {},
     "output_type": "execute_result"
    }
   ],
   "source": [
    "long_tcs = pd.Series(np.random.standard_normal(1000),\n",
    "                     index=pd.date_range('2050-01-10',periods=1000)\n",
    "                    )\n",
    "\n",
    "long_tcs"
   ]
  },
  {
   "cell_type": "code",
   "execution_count": 67,
   "id": "accepting-works",
   "metadata": {},
   "outputs": [
    {
     "data": {
      "text/plain": [
       "2051-01-01   -0.257707\n",
       "2051-01-02    2.042323\n",
       "2051-01-03   -0.262502\n",
       "2051-01-04   -0.902018\n",
       "2051-01-05    1.372238\n",
       "                ...   \n",
       "2051-12-27    0.902827\n",
       "2051-12-28    0.835443\n",
       "2051-12-29   -1.442109\n",
       "2051-12-30   -0.449411\n",
       "2051-12-31    0.274479\n",
       "Freq: D, Length: 365, dtype: float64"
      ]
     },
     "execution_count": 67,
     "metadata": {},
     "output_type": "execute_result"
    }
   ],
   "source": [
    "long_tcs['2051']"
   ]
  },
  {
   "cell_type": "code",
   "execution_count": 68,
   "id": "impossible-generation",
   "metadata": {},
   "outputs": [],
   "source": [
    "# Now you can go with even further specification"
   ]
  },
  {
   "cell_type": "code",
   "execution_count": 69,
   "id": "whole-london",
   "metadata": {},
   "outputs": [
    {
     "data": {
      "text/plain": [
       "2051-01-01   -0.257707\n",
       "2051-01-02    2.042323\n",
       "2051-01-03   -0.262502\n",
       "2051-01-04   -0.902018\n",
       "2051-01-05    1.372238\n",
       "2051-01-06    0.632395\n",
       "2051-01-07    0.959468\n",
       "2051-01-08   -0.072713\n",
       "2051-01-09   -0.362862\n",
       "2051-01-10    0.763130\n",
       "2051-01-11   -1.595738\n",
       "2051-01-12   -1.151386\n",
       "2051-01-13    0.057364\n",
       "2051-01-14   -1.451025\n",
       "2051-01-15   -1.820609\n",
       "2051-01-16   -1.703123\n",
       "2051-01-17    1.012867\n",
       "2051-01-18   -2.303026\n",
       "2051-01-19    0.485584\n",
       "2051-01-20    0.304268\n",
       "2051-01-21   -0.532971\n",
       "2051-01-22    0.091090\n",
       "2051-01-23   -0.689934\n",
       "2051-01-24   -0.312561\n",
       "2051-01-25    0.230318\n",
       "2051-01-26   -0.302763\n",
       "2051-01-27   -1.006172\n",
       "2051-01-28   -0.151670\n",
       "2051-01-29   -0.812645\n",
       "2051-01-30    1.750697\n",
       "2051-01-31    0.338530\n",
       "Freq: D, dtype: float64"
      ]
     },
     "execution_count": 69,
     "metadata": {},
     "output_type": "execute_result"
    }
   ],
   "source": [
    "long_tcs['2051-01']"
   ]
  },
  {
   "cell_type": "code",
   "execution_count": 70,
   "id": "positive-password",
   "metadata": {},
   "outputs": [],
   "source": [
    "# Now you can also do the slicing without using loc or iloc or any other traditional method"
   ]
  },
  {
   "cell_type": "code",
   "execution_count": 71,
   "id": "mature-laundry",
   "metadata": {},
   "outputs": [
    {
     "data": {
      "text/plain": [
       "2011-01-21    1.020842\n",
       "dtype: float64"
      ]
     },
     "execution_count": 71,
     "metadata": {},
     "output_type": "execute_result"
    }
   ],
   "source": [
    "tcs_1[datetm(2011,1,21):]"
   ]
  },
  {
   "cell_type": "code",
   "execution_count": 72,
   "id": "representative-watershed",
   "metadata": {},
   "outputs": [
    {
     "data": {
      "text/plain": [
       "2011-01-01   -0.982458\n",
       "2011-01-04   -1.379299\n",
       "2011-01-06   -0.181925\n",
       "2011-01-08    0.162260\n",
       "2011-01-12   -1.071807\n",
       "dtype: float64"
      ]
     },
     "execution_count": 72,
     "metadata": {},
     "output_type": "execute_result"
    }
   ],
   "source": [
    "tcs_1[datetm(2011,1,1):datetm(2011,1,12)]"
   ]
  },
  {
   "cell_type": "code",
   "execution_count": 73,
   "id": "alpine-steal",
   "metadata": {},
   "outputs": [
    {
     "data": {
      "text/plain": [
       "2011-01-01   -0.982458\n",
       "2011-01-04   -1.379299\n",
       "2011-01-06   -0.181925\n",
       "2011-01-08    0.162260\n",
       "2011-01-12   -1.071807\n",
       "2011-01-21    1.020842\n",
       "dtype: float64"
      ]
     },
     "execution_count": 73,
     "metadata": {},
     "output_type": "execute_result"
    }
   ],
   "source": [
    "tcs_1"
   ]
  },
  {
   "cell_type": "code",
   "execution_count": 74,
   "id": "tight-affair",
   "metadata": {},
   "outputs": [],
   "source": [
    "# Now, since MOST of the time the time series data is usually present in chronological order. You can perform\n",
    "# slicing with the date data that is not even present in the series. Have a look below"
   ]
  },
  {
   "cell_type": "code",
   "execution_count": 75,
   "id": "pediatric-banana",
   "metadata": {},
   "outputs": [
    {
     "data": {
      "text/plain": [
       "2011-01-01   -0.982458\n",
       "2011-01-04   -1.379299\n",
       "2011-01-06   -0.181925\n",
       "2011-01-08    0.162260\n",
       "2011-01-12   -1.071807\n",
       "2011-01-21    1.020842\n",
       "dtype: float64"
      ]
     },
     "execution_count": 75,
     "metadata": {},
     "output_type": "execute_result"
    }
   ],
   "source": [
    "tcs_1"
   ]
  },
  {
   "cell_type": "code",
   "execution_count": 76,
   "id": "inclusive-housing",
   "metadata": {},
   "outputs": [
    {
     "data": {
      "text/plain": [
       "2011-01-01   -0.982458\n",
       "2011-01-04   -1.379299\n",
       "2011-01-06   -0.181925\n",
       "2011-01-08    0.162260\n",
       "2011-01-12   -1.071807\n",
       "2011-01-21    1.020842\n",
       "dtype: float64"
      ]
     },
     "execution_count": 76,
     "metadata": {},
     "output_type": "execute_result"
    }
   ],
   "source": [
    "tcs_1['2010-01-11':'2022-11-23']"
   ]
  },
  {
   "cell_type": "code",
   "execution_count": 77,
   "id": "mathematical-format",
   "metadata": {},
   "outputs": [],
   "source": [
    "# Now as usual the above logic of slicing works with other objects like date,datetime and timeseries."
   ]
  },
  {
   "cell_type": "code",
   "execution_count": 78,
   "id": "soviet-realtor",
   "metadata": {},
   "outputs": [],
   "source": [
    "# Now let's see an interesting method of truncating data"
   ]
  },
  {
   "cell_type": "code",
   "execution_count": 79,
   "id": "adjacent-anniversary",
   "metadata": {},
   "outputs": [
    {
     "data": {
      "text/plain": [
       "2011-01-01   -0.982458\n",
       "2011-01-04   -1.379299\n",
       "2011-01-06   -0.181925\n",
       "2011-01-08    0.162260\n",
       "dtype: float64"
      ]
     },
     "execution_count": 79,
     "metadata": {},
     "output_type": "execute_result"
    }
   ],
   "source": [
    "tcs_1.truncate(after='2011-01-08')"
   ]
  },
  {
   "cell_type": "code",
   "execution_count": 80,
   "id": "vietnamese-comedy",
   "metadata": {},
   "outputs": [
    {
     "data": {
      "text/plain": [
       "2011-01-01   -0.982458\n",
       "2011-01-04   -1.379299\n",
       "2011-01-06   -0.181925\n",
       "2011-01-08    0.162260\n",
       "2011-01-12   -1.071807\n",
       "2011-01-21    1.020842\n",
       "dtype: float64"
      ]
     },
     "execution_count": 80,
     "metadata": {},
     "output_type": "execute_result"
    }
   ],
   "source": [
    "tcs_1 # original is unaffected"
   ]
  },
  {
   "cell_type": "markdown",
   "id": "supported-hollow",
   "metadata": {},
   "source": [
    "#### All that we have studied regarding datetime,time and timestamp combo with series now applies to DataFrame also as it is"
   ]
  },
  {
   "cell_type": "code",
   "execution_count": 81,
   "id": "intimate-aside",
   "metadata": {},
   "outputs": [
    {
     "data": {
      "text/plain": [
       "DatetimeIndex(['1993-08-18', '1993-08-25', '1993-09-01', '1993-09-08',\n",
       "               '1993-09-15', '1993-09-22', '1993-09-29', '1993-10-06',\n",
       "               '1993-10-13', '1993-10-20', '1993-10-27', '1993-11-03',\n",
       "               '1993-11-10', '1993-11-17', '1993-11-24', '1993-12-01',\n",
       "               '1993-12-08', '1993-12-15', '1993-12-22', '1993-12-29',\n",
       "               '1994-01-05', '1994-01-12', '1994-01-19', '1994-01-26',\n",
       "               '1994-02-02', '1994-02-09', '1994-02-16', '1994-02-23',\n",
       "               '1994-03-02', '1994-03-09', '1994-03-16', '1994-03-23',\n",
       "               '1994-03-30', '1994-04-06', '1994-04-13', '1994-04-20',\n",
       "               '1994-04-27', '1994-05-04', '1994-05-11', '1994-05-18',\n",
       "               '1994-05-25', '1994-06-01', '1994-06-08', '1994-06-15',\n",
       "               '1994-06-22', '1994-06-29', '1994-07-06', '1994-07-13',\n",
       "               '1994-07-20', '1994-07-27', '1994-08-03', '1994-08-10',\n",
       "               '1994-08-17', '1994-08-24', '1994-08-31', '1994-09-07',\n",
       "               '1994-09-14', '1994-09-21', '1994-09-28', '1994-10-05',\n",
       "               '1994-10-12', '1994-10-19', '1994-10-26', '1994-11-02',\n",
       "               '1994-11-09', '1994-11-16', '1994-11-23', '1994-11-30',\n",
       "               '1994-12-07', '1994-12-14', '1994-12-21', '1994-12-28',\n",
       "               '1995-01-04', '1995-01-11', '1995-01-18', '1995-01-25',\n",
       "               '1995-02-01', '1995-02-08', '1995-02-15', '1995-02-22',\n",
       "               '1995-03-01', '1995-03-08', '1995-03-15', '1995-03-22',\n",
       "               '1995-03-29', '1995-04-05', '1995-04-12', '1995-04-19',\n",
       "               '1995-04-26', '1995-05-03', '1995-05-10', '1995-05-17',\n",
       "               '1995-05-24', '1995-05-31', '1995-06-07', '1995-06-14',\n",
       "               '1995-06-21', '1995-06-28', '1995-07-05', '1995-07-12'],\n",
       "              dtype='datetime64[ns]', freq='W-WED')"
      ]
     },
     "execution_count": 81,
     "metadata": {},
     "output_type": "execute_result"
    }
   ],
   "source": [
    "dates_df = pd.date_range('1993-08-12',periods=100,freq='W-WED')\n",
    "\n",
    "dates_df"
   ]
  },
  {
   "cell_type": "code",
   "execution_count": 82,
   "id": "corrected-comfort",
   "metadata": {},
   "outputs": [
    {
     "data": {
      "text/html": [
       "<div>\n",
       "<style scoped>\n",
       "    .dataframe tbody tr th:only-of-type {\n",
       "        vertical-align: middle;\n",
       "    }\n",
       "\n",
       "    .dataframe tbody tr th {\n",
       "        vertical-align: top;\n",
       "    }\n",
       "\n",
       "    .dataframe thead th {\n",
       "        text-align: right;\n",
       "    }\n",
       "</style>\n",
       "<table border=\"1\" class=\"dataframe\">\n",
       "  <thead>\n",
       "    <tr style=\"text-align: right;\">\n",
       "      <th></th>\n",
       "      <th>ek</th>\n",
       "      <th>do</th>\n",
       "      <th>teen</th>\n",
       "      <th>chaar</th>\n",
       "    </tr>\n",
       "  </thead>\n",
       "  <tbody>\n",
       "    <tr>\n",
       "      <th>1993-08-18</th>\n",
       "      <td>0.931343</td>\n",
       "      <td>0.008367</td>\n",
       "      <td>-0.568177</td>\n",
       "      <td>1.577206</td>\n",
       "    </tr>\n",
       "    <tr>\n",
       "      <th>1993-08-25</th>\n",
       "      <td>0.332544</td>\n",
       "      <td>-0.877237</td>\n",
       "      <td>-0.034190</td>\n",
       "      <td>0.772304</td>\n",
       "    </tr>\n",
       "    <tr>\n",
       "      <th>1993-09-01</th>\n",
       "      <td>-0.815144</td>\n",
       "      <td>0.312574</td>\n",
       "      <td>-0.181537</td>\n",
       "      <td>0.579566</td>\n",
       "    </tr>\n",
       "    <tr>\n",
       "      <th>1993-09-08</th>\n",
       "      <td>-0.509248</td>\n",
       "      <td>0.776031</td>\n",
       "      <td>-0.688341</td>\n",
       "      <td>-0.217681</td>\n",
       "    </tr>\n",
       "    <tr>\n",
       "      <th>1993-09-15</th>\n",
       "      <td>-0.199267</td>\n",
       "      <td>-1.296521</td>\n",
       "      <td>0.157317</td>\n",
       "      <td>0.217395</td>\n",
       "    </tr>\n",
       "    <tr>\n",
       "      <th>...</th>\n",
       "      <td>...</td>\n",
       "      <td>...</td>\n",
       "      <td>...</td>\n",
       "      <td>...</td>\n",
       "    </tr>\n",
       "    <tr>\n",
       "      <th>1995-06-14</th>\n",
       "      <td>0.732155</td>\n",
       "      <td>-0.172107</td>\n",
       "      <td>-1.697998</td>\n",
       "      <td>-1.282225</td>\n",
       "    </tr>\n",
       "    <tr>\n",
       "      <th>1995-06-21</th>\n",
       "      <td>1.727886</td>\n",
       "      <td>0.908338</td>\n",
       "      <td>0.964898</td>\n",
       "      <td>0.304956</td>\n",
       "    </tr>\n",
       "    <tr>\n",
       "      <th>1995-06-28</th>\n",
       "      <td>-0.141003</td>\n",
       "      <td>0.747208</td>\n",
       "      <td>-0.143357</td>\n",
       "      <td>0.831760</td>\n",
       "    </tr>\n",
       "    <tr>\n",
       "      <th>1995-07-05</th>\n",
       "      <td>-0.531889</td>\n",
       "      <td>0.105222</td>\n",
       "      <td>0.840981</td>\n",
       "      <td>-0.006611</td>\n",
       "    </tr>\n",
       "    <tr>\n",
       "      <th>1995-07-12</th>\n",
       "      <td>-0.087206</td>\n",
       "      <td>1.040724</td>\n",
       "      <td>1.105498</td>\n",
       "      <td>-1.044380</td>\n",
       "    </tr>\n",
       "  </tbody>\n",
       "</table>\n",
       "<p>100 rows × 4 columns</p>\n",
       "</div>"
      ],
      "text/plain": [
       "                  ek        do      teen     chaar\n",
       "1993-08-18  0.931343  0.008367 -0.568177  1.577206\n",
       "1993-08-25  0.332544 -0.877237 -0.034190  0.772304\n",
       "1993-09-01 -0.815144  0.312574 -0.181537  0.579566\n",
       "1993-09-08 -0.509248  0.776031 -0.688341 -0.217681\n",
       "1993-09-15 -0.199267 -1.296521  0.157317  0.217395\n",
       "...              ...       ...       ...       ...\n",
       "1995-06-14  0.732155 -0.172107 -1.697998 -1.282225\n",
       "1995-06-21  1.727886  0.908338  0.964898  0.304956\n",
       "1995-06-28 -0.141003  0.747208 -0.143357  0.831760\n",
       "1995-07-05 -0.531889  0.105222  0.840981 -0.006611\n",
       "1995-07-12 -0.087206  1.040724  1.105498 -1.044380\n",
       "\n",
       "[100 rows x 4 columns]"
      ]
     },
     "execution_count": 82,
     "metadata": {},
     "output_type": "execute_result"
    }
   ],
   "source": [
    "long_df = pd.DataFrame(np.random.standard_normal((100,4)),\n",
    "                      index=dates_df,columns=['ek','do','teen','chaar'])\n",
    "\n",
    "long_df"
   ]
  },
  {
   "cell_type": "code",
   "execution_count": 83,
   "id": "instant-nursing",
   "metadata": {},
   "outputs": [
    {
     "data": {
      "text/html": [
       "<div>\n",
       "<style scoped>\n",
       "    .dataframe tbody tr th:only-of-type {\n",
       "        vertical-align: middle;\n",
       "    }\n",
       "\n",
       "    .dataframe tbody tr th {\n",
       "        vertical-align: top;\n",
       "    }\n",
       "\n",
       "    .dataframe thead th {\n",
       "        text-align: right;\n",
       "    }\n",
       "</style>\n",
       "<table border=\"1\" class=\"dataframe\">\n",
       "  <thead>\n",
       "    <tr style=\"text-align: right;\">\n",
       "      <th></th>\n",
       "      <th>ek</th>\n",
       "      <th>do</th>\n",
       "      <th>teen</th>\n",
       "      <th>chaar</th>\n",
       "    </tr>\n",
       "  </thead>\n",
       "  <tbody>\n",
       "    <tr>\n",
       "      <th>1994-01-05</th>\n",
       "      <td>1.138831</td>\n",
       "      <td>0.153511</td>\n",
       "      <td>1.894386</td>\n",
       "      <td>0.221205</td>\n",
       "    </tr>\n",
       "    <tr>\n",
       "      <th>1994-01-12</th>\n",
       "      <td>0.026583</td>\n",
       "      <td>1.706067</td>\n",
       "      <td>1.853520</td>\n",
       "      <td>-0.301609</td>\n",
       "    </tr>\n",
       "    <tr>\n",
       "      <th>1994-01-19</th>\n",
       "      <td>0.699453</td>\n",
       "      <td>0.511532</td>\n",
       "      <td>-0.805296</td>\n",
       "      <td>0.497028</td>\n",
       "    </tr>\n",
       "    <tr>\n",
       "      <th>1994-01-26</th>\n",
       "      <td>1.459601</td>\n",
       "      <td>-1.979576</td>\n",
       "      <td>0.069217</td>\n",
       "      <td>0.079496</td>\n",
       "    </tr>\n",
       "    <tr>\n",
       "      <th>1994-02-02</th>\n",
       "      <td>0.077714</td>\n",
       "      <td>-0.071863</td>\n",
       "      <td>0.951800</td>\n",
       "      <td>0.686996</td>\n",
       "    </tr>\n",
       "    <tr>\n",
       "      <th>1994-02-09</th>\n",
       "      <td>0.400529</td>\n",
       "      <td>-0.532283</td>\n",
       "      <td>0.873309</td>\n",
       "      <td>-1.732563</td>\n",
       "    </tr>\n",
       "    <tr>\n",
       "      <th>1994-02-16</th>\n",
       "      <td>0.558827</td>\n",
       "      <td>-0.631692</td>\n",
       "      <td>-2.744177</td>\n",
       "      <td>-0.672680</td>\n",
       "    </tr>\n",
       "    <tr>\n",
       "      <th>1994-02-23</th>\n",
       "      <td>0.734465</td>\n",
       "      <td>2.225348</td>\n",
       "      <td>-1.324534</td>\n",
       "      <td>-1.372034</td>\n",
       "    </tr>\n",
       "    <tr>\n",
       "      <th>1994-03-02</th>\n",
       "      <td>-0.312623</td>\n",
       "      <td>0.250989</td>\n",
       "      <td>1.245655</td>\n",
       "      <td>-0.417092</td>\n",
       "    </tr>\n",
       "    <tr>\n",
       "      <th>1994-03-09</th>\n",
       "      <td>-0.790493</td>\n",
       "      <td>-0.531631</td>\n",
       "      <td>-0.227116</td>\n",
       "      <td>-1.273155</td>\n",
       "    </tr>\n",
       "    <tr>\n",
       "      <th>1994-03-16</th>\n",
       "      <td>-1.145312</td>\n",
       "      <td>2.369599</td>\n",
       "      <td>1.029651</td>\n",
       "      <td>-0.195296</td>\n",
       "    </tr>\n",
       "    <tr>\n",
       "      <th>1994-03-23</th>\n",
       "      <td>0.882690</td>\n",
       "      <td>0.310662</td>\n",
       "      <td>0.933036</td>\n",
       "      <td>0.903991</td>\n",
       "    </tr>\n",
       "    <tr>\n",
       "      <th>1994-03-30</th>\n",
       "      <td>0.293001</td>\n",
       "      <td>0.106696</td>\n",
       "      <td>-1.457376</td>\n",
       "      <td>-1.668815</td>\n",
       "    </tr>\n",
       "    <tr>\n",
       "      <th>1994-04-06</th>\n",
       "      <td>0.698855</td>\n",
       "      <td>0.299280</td>\n",
       "      <td>0.076589</td>\n",
       "      <td>-0.307792</td>\n",
       "    </tr>\n",
       "    <tr>\n",
       "      <th>1994-04-13</th>\n",
       "      <td>1.150045</td>\n",
       "      <td>-1.179126</td>\n",
       "      <td>-0.809045</td>\n",
       "      <td>0.522230</td>\n",
       "    </tr>\n",
       "    <tr>\n",
       "      <th>1994-04-20</th>\n",
       "      <td>0.155765</td>\n",
       "      <td>-0.011906</td>\n",
       "      <td>0.696213</td>\n",
       "      <td>0.395950</td>\n",
       "    </tr>\n",
       "    <tr>\n",
       "      <th>1994-04-27</th>\n",
       "      <td>0.380915</td>\n",
       "      <td>0.727653</td>\n",
       "      <td>2.368397</td>\n",
       "      <td>0.121537</td>\n",
       "    </tr>\n",
       "    <tr>\n",
       "      <th>1994-05-04</th>\n",
       "      <td>0.077371</td>\n",
       "      <td>0.315360</td>\n",
       "      <td>-1.454269</td>\n",
       "      <td>1.032820</td>\n",
       "    </tr>\n",
       "    <tr>\n",
       "      <th>1994-05-11</th>\n",
       "      <td>1.808481</td>\n",
       "      <td>0.499575</td>\n",
       "      <td>0.810118</td>\n",
       "      <td>-0.402445</td>\n",
       "    </tr>\n",
       "    <tr>\n",
       "      <th>1994-05-18</th>\n",
       "      <td>1.878727</td>\n",
       "      <td>0.147655</td>\n",
       "      <td>0.550371</td>\n",
       "      <td>-0.973575</td>\n",
       "    </tr>\n",
       "    <tr>\n",
       "      <th>1994-05-25</th>\n",
       "      <td>-1.476379</td>\n",
       "      <td>0.866514</td>\n",
       "      <td>0.061409</td>\n",
       "      <td>-0.734069</td>\n",
       "    </tr>\n",
       "    <tr>\n",
       "      <th>1994-06-01</th>\n",
       "      <td>-1.000310</td>\n",
       "      <td>-0.541098</td>\n",
       "      <td>-0.242163</td>\n",
       "      <td>0.322990</td>\n",
       "    </tr>\n",
       "    <tr>\n",
       "      <th>1994-06-08</th>\n",
       "      <td>0.434953</td>\n",
       "      <td>-0.595425</td>\n",
       "      <td>-0.747792</td>\n",
       "      <td>1.415606</td>\n",
       "    </tr>\n",
       "    <tr>\n",
       "      <th>1994-06-15</th>\n",
       "      <td>1.440204</td>\n",
       "      <td>0.448882</td>\n",
       "      <td>1.186784</td>\n",
       "      <td>0.037772</td>\n",
       "    </tr>\n",
       "    <tr>\n",
       "      <th>1994-06-22</th>\n",
       "      <td>-1.493887</td>\n",
       "      <td>-1.327473</td>\n",
       "      <td>-1.428324</td>\n",
       "      <td>-0.011001</td>\n",
       "    </tr>\n",
       "    <tr>\n",
       "      <th>1994-06-29</th>\n",
       "      <td>-0.982305</td>\n",
       "      <td>0.086571</td>\n",
       "      <td>0.499028</td>\n",
       "      <td>-0.237014</td>\n",
       "    </tr>\n",
       "    <tr>\n",
       "      <th>1994-07-06</th>\n",
       "      <td>0.331042</td>\n",
       "      <td>0.208968</td>\n",
       "      <td>-0.107338</td>\n",
       "      <td>-0.455241</td>\n",
       "    </tr>\n",
       "    <tr>\n",
       "      <th>1994-07-13</th>\n",
       "      <td>0.122361</td>\n",
       "      <td>0.149140</td>\n",
       "      <td>-0.500839</td>\n",
       "      <td>-1.143878</td>\n",
       "    </tr>\n",
       "    <tr>\n",
       "      <th>1994-07-20</th>\n",
       "      <td>-0.684853</td>\n",
       "      <td>-0.920921</td>\n",
       "      <td>1.651943</td>\n",
       "      <td>0.031707</td>\n",
       "    </tr>\n",
       "    <tr>\n",
       "      <th>1994-07-27</th>\n",
       "      <td>-0.416775</td>\n",
       "      <td>0.341929</td>\n",
       "      <td>0.126965</td>\n",
       "      <td>-0.007137</td>\n",
       "    </tr>\n",
       "    <tr>\n",
       "      <th>1994-08-03</th>\n",
       "      <td>1.031859</td>\n",
       "      <td>-0.154286</td>\n",
       "      <td>-2.139087</td>\n",
       "      <td>-0.492730</td>\n",
       "    </tr>\n",
       "    <tr>\n",
       "      <th>1994-08-10</th>\n",
       "      <td>1.575875</td>\n",
       "      <td>-0.740317</td>\n",
       "      <td>-0.300083</td>\n",
       "      <td>-0.800633</td>\n",
       "    </tr>\n",
       "    <tr>\n",
       "      <th>1994-08-17</th>\n",
       "      <td>0.163408</td>\n",
       "      <td>2.367886</td>\n",
       "      <td>2.118230</td>\n",
       "      <td>-0.798250</td>\n",
       "    </tr>\n",
       "    <tr>\n",
       "      <th>1994-08-24</th>\n",
       "      <td>-0.985631</td>\n",
       "      <td>-0.343874</td>\n",
       "      <td>0.036196</td>\n",
       "      <td>0.426492</td>\n",
       "    </tr>\n",
       "    <tr>\n",
       "      <th>1994-08-31</th>\n",
       "      <td>-0.850814</td>\n",
       "      <td>1.609718</td>\n",
       "      <td>0.419923</td>\n",
       "      <td>1.519423</td>\n",
       "    </tr>\n",
       "    <tr>\n",
       "      <th>1994-09-07</th>\n",
       "      <td>-0.972078</td>\n",
       "      <td>-0.554818</td>\n",
       "      <td>-0.089526</td>\n",
       "      <td>-0.563788</td>\n",
       "    </tr>\n",
       "    <tr>\n",
       "      <th>1994-09-14</th>\n",
       "      <td>0.506586</td>\n",
       "      <td>-0.552933</td>\n",
       "      <td>-0.607260</td>\n",
       "      <td>-0.874766</td>\n",
       "    </tr>\n",
       "    <tr>\n",
       "      <th>1994-09-21</th>\n",
       "      <td>0.231596</td>\n",
       "      <td>-0.280286</td>\n",
       "      <td>-0.078292</td>\n",
       "      <td>0.501523</td>\n",
       "    </tr>\n",
       "    <tr>\n",
       "      <th>1994-09-28</th>\n",
       "      <td>-1.554221</td>\n",
       "      <td>0.906298</td>\n",
       "      <td>0.048973</td>\n",
       "      <td>-0.634118</td>\n",
       "    </tr>\n",
       "    <tr>\n",
       "      <th>1994-10-05</th>\n",
       "      <td>0.467526</td>\n",
       "      <td>-0.771869</td>\n",
       "      <td>-0.113755</td>\n",
       "      <td>0.150790</td>\n",
       "    </tr>\n",
       "    <tr>\n",
       "      <th>1994-10-12</th>\n",
       "      <td>-1.003038</td>\n",
       "      <td>-0.019037</td>\n",
       "      <td>0.463759</td>\n",
       "      <td>-0.154369</td>\n",
       "    </tr>\n",
       "    <tr>\n",
       "      <th>1994-10-19</th>\n",
       "      <td>1.445163</td>\n",
       "      <td>1.432679</td>\n",
       "      <td>0.078765</td>\n",
       "      <td>-0.870125</td>\n",
       "    </tr>\n",
       "    <tr>\n",
       "      <th>1994-10-26</th>\n",
       "      <td>0.986894</td>\n",
       "      <td>-0.042795</td>\n",
       "      <td>2.071213</td>\n",
       "      <td>-0.228990</td>\n",
       "    </tr>\n",
       "    <tr>\n",
       "      <th>1994-11-02</th>\n",
       "      <td>-0.879361</td>\n",
       "      <td>0.728425</td>\n",
       "      <td>1.484825</td>\n",
       "      <td>0.387142</td>\n",
       "    </tr>\n",
       "    <tr>\n",
       "      <th>1994-11-09</th>\n",
       "      <td>0.015602</td>\n",
       "      <td>-1.013202</td>\n",
       "      <td>0.401937</td>\n",
       "      <td>-0.639856</td>\n",
       "    </tr>\n",
       "    <tr>\n",
       "      <th>1994-11-16</th>\n",
       "      <td>0.592442</td>\n",
       "      <td>1.736292</td>\n",
       "      <td>1.278918</td>\n",
       "      <td>1.569528</td>\n",
       "    </tr>\n",
       "    <tr>\n",
       "      <th>1994-11-23</th>\n",
       "      <td>1.093178</td>\n",
       "      <td>0.244012</td>\n",
       "      <td>1.227972</td>\n",
       "      <td>0.629846</td>\n",
       "    </tr>\n",
       "    <tr>\n",
       "      <th>1994-11-30</th>\n",
       "      <td>0.169156</td>\n",
       "      <td>-0.622150</td>\n",
       "      <td>-1.074091</td>\n",
       "      <td>0.388780</td>\n",
       "    </tr>\n",
       "    <tr>\n",
       "      <th>1994-12-07</th>\n",
       "      <td>-0.310555</td>\n",
       "      <td>0.207750</td>\n",
       "      <td>-1.374346</td>\n",
       "      <td>-0.286296</td>\n",
       "    </tr>\n",
       "    <tr>\n",
       "      <th>1994-12-14</th>\n",
       "      <td>-0.105171</td>\n",
       "      <td>0.444012</td>\n",
       "      <td>1.682829</td>\n",
       "      <td>0.086981</td>\n",
       "    </tr>\n",
       "    <tr>\n",
       "      <th>1994-12-21</th>\n",
       "      <td>-1.287461</td>\n",
       "      <td>1.207712</td>\n",
       "      <td>0.310016</td>\n",
       "      <td>-2.379110</td>\n",
       "    </tr>\n",
       "    <tr>\n",
       "      <th>1994-12-28</th>\n",
       "      <td>-1.368768</td>\n",
       "      <td>-1.027411</td>\n",
       "      <td>-0.639132</td>\n",
       "      <td>0.239410</td>\n",
       "    </tr>\n",
       "  </tbody>\n",
       "</table>\n",
       "</div>"
      ],
      "text/plain": [
       "                  ek        do      teen     chaar\n",
       "1994-01-05  1.138831  0.153511  1.894386  0.221205\n",
       "1994-01-12  0.026583  1.706067  1.853520 -0.301609\n",
       "1994-01-19  0.699453  0.511532 -0.805296  0.497028\n",
       "1994-01-26  1.459601 -1.979576  0.069217  0.079496\n",
       "1994-02-02  0.077714 -0.071863  0.951800  0.686996\n",
       "1994-02-09  0.400529 -0.532283  0.873309 -1.732563\n",
       "1994-02-16  0.558827 -0.631692 -2.744177 -0.672680\n",
       "1994-02-23  0.734465  2.225348 -1.324534 -1.372034\n",
       "1994-03-02 -0.312623  0.250989  1.245655 -0.417092\n",
       "1994-03-09 -0.790493 -0.531631 -0.227116 -1.273155\n",
       "1994-03-16 -1.145312  2.369599  1.029651 -0.195296\n",
       "1994-03-23  0.882690  0.310662  0.933036  0.903991\n",
       "1994-03-30  0.293001  0.106696 -1.457376 -1.668815\n",
       "1994-04-06  0.698855  0.299280  0.076589 -0.307792\n",
       "1994-04-13  1.150045 -1.179126 -0.809045  0.522230\n",
       "1994-04-20  0.155765 -0.011906  0.696213  0.395950\n",
       "1994-04-27  0.380915  0.727653  2.368397  0.121537\n",
       "1994-05-04  0.077371  0.315360 -1.454269  1.032820\n",
       "1994-05-11  1.808481  0.499575  0.810118 -0.402445\n",
       "1994-05-18  1.878727  0.147655  0.550371 -0.973575\n",
       "1994-05-25 -1.476379  0.866514  0.061409 -0.734069\n",
       "1994-06-01 -1.000310 -0.541098 -0.242163  0.322990\n",
       "1994-06-08  0.434953 -0.595425 -0.747792  1.415606\n",
       "1994-06-15  1.440204  0.448882  1.186784  0.037772\n",
       "1994-06-22 -1.493887 -1.327473 -1.428324 -0.011001\n",
       "1994-06-29 -0.982305  0.086571  0.499028 -0.237014\n",
       "1994-07-06  0.331042  0.208968 -0.107338 -0.455241\n",
       "1994-07-13  0.122361  0.149140 -0.500839 -1.143878\n",
       "1994-07-20 -0.684853 -0.920921  1.651943  0.031707\n",
       "1994-07-27 -0.416775  0.341929  0.126965 -0.007137\n",
       "1994-08-03  1.031859 -0.154286 -2.139087 -0.492730\n",
       "1994-08-10  1.575875 -0.740317 -0.300083 -0.800633\n",
       "1994-08-17  0.163408  2.367886  2.118230 -0.798250\n",
       "1994-08-24 -0.985631 -0.343874  0.036196  0.426492\n",
       "1994-08-31 -0.850814  1.609718  0.419923  1.519423\n",
       "1994-09-07 -0.972078 -0.554818 -0.089526 -0.563788\n",
       "1994-09-14  0.506586 -0.552933 -0.607260 -0.874766\n",
       "1994-09-21  0.231596 -0.280286 -0.078292  0.501523\n",
       "1994-09-28 -1.554221  0.906298  0.048973 -0.634118\n",
       "1994-10-05  0.467526 -0.771869 -0.113755  0.150790\n",
       "1994-10-12 -1.003038 -0.019037  0.463759 -0.154369\n",
       "1994-10-19  1.445163  1.432679  0.078765 -0.870125\n",
       "1994-10-26  0.986894 -0.042795  2.071213 -0.228990\n",
       "1994-11-02 -0.879361  0.728425  1.484825  0.387142\n",
       "1994-11-09  0.015602 -1.013202  0.401937 -0.639856\n",
       "1994-11-16  0.592442  1.736292  1.278918  1.569528\n",
       "1994-11-23  1.093178  0.244012  1.227972  0.629846\n",
       "1994-11-30  0.169156 -0.622150 -1.074091  0.388780\n",
       "1994-12-07 -0.310555  0.207750 -1.374346 -0.286296\n",
       "1994-12-14 -0.105171  0.444012  1.682829  0.086981\n",
       "1994-12-21 -1.287461  1.207712  0.310016 -2.379110\n",
       "1994-12-28 -1.368768 -1.027411 -0.639132  0.239410"
      ]
     },
     "execution_count": 83,
     "metadata": {},
     "output_type": "execute_result"
    }
   ],
   "source": [
    "long_df.loc['1994']"
   ]
  },
  {
   "cell_type": "code",
   "execution_count": 84,
   "id": "commercial-daughter",
   "metadata": {},
   "outputs": [],
   "source": [
    "# You can use without loc also but it will be removed in future, so it's best to stay future proof"
   ]
  },
  {
   "cell_type": "code",
   "execution_count": 85,
   "id": "corrected-female",
   "metadata": {},
   "outputs": [
    {
     "name": "stderr",
     "output_type": "stream",
     "text": [
      "c:\\python 3.7\\lib\\site-packages\\ipykernel_launcher.py:1: FutureWarning: Indexing a DataFrame with a datetimelike index using a single string to slice the rows, like `frame[string]`, is deprecated and will be removed in a future version. Use `frame.loc[string]` instead.\n",
      "  \"\"\"Entry point for launching an IPython kernel.\n"
     ]
    },
    {
     "data": {
      "text/html": [
       "<div>\n",
       "<style scoped>\n",
       "    .dataframe tbody tr th:only-of-type {\n",
       "        vertical-align: middle;\n",
       "    }\n",
       "\n",
       "    .dataframe tbody tr th {\n",
       "        vertical-align: top;\n",
       "    }\n",
       "\n",
       "    .dataframe thead th {\n",
       "        text-align: right;\n",
       "    }\n",
       "</style>\n",
       "<table border=\"1\" class=\"dataframe\">\n",
       "  <thead>\n",
       "    <tr style=\"text-align: right;\">\n",
       "      <th></th>\n",
       "      <th>ek</th>\n",
       "      <th>do</th>\n",
       "      <th>teen</th>\n",
       "      <th>chaar</th>\n",
       "    </tr>\n",
       "  </thead>\n",
       "  <tbody>\n",
       "    <tr>\n",
       "      <th>1994-01-05</th>\n",
       "      <td>1.138831</td>\n",
       "      <td>0.153511</td>\n",
       "      <td>1.894386</td>\n",
       "      <td>0.221205</td>\n",
       "    </tr>\n",
       "    <tr>\n",
       "      <th>1994-01-12</th>\n",
       "      <td>0.026583</td>\n",
       "      <td>1.706067</td>\n",
       "      <td>1.853520</td>\n",
       "      <td>-0.301609</td>\n",
       "    </tr>\n",
       "    <tr>\n",
       "      <th>1994-01-19</th>\n",
       "      <td>0.699453</td>\n",
       "      <td>0.511532</td>\n",
       "      <td>-0.805296</td>\n",
       "      <td>0.497028</td>\n",
       "    </tr>\n",
       "    <tr>\n",
       "      <th>1994-01-26</th>\n",
       "      <td>1.459601</td>\n",
       "      <td>-1.979576</td>\n",
       "      <td>0.069217</td>\n",
       "      <td>0.079496</td>\n",
       "    </tr>\n",
       "    <tr>\n",
       "      <th>1994-02-02</th>\n",
       "      <td>0.077714</td>\n",
       "      <td>-0.071863</td>\n",
       "      <td>0.951800</td>\n",
       "      <td>0.686996</td>\n",
       "    </tr>\n",
       "    <tr>\n",
       "      <th>1994-02-09</th>\n",
       "      <td>0.400529</td>\n",
       "      <td>-0.532283</td>\n",
       "      <td>0.873309</td>\n",
       "      <td>-1.732563</td>\n",
       "    </tr>\n",
       "    <tr>\n",
       "      <th>1994-02-16</th>\n",
       "      <td>0.558827</td>\n",
       "      <td>-0.631692</td>\n",
       "      <td>-2.744177</td>\n",
       "      <td>-0.672680</td>\n",
       "    </tr>\n",
       "    <tr>\n",
       "      <th>1994-02-23</th>\n",
       "      <td>0.734465</td>\n",
       "      <td>2.225348</td>\n",
       "      <td>-1.324534</td>\n",
       "      <td>-1.372034</td>\n",
       "    </tr>\n",
       "    <tr>\n",
       "      <th>1994-03-02</th>\n",
       "      <td>-0.312623</td>\n",
       "      <td>0.250989</td>\n",
       "      <td>1.245655</td>\n",
       "      <td>-0.417092</td>\n",
       "    </tr>\n",
       "    <tr>\n",
       "      <th>1994-03-09</th>\n",
       "      <td>-0.790493</td>\n",
       "      <td>-0.531631</td>\n",
       "      <td>-0.227116</td>\n",
       "      <td>-1.273155</td>\n",
       "    </tr>\n",
       "    <tr>\n",
       "      <th>1994-03-16</th>\n",
       "      <td>-1.145312</td>\n",
       "      <td>2.369599</td>\n",
       "      <td>1.029651</td>\n",
       "      <td>-0.195296</td>\n",
       "    </tr>\n",
       "    <tr>\n",
       "      <th>1994-03-23</th>\n",
       "      <td>0.882690</td>\n",
       "      <td>0.310662</td>\n",
       "      <td>0.933036</td>\n",
       "      <td>0.903991</td>\n",
       "    </tr>\n",
       "    <tr>\n",
       "      <th>1994-03-30</th>\n",
       "      <td>0.293001</td>\n",
       "      <td>0.106696</td>\n",
       "      <td>-1.457376</td>\n",
       "      <td>-1.668815</td>\n",
       "    </tr>\n",
       "    <tr>\n",
       "      <th>1994-04-06</th>\n",
       "      <td>0.698855</td>\n",
       "      <td>0.299280</td>\n",
       "      <td>0.076589</td>\n",
       "      <td>-0.307792</td>\n",
       "    </tr>\n",
       "    <tr>\n",
       "      <th>1994-04-13</th>\n",
       "      <td>1.150045</td>\n",
       "      <td>-1.179126</td>\n",
       "      <td>-0.809045</td>\n",
       "      <td>0.522230</td>\n",
       "    </tr>\n",
       "    <tr>\n",
       "      <th>1994-04-20</th>\n",
       "      <td>0.155765</td>\n",
       "      <td>-0.011906</td>\n",
       "      <td>0.696213</td>\n",
       "      <td>0.395950</td>\n",
       "    </tr>\n",
       "    <tr>\n",
       "      <th>1994-04-27</th>\n",
       "      <td>0.380915</td>\n",
       "      <td>0.727653</td>\n",
       "      <td>2.368397</td>\n",
       "      <td>0.121537</td>\n",
       "    </tr>\n",
       "    <tr>\n",
       "      <th>1994-05-04</th>\n",
       "      <td>0.077371</td>\n",
       "      <td>0.315360</td>\n",
       "      <td>-1.454269</td>\n",
       "      <td>1.032820</td>\n",
       "    </tr>\n",
       "    <tr>\n",
       "      <th>1994-05-11</th>\n",
       "      <td>1.808481</td>\n",
       "      <td>0.499575</td>\n",
       "      <td>0.810118</td>\n",
       "      <td>-0.402445</td>\n",
       "    </tr>\n",
       "    <tr>\n",
       "      <th>1994-05-18</th>\n",
       "      <td>1.878727</td>\n",
       "      <td>0.147655</td>\n",
       "      <td>0.550371</td>\n",
       "      <td>-0.973575</td>\n",
       "    </tr>\n",
       "    <tr>\n",
       "      <th>1994-05-25</th>\n",
       "      <td>-1.476379</td>\n",
       "      <td>0.866514</td>\n",
       "      <td>0.061409</td>\n",
       "      <td>-0.734069</td>\n",
       "    </tr>\n",
       "    <tr>\n",
       "      <th>1994-06-01</th>\n",
       "      <td>-1.000310</td>\n",
       "      <td>-0.541098</td>\n",
       "      <td>-0.242163</td>\n",
       "      <td>0.322990</td>\n",
       "    </tr>\n",
       "    <tr>\n",
       "      <th>1994-06-08</th>\n",
       "      <td>0.434953</td>\n",
       "      <td>-0.595425</td>\n",
       "      <td>-0.747792</td>\n",
       "      <td>1.415606</td>\n",
       "    </tr>\n",
       "    <tr>\n",
       "      <th>1994-06-15</th>\n",
       "      <td>1.440204</td>\n",
       "      <td>0.448882</td>\n",
       "      <td>1.186784</td>\n",
       "      <td>0.037772</td>\n",
       "    </tr>\n",
       "    <tr>\n",
       "      <th>1994-06-22</th>\n",
       "      <td>-1.493887</td>\n",
       "      <td>-1.327473</td>\n",
       "      <td>-1.428324</td>\n",
       "      <td>-0.011001</td>\n",
       "    </tr>\n",
       "    <tr>\n",
       "      <th>1994-06-29</th>\n",
       "      <td>-0.982305</td>\n",
       "      <td>0.086571</td>\n",
       "      <td>0.499028</td>\n",
       "      <td>-0.237014</td>\n",
       "    </tr>\n",
       "    <tr>\n",
       "      <th>1994-07-06</th>\n",
       "      <td>0.331042</td>\n",
       "      <td>0.208968</td>\n",
       "      <td>-0.107338</td>\n",
       "      <td>-0.455241</td>\n",
       "    </tr>\n",
       "    <tr>\n",
       "      <th>1994-07-13</th>\n",
       "      <td>0.122361</td>\n",
       "      <td>0.149140</td>\n",
       "      <td>-0.500839</td>\n",
       "      <td>-1.143878</td>\n",
       "    </tr>\n",
       "    <tr>\n",
       "      <th>1994-07-20</th>\n",
       "      <td>-0.684853</td>\n",
       "      <td>-0.920921</td>\n",
       "      <td>1.651943</td>\n",
       "      <td>0.031707</td>\n",
       "    </tr>\n",
       "    <tr>\n",
       "      <th>1994-07-27</th>\n",
       "      <td>-0.416775</td>\n",
       "      <td>0.341929</td>\n",
       "      <td>0.126965</td>\n",
       "      <td>-0.007137</td>\n",
       "    </tr>\n",
       "    <tr>\n",
       "      <th>1994-08-03</th>\n",
       "      <td>1.031859</td>\n",
       "      <td>-0.154286</td>\n",
       "      <td>-2.139087</td>\n",
       "      <td>-0.492730</td>\n",
       "    </tr>\n",
       "    <tr>\n",
       "      <th>1994-08-10</th>\n",
       "      <td>1.575875</td>\n",
       "      <td>-0.740317</td>\n",
       "      <td>-0.300083</td>\n",
       "      <td>-0.800633</td>\n",
       "    </tr>\n",
       "    <tr>\n",
       "      <th>1994-08-17</th>\n",
       "      <td>0.163408</td>\n",
       "      <td>2.367886</td>\n",
       "      <td>2.118230</td>\n",
       "      <td>-0.798250</td>\n",
       "    </tr>\n",
       "    <tr>\n",
       "      <th>1994-08-24</th>\n",
       "      <td>-0.985631</td>\n",
       "      <td>-0.343874</td>\n",
       "      <td>0.036196</td>\n",
       "      <td>0.426492</td>\n",
       "    </tr>\n",
       "    <tr>\n",
       "      <th>1994-08-31</th>\n",
       "      <td>-0.850814</td>\n",
       "      <td>1.609718</td>\n",
       "      <td>0.419923</td>\n",
       "      <td>1.519423</td>\n",
       "    </tr>\n",
       "    <tr>\n",
       "      <th>1994-09-07</th>\n",
       "      <td>-0.972078</td>\n",
       "      <td>-0.554818</td>\n",
       "      <td>-0.089526</td>\n",
       "      <td>-0.563788</td>\n",
       "    </tr>\n",
       "    <tr>\n",
       "      <th>1994-09-14</th>\n",
       "      <td>0.506586</td>\n",
       "      <td>-0.552933</td>\n",
       "      <td>-0.607260</td>\n",
       "      <td>-0.874766</td>\n",
       "    </tr>\n",
       "    <tr>\n",
       "      <th>1994-09-21</th>\n",
       "      <td>0.231596</td>\n",
       "      <td>-0.280286</td>\n",
       "      <td>-0.078292</td>\n",
       "      <td>0.501523</td>\n",
       "    </tr>\n",
       "    <tr>\n",
       "      <th>1994-09-28</th>\n",
       "      <td>-1.554221</td>\n",
       "      <td>0.906298</td>\n",
       "      <td>0.048973</td>\n",
       "      <td>-0.634118</td>\n",
       "    </tr>\n",
       "    <tr>\n",
       "      <th>1994-10-05</th>\n",
       "      <td>0.467526</td>\n",
       "      <td>-0.771869</td>\n",
       "      <td>-0.113755</td>\n",
       "      <td>0.150790</td>\n",
       "    </tr>\n",
       "    <tr>\n",
       "      <th>1994-10-12</th>\n",
       "      <td>-1.003038</td>\n",
       "      <td>-0.019037</td>\n",
       "      <td>0.463759</td>\n",
       "      <td>-0.154369</td>\n",
       "    </tr>\n",
       "    <tr>\n",
       "      <th>1994-10-19</th>\n",
       "      <td>1.445163</td>\n",
       "      <td>1.432679</td>\n",
       "      <td>0.078765</td>\n",
       "      <td>-0.870125</td>\n",
       "    </tr>\n",
       "    <tr>\n",
       "      <th>1994-10-26</th>\n",
       "      <td>0.986894</td>\n",
       "      <td>-0.042795</td>\n",
       "      <td>2.071213</td>\n",
       "      <td>-0.228990</td>\n",
       "    </tr>\n",
       "    <tr>\n",
       "      <th>1994-11-02</th>\n",
       "      <td>-0.879361</td>\n",
       "      <td>0.728425</td>\n",
       "      <td>1.484825</td>\n",
       "      <td>0.387142</td>\n",
       "    </tr>\n",
       "    <tr>\n",
       "      <th>1994-11-09</th>\n",
       "      <td>0.015602</td>\n",
       "      <td>-1.013202</td>\n",
       "      <td>0.401937</td>\n",
       "      <td>-0.639856</td>\n",
       "    </tr>\n",
       "    <tr>\n",
       "      <th>1994-11-16</th>\n",
       "      <td>0.592442</td>\n",
       "      <td>1.736292</td>\n",
       "      <td>1.278918</td>\n",
       "      <td>1.569528</td>\n",
       "    </tr>\n",
       "    <tr>\n",
       "      <th>1994-11-23</th>\n",
       "      <td>1.093178</td>\n",
       "      <td>0.244012</td>\n",
       "      <td>1.227972</td>\n",
       "      <td>0.629846</td>\n",
       "    </tr>\n",
       "    <tr>\n",
       "      <th>1994-11-30</th>\n",
       "      <td>0.169156</td>\n",
       "      <td>-0.622150</td>\n",
       "      <td>-1.074091</td>\n",
       "      <td>0.388780</td>\n",
       "    </tr>\n",
       "    <tr>\n",
       "      <th>1994-12-07</th>\n",
       "      <td>-0.310555</td>\n",
       "      <td>0.207750</td>\n",
       "      <td>-1.374346</td>\n",
       "      <td>-0.286296</td>\n",
       "    </tr>\n",
       "    <tr>\n",
       "      <th>1994-12-14</th>\n",
       "      <td>-0.105171</td>\n",
       "      <td>0.444012</td>\n",
       "      <td>1.682829</td>\n",
       "      <td>0.086981</td>\n",
       "    </tr>\n",
       "    <tr>\n",
       "      <th>1994-12-21</th>\n",
       "      <td>-1.287461</td>\n",
       "      <td>1.207712</td>\n",
       "      <td>0.310016</td>\n",
       "      <td>-2.379110</td>\n",
       "    </tr>\n",
       "    <tr>\n",
       "      <th>1994-12-28</th>\n",
       "      <td>-1.368768</td>\n",
       "      <td>-1.027411</td>\n",
       "      <td>-0.639132</td>\n",
       "      <td>0.239410</td>\n",
       "    </tr>\n",
       "  </tbody>\n",
       "</table>\n",
       "</div>"
      ],
      "text/plain": [
       "                  ek        do      teen     chaar\n",
       "1994-01-05  1.138831  0.153511  1.894386  0.221205\n",
       "1994-01-12  0.026583  1.706067  1.853520 -0.301609\n",
       "1994-01-19  0.699453  0.511532 -0.805296  0.497028\n",
       "1994-01-26  1.459601 -1.979576  0.069217  0.079496\n",
       "1994-02-02  0.077714 -0.071863  0.951800  0.686996\n",
       "1994-02-09  0.400529 -0.532283  0.873309 -1.732563\n",
       "1994-02-16  0.558827 -0.631692 -2.744177 -0.672680\n",
       "1994-02-23  0.734465  2.225348 -1.324534 -1.372034\n",
       "1994-03-02 -0.312623  0.250989  1.245655 -0.417092\n",
       "1994-03-09 -0.790493 -0.531631 -0.227116 -1.273155\n",
       "1994-03-16 -1.145312  2.369599  1.029651 -0.195296\n",
       "1994-03-23  0.882690  0.310662  0.933036  0.903991\n",
       "1994-03-30  0.293001  0.106696 -1.457376 -1.668815\n",
       "1994-04-06  0.698855  0.299280  0.076589 -0.307792\n",
       "1994-04-13  1.150045 -1.179126 -0.809045  0.522230\n",
       "1994-04-20  0.155765 -0.011906  0.696213  0.395950\n",
       "1994-04-27  0.380915  0.727653  2.368397  0.121537\n",
       "1994-05-04  0.077371  0.315360 -1.454269  1.032820\n",
       "1994-05-11  1.808481  0.499575  0.810118 -0.402445\n",
       "1994-05-18  1.878727  0.147655  0.550371 -0.973575\n",
       "1994-05-25 -1.476379  0.866514  0.061409 -0.734069\n",
       "1994-06-01 -1.000310 -0.541098 -0.242163  0.322990\n",
       "1994-06-08  0.434953 -0.595425 -0.747792  1.415606\n",
       "1994-06-15  1.440204  0.448882  1.186784  0.037772\n",
       "1994-06-22 -1.493887 -1.327473 -1.428324 -0.011001\n",
       "1994-06-29 -0.982305  0.086571  0.499028 -0.237014\n",
       "1994-07-06  0.331042  0.208968 -0.107338 -0.455241\n",
       "1994-07-13  0.122361  0.149140 -0.500839 -1.143878\n",
       "1994-07-20 -0.684853 -0.920921  1.651943  0.031707\n",
       "1994-07-27 -0.416775  0.341929  0.126965 -0.007137\n",
       "1994-08-03  1.031859 -0.154286 -2.139087 -0.492730\n",
       "1994-08-10  1.575875 -0.740317 -0.300083 -0.800633\n",
       "1994-08-17  0.163408  2.367886  2.118230 -0.798250\n",
       "1994-08-24 -0.985631 -0.343874  0.036196  0.426492\n",
       "1994-08-31 -0.850814  1.609718  0.419923  1.519423\n",
       "1994-09-07 -0.972078 -0.554818 -0.089526 -0.563788\n",
       "1994-09-14  0.506586 -0.552933 -0.607260 -0.874766\n",
       "1994-09-21  0.231596 -0.280286 -0.078292  0.501523\n",
       "1994-09-28 -1.554221  0.906298  0.048973 -0.634118\n",
       "1994-10-05  0.467526 -0.771869 -0.113755  0.150790\n",
       "1994-10-12 -1.003038 -0.019037  0.463759 -0.154369\n",
       "1994-10-19  1.445163  1.432679  0.078765 -0.870125\n",
       "1994-10-26  0.986894 -0.042795  2.071213 -0.228990\n",
       "1994-11-02 -0.879361  0.728425  1.484825  0.387142\n",
       "1994-11-09  0.015602 -1.013202  0.401937 -0.639856\n",
       "1994-11-16  0.592442  1.736292  1.278918  1.569528\n",
       "1994-11-23  1.093178  0.244012  1.227972  0.629846\n",
       "1994-11-30  0.169156 -0.622150 -1.074091  0.388780\n",
       "1994-12-07 -0.310555  0.207750 -1.374346 -0.286296\n",
       "1994-12-14 -0.105171  0.444012  1.682829  0.086981\n",
       "1994-12-21 -1.287461  1.207712  0.310016 -2.379110\n",
       "1994-12-28 -1.368768 -1.027411 -0.639132  0.239410"
      ]
     },
     "execution_count": 85,
     "metadata": {},
     "output_type": "execute_result"
    }
   ],
   "source": [
    "long_df['1994']"
   ]
  },
  {
   "cell_type": "markdown",
   "id": "boolean-marathon",
   "metadata": {},
   "source": [
    "### Time Series with Duplicate Indices"
   ]
  },
  {
   "cell_type": "code",
   "execution_count": 86,
   "id": "known-webcam",
   "metadata": {},
   "outputs": [],
   "source": [
    "# In some application there may be multiple data observations falling on a particular timestamp"
   ]
  },
  {
   "cell_type": "code",
   "execution_count": 87,
   "id": "descending-appeal",
   "metadata": {},
   "outputs": [
    {
     "data": {
      "text/plain": [
       "DatetimeIndex(['2122-01-02', '2122-02-02', '2122-02-02', '2122-02-02',\n",
       "               '2122-03-12'],\n",
       "              dtype='datetime64[ns]', freq=None)"
      ]
     },
     "execution_count": 87,
     "metadata": {},
     "output_type": "execute_result"
    }
   ],
   "source": [
    "date_dup = pd.DatetimeIndex(['2122-01-02','2122-02-02',\n",
    "                          '2122-02-02','2122-02-02',\n",
    "                          '2122-03-12'])\n",
    "\n",
    "date_dup"
   ]
  },
  {
   "cell_type": "code",
   "execution_count": 88,
   "id": "friendly-adventure",
   "metadata": {},
   "outputs": [
    {
     "data": {
      "text/plain": [
       "2122-01-02    0\n",
       "2122-02-02    1\n",
       "2122-02-02    2\n",
       "2122-02-02    3\n",
       "2122-03-12    4\n",
       "dtype: int32"
      ]
     },
     "execution_count": 88,
     "metadata": {},
     "output_type": "execute_result"
    }
   ],
   "source": [
    "dup_ser = pd.Series(np.arange(5),index=date_dup)\n",
    "\n",
    "dup_ser"
   ]
  },
  {
   "cell_type": "code",
   "execution_count": 89,
   "id": "affiliated-forty",
   "metadata": {},
   "outputs": [],
   "source": [
    "# We can tell if the index is unique or not by checking the is_unique property"
   ]
  },
  {
   "cell_type": "code",
   "execution_count": 90,
   "id": "freelance-pricing",
   "metadata": {},
   "outputs": [
    {
     "data": {
      "text/plain": [
       "False"
      ]
     },
     "execution_count": 90,
     "metadata": {},
     "output_type": "execute_result"
    }
   ],
   "source": [
    "dup_ser.index.is_unique"
   ]
  },
  {
   "cell_type": "code",
   "execution_count": 91,
   "id": "solar-event",
   "metadata": {},
   "outputs": [],
   "source": [
    "# Now selecting data from this series will either produce scalar values or a slice output depending on the whether the\n",
    "# data that has been selected is duplicate or not"
   ]
  },
  {
   "cell_type": "code",
   "execution_count": 92,
   "id": "sensitive-glucose",
   "metadata": {},
   "outputs": [
    {
     "data": {
      "text/plain": [
       "2122-01-02    0\n",
       "2122-02-02    1\n",
       "2122-02-02    2\n",
       "2122-02-02    3\n",
       "2122-03-12    4\n",
       "dtype: int32"
      ]
     },
     "execution_count": 92,
     "metadata": {},
     "output_type": "execute_result"
    }
   ],
   "source": [
    "dup_ser"
   ]
  },
  {
   "cell_type": "code",
   "execution_count": 93,
   "id": "hairy-grave",
   "metadata": {},
   "outputs": [
    {
     "data": {
      "text/plain": [
       "4"
      ]
     },
     "execution_count": 93,
     "metadata": {},
     "output_type": "execute_result"
    }
   ],
   "source": [
    "dup_ser['2122-03-12']"
   ]
  },
  {
   "cell_type": "code",
   "execution_count": 94,
   "id": "technological-arlington",
   "metadata": {},
   "outputs": [
    {
     "data": {
      "text/plain": [
       "2122-02-02    1\n",
       "2122-02-02    2\n",
       "2122-02-02    3\n",
       "dtype: int32"
      ]
     },
     "execution_count": 94,
     "metadata": {},
     "output_type": "execute_result"
    }
   ],
   "source": [
    "dup_ser['2122-02-02']"
   ]
  },
  {
   "cell_type": "code",
   "execution_count": 95,
   "id": "novel-kitty",
   "metadata": {},
   "outputs": [],
   "source": [
    "# Suppose you wanted to aggregate over data having non-unique value, then you can do this by using the groupby function\n",
    "# and passing the level as 0(in our case we can only pass 0 since our example is a series)"
   ]
  },
  {
   "cell_type": "code",
   "execution_count": 96,
   "id": "continuing-transport",
   "metadata": {},
   "outputs": [],
   "source": [
    "groupped = dup_ser.groupby(level=0)"
   ]
  },
  {
   "cell_type": "code",
   "execution_count": 97,
   "id": "sitting-bulgaria",
   "metadata": {},
   "outputs": [
    {
     "data": {
      "text/plain": [
       "2122-01-02    0\n",
       "2122-02-02    2\n",
       "2122-03-12    4\n",
       "dtype: int32"
      ]
     },
     "execution_count": 97,
     "metadata": {},
     "output_type": "execute_result"
    }
   ],
   "source": [
    "groupped.mean()"
   ]
  },
  {
   "cell_type": "code",
   "execution_count": 98,
   "id": "violent-visibility",
   "metadata": {},
   "outputs": [
    {
     "data": {
      "text/plain": [
       "2122-01-02    1\n",
       "2122-02-02    3\n",
       "2122-03-12    1\n",
       "dtype: int64"
      ]
     },
     "execution_count": 98,
     "metadata": {},
     "output_type": "execute_result"
    }
   ],
   "source": [
    "groupped.count()"
   ]
  },
  {
   "cell_type": "markdown",
   "id": "known-borough",
   "metadata": {},
   "source": [
    "## Date Ranges, Frequencies, and Shifting"
   ]
  },
  {
   "cell_type": "code",
   "execution_count": 99,
   "id": "earlier-hindu",
   "metadata": {},
   "outputs": [],
   "source": [
    "# Now, we have seen till now that the generic data in time series is usually irregular. But that is ok, still there are \n",
    "# times when we need regularised data with fixed frequency, so for that there are many pandas function which we will see\n",
    "# below "
   ]
  },
  {
   "cell_type": "code",
   "execution_count": 100,
   "id": "previous-identifier",
   "metadata": {},
   "outputs": [
    {
     "data": {
      "text/plain": [
       "3100-02-01 00:00:00   -0.136704\n",
       "3200-11-23 00:00:00   -0.904014\n",
       "4001-12-31 00:00:00   -1.509254\n",
       "4221-10-19 00:00:00    0.508828\n",
       "3342-08-29 00:00:00   -0.729643\n",
       "3211-03-08 00:00:00    0.283172\n",
       "dtype: float64"
      ]
     },
     "execution_count": 100,
     "metadata": {},
     "output_type": "execute_result"
    }
   ],
   "source": [
    "tcs"
   ]
  },
  {
   "cell_type": "code",
   "execution_count": 101,
   "id": "smart-oxide",
   "metadata": {},
   "outputs": [
    {
     "data": {
      "text/plain": [
       "2011-01-01   -0.982458\n",
       "2011-01-04   -1.379299\n",
       "2011-01-06   -0.181925\n",
       "2011-01-08    0.162260\n",
       "2011-01-12   -1.071807\n",
       "2011-01-21    1.020842\n",
       "dtype: float64"
      ]
     },
     "execution_count": 101,
     "metadata": {},
     "output_type": "execute_result"
    }
   ],
   "source": [
    "tcs_1"
   ]
  },
  {
   "cell_type": "code",
   "execution_count": 102,
   "id": "occupational-equation",
   "metadata": {},
   "outputs": [],
   "source": [
    "resamplee = tcs_1.resample('D')"
   ]
  },
  {
   "cell_type": "code",
   "execution_count": 103,
   "id": "flush-mixer",
   "metadata": {},
   "outputs": [
    {
     "data": {
      "text/plain": [
       "<pandas.core.resample.DatetimeIndexResampler object at 0x000001BA21FC2208>"
      ]
     },
     "execution_count": 103,
     "metadata": {},
     "output_type": "execute_result"
    }
   ],
   "source": [
    "resamplee"
   ]
  },
  {
   "cell_type": "code",
   "execution_count": 104,
   "id": "prompt-manner",
   "metadata": {},
   "outputs": [
    {
     "data": {
      "text/plain": [
       "2011-01-01   -0.982458\n",
       "2011-01-04   -1.379299\n",
       "2011-01-06   -0.181925\n",
       "2011-01-08    0.162260\n",
       "2011-01-12   -1.071807\n",
       "2011-01-21    1.020842\n",
       "dtype: float64"
      ]
     },
     "execution_count": 104,
     "metadata": {},
     "output_type": "execute_result"
    }
   ],
   "source": [
    "tcs_1"
   ]
  },
  {
   "cell_type": "code",
   "execution_count": 105,
   "id": "applicable-glass",
   "metadata": {},
   "outputs": [
    {
     "data": {
      "text/plain": [
       "DatetimeIndex(['2122-01-02', '2122-02-02', '2122-05-12', '2122-04-19',\n",
       "               '2122-03-12'],\n",
       "              dtype='datetime64[ns]', freq=None)"
      ]
     },
     "execution_count": 105,
     "metadata": {},
     "output_type": "execute_result"
    }
   ],
   "source": [
    "dfc = pd.DatetimeIndex(['2122-01-02','2122-02-02',\n",
    "                          '2122-05-12','2122-04-19',\n",
    "                          '2122-03-12'])\n",
    "\n",
    "dfc"
   ]
  },
  {
   "cell_type": "code",
   "execution_count": 106,
   "id": "behind-vegetable",
   "metadata": {},
   "outputs": [
    {
     "data": {
      "text/plain": [
       "2122-01-02    0\n",
       "2122-02-02    1\n",
       "2122-05-12    2\n",
       "2122-04-19    3\n",
       "2122-03-12    4\n",
       "dtype: int32"
      ]
     },
     "execution_count": 106,
     "metadata": {},
     "output_type": "execute_result"
    }
   ],
   "source": [
    "chec = pd.Series(np.arange(5),index=dfc)\n",
    "\n",
    "chec"
   ]
  },
  {
   "cell_type": "code",
   "execution_count": 107,
   "id": "disturbed-monitor",
   "metadata": {},
   "outputs": [],
   "source": [
    "check = chec.resample('D')"
   ]
  },
  {
   "cell_type": "code",
   "execution_count": 108,
   "id": "immune-instrumentation",
   "metadata": {},
   "outputs": [
    {
     "data": {
      "text/plain": [
       "<pandas.core.resample.DatetimeIndexResampler object at 0x000001BA21FDAEB8>"
      ]
     },
     "execution_count": 108,
     "metadata": {},
     "output_type": "execute_result"
    }
   ],
   "source": [
    "check"
   ]
  },
  {
   "cell_type": "code",
   "execution_count": 109,
   "id": "cloudy-playing",
   "metadata": {},
   "outputs": [
    {
     "data": {
      "text/plain": [
       "2122-01-02    0\n",
       "2122-02-02    1\n",
       "2122-05-12    2\n",
       "2122-04-19    3\n",
       "2122-03-12    4\n",
       "dtype: int32"
      ]
     },
     "execution_count": 109,
     "metadata": {},
     "output_type": "execute_result"
    }
   ],
   "source": [
    "chec"
   ]
  },
  {
   "cell_type": "markdown",
   "id": "blank-effects",
   "metadata": {},
   "source": [
    "### Generating Date Ranges"
   ]
  },
  {
   "cell_type": "code",
   "execution_count": 110,
   "id": "suspected-currency",
   "metadata": {},
   "outputs": [],
   "source": [
    "# Now, in this section we are going to see how the date_range function works to create DateTime index"
   ]
  },
  {
   "cell_type": "code",
   "execution_count": 111,
   "id": "strong-mandate",
   "metadata": {},
   "outputs": [
    {
     "data": {
      "text/plain": [
       "DatetimeIndex(['2036-01-03', '2036-01-04', '2036-01-05', '2036-01-06',\n",
       "               '2036-01-07', '2036-01-08', '2036-01-09', '2036-01-10',\n",
       "               '2036-01-11', '2036-01-12',\n",
       "               ...\n",
       "               '2039-03-21', '2039-03-22', '2039-03-23', '2039-03-24',\n",
       "               '2039-03-25', '2039-03-26', '2039-03-27', '2039-03-28',\n",
       "               '2039-03-29', '2039-03-30'],\n",
       "              dtype='datetime64[ns]', length=1183, freq='D')"
      ]
     },
     "execution_count": 111,
     "metadata": {},
     "output_type": "execute_result"
    }
   ],
   "source": [
    "my_ind= pd.date_range('2036-01-03','2039-03-30')\n",
    "\n",
    "my_ind"
   ]
  },
  {
   "cell_type": "code",
   "execution_count": 112,
   "id": "incorporated-double",
   "metadata": {},
   "outputs": [],
   "source": [
    "# Now, by default date_range generates only daily timestamps. Now, in the below ex if you do not pass the periods still\n",
    "# it will work and produce daily timestamp. However if you pass only the start or end attribute then, passing the \n",
    "# periods attribute becomes manadatory"
   ]
  },
  {
   "cell_type": "code",
   "execution_count": 113,
   "id": "metric-phrase",
   "metadata": {},
   "outputs": [
    {
     "data": {
      "text/plain": [
       "DatetimeIndex(['2036-01-03', '2036-02-01', '2036-03-01', '2036-03-30'], dtype='datetime64[ns]', freq=None)"
      ]
     },
     "execution_count": 113,
     "metadata": {},
     "output_type": "execute_result"
    }
   ],
   "source": [
    "md = pd.date_range('2036-01-03','2036-03-30',periods=4)\n",
    "\n",
    "md"
   ]
  },
  {
   "cell_type": "code",
   "execution_count": 114,
   "id": "bored-flush",
   "metadata": {},
   "outputs": [
    {
     "data": {
      "text/plain": [
       "DatetimeIndex(['2036-01-03', '2036-01-04', '2036-01-05', '2036-01-06',\n",
       "               '2036-01-07', '2036-01-08', '2036-01-09', '2036-01-10',\n",
       "               '2036-01-11', '2036-01-12', '2036-01-13', '2036-01-14',\n",
       "               '2036-01-15', '2036-01-16', '2036-01-17', '2036-01-18',\n",
       "               '2036-01-19', '2036-01-20', '2036-01-21', '2036-01-22',\n",
       "               '2036-01-23', '2036-01-24', '2036-01-25', '2036-01-26',\n",
       "               '2036-01-27', '2036-01-28', '2036-01-29', '2036-01-30',\n",
       "               '2036-01-31', '2036-02-01', '2036-02-02', '2036-02-03',\n",
       "               '2036-02-04', '2036-02-05', '2036-02-06', '2036-02-07',\n",
       "               '2036-02-08', '2036-02-09', '2036-02-10', '2036-02-11',\n",
       "               '2036-02-12', '2036-02-13', '2036-02-14', '2036-02-15',\n",
       "               '2036-02-16', '2036-02-17', '2036-02-18', '2036-02-19',\n",
       "               '2036-02-20', '2036-02-21', '2036-02-22', '2036-02-23',\n",
       "               '2036-02-24', '2036-02-25', '2036-02-26', '2036-02-27',\n",
       "               '2036-02-28', '2036-02-29', '2036-03-01', '2036-03-02',\n",
       "               '2036-03-03', '2036-03-04', '2036-03-05', '2036-03-06',\n",
       "               '2036-03-07', '2036-03-08', '2036-03-09', '2036-03-10',\n",
       "               '2036-03-11', '2036-03-12', '2036-03-13', '2036-03-14',\n",
       "               '2036-03-15', '2036-03-16', '2036-03-17', '2036-03-18',\n",
       "               '2036-03-19', '2036-03-20', '2036-03-21', '2036-03-22',\n",
       "               '2036-03-23', '2036-03-24', '2036-03-25', '2036-03-26',\n",
       "               '2036-03-27', '2036-03-28', '2036-03-29', '2036-03-30'],\n",
       "              dtype='datetime64[ns]', freq='D')"
      ]
     },
     "execution_count": 114,
     "metadata": {},
     "output_type": "execute_result"
    }
   ],
   "source": [
    "md_1 = pd.date_range('2036-01-03','2036-03-30')\n",
    "\n",
    "md_1"
   ]
  },
  {
   "cell_type": "code",
   "execution_count": 115,
   "id": "undefined-catering",
   "metadata": {},
   "outputs": [
    {
     "data": {
      "text/plain": [
       "DatetimeIndex(['2000-01-23', '2000-01-24', '2000-01-25', '2000-01-26',\n",
       "               '2000-01-27', '2000-01-28', '2000-01-29', '2000-01-30',\n",
       "               '2000-01-31', '2000-02-01', '2000-02-02', '2000-02-03'],\n",
       "              dtype='datetime64[ns]', freq='D')"
      ]
     },
     "execution_count": 115,
     "metadata": {},
     "output_type": "execute_result"
    }
   ],
   "source": [
    "md_start = pd.date_range(start='2000-01-23',periods=12)\n",
    "md_start\n",
    "\n",
    "# Note that if the date value that you are passing is the start date then you can skip writing the start parameter because\n",
    "# by default date_range considers it as start only\n",
    "# pd.date_range(start='2000-01-23',periods=12) is same as pd.date_range('2000-01-23',periods=12)\n",
    "\n",
    "\n"
   ]
  },
  {
   "cell_type": "code",
   "execution_count": 116,
   "id": "qualified-spokesman",
   "metadata": {},
   "outputs": [
    {
     "data": {
      "text/plain": [
       "DatetimeIndex(['1922-09-08', '1922-09-09', '1922-09-10', '1922-09-11',\n",
       "               '1922-09-12', '1922-09-13', '1922-09-14', '1922-09-15',\n",
       "               '1922-09-16', '1922-09-17', '1922-09-18', '1922-09-19',\n",
       "               '1922-09-20', '1922-09-21', '1922-09-22', '1922-09-23',\n",
       "               '1922-09-24', '1922-09-25', '1922-09-26', '1922-09-27',\n",
       "               '1922-09-28', '1922-09-29', '1922-09-30', '1922-10-01',\n",
       "               '1922-10-02', '1922-10-03', '1922-10-04', '1922-10-05',\n",
       "               '1922-10-06', '1922-10-07', '1922-10-08', '1922-10-09',\n",
       "               '1922-10-10', '1922-10-11', '1922-10-12', '1922-10-13',\n",
       "               '1922-10-14', '1922-10-15', '1922-10-16', '1922-10-17',\n",
       "               '1922-10-18', '1922-10-19', '1922-10-20', '1922-10-21',\n",
       "               '1922-10-22', '1922-10-23', '1922-10-24', '1922-10-25',\n",
       "               '1922-10-26', '1922-10-27', '1922-10-28', '1922-10-29',\n",
       "               '1922-10-30', '1922-10-31', '1922-11-01', '1922-11-02',\n",
       "               '1922-11-03', '1922-11-04', '1922-11-05', '1922-11-06',\n",
       "               '1922-11-07', '1922-11-08', '1922-11-09', '1922-11-10',\n",
       "               '1922-11-11', '1922-11-12', '1922-11-13', '1922-11-14',\n",
       "               '1922-11-15', '1922-11-16', '1922-11-17', '1922-11-18',\n",
       "               '1922-11-19', '1922-11-20', '1922-11-21', '1922-11-22',\n",
       "               '1922-11-23', '1922-11-24', '1922-11-25', '1922-11-26',\n",
       "               '1922-11-27', '1922-11-28', '1922-11-29', '1922-11-30',\n",
       "               '1922-12-01', '1922-12-02', '1922-12-03', '1922-12-04',\n",
       "               '1922-12-05', '1922-12-06', '1922-12-07', '1922-12-08',\n",
       "               '1922-12-09', '1922-12-10', '1922-12-11', '1922-12-12',\n",
       "               '1922-12-13', '1922-12-14', '1922-12-15', '1922-12-16'],\n",
       "              dtype='datetime64[ns]', freq='D')"
      ]
     },
     "execution_count": 116,
     "metadata": {},
     "output_type": "execute_result"
    }
   ],
   "source": [
    "md_end = pd.date_range(end='1922-12-16',periods=100)\n",
    "\n",
    "md_end"
   ]
  },
  {
   "cell_type": "code",
   "execution_count": 117,
   "id": "disabled-thinking",
   "metadata": {},
   "outputs": [],
   "source": [
    "# Now, you can pass an even better filter like printing the business end day of the month"
   ]
  },
  {
   "cell_type": "code",
   "execution_count": 118,
   "id": "explicit-trust",
   "metadata": {},
   "outputs": [
    {
     "data": {
      "text/plain": [
       "DatetimeIndex(['2011-02-28', '2011-03-31', '2011-04-29', '2011-05-31',\n",
       "               '2011-06-30', '2011-07-29', '2011-08-31', '2011-09-30',\n",
       "               '2011-10-31', '2011-11-30', '2011-12-30', '2012-01-31',\n",
       "               '2012-02-29', '2012-03-30'],\n",
       "              dtype='datetime64[ns]', freq='BM')"
      ]
     },
     "execution_count": 118,
     "metadata": {},
     "output_type": "execute_result"
    }
   ],
   "source": [
    "md_bm = pd.date_range('2011-02-01','2012-03-30',freq='BM')\n",
    "\n",
    "md_bm"
   ]
  },
  {
   "cell_type": "code",
   "execution_count": 119,
   "id": "stainless-space",
   "metadata": {},
   "outputs": [],
   "source": [
    "# Now, pandas preserves the timestamp to the last minute"
   ]
  },
  {
   "cell_type": "code",
   "execution_count": 120,
   "id": "annual-hygiene",
   "metadata": {},
   "outputs": [
    {
     "data": {
      "text/plain": [
       "DatetimeIndex(['2001-03-21 12:23:21', '2001-03-22 12:23:21',\n",
       "               '2001-03-23 12:23:21', '2001-03-24 12:23:21',\n",
       "               '2001-03-25 12:23:21', '2001-03-26 12:23:21',\n",
       "               '2001-03-27 12:23:21', '2001-03-28 12:23:21',\n",
       "               '2001-03-29 12:23:21', '2001-03-30 12:23:21',\n",
       "               '2001-03-31 12:23:21', '2001-04-01 12:23:21',\n",
       "               '2001-04-02 12:23:21', '2001-04-03 12:23:21',\n",
       "               '2001-04-04 12:23:21', '2001-04-05 12:23:21',\n",
       "               '2001-04-06 12:23:21', '2001-04-07 12:23:21',\n",
       "               '2001-04-08 12:23:21', '2001-04-09 12:23:21',\n",
       "               '2001-04-10 12:23:21'],\n",
       "              dtype='datetime64[ns]', freq='D')"
      ]
     },
     "execution_count": 120,
     "metadata": {},
     "output_type": "execute_result"
    }
   ],
   "source": [
    "sd = pd.date_range('2001-03-21 12:23:21',periods=21)\n",
    "\n",
    "sd\n"
   ]
  },
  {
   "cell_type": "code",
   "execution_count": 121,
   "id": "union-delhi",
   "metadata": {},
   "outputs": [],
   "source": [
    "# Now, there might be times when you will have a timestamp value with seconds. However, you might wanna generate\n",
    "# the remaining time stamp on a normal basis without the HH:mm:ss value. For that use normalized"
   ]
  },
  {
   "cell_type": "code",
   "execution_count": 122,
   "id": "continuing-contamination",
   "metadata": {},
   "outputs": [
    {
     "data": {
      "text/plain": [
       "DatetimeIndex(['2101-03-21', '2101-03-22', '2101-03-23', '2101-03-24',\n",
       "               '2101-03-25', '2101-03-26', '2101-03-27', '2101-03-28',\n",
       "               '2101-03-29', '2101-03-30', '2101-03-31', '2101-04-01',\n",
       "               '2101-04-02', '2101-04-03', '2101-04-04', '2101-04-05',\n",
       "               '2101-04-06', '2101-04-07', '2101-04-08', '2101-04-09',\n",
       "               '2101-04-10'],\n",
       "              dtype='datetime64[ns]', freq='D')"
      ]
     },
     "execution_count": 122,
     "metadata": {},
     "output_type": "execute_result"
    }
   ],
   "source": [
    "normal = pd.date_range('2101-03-21 12:23:21',periods=21,normalize=True)\n",
    "normal"
   ]
  },
  {
   "cell_type": "markdown",
   "id": "driven-athletics",
   "metadata": {},
   "source": [
    "### Frequencies and Date Offsets"
   ]
  },
  {
   "cell_type": "code",
   "execution_count": 123,
   "id": "increased-newport",
   "metadata": {},
   "outputs": [],
   "source": [
    "# Now, in pandas frequencies are composed of a base frequency and a multiplier. For monthly frequency data the alias is\n",
    "# is \"M\" for hourly it is \"H\". The frequency can be referred by the date offset. So hourly frequency can be referred by\n",
    "# hour class"
   ]
  },
  {
   "cell_type": "code",
   "execution_count": 124,
   "id": "thorough-rating",
   "metadata": {},
   "outputs": [],
   "source": [
    "from pandas.tseries.offsets import Hour,Minute"
   ]
  },
  {
   "cell_type": "code",
   "execution_count": 125,
   "id": "vital-recovery",
   "metadata": {},
   "outputs": [],
   "source": [
    "hour = Hour()"
   ]
  },
  {
   "cell_type": "code",
   "execution_count": 126,
   "id": "liberal-nancy",
   "metadata": {},
   "outputs": [
    {
     "data": {
      "text/plain": [
       "<Hour>"
      ]
     },
     "execution_count": 126,
     "metadata": {},
     "output_type": "execute_result"
    }
   ],
   "source": [
    "hour"
   ]
  },
  {
   "cell_type": "code",
   "execution_count": 127,
   "id": "stock-birmingham",
   "metadata": {},
   "outputs": [],
   "source": [
    "# You can define multiple of an offset by passing an integer:\n"
   ]
  },
  {
   "cell_type": "code",
   "execution_count": 128,
   "id": "italian-assignment",
   "metadata": {},
   "outputs": [],
   "source": [
    "four_hour = Hour(4)"
   ]
  },
  {
   "cell_type": "code",
   "execution_count": 129,
   "id": "single-traveler",
   "metadata": {},
   "outputs": [
    {
     "data": {
      "text/plain": [
       "<4 * Hours>"
      ]
     },
     "execution_count": 129,
     "metadata": {},
     "output_type": "execute_result"
    }
   ],
   "source": [
    "four_hour"
   ]
  },
  {
   "cell_type": "code",
   "execution_count": 130,
   "id": "unable-cooking",
   "metadata": {},
   "outputs": [],
   "source": [
    "# Now, you can do the same without creating these aliases as well"
   ]
  },
  {
   "cell_type": "code",
   "execution_count": 131,
   "id": "driven-value",
   "metadata": {},
   "outputs": [
    {
     "data": {
      "text/plain": [
       "DatetimeIndex(['2000-01-12 00:00:00', '2000-01-12 04:00:00',\n",
       "               '2000-01-12 08:00:00', '2000-01-12 12:00:00',\n",
       "               '2000-01-12 16:00:00', '2000-01-12 20:00:00',\n",
       "               '2000-01-13 00:00:00', '2000-01-13 04:00:00',\n",
       "               '2000-01-13 08:00:00', '2000-01-13 12:00:00',\n",
       "               ...\n",
       "               '2001-01-11 12:00:00', '2001-01-11 16:00:00',\n",
       "               '2001-01-11 20:00:00', '2001-01-12 00:00:00',\n",
       "               '2001-01-12 04:00:00', '2001-01-12 08:00:00',\n",
       "               '2001-01-12 12:00:00', '2001-01-12 16:00:00',\n",
       "               '2001-01-12 20:00:00', '2001-01-13 00:00:00'],\n",
       "              dtype='datetime64[ns]', length=2203, freq='4H')"
      ]
     },
     "execution_count": 131,
     "metadata": {},
     "output_type": "execute_result"
    }
   ],
   "source": [
    "pd.date_range('2000-01-12','2001-01-13',freq='4H')"
   ]
  },
  {
   "cell_type": "code",
   "execution_count": 132,
   "id": "positive-arrow",
   "metadata": {},
   "outputs": [],
   "source": [
    "# Many offsets can be combined by addition itself"
   ]
  },
  {
   "cell_type": "code",
   "execution_count": 133,
   "id": "polish-humanity",
   "metadata": {},
   "outputs": [
    {
     "data": {
      "text/plain": [
       "<1610 * Minutes>"
      ]
     },
     "execution_count": 133,
     "metadata": {},
     "output_type": "execute_result"
    }
   ],
   "source": [
    "Hour(23) + Minute(230)"
   ]
  },
  {
   "cell_type": "code",
   "execution_count": 134,
   "id": "annoying-consultation",
   "metadata": {},
   "outputs": [],
   "source": [
    "# One more way for doing it"
   ]
  },
  {
   "cell_type": "code",
   "execution_count": 135,
   "id": "historic-checkout",
   "metadata": {},
   "outputs": [
    {
     "data": {
      "text/plain": [
       "DatetimeIndex(['2010-10-21 00:00:00', '2010-10-21 01:30:00',\n",
       "               '2010-10-21 03:00:00', '2010-10-21 04:30:00',\n",
       "               '2010-10-21 06:00:00', '2010-10-21 07:30:00',\n",
       "               '2010-10-21 09:00:00', '2010-10-21 10:30:00',\n",
       "               '2010-10-21 12:00:00', '2010-10-21 13:30:00'],\n",
       "              dtype='datetime64[ns]', freq='90T')"
      ]
     },
     "execution_count": 135,
     "metadata": {},
     "output_type": "execute_result"
    }
   ],
   "source": [
    "pd.date_range('2010-10-21',periods=10,freq='1h30min')"
   ]
  },
  {
   "cell_type": "code",
   "execution_count": 136,
   "id": "premium-database",
   "metadata": {},
   "outputs": [],
   "source": [
    "# one more useful frequency class is 'week of month'"
   ]
  },
  {
   "cell_type": "code",
   "execution_count": 137,
   "id": "figured-preparation",
   "metadata": {},
   "outputs": [
    {
     "data": {
      "text/plain": [
       "DatetimeIndex(['2023-01-27', '2023-02-24', '2023-03-24', '2023-04-28',\n",
       "               '2023-05-26', '2023-06-23', '2023-07-28', '2023-08-25',\n",
       "               '2023-09-22', '2023-10-27', '2023-11-24', '2023-12-22'],\n",
       "              dtype='datetime64[ns]', freq='WOM-4FRI')"
      ]
     },
     "execution_count": 137,
     "metadata": {},
     "output_type": "execute_result"
    }
   ],
   "source": [
    "monthly_weekend_list = pd.date_range('2023-01-23','2023-12-30',freq='WOM-4FRI')\n",
    "\n",
    "monthly_weekend_list"
   ]
  },
  {
   "cell_type": "code",
   "execution_count": 138,
   "id": "acquired-knowing",
   "metadata": {},
   "outputs": [
    {
     "data": {
      "text/plain": [
       "DatetimeIndex(['2023-02-06', '2023-03-06', '2023-04-03', '2023-05-01',\n",
       "               '2023-06-05', '2023-07-03', '2023-08-07', '2023-09-04',\n",
       "               '2023-10-02', '2023-11-06', '2023-12-04'],\n",
       "              dtype='datetime64[ns]', freq='WOM-1MON')"
      ]
     },
     "execution_count": 138,
     "metadata": {},
     "output_type": "execute_result"
    }
   ],
   "source": [
    "hate_monday_list = pd.date_range('2023-01-23','2023-12-30',freq='WOM-1MON')\n",
    "\n",
    "hate_monday_list"
   ]
  },
  {
   "cell_type": "markdown",
   "id": "incomplete-oklahoma",
   "metadata": {},
   "source": [
    "### Shifting (Leading and Lagging ) Data"
   ]
  },
  {
   "cell_type": "code",
   "execution_count": 139,
   "id": "arbitrary-sword",
   "metadata": {},
   "outputs": [],
   "source": [
    "# Shifting refers to moving data backwards or forwards without affecting the index. Obviously if index is not\n",
    "# modified then it simply means that missing data is introduced"
   ]
  },
  {
   "cell_type": "code",
   "execution_count": 140,
   "id": "active-vault",
   "metadata": {},
   "outputs": [
    {
     "data": {
      "text/plain": [
       "2000-12-31   -0.880414\n",
       "2001-01-31    1.765097\n",
       "2001-02-28    0.436496\n",
       "2001-03-31    0.123098\n",
       "Freq: M, dtype: float64"
      ]
     },
     "execution_count": 140,
     "metadata": {},
     "output_type": "execute_result"
    }
   ],
   "source": [
    "tshift = pd.Series(np.random.standard_normal(4),index=pd.date_range('2000-12-12',periods=4,freq='M'))\n",
    "\n",
    "tshift"
   ]
  },
  {
   "cell_type": "code",
   "execution_count": 141,
   "id": "varied-mumbai",
   "metadata": {},
   "outputs": [
    {
     "data": {
      "text/plain": [
       "2000-12-31         NaN\n",
       "2001-01-31         NaN\n",
       "2001-02-28   -0.880414\n",
       "2001-03-31    1.765097\n",
       "Freq: M, dtype: float64"
      ]
     },
     "execution_count": 141,
     "metadata": {},
     "output_type": "execute_result"
    }
   ],
   "source": [
    "tshift.shift(2)"
   ]
  },
  {
   "cell_type": "code",
   "execution_count": 142,
   "id": "fixed-genome",
   "metadata": {},
   "outputs": [
    {
     "data": {
      "text/plain": [
       "2000-12-31    0.436496\n",
       "2001-01-31    0.123098\n",
       "2001-02-28         NaN\n",
       "2001-03-31         NaN\n",
       "Freq: M, dtype: float64"
      ]
     },
     "execution_count": 142,
     "metadata": {},
     "output_type": "execute_result"
    }
   ],
   "source": [
    "tshift.shift(-2)"
   ]
  },
  {
   "cell_type": "code",
   "execution_count": 143,
   "id": "rising-retirement",
   "metadata": {},
   "outputs": [],
   "source": [
    "# shifts are mostly used for calculating consecutive computing changes"
   ]
  },
  {
   "cell_type": "code",
   "execution_count": 144,
   "id": "declared-conclusion",
   "metadata": {},
   "outputs": [
    {
     "data": {
      "text/plain": [
       "2000-12-31   -0.498790\n",
       "2001-01-31    4.043791\n",
       "2001-02-28    3.545914\n",
       "2001-03-31         NaN\n",
       "Freq: M, dtype: float64"
      ]
     },
     "execution_count": 144,
     "metadata": {},
     "output_type": "execute_result"
    }
   ],
   "source": [
    "tshift/tshift.shift(-1)"
   ]
  },
  {
   "cell_type": "code",
   "execution_count": 145,
   "id": "twelve-framework",
   "metadata": {},
   "outputs": [],
   "source": [
    "# Now, this way of shifting seems pretty useless. So a better way is to pass the freq parameter in shift so that\n",
    "# it can modify the index as well."
   ]
  },
  {
   "cell_type": "code",
   "execution_count": null,
   "id": "alpine-family",
   "metadata": {},
   "outputs": [],
   "source": []
  },
  {
   "cell_type": "code",
   "execution_count": 146,
   "id": "discrete-possession",
   "metadata": {},
   "outputs": [
    {
     "data": {
      "text/plain": [
       "2000-12-31   -0.880414\n",
       "2001-01-31    1.765097\n",
       "2001-02-28    0.436496\n",
       "2001-03-31    0.123098\n",
       "Freq: M, dtype: float64"
      ]
     },
     "execution_count": 146,
     "metadata": {},
     "output_type": "execute_result"
    }
   ],
   "source": [
    "tshift"
   ]
  },
  {
   "cell_type": "code",
   "execution_count": 147,
   "id": "invalid-supply",
   "metadata": {},
   "outputs": [
    {
     "data": {
      "text/plain": [
       "2001-02-28   -0.880414\n",
       "2001-03-31    1.765097\n",
       "2001-04-30    0.436496\n",
       "2001-05-31    0.123098\n",
       "Freq: M, dtype: float64"
      ]
     },
     "execution_count": 147,
     "metadata": {},
     "output_type": "execute_result"
    }
   ],
   "source": [
    "tshift.shift(2,'M')"
   ]
  },
  {
   "cell_type": "code",
   "execution_count": 148,
   "id": "important-canal",
   "metadata": {},
   "outputs": [
    {
     "data": {
      "text/plain": [
       "2000-10-31   -0.880414\n",
       "2000-11-30    1.765097\n",
       "2000-12-31    0.436496\n",
       "2001-01-31    0.123098\n",
       "Freq: M, dtype: float64"
      ]
     },
     "execution_count": 148,
     "metadata": {},
     "output_type": "execute_result"
    }
   ],
   "source": [
    "tshift.shift(-2,'M')"
   ]
  },
  {
   "cell_type": "code",
   "execution_count": 149,
   "id": "exempt-albuquerque",
   "metadata": {},
   "outputs": [
    {
     "data": {
      "text/plain": [
       "2001-01-02   -0.880414\n",
       "2001-02-02    1.765097\n",
       "2001-03-02    0.436496\n",
       "2001-04-02    0.123098\n",
       "dtype: float64"
      ]
     },
     "execution_count": 149,
     "metadata": {},
     "output_type": "execute_result"
    }
   ],
   "source": [
    "tshift.shift(2,'D')"
   ]
  },
  {
   "cell_type": "code",
   "execution_count": 150,
   "id": "negative-disco",
   "metadata": {},
   "outputs": [
    {
     "data": {
      "text/plain": [
       "2000-12-31 03:00:00   -0.880414\n",
       "2001-01-31 03:00:00    1.765097\n",
       "2001-02-28 03:00:00    0.436496\n",
       "2001-03-31 03:00:00    0.123098\n",
       "dtype: float64"
      ]
     },
     "execution_count": 150,
     "metadata": {},
     "output_type": "execute_result"
    }
   ],
   "source": [
    "tshift.shift(2,'90T')"
   ]
  },
  {
   "cell_type": "code",
   "execution_count": 151,
   "id": "drawn-algeria",
   "metadata": {},
   "outputs": [
    {
     "data": {
      "text/plain": [
       "2000-12-31   -0.880414\n",
       "2001-01-31    1.765097\n",
       "2001-02-28    0.436496\n",
       "2001-03-31    0.123098\n",
       "Freq: M, dtype: float64"
      ]
     },
     "execution_count": 151,
     "metadata": {},
     "output_type": "execute_result"
    }
   ],
   "source": [
    "tshift"
   ]
  },
  {
   "cell_type": "markdown",
   "id": "approved-interview",
   "metadata": {},
   "source": [
    "#### Shifting dates with offsets"
   ]
  },
  {
   "cell_type": "code",
   "execution_count": 152,
   "id": "assigned-benchmark",
   "metadata": {},
   "outputs": [],
   "source": [
    "# Now, here we will use datetime and timestamp objects for timeshifting"
   ]
  },
  {
   "cell_type": "code",
   "execution_count": 153,
   "id": "friendly-necessity",
   "metadata": {},
   "outputs": [],
   "source": [
    "from pandas.tseries.offsets import Day,MonthEnd"
   ]
  },
  {
   "cell_type": "code",
   "execution_count": 154,
   "id": "satellite-assumption",
   "metadata": {},
   "outputs": [
    {
     "data": {
      "text/plain": [
       "datetime.datetime(2023, 6, 21, 0, 0)"
      ]
     },
     "execution_count": 154,
     "metadata": {},
     "output_type": "execute_result"
    }
   ],
   "source": [
    "now = datetm(2023,6,21)\n",
    "\n",
    "now"
   ]
  },
  {
   "cell_type": "code",
   "execution_count": 155,
   "id": "wooden-dividend",
   "metadata": {},
   "outputs": [
    {
     "data": {
      "text/plain": [
       "Timestamp('2023-06-24 00:00:00')"
      ]
     },
     "execution_count": 155,
     "metadata": {},
     "output_type": "execute_result"
    }
   ],
   "source": [
    "now + 3*Day() # it will move it ahead by 3 days"
   ]
  },
  {
   "cell_type": "code",
   "execution_count": 156,
   "id": "difficult-subsection",
   "metadata": {},
   "outputs": [],
   "source": [
    "# Now, let's see the use of MonthEnd."
   ]
  },
  {
   "cell_type": "code",
   "execution_count": 157,
   "id": "alien-search",
   "metadata": {},
   "outputs": [
    {
     "data": {
      "text/plain": [
       "Timestamp('2023-06-30 00:00:00')"
      ]
     },
     "execution_count": 157,
     "metadata": {},
     "output_type": "execute_result"
    }
   ],
   "source": [
    "now + MonthEnd()"
   ]
  },
  {
   "cell_type": "code",
   "execution_count": 158,
   "id": "simple-wyoming",
   "metadata": {},
   "outputs": [],
   "source": [
    "# Now, as you can see above is that our day was 2023,6,21. However, after using MonthEnd it WENT straight to the \n",
    "# monthend of the current month"
   ]
  },
  {
   "cell_type": "code",
   "execution_count": 159,
   "id": "round-rider",
   "metadata": {},
   "outputs": [
    {
     "data": {
      "text/plain": [
       "Timestamp('2023-08-31 00:00:00')"
      ]
     },
     "execution_count": 159,
     "metadata": {},
     "output_type": "execute_result"
    }
   ],
   "source": [
    "now + MonthEnd(3)"
   ]
  },
  {
   "cell_type": "code",
   "execution_count": 160,
   "id": "baking-humor",
   "metadata": {},
   "outputs": [],
   "source": [
    "# Now, using new methods"
   ]
  },
  {
   "cell_type": "code",
   "execution_count": 161,
   "id": "incident-progress",
   "metadata": {},
   "outputs": [],
   "source": [
    "offsetter = MonthEnd()"
   ]
  },
  {
   "cell_type": "code",
   "execution_count": 162,
   "id": "designing-assessment",
   "metadata": {},
   "outputs": [
    {
     "data": {
      "text/plain": [
       "Timestamp('2023-06-30 00:00:00')"
      ]
     },
     "execution_count": 162,
     "metadata": {},
     "output_type": "execute_result"
    }
   ],
   "source": [
    "offsetter.rollforward(now) # So here basically we used the MonthEnd's object only and used the rollforward method"
   ]
  },
  {
   "cell_type": "code",
   "execution_count": 163,
   "id": "eligible-providence",
   "metadata": {},
   "outputs": [
    {
     "data": {
      "text/plain": [
       "Timestamp('2023-05-31 00:00:00')"
      ]
     },
     "execution_count": 163,
     "metadata": {},
     "output_type": "execute_result"
    }
   ],
   "source": [
    "offsetter.rollback(now)"
   ]
  },
  {
   "cell_type": "code",
   "execution_count": 164,
   "id": "moving-anthony",
   "metadata": {},
   "outputs": [],
   "source": [
    "# Now we will see an interesting use of Monthend i.e. with groupby functions"
   ]
  },
  {
   "cell_type": "code",
   "execution_count": 165,
   "id": "introductory-cabin",
   "metadata": {},
   "outputs": [
    {
     "data": {
      "text/plain": [
       "2021-02-11    0.694205\n",
       "2021-02-16    0.442992\n",
       "2021-02-21    1.034988\n",
       "2021-02-26    0.104428\n",
       "2021-03-03   -0.671987\n",
       "2021-03-08   -2.151001\n",
       "2021-03-13    1.029590\n",
       "2021-03-18   -1.471011\n",
       "2021-03-23    0.035228\n",
       "2021-03-28    0.796827\n",
       "2021-04-02   -0.055007\n",
       "2021-04-07   -1.554643\n",
       "2021-04-12    0.344090\n",
       "2021-04-17    0.963079\n",
       "2021-04-22   -0.927660\n",
       "2021-04-27   -0.057981\n",
       "2021-05-02   -0.328054\n",
       "2021-05-07    0.595682\n",
       "2021-05-12    0.570533\n",
       "2021-05-17   -0.846074\n",
       "Freq: 5D, dtype: float64"
      ]
     },
     "execution_count": 165,
     "metadata": {},
     "output_type": "execute_result"
    }
   ],
   "source": [
    "tshift_grp = pd.Series(np.random.standard_normal(20), index=pd.date_range('2021-02-11',periods=20,freq='5D'))\n",
    "\n",
    "tshift_grp"
   ]
  },
  {
   "cell_type": "code",
   "execution_count": 166,
   "id": "mounted-ideal",
   "metadata": {},
   "outputs": [
    {
     "data": {
      "text/plain": [
       "2021-02-28    0.569153\n",
       "2021-03-31   -0.405392\n",
       "2021-04-30   -0.214687\n",
       "2021-05-31   -0.001978\n",
       "dtype: float64"
      ]
     },
     "execution_count": 166,
     "metadata": {},
     "output_type": "execute_result"
    }
   ],
   "source": [
    "tshift_grp.groupby(MonthEnd().rollforward).mean() # Here basically we have plotted the mean values of the months to the\n",
    "# last day of the specific month"
   ]
  },
  {
   "cell_type": "markdown",
   "id": "modern-class",
   "metadata": {},
   "source": [
    "## Time zone handling"
   ]
  },
  {
   "cell_type": "code",
   "execution_count": 167,
   "id": "cooked-merit",
   "metadata": {},
   "outputs": [
    {
     "data": {
      "text/plain": [
       "['Africa/Abidjan', 'Africa/Accra', 'Africa/Addis_Ababa', 'Africa/Algiers', 'Africa/Asmara', 'Africa/Bamako', 'Africa/Bangui', 'Africa/Banjul', 'Africa/Bissau', 'Africa/Blantyre', 'Africa/Brazzaville', 'Africa/Bujumbura', 'Africa/Cairo', 'Africa/Casablanca', 'Africa/Ceuta', 'Africa/Conakry', 'Africa/Dakar', 'Africa/Dar_es_Salaam', 'Africa/Djibouti', 'Africa/Douala', 'Africa/El_Aaiun', 'Africa/Freetown', 'Africa/Gaborone', 'Africa/Harare', 'Africa/Johannesburg', 'Africa/Juba', 'Africa/Kampala', 'Africa/Khartoum', 'Africa/Kigali', 'Africa/Kinshasa', 'Africa/Lagos', 'Africa/Libreville', 'Africa/Lome', 'Africa/Luanda', 'Africa/Lubumbashi', 'Africa/Lusaka', 'Africa/Malabo', 'Africa/Maputo', 'Africa/Maseru', 'Africa/Mbabane', 'Africa/Mogadishu', 'Africa/Monrovia', 'Africa/Nairobi', 'Africa/Ndjamena', 'Africa/Niamey', 'Africa/Nouakchott', 'Africa/Ouagadougou', 'Africa/Porto-Novo', 'Africa/Sao_Tome', 'Africa/Tripoli', 'Africa/Tunis', 'Africa/Windhoek', 'America/Adak', 'America/Anchorage', 'America/Anguilla', 'America/Antigua', 'America/Araguaina', 'America/Argentina/Buenos_Aires', 'America/Argentina/Catamarca', 'America/Argentina/Cordoba', 'America/Argentina/Jujuy', 'America/Argentina/La_Rioja', 'America/Argentina/Mendoza', 'America/Argentina/Rio_Gallegos', 'America/Argentina/Salta', 'America/Argentina/San_Juan', 'America/Argentina/San_Luis', 'America/Argentina/Tucuman', 'America/Argentina/Ushuaia', 'America/Aruba', 'America/Asuncion', 'America/Atikokan', 'America/Bahia', 'America/Bahia_Banderas', 'America/Barbados', 'America/Belem', 'America/Belize', 'America/Blanc-Sablon', 'America/Boa_Vista', 'America/Bogota', 'America/Boise', 'America/Cambridge_Bay', 'America/Campo_Grande', 'America/Cancun', 'America/Caracas', 'America/Cayenne', 'America/Cayman', 'America/Chicago', 'America/Chihuahua', 'America/Costa_Rica', 'America/Creston', 'America/Cuiaba', 'America/Curacao', 'America/Danmarkshavn', 'America/Dawson', 'America/Dawson_Creek', 'America/Denver', 'America/Detroit', 'America/Dominica', 'America/Edmonton', 'America/Eirunepe', 'America/El_Salvador', 'America/Fort_Nelson', 'America/Fortaleza', 'America/Glace_Bay', 'America/Goose_Bay', 'America/Grand_Turk', 'America/Grenada', 'America/Guadeloupe', 'America/Guatemala', 'America/Guayaquil', 'America/Guyana', 'America/Halifax', 'America/Havana', 'America/Hermosillo', 'America/Indiana/Indianapolis', 'America/Indiana/Knox', 'America/Indiana/Marengo', 'America/Indiana/Petersburg', 'America/Indiana/Tell_City', 'America/Indiana/Vevay', 'America/Indiana/Vincennes', 'America/Indiana/Winamac', 'America/Inuvik', 'America/Iqaluit', 'America/Jamaica', 'America/Juneau', 'America/Kentucky/Louisville', 'America/Kentucky/Monticello', 'America/Kralendijk', 'America/La_Paz', 'America/Lima', 'America/Los_Angeles', 'America/Lower_Princes', 'America/Maceio', 'America/Managua', 'America/Manaus', 'America/Marigot', 'America/Martinique', 'America/Matamoros', 'America/Mazatlan', 'America/Menominee', 'America/Merida', 'America/Metlakatla', 'America/Mexico_City', 'America/Miquelon', 'America/Moncton', 'America/Monterrey', 'America/Montevideo', 'America/Montserrat', 'America/Nassau', 'America/New_York', 'America/Nipigon', 'America/Nome', 'America/Noronha', 'America/North_Dakota/Beulah', 'America/North_Dakota/Center', 'America/North_Dakota/New_Salem', 'America/Nuuk', 'America/Ojinaga', 'America/Panama', 'America/Pangnirtung', 'America/Paramaribo', 'America/Phoenix', 'America/Port-au-Prince', 'America/Port_of_Spain', 'America/Porto_Velho', 'America/Puerto_Rico', 'America/Punta_Arenas', 'America/Rainy_River', 'America/Rankin_Inlet', 'America/Recife', 'America/Regina', 'America/Resolute', 'America/Rio_Branco', 'America/Santarem', 'America/Santiago', 'America/Santo_Domingo', 'America/Sao_Paulo', 'America/Scoresbysund', 'America/Sitka', 'America/St_Barthelemy', 'America/St_Johns', 'America/St_Kitts', 'America/St_Lucia', 'America/St_Thomas', 'America/St_Vincent', 'America/Swift_Current', 'America/Tegucigalpa', 'America/Thule', 'America/Thunder_Bay', 'America/Tijuana', 'America/Toronto', 'America/Tortola', 'America/Vancouver', 'America/Whitehorse', 'America/Winnipeg', 'America/Yakutat', 'America/Yellowknife', 'Antarctica/Casey', 'Antarctica/Davis', 'Antarctica/DumontDUrville', 'Antarctica/Macquarie', 'Antarctica/Mawson', 'Antarctica/McMurdo', 'Antarctica/Palmer', 'Antarctica/Rothera', 'Antarctica/Syowa', 'Antarctica/Troll', 'Antarctica/Vostok', 'Arctic/Longyearbyen', 'Asia/Aden', 'Asia/Almaty', 'Asia/Amman', 'Asia/Anadyr', 'Asia/Aqtau', 'Asia/Aqtobe', 'Asia/Ashgabat', 'Asia/Atyrau', 'Asia/Baghdad', 'Asia/Bahrain', 'Asia/Baku', 'Asia/Bangkok', 'Asia/Barnaul', 'Asia/Beirut', 'Asia/Bishkek', 'Asia/Brunei', 'Asia/Chita', 'Asia/Choibalsan', 'Asia/Colombo', 'Asia/Damascus', 'Asia/Dhaka', 'Asia/Dili', 'Asia/Dubai', 'Asia/Dushanbe', 'Asia/Famagusta', 'Asia/Gaza', 'Asia/Hebron', 'Asia/Ho_Chi_Minh', 'Asia/Hong_Kong', 'Asia/Hovd', 'Asia/Irkutsk', 'Asia/Jakarta', 'Asia/Jayapura', 'Asia/Jerusalem', 'Asia/Kabul', 'Asia/Kamchatka', 'Asia/Karachi', 'Asia/Kathmandu', 'Asia/Khandyga', 'Asia/Kolkata', 'Asia/Krasnoyarsk', 'Asia/Kuala_Lumpur', 'Asia/Kuching', 'Asia/Kuwait', 'Asia/Macau', 'Asia/Magadan', 'Asia/Makassar', 'Asia/Manila', 'Asia/Muscat', 'Asia/Nicosia', 'Asia/Novokuznetsk', 'Asia/Novosibirsk', 'Asia/Omsk', 'Asia/Oral', 'Asia/Phnom_Penh', 'Asia/Pontianak', 'Asia/Pyongyang', 'Asia/Qatar', 'Asia/Qostanay', 'Asia/Qyzylorda', 'Asia/Riyadh', 'Asia/Sakhalin', 'Asia/Samarkand', 'Asia/Seoul', 'Asia/Shanghai', 'Asia/Singapore', 'Asia/Srednekolymsk', 'Asia/Taipei', 'Asia/Tashkent', 'Asia/Tbilisi', 'Asia/Tehran', 'Asia/Thimphu', 'Asia/Tokyo', 'Asia/Tomsk', 'Asia/Ulaanbaatar', 'Asia/Urumqi', 'Asia/Ust-Nera', 'Asia/Vientiane', 'Asia/Vladivostok', 'Asia/Yakutsk', 'Asia/Yangon', 'Asia/Yekaterinburg', 'Asia/Yerevan', 'Atlantic/Azores', 'Atlantic/Bermuda', 'Atlantic/Canary', 'Atlantic/Cape_Verde', 'Atlantic/Faroe', 'Atlantic/Madeira', 'Atlantic/Reykjavik', 'Atlantic/South_Georgia', 'Atlantic/St_Helena', 'Atlantic/Stanley', 'Australia/Adelaide', 'Australia/Brisbane', 'Australia/Broken_Hill', 'Australia/Darwin', 'Australia/Eucla', 'Australia/Hobart', 'Australia/Lindeman', 'Australia/Lord_Howe', 'Australia/Melbourne', 'Australia/Perth', 'Australia/Sydney', 'Canada/Atlantic', 'Canada/Central', 'Canada/Eastern', 'Canada/Mountain', 'Canada/Newfoundland', 'Canada/Pacific', 'Europe/Amsterdam', 'Europe/Andorra', 'Europe/Astrakhan', 'Europe/Athens', 'Europe/Belgrade', 'Europe/Berlin', 'Europe/Bratislava', 'Europe/Brussels', 'Europe/Bucharest', 'Europe/Budapest', 'Europe/Busingen', 'Europe/Chisinau', 'Europe/Copenhagen', 'Europe/Dublin', 'Europe/Gibraltar', 'Europe/Guernsey', 'Europe/Helsinki', 'Europe/Isle_of_Man', 'Europe/Istanbul', 'Europe/Jersey', 'Europe/Kaliningrad', 'Europe/Kiev', 'Europe/Kirov', 'Europe/Lisbon', 'Europe/Ljubljana', 'Europe/London', 'Europe/Luxembourg', 'Europe/Madrid', 'Europe/Malta', 'Europe/Mariehamn', 'Europe/Minsk', 'Europe/Monaco', 'Europe/Moscow', 'Europe/Oslo', 'Europe/Paris', 'Europe/Podgorica', 'Europe/Prague', 'Europe/Riga', 'Europe/Rome', 'Europe/Samara', 'Europe/San_Marino', 'Europe/Sarajevo', 'Europe/Saratov', 'Europe/Simferopol', 'Europe/Skopje', 'Europe/Sofia', 'Europe/Stockholm', 'Europe/Tallinn', 'Europe/Tirane', 'Europe/Ulyanovsk', 'Europe/Uzhgorod', 'Europe/Vaduz', 'Europe/Vatican', 'Europe/Vienna', 'Europe/Vilnius', 'Europe/Volgograd', 'Europe/Warsaw', 'Europe/Zagreb', 'Europe/Zaporozhye', 'Europe/Zurich', 'GMT', 'Indian/Antananarivo', 'Indian/Chagos', 'Indian/Christmas', 'Indian/Cocos', 'Indian/Comoro', 'Indian/Kerguelen', 'Indian/Mahe', 'Indian/Maldives', 'Indian/Mauritius', 'Indian/Mayotte', 'Indian/Reunion', 'Pacific/Apia', 'Pacific/Auckland', 'Pacific/Bougainville', 'Pacific/Chatham', 'Pacific/Chuuk', 'Pacific/Easter', 'Pacific/Efate', 'Pacific/Enderbury', 'Pacific/Fakaofo', 'Pacific/Fiji', 'Pacific/Funafuti', 'Pacific/Galapagos', 'Pacific/Gambier', 'Pacific/Guadalcanal', 'Pacific/Guam', 'Pacific/Honolulu', 'Pacific/Kiritimati', 'Pacific/Kosrae', 'Pacific/Kwajalein', 'Pacific/Majuro', 'Pacific/Marquesas', 'Pacific/Midway', 'Pacific/Nauru', 'Pacific/Niue', 'Pacific/Norfolk', 'Pacific/Noumea', 'Pacific/Pago_Pago', 'Pacific/Palau', 'Pacific/Pitcairn', 'Pacific/Pohnpei', 'Pacific/Port_Moresby', 'Pacific/Rarotonga', 'Pacific/Saipan', 'Pacific/Tahiti', 'Pacific/Tarawa', 'Pacific/Tongatapu', 'Pacific/Wake', 'Pacific/Wallis', 'US/Alaska', 'US/Arizona', 'US/Central', 'US/Eastern', 'US/Hawaii', 'US/Mountain', 'US/Pacific', 'UTC']"
      ]
     },
     "execution_count": 167,
     "metadata": {},
     "output_type": "execute_result"
    }
   ],
   "source": [
    "pytz.common_timezones\n",
    "\n"
   ]
  },
  {
   "cell_type": "markdown",
   "id": "signed-qatar",
   "metadata": {},
   "source": [
    "###  Important note we can only use tz when making an object of pytz. Nothing else works"
   ]
  },
  {
   "cell_type": "code",
   "execution_count": 168,
   "id": "sweet-sampling",
   "metadata": {},
   "outputs": [
    {
     "data": {
      "text/plain": [
       "<DstTzInfo 'America/New_York' LMT-1 day, 19:04:00 STD>"
      ]
     },
     "execution_count": 168,
     "metadata": {},
     "output_type": "execute_result"
    }
   ],
   "source": [
    "tz = pytz.timezone(\"America/New_York\")\n",
    "\n",
    "tz"
   ]
  },
  {
   "cell_type": "code",
   "execution_count": 169,
   "id": "precious-minimum",
   "metadata": {},
   "outputs": [
    {
     "data": {
      "text/plain": [
       "<DstTzInfo 'America/New_York' LMT-1 day, 19:04:00 STD>"
      ]
     },
     "execution_count": 169,
     "metadata": {},
     "output_type": "execute_result"
    }
   ],
   "source": [
    "no_shit = pytz.timezone('America/New_York')\n",
    "\n",
    "no_shit"
   ]
  },
  {
   "cell_type": "markdown",
   "id": "light-smile",
   "metadata": {},
   "source": [
    "### Time Zone Localization and Conversion"
   ]
  },
  {
   "cell_type": "code",
   "execution_count": 170,
   "id": "elementary-principle",
   "metadata": {},
   "outputs": [],
   "source": [
    "# Now, all the daterange based index objects like series and DataFrame till now were actually time zone naive. That\n",
    "# means that they did not pertain to any particular regions timezone."
   ]
  },
  {
   "cell_type": "code",
   "execution_count": 171,
   "id": "processed-greensboro",
   "metadata": {},
   "outputs": [
    {
     "data": {
      "text/plain": [
       "DatetimeIndex(['2012-03-09 10:20:00', '2012-03-10 10:20:00',\n",
       "               '2012-03-11 10:20:00', '2012-03-12 10:20:00',\n",
       "               '2012-03-13 10:20:00', '2012-03-14 10:20:00'],\n",
       "              dtype='datetime64[ns]', freq='D')"
      ]
     },
     "execution_count": 171,
     "metadata": {},
     "output_type": "execute_result"
    }
   ],
   "source": [
    "date_me = pd.date_range('2012-03-09 10:20',periods=6)\n",
    "\n",
    "date_me"
   ]
  },
  {
   "cell_type": "code",
   "execution_count": 172,
   "id": "wanted-simple",
   "metadata": {},
   "outputs": [
    {
     "data": {
      "text/plain": [
       "2012-03-09 10:20:00   -0.204586\n",
       "2012-03-10 10:20:00   -0.311158\n",
       "2012-03-11 10:20:00    0.304706\n",
       "2012-03-12 10:20:00   -1.577667\n",
       "2012-03-13 10:20:00    1.803187\n",
       "2012-03-14 10:20:00    1.538181\n",
       "Freq: D, dtype: float64"
      ]
     },
     "execution_count": 172,
     "metadata": {},
     "output_type": "execute_result"
    }
   ],
   "source": [
    "ams_ser = pd.Series(np.random.standard_normal(len(date_me)),index=date_me)\n",
    "\n",
    "ams_ser"
   ]
  },
  {
   "cell_type": "code",
   "execution_count": 173,
   "id": "assured-douglas",
   "metadata": {},
   "outputs": [],
   "source": [
    "# Now, this series does not have any time zone, you can check the same as below"
   ]
  },
  {
   "cell_type": "code",
   "execution_count": 174,
   "id": "offensive-bottle",
   "metadata": {},
   "outputs": [
    {
     "name": "stdout",
     "output_type": "stream",
     "text": [
      "None\n"
     ]
    }
   ],
   "source": [
    "print(ams_ser.index.tz) "
   ]
  },
  {
   "cell_type": "code",
   "execution_count": 175,
   "id": "stunning-shuttle",
   "metadata": {},
   "outputs": [
    {
     "name": "stdout",
     "output_type": "stream",
     "text": [
      "DatetimeIndex(['2012-03-09 10:20:00', '2012-03-10 10:20:00',\n",
      "               '2012-03-11 10:20:00', '2012-03-12 10:20:00',\n",
      "               '2012-03-13 10:20:00', '2012-03-14 10:20:00'],\n",
      "              dtype='datetime64[ns]', freq='D')\n"
     ]
    }
   ],
   "source": [
    "print(ams_ser.index)"
   ]
  },
  {
   "cell_type": "code",
   "execution_count": 176,
   "id": "presidential-biotechnology",
   "metadata": {},
   "outputs": [],
   "source": [
    "# Now we will see how to generate ranges with time zone set"
   ]
  },
  {
   "cell_type": "code",
   "execution_count": 177,
   "id": "passive-nudist",
   "metadata": {},
   "outputs": [
    {
     "data": {
      "text/plain": [
       "DatetimeIndex(['2011-03-30 00:00:00+00:00', '2011-03-30 05:00:00+00:00',\n",
       "               '2011-03-30 10:00:00+00:00', '2011-03-30 15:00:00+00:00',\n",
       "               '2011-03-30 20:00:00+00:00', '2011-03-31 01:00:00+00:00',\n",
       "               '2011-03-31 06:00:00+00:00', '2011-03-31 11:00:00+00:00',\n",
       "               '2011-03-31 16:00:00+00:00', '2011-03-31 21:00:00+00:00'],\n",
       "              dtype='datetime64[ns, UTC]', freq='5H')"
      ]
     },
     "execution_count": 177,
     "metadata": {},
     "output_type": "execute_result"
    }
   ],
   "source": [
    "pd.date_range('2011-03-30',periods=10,freq='5H',tz = 'UTC')"
   ]
  },
  {
   "cell_type": "code",
   "execution_count": 178,
   "id": "thick-april",
   "metadata": {},
   "outputs": [],
   "source": [
    "# Now, you can localize the time zone"
   ]
  },
  {
   "cell_type": "code",
   "execution_count": 179,
   "id": "lesser-instrument",
   "metadata": {},
   "outputs": [
    {
     "data": {
      "text/plain": [
       "2012-03-09 10:20:00   -0.204586\n",
       "2012-03-10 10:20:00   -0.311158\n",
       "2012-03-11 10:20:00    0.304706\n",
       "2012-03-12 10:20:00   -1.577667\n",
       "2012-03-13 10:20:00    1.803187\n",
       "2012-03-14 10:20:00    1.538181\n",
       "Freq: D, dtype: float64"
      ]
     },
     "execution_count": 179,
     "metadata": {},
     "output_type": "execute_result"
    }
   ],
   "source": [
    "ams_ser\n"
   ]
  },
  {
   "cell_type": "code",
   "execution_count": 180,
   "id": "plain-cooperative",
   "metadata": {},
   "outputs": [
    {
     "data": {
      "text/plain": [
       "2012-03-09 10:20:00+00:00   -0.204586\n",
       "2012-03-10 10:20:00+00:00   -0.311158\n",
       "2012-03-11 10:20:00+00:00    0.304706\n",
       "2012-03-12 10:20:00+00:00   -1.577667\n",
       "2012-03-13 10:20:00+00:00    1.803187\n",
       "2012-03-14 10:20:00+00:00    1.538181\n",
       "Freq: D, dtype: float64"
      ]
     },
     "execution_count": 180,
     "metadata": {},
     "output_type": "execute_result"
    }
   ],
   "source": [
    "ams_ser_utc = ams_ser.tz_localize('UTC')\n",
    "\n",
    "ams_ser_utc"
   ]
  },
  {
   "cell_type": "code",
   "execution_count": 181,
   "id": "alleged-header",
   "metadata": {},
   "outputs": [
    {
     "data": {
      "text/plain": [
       "DatetimeIndex(['2012-03-09 10:20:00+00:00', '2012-03-10 10:20:00+00:00',\n",
       "               '2012-03-11 10:20:00+00:00', '2012-03-12 10:20:00+00:00',\n",
       "               '2012-03-13 10:20:00+00:00', '2012-03-14 10:20:00+00:00'],\n",
       "              dtype='datetime64[ns, UTC]', freq='D')"
      ]
     },
     "execution_count": 181,
     "metadata": {},
     "output_type": "execute_result"
    }
   ],
   "source": [
    "ams_ser_utc.index"
   ]
  },
  {
   "cell_type": "code",
   "execution_count": 182,
   "id": "coastal-burke",
   "metadata": {},
   "outputs": [],
   "source": [
    "# Now once the timezone has been localized we can convert that particular timezone."
   ]
  },
  {
   "cell_type": "code",
   "execution_count": 183,
   "id": "biological-warren",
   "metadata": {},
   "outputs": [
    {
     "data": {
      "text/plain": [
       "2012-03-09 11:20:00+01:00   -0.204586\n",
       "2012-03-10 11:20:00+01:00   -0.311158\n",
       "2012-03-11 11:20:00+01:00    0.304706\n",
       "2012-03-12 11:20:00+01:00   -1.577667\n",
       "2012-03-13 11:20:00+01:00    1.803187\n",
       "2012-03-14 11:20:00+01:00    1.538181\n",
       "Freq: D, dtype: float64"
      ]
     },
     "execution_count": 183,
     "metadata": {},
     "output_type": "execute_result"
    }
   ],
   "source": [
    "\n",
    "ams_ser_utc.tz_convert('Europe/Amsterdam')"
   ]
  },
  {
   "cell_type": "code",
   "execution_count": 184,
   "id": "focused-notification",
   "metadata": {},
   "outputs": [
    {
     "data": {
      "text/plain": [
       "DatetimeIndex(['2012-03-09 10:20:00+08:00', '2012-03-10 10:20:00+08:00',\n",
       "               '2012-03-11 10:20:00+08:00', '2012-03-12 10:20:00+08:00',\n",
       "               '2012-03-13 10:20:00+08:00', '2012-03-14 10:20:00+08:00'],\n",
       "              dtype='datetime64[ns, Asia/Shanghai]', freq=None)"
      ]
     },
     "execution_count": 184,
     "metadata": {},
     "output_type": "execute_result"
    }
   ],
   "source": [
    "ams_ser.index.tz_localize('Asia/Shanghai')"
   ]
  },
  {
   "cell_type": "markdown",
   "id": "visible-barrier",
   "metadata": {},
   "source": [
    "### Operations with Time Zone-Aware Timestamp Objects"
   ]
  },
  {
   "cell_type": "code",
   "execution_count": 185,
   "id": "located-lesson",
   "metadata": {},
   "outputs": [],
   "source": [
    "# Now, just like Series and dateranges the Timestamp objects can also be converted to local timezones and UTC"
   ]
  },
  {
   "cell_type": "code",
   "execution_count": 186,
   "id": "instant-second",
   "metadata": {},
   "outputs": [
    {
     "data": {
      "text/plain": [
       "Timestamp('2011-02-12 16:00:00')"
      ]
     },
     "execution_count": 186,
     "metadata": {},
     "output_type": "execute_result"
    }
   ],
   "source": [
    "stamp = pd.Timestamp('2011-02-12 16:00')\n",
    "\n",
    "stamp"
   ]
  },
  {
   "cell_type": "markdown",
   "id": "overhead-immune",
   "metadata": {},
   "source": [
    "#### Note that you have to localize before the conversion"
   ]
  },
  {
   "cell_type": "code",
   "execution_count": 187,
   "id": "vocal-sound",
   "metadata": {},
   "outputs": [
    {
     "data": {
      "text/plain": [
       "Timestamp('2011-02-12 16:00:00+0000', tz='UTC')"
      ]
     },
     "execution_count": 187,
     "metadata": {},
     "output_type": "execute_result"
    }
   ],
   "source": [
    "stamp_utc = stamp.tz_localize('utc')\n",
    "\n",
    "stamp_utc"
   ]
  },
  {
   "cell_type": "code",
   "execution_count": 188,
   "id": "closed-broadway",
   "metadata": {},
   "outputs": [
    {
     "data": {
      "text/plain": [
       "Timestamp('2011-02-12 17:00:00+0100', tz='Europe/Amsterdam')"
      ]
     },
     "execution_count": 188,
     "metadata": {},
     "output_type": "execute_result"
    }
   ],
   "source": [
    "stamp_utc.tz_convert('Europe/Amsterdam')"
   ]
  },
  {
   "cell_type": "code",
   "execution_count": 189,
   "id": "ambient-gregory",
   "metadata": {},
   "outputs": [],
   "source": [
    "# Now you can also pass the timezone while creating the timestamp"
   ]
  },
  {
   "cell_type": "code",
   "execution_count": 190,
   "id": "average-spencer",
   "metadata": {},
   "outputs": [
    {
     "data": {
      "text/plain": [
       "Timestamp('2023-08-20 23:21:00+0200', tz='Europe/Amsterdam')"
      ]
     },
     "execution_count": 190,
     "metadata": {},
     "output_type": "execute_result"
    }
   ],
   "source": [
    "stamp_ams = pd.Timestamp('2023-08-20 23:21',tz='Europe/Amsterdam')\n",
    "\n",
    "stamp_ams"
   ]
  },
  {
   "cell_type": "code",
   "execution_count": 191,
   "id": "healthy-brazilian",
   "metadata": {},
   "outputs": [],
   "source": [
    "# Now all UTC stores a timestamp value in nanoseconds since the epoch of 1 January 1970"
   ]
  },
  {
   "cell_type": "code",
   "execution_count": 192,
   "id": "surrounded-detection",
   "metadata": {},
   "outputs": [
    {
     "data": {
      "text/plain": [
       "1692566460000000000"
      ]
     },
     "execution_count": 192,
     "metadata": {},
     "output_type": "execute_result"
    }
   ],
   "source": [
    "stamp_ams.value"
   ]
  },
  {
   "cell_type": "code",
   "execution_count": 193,
   "id": "brave-contribution",
   "metadata": {},
   "outputs": [],
   "source": [
    "# Now we will see that pandas does not alter the DST values while changing from Day to night. Did'nt understand this part\n",
    "# that well. Also it's just not that important."
   ]
  },
  {
   "cell_type": "code",
   "execution_count": 194,
   "id": "turned-black",
   "metadata": {},
   "outputs": [
    {
     "data": {
      "text/plain": [
       "Timestamp('2013-11-02 01:20:00-0400', tz='US/Eastern')"
      ]
     },
     "execution_count": 194,
     "metadata": {},
     "output_type": "execute_result"
    }
   ],
   "source": [
    "stamp_respect = pd.Timestamp('2013-11-02 01:20',tz='US/Eastern')\n",
    "\n",
    "stamp_respect"
   ]
  },
  {
   "cell_type": "code",
   "execution_count": 195,
   "id": "narrow-cherry",
   "metadata": {},
   "outputs": [
    {
     "data": {
      "text/plain": [
       "Timestamp('2013-11-02 02:20:00-0400', tz='US/Eastern')"
      ]
     },
     "execution_count": 195,
     "metadata": {},
     "output_type": "execute_result"
    }
   ],
   "source": [
    "stamp_respect + Hour()"
   ]
  },
  {
   "cell_type": "code",
   "execution_count": 196,
   "id": "announced-fitness",
   "metadata": {},
   "outputs": [],
   "source": [
    "# Now we will just transition out of DST"
   ]
  },
  {
   "cell_type": "code",
   "execution_count": 197,
   "id": "seeing-panama",
   "metadata": {},
   "outputs": [
    {
     "data": {
      "text/plain": [
       "Timestamp('2012-12-22 00:20:00-0500', tz='US/Eastern')"
      ]
     },
     "execution_count": 197,
     "metadata": {},
     "output_type": "execute_result"
    }
   ],
   "source": [
    "stamp_out = pd.Timestamp('2012-12-22 00:20',tz='US/Eastern')\n",
    "\n",
    "stamp_out"
   ]
  },
  {
   "cell_type": "code",
   "execution_count": 198,
   "id": "australian-copying",
   "metadata": {},
   "outputs": [
    {
     "data": {
      "text/plain": [
       "Timestamp('2012-12-22 02:20:00-0500', tz='US/Eastern')"
      ]
     },
     "execution_count": 198,
     "metadata": {},
     "output_type": "execute_result"
    }
   ],
   "source": [
    "stamp_out + 2 * Hour()"
   ]
  },
  {
   "cell_type": "markdown",
   "id": "extended-relief",
   "metadata": {},
   "source": [
    "### Operations Between Different Time Zones"
   ]
  },
  {
   "cell_type": "code",
   "execution_count": 199,
   "id": "advisory-denial",
   "metadata": {},
   "outputs": [],
   "source": [
    "# Now, if two time series of different time zones are combined, then the result will be UTC"
   ]
  },
  {
   "cell_type": "code",
   "execution_count": 200,
   "id": "premium-banana",
   "metadata": {},
   "outputs": [
    {
     "data": {
      "text/plain": [
       "DatetimeIndex(['2212-12-31 12:22:00', '2213-01-29 12:22:00',\n",
       "               '2213-02-26 12:22:00', '2213-03-31 12:22:00',\n",
       "               '2213-04-30 12:22:00', '2213-05-31 12:22:00',\n",
       "               '2213-06-30 12:22:00', '2213-07-30 12:22:00',\n",
       "               '2213-08-31 12:22:00', '2213-09-30 12:22:00'],\n",
       "              dtype='datetime64[ns]', freq='BM')"
      ]
     },
     "execution_count": 200,
     "metadata": {},
     "output_type": "execute_result"
    }
   ],
   "source": [
    "Khajur = pd.date_range('2212-12-03 12:22',periods=10,freq='BM')\n",
    "\n",
    "Khajur"
   ]
  },
  {
   "cell_type": "code",
   "execution_count": 201,
   "id": "rubber-invitation",
   "metadata": {},
   "outputs": [
    {
     "data": {
      "text/plain": [
       "2212-12-31 12:22:00    2.973664\n",
       "2213-01-29 12:22:00   -1.003438\n",
       "2213-02-26 12:22:00    0.124446\n",
       "2213-03-31 12:22:00   -1.631367\n",
       "2213-04-30 12:22:00   -0.165210\n",
       "2213-05-31 12:22:00   -0.204337\n",
       "2213-06-30 12:22:00   -0.440652\n",
       "2213-07-30 12:22:00   -0.479156\n",
       "2213-08-31 12:22:00    2.094624\n",
       "2213-09-30 12:22:00   -0.089695\n",
       "Freq: BM, dtype: float64"
      ]
     },
     "execution_count": 201,
     "metadata": {},
     "output_type": "execute_result"
    }
   ],
   "source": [
    "test = pd.Series(np.random.standard_normal(len(Khajur)),index=Khajur)\n",
    "\n",
    "test"
   ]
  },
  {
   "cell_type": "code",
   "execution_count": 202,
   "id": "english-criterion",
   "metadata": {},
   "outputs": [
    {
     "data": {
      "text/plain": [
       "2212-12-31 12:22:00+01:00    2.973664\n",
       "2213-01-29 12:22:00+01:00   -1.003438\n",
       "2213-02-26 12:22:00+01:00    0.124446\n",
       "2213-03-31 12:22:00+01:00   -1.631367\n",
       "2213-04-30 12:22:00+01:00   -0.165210\n",
       "2213-05-31 12:22:00+01:00   -0.204337\n",
       "2213-06-30 12:22:00+01:00   -0.440652\n",
       "dtype: float64"
      ]
     },
     "execution_count": 202,
     "metadata": {},
     "output_type": "execute_result"
    }
   ],
   "source": [
    "tt1 = test[:7].tz_localize('Europe/Amsterdam')\n",
    "tt1"
   ]
  },
  {
   "cell_type": "code",
   "execution_count": 203,
   "id": "fundamental-semester",
   "metadata": {},
   "outputs": [
    {
     "data": {
      "text/plain": [
       "2213-02-26 06:22:00-05:00    0.124446\n",
       "2213-03-31 06:22:00-05:00   -1.631367\n",
       "2213-04-30 06:22:00-05:00   -0.165210\n",
       "2213-05-31 06:22:00-05:00   -0.204337\n",
       "2213-06-30 06:22:00-05:00   -0.440652\n",
       "dtype: float64"
      ]
     },
     "execution_count": 203,
     "metadata": {},
     "output_type": "execute_result"
    }
   ],
   "source": [
    "tt2 = tt1[2:].tz_convert('America/New_York')\n",
    "\n",
    "tt2"
   ]
  },
  {
   "cell_type": "code",
   "execution_count": 204,
   "id": "ethical-composition",
   "metadata": {},
   "outputs": [
    {
     "data": {
      "text/plain": [
       "2212-12-31 11:22:00+00:00         NaN\n",
       "2213-01-29 11:22:00+00:00         NaN\n",
       "2213-02-26 11:22:00+00:00    0.248893\n",
       "2213-03-31 11:22:00+00:00   -3.262733\n",
       "2213-04-30 11:22:00+00:00   -0.330420\n",
       "2213-05-31 11:22:00+00:00   -0.408673\n",
       "2213-06-30 11:22:00+00:00   -0.881304\n",
       "dtype: float64"
      ]
     },
     "execution_count": 204,
     "metadata": {},
     "output_type": "execute_result"
    }
   ],
   "source": [
    "resullt = tt1 + tt2\n",
    "\n",
    "resullt"
   ]
  },
  {
   "cell_type": "code",
   "execution_count": 205,
   "id": "competitive-clarity",
   "metadata": {},
   "outputs": [
    {
     "data": {
      "text/plain": [
       "DatetimeIndex(['2212-12-31 11:22:00+00:00', '2213-01-29 11:22:00+00:00',\n",
       "               '2213-02-26 11:22:00+00:00', '2213-03-31 11:22:00+00:00',\n",
       "               '2213-04-30 11:22:00+00:00', '2213-05-31 11:22:00+00:00',\n",
       "               '2213-06-30 11:22:00+00:00'],\n",
       "              dtype='datetime64[ns, UTC]', freq=None)"
      ]
     },
     "execution_count": 205,
     "metadata": {},
     "output_type": "execute_result"
    }
   ],
   "source": [
    "resullt.index"
   ]
  },
  {
   "cell_type": "markdown",
   "id": "according-bangladesh",
   "metadata": {},
   "source": [
    "## Periods and Period Arithmetic"
   ]
  },
  {
   "cell_type": "code",
   "execution_count": 206,
   "id": "temporal-fairy",
   "metadata": {},
   "outputs": [],
   "source": [
    "# Now, periods is a little more like exclusive form of time/data representation rather than a generalized time span"
   ]
  },
  {
   "cell_type": "code",
   "execution_count": 207,
   "id": "serial-footwear",
   "metadata": {},
   "outputs": [
    {
     "data": {
      "text/plain": [
       "Period('1997', 'A-DEC')"
      ]
     },
     "execution_count": 207,
     "metadata": {},
     "output_type": "execute_result"
    }
   ],
   "source": [
    "ps = pd.Period('1997',freq='A-DEC')\n",
    "\n",
    "ps"
   ]
  },
  {
   "cell_type": "code",
   "execution_count": 208,
   "id": "spectacular-sperm",
   "metadata": {},
   "outputs": [],
   "source": [
    "# now the ps in this case represents full time span from 1 january 1997 to 31 December 1997 inclusive"
   ]
  },
  {
   "cell_type": "code",
   "execution_count": 209,
   "id": "incorrect-today",
   "metadata": {},
   "outputs": [],
   "source": [
    "# we can perform integer operations as well on them which will shift their frequency"
   ]
  },
  {
   "cell_type": "code",
   "execution_count": 210,
   "id": "improving-person",
   "metadata": {},
   "outputs": [
    {
     "data": {
      "text/plain": [
       "Period('2041', 'A-DEC')"
      ]
     },
     "execution_count": 210,
     "metadata": {},
     "output_type": "execute_result"
    }
   ],
   "source": [
    "ps + 44"
   ]
  },
  {
   "cell_type": "code",
   "execution_count": 211,
   "id": "ambient-wheel",
   "metadata": {},
   "outputs": [
    {
     "data": {
      "text/plain": [
       "Period('1974', 'A-DEC')"
      ]
     },
     "execution_count": 211,
     "metadata": {},
     "output_type": "execute_result"
    }
   ],
   "source": [
    "ps - 23"
   ]
  },
  {
   "cell_type": "code",
   "execution_count": 212,
   "id": "powerful-alliance",
   "metadata": {},
   "outputs": [],
   "source": [
    "# if two periods have the same frequency, then the difference is the number of units between them as a date offset"
   ]
  },
  {
   "cell_type": "code",
   "execution_count": 213,
   "id": "powerful-finish",
   "metadata": {},
   "outputs": [
    {
     "data": {
      "text/plain": [
       "Period('1992', 'A-DEC')"
      ]
     },
     "execution_count": 213,
     "metadata": {},
     "output_type": "execute_result"
    }
   ],
   "source": [
    "ps1 = pd.Period('1992','A-DEC')\n",
    "\n",
    "ps1"
   ]
  },
  {
   "cell_type": "code",
   "execution_count": 214,
   "id": "frank-competition",
   "metadata": {},
   "outputs": [
    {
     "data": {
      "text/plain": [
       "<5 * YearEnds: month=12>"
      ]
     },
     "execution_count": 214,
     "metadata": {},
     "output_type": "execute_result"
    }
   ],
   "source": [
    "ps - ps1"
   ]
  },
  {
   "cell_type": "code",
   "execution_count": 215,
   "id": "compliant-savannah",
   "metadata": {},
   "outputs": [
    {
     "data": {
      "text/plain": [
       "<-5 * YearEnds: month=12>"
      ]
     },
     "execution_count": 215,
     "metadata": {},
     "output_type": "execute_result"
    }
   ],
   "source": [
    "ps1 - ps"
   ]
  },
  {
   "cell_type": "code",
   "execution_count": 216,
   "id": "continued-binding",
   "metadata": {},
   "outputs": [],
   "source": [
    "# Regular ranges of periods can be constructed with period_range function"
   ]
  },
  {
   "cell_type": "code",
   "execution_count": 217,
   "id": "raising-affiliation",
   "metadata": {},
   "outputs": [
    {
     "data": {
      "text/plain": [
       "PeriodIndex(['2000-11', '2000-12', '2001-01', '2001-02', '2001-03', '2001-04',\n",
       "             '2001-05', '2001-06', '2001-07', '2001-08',\n",
       "             ...\n",
       "             '2012-03', '2012-04', '2012-05', '2012-06', '2012-07', '2012-08',\n",
       "             '2012-09', '2012-10', '2012-11', '2012-12'],\n",
       "            dtype='period[M]', length=146, freq='M')"
      ]
     },
     "execution_count": 217,
     "metadata": {},
     "output_type": "execute_result"
    }
   ],
   "source": [
    "period_me = pd.period_range('2000-11-02','2012-12-10',freq='M')\n",
    "\n",
    "period_me"
   ]
  },
  {
   "cell_type": "code",
   "execution_count": 218,
   "id": "revised-panic",
   "metadata": {},
   "outputs": [],
   "source": [
    "# We can use these date_ranges as index as well"
   ]
  },
  {
   "cell_type": "code",
   "execution_count": 219,
   "id": "brazilian-letters",
   "metadata": {},
   "outputs": [
    {
     "data": {
      "text/plain": [
       "2000-11   -1.564685\n",
       "2000-12   -0.622986\n",
       "2001-01   -1.325732\n",
       "2001-02   -1.162528\n",
       "2001-03   -2.110459\n",
       "             ...   \n",
       "2012-08   -1.805426\n",
       "2012-09    1.468438\n",
       "2012-10    0.373582\n",
       "2012-11   -1.406675\n",
       "2012-12   -0.916461\n",
       "Freq: M, Length: 146, dtype: float64"
      ]
     },
     "execution_count": 219,
     "metadata": {},
     "output_type": "execute_result"
    }
   ],
   "source": [
    "period_ind = pd.Series(np.random.standard_normal(len(period_me)),index=period_me)\n",
    "\n",
    "period_ind"
   ]
  },
  {
   "cell_type": "code",
   "execution_count": 220,
   "id": "bottom-queensland",
   "metadata": {},
   "outputs": [],
   "source": [
    "# if you have string values you can use the PeriodIndex class where all the values are periods"
   ]
  },
  {
   "cell_type": "code",
   "execution_count": 221,
   "id": "dress-ebony",
   "metadata": {},
   "outputs": [],
   "source": [
    "vals = ['2001Q4','2012Q1','2003Q2']"
   ]
  },
  {
   "cell_type": "code",
   "execution_count": 222,
   "id": "grand-nepal",
   "metadata": {},
   "outputs": [
    {
     "data": {
      "text/plain": [
       "PeriodIndex(['2001Q4', '2012Q1', '2003Q2'], dtype='period[Q-DEC]', freq='Q-DEC')"
      ]
     },
     "execution_count": 222,
     "metadata": {},
     "output_type": "execute_result"
    }
   ],
   "source": [
    "indexer = pd.PeriodIndex(vals,freq='Q-DEC')\n",
    "\n",
    "indexer"
   ]
  },
  {
   "cell_type": "markdown",
   "id": "supposed-multimedia",
   "metadata": {},
   "source": [
    "### Period Frequency Conversion"
   ]
  },
  {
   "cell_type": "code",
   "execution_count": 223,
   "id": "simplified-questionnaire",
   "metadata": {},
   "outputs": [],
   "source": [
    "# You can convert Periods and PeriodIndex objects to another frequency using the asfreq method"
   ]
  },
  {
   "cell_type": "code",
   "execution_count": 224,
   "id": "comparative-touch",
   "metadata": {},
   "outputs": [
    {
     "data": {
      "text/plain": [
       "Period('2001', 'A-DEC')"
      ]
     },
     "execution_count": 224,
     "metadata": {},
     "output_type": "execute_result"
    }
   ],
   "source": [
    "p = pd.Period('2001',freq='A-DEC')\n",
    "\n",
    "p"
   ]
  },
  {
   "cell_type": "code",
   "execution_count": 225,
   "id": "played-exclusion",
   "metadata": {},
   "outputs": [
    {
     "data": {
      "text/plain": [
       "Period('2001-01', 'M')"
      ]
     },
     "execution_count": 225,
     "metadata": {},
     "output_type": "execute_result"
    }
   ],
   "source": [
    "p.asfreq('M',how = 'start')"
   ]
  },
  {
   "cell_type": "code",
   "execution_count": 226,
   "id": "herbal-plaintiff",
   "metadata": {},
   "outputs": [
    {
     "data": {
      "text/plain": [
       "Period('2001-12', 'M')"
      ]
     },
     "execution_count": 226,
     "metadata": {},
     "output_type": "execute_result"
    }
   ],
   "source": [
    "p.asfreq('M',how = 'end')"
   ]
  },
  {
   "cell_type": "code",
   "execution_count": 227,
   "id": "mineral-agent",
   "metadata": {},
   "outputs": [
    {
     "data": {
      "text/plain": [
       "Period('2001-12', 'M')"
      ]
     },
     "execution_count": 227,
     "metadata": {},
     "output_type": "execute_result"
    }
   ],
   "source": [
    "p.asfreq('M')"
   ]
  },
  {
   "cell_type": "code",
   "execution_count": 228,
   "id": "operational-swing",
   "metadata": {},
   "outputs": [],
   "source": [
    "# Now, if you start a year midway then the corresponding monthly subperiods are different"
   ]
  },
  {
   "cell_type": "code",
   "execution_count": 229,
   "id": "premium-maple",
   "metadata": {},
   "outputs": [
    {
     "data": {
      "text/plain": [
       "Period('2011', 'A-JUN')"
      ]
     },
     "execution_count": 229,
     "metadata": {},
     "output_type": "execute_result"
    }
   ],
   "source": [
    "p = pd.Period('2011',freq='A-JUN')\n",
    "\n",
    "p"
   ]
  },
  {
   "cell_type": "code",
   "execution_count": 230,
   "id": "critical-constraint",
   "metadata": {},
   "outputs": [
    {
     "data": {
      "text/plain": [
       "Period('2010-07', 'M')"
      ]
     },
     "execution_count": 230,
     "metadata": {},
     "output_type": "execute_result"
    }
   ],
   "source": [
    "p.asfreq('M',how = 'start')"
   ]
  },
  {
   "cell_type": "code",
   "execution_count": 231,
   "id": "basic-intermediate",
   "metadata": {},
   "outputs": [
    {
     "data": {
      "text/plain": [
       "Period('2011-06', 'M')"
      ]
     },
     "execution_count": 231,
     "metadata": {},
     "output_type": "execute_result"
    }
   ],
   "source": [
    "p.asfreq('M',how = 'end')"
   ]
  },
  {
   "cell_type": "code",
   "execution_count": 232,
   "id": "resistant-scott",
   "metadata": {},
   "outputs": [],
   "source": [
    "# Now if you are converting a month that is higher in the calendar order meaning like May is higher than April.\n",
    "# Then in such scenarios pandas will determine the subperiods depending on where it belongs"
   ]
  },
  {
   "cell_type": "code",
   "execution_count": 233,
   "id": "cloudy-doctor",
   "metadata": {},
   "outputs": [
    {
     "data": {
      "text/plain": [
       "Period('2011-08', 'M')"
      ]
     },
     "execution_count": 233,
     "metadata": {},
     "output_type": "execute_result"
    }
   ],
   "source": [
    "p = pd.Period('Aug-2011','M')\n",
    "p"
   ]
  },
  {
   "cell_type": "code",
   "execution_count": 234,
   "id": "reflected-teach",
   "metadata": {},
   "outputs": [
    {
     "data": {
      "text/plain": [
       "Period('2012', 'A-JUN')"
      ]
     },
     "execution_count": 234,
     "metadata": {},
     "output_type": "execute_result"
    }
   ],
   "source": [
    "p.asfreq('A-JUN')"
   ]
  },
  {
   "cell_type": "code",
   "execution_count": 235,
   "id": "manual-phoenix",
   "metadata": {},
   "outputs": [],
   "source": [
    "# So here you can see that you went from a higher period of august of 2011 to Jun and pandas automatically put it in\n",
    "# the june of 2012 rather than june of 2011"
   ]
  },
  {
   "cell_type": "code",
   "execution_count": 236,
   "id": "front-extra",
   "metadata": {},
   "outputs": [],
   "source": [
    "# Now similarly entire PeriodIndex objects or time series can be similarly converted with same semantics"
   ]
  },
  {
   "cell_type": "code",
   "execution_count": 237,
   "id": "informed-hollow",
   "metadata": {},
   "outputs": [
    {
     "data": {
      "text/plain": [
       "PeriodIndex(['2001', '2002', '2003', '2004', '2005', '2006', '2007', '2008',\n",
       "             '2009', '2010', '2011', '2012'],\n",
       "            dtype='period[A-DEC]', freq='A-DEC')"
      ]
     },
     "execution_count": 237,
     "metadata": {},
     "output_type": "execute_result"
    }
   ],
   "source": [
    "periodse = pd.period_range('2001','2012',freq='A-DEC')\n",
    "\n",
    "periodse"
   ]
  },
  {
   "cell_type": "code",
   "execution_count": 238,
   "id": "permanent-cement",
   "metadata": {},
   "outputs": [
    {
     "data": {
      "text/plain": [
       "2001   -0.306780\n",
       "2002   -1.683075\n",
       "2003   -2.139890\n",
       "2004   -0.028421\n",
       "2005    1.237962\n",
       "2006   -0.180708\n",
       "2007    0.614889\n",
       "2008   -0.728205\n",
       "2009   -0.341321\n",
       "2010    0.368344\n",
       "2011   -1.579163\n",
       "2012   -1.075883\n",
       "Freq: A-DEC, dtype: float64"
      ]
     },
     "execution_count": 238,
     "metadata": {},
     "output_type": "execute_result"
    }
   ],
   "source": [
    "time_me = pd.Series(np.random.standard_normal(len(periodse)),index=periodse)\n",
    "\n",
    "time_me"
   ]
  },
  {
   "cell_type": "code",
   "execution_count": 239,
   "id": "ultimate-copying",
   "metadata": {},
   "outputs": [
    {
     "data": {
      "text/plain": [
       "2001-01   -0.306780\n",
       "2002-01   -1.683075\n",
       "2003-01   -2.139890\n",
       "2004-01   -0.028421\n",
       "2005-01    1.237962\n",
       "2006-01   -0.180708\n",
       "2007-01    0.614889\n",
       "2008-01   -0.728205\n",
       "2009-01   -0.341321\n",
       "2010-01    0.368344\n",
       "2011-01   -1.579163\n",
       "2012-01   -1.075883\n",
       "Freq: M, dtype: float64"
      ]
     },
     "execution_count": 239,
     "metadata": {},
     "output_type": "execute_result"
    }
   ],
   "source": [
    "time_me.asfreq('M',how='start')"
   ]
  },
  {
   "cell_type": "code",
   "execution_count": 240,
   "id": "derived-ontario",
   "metadata": {},
   "outputs": [],
   "source": [
    "# If you want the business end date then do as follows"
   ]
  },
  {
   "cell_type": "code",
   "execution_count": 241,
   "id": "injured-camping",
   "metadata": {},
   "outputs": [
    {
     "data": {
      "text/plain": [
       "2001-12-31   -0.306780\n",
       "2002-12-31   -1.683075\n",
       "2003-12-31   -2.139890\n",
       "2004-12-31   -0.028421\n",
       "2005-12-30    1.237962\n",
       "2006-12-29   -0.180708\n",
       "2007-12-31    0.614889\n",
       "2008-12-31   -0.728205\n",
       "2009-12-31   -0.341321\n",
       "2010-12-31    0.368344\n",
       "2011-12-30   -1.579163\n",
       "2012-12-31   -1.075883\n",
       "Freq: B, dtype: float64"
      ]
     },
     "execution_count": 241,
     "metadata": {},
     "output_type": "execute_result"
    }
   ],
   "source": [
    "time_me.asfreq('B')"
   ]
  },
  {
   "cell_type": "code",
   "execution_count": 242,
   "id": "excited-knock",
   "metadata": {},
   "outputs": [
    {
     "data": {
      "text/plain": [
       "2001-01-01   -0.306780\n",
       "2002-01-01   -1.683075\n",
       "2003-01-01   -2.139890\n",
       "2004-01-01   -0.028421\n",
       "2005-01-03    1.237962\n",
       "2006-01-02   -0.180708\n",
       "2007-01-01    0.614889\n",
       "2008-01-01   -0.728205\n",
       "2009-01-01   -0.341321\n",
       "2010-01-01    0.368344\n",
       "2011-01-03   -1.579163\n",
       "2012-01-02   -1.075883\n",
       "Freq: B, dtype: float64"
      ]
     },
     "execution_count": 242,
     "metadata": {},
     "output_type": "execute_result"
    }
   ],
   "source": [
    "time_me.asfreq('B',how='start')"
   ]
  },
  {
   "cell_type": "markdown",
   "id": "owned-france",
   "metadata": {},
   "source": [
    "### Quaterly Period Frequencies"
   ]
  },
  {
   "cell_type": "code",
   "execution_count": 243,
   "id": "unavailable-commander",
   "metadata": {},
   "outputs": [],
   "source": [
    "# Now,learning the processing of quaterly data is extremely important as each business works on quaterly basis"
   ]
  },
  {
   "cell_type": "code",
   "execution_count": 244,
   "id": "sought-store",
   "metadata": {},
   "outputs": [
    {
     "data": {
      "text/plain": [
       "Period('2022Q3', 'Q-JUN')"
      ]
     },
     "execution_count": 244,
     "metadata": {},
     "output_type": "execute_result"
    }
   ],
   "source": [
    "pp = pd.Period('2022Q3',freq='Q-JUN')\n",
    "\n",
    "pp"
   ]
  },
  {
   "cell_type": "code",
   "execution_count": 245,
   "id": "obvious-amino",
   "metadata": {},
   "outputs": [],
   "source": [
    "# Now to check where it starts at"
   ]
  },
  {
   "cell_type": "code",
   "execution_count": 246,
   "id": "electoral-allergy",
   "metadata": {},
   "outputs": [
    {
     "data": {
      "text/plain": [
       "Period('2022-01-01', 'D')"
      ]
     },
     "execution_count": 246,
     "metadata": {},
     "output_type": "execute_result"
    }
   ],
   "source": [
    "pp.asfreq('D',how = 'start')"
   ]
  },
  {
   "cell_type": "code",
   "execution_count": 247,
   "id": "fiscal-suspension",
   "metadata": {},
   "outputs": [
    {
     "data": {
      "text/plain": [
       "Period('2022-03-31', 'D')"
      ]
     },
     "execution_count": 247,
     "metadata": {},
     "output_type": "execute_result"
    }
   ],
   "source": [
    "pp.asfreq('D',how = 'end')"
   ]
  },
  {
   "cell_type": "code",
   "execution_count": 248,
   "id": "undefined-affair",
   "metadata": {},
   "outputs": [],
   "source": [
    "# Suppose you have to do period arithmetic like the time-stamp at 4 P.M. on the second to last business day of the \n",
    "# quater. So you do"
   ]
  },
  {
   "cell_type": "code",
   "execution_count": 249,
   "id": "quiet-guatemala",
   "metadata": {},
   "outputs": [
    {
     "data": {
      "text/plain": [
       "Period('2022-03-30 16:00', 'T')"
      ]
     },
     "execution_count": 249,
     "metadata": {},
     "output_type": "execute_result"
    }
   ],
   "source": [
    "pp4pm = (pp.asfreq('B',how = 'end')-1).asfreq('T',how='start') + 16 * 60\n",
    "\n",
    "pp4pm"
   ]
  },
  {
   "cell_type": "code",
   "execution_count": 250,
   "id": "interested-publication",
   "metadata": {},
   "outputs": [
    {
     "data": {
      "text/plain": [
       "Timestamp('2022-03-30 16:00:00')"
      ]
     },
     "execution_count": 250,
     "metadata": {},
     "output_type": "execute_result"
    }
   ],
   "source": [
    "pp4pm.to_timestamp()"
   ]
  },
  {
   "cell_type": "code",
   "execution_count": 251,
   "id": "detailed-organ",
   "metadata": {},
   "outputs": [],
   "source": [
    "# Ofcourse you can generate quaterly ranges using period_ranges"
   ]
  },
  {
   "cell_type": "code",
   "execution_count": 252,
   "id": "purple-nickname",
   "metadata": {},
   "outputs": [
    {
     "data": {
      "text/plain": [
       "PeriodIndex(['2012Q2', '2012Q3', '2012Q4', '2013Q1', '2013Q2', '2013Q3',\n",
       "             '2013Q4', '2014Q1', '2014Q2', '2014Q3', '2014Q4', '2015Q1',\n",
       "             '2015Q2', '2015Q3', '2015Q4', '2016Q1', '2016Q2', '2016Q3',\n",
       "             '2016Q4', '2017Q1', '2017Q2', '2017Q3', '2017Q4', '2018Q1',\n",
       "             '2018Q2', '2018Q3', '2018Q4', '2019Q1', '2019Q2', '2019Q3',\n",
       "             '2019Q4', '2020Q1', '2020Q2', '2020Q3', '2020Q4', '2021Q1',\n",
       "             '2021Q2', '2021Q3', '2021Q4', '2022Q1', '2022Q2', '2022Q3',\n",
       "             '2022Q4'],\n",
       "            dtype='period[Q-JUL]', freq='Q-JUL')"
      ]
     },
     "execution_count": 252,
     "metadata": {},
     "output_type": "execute_result"
    }
   ],
   "source": [
    "periods = pd.period_range('2012Q2','2022Q4',freq='Q-JUL')\n",
    "\n",
    "periods"
   ]
  },
  {
   "cell_type": "code",
   "execution_count": 253,
   "id": "legitimate-baltimore",
   "metadata": {},
   "outputs": [
    {
     "data": {
      "text/plain": [
       "2012Q2    0.425611\n",
       "2012Q3   -0.807032\n",
       "2012Q4   -1.163952\n",
       "2013Q1   -1.616590\n",
       "2013Q2    0.118654\n",
       "2013Q3    0.134218\n",
       "2013Q4    0.813473\n",
       "2014Q1    1.114542\n",
       "2014Q2    0.048352\n",
       "2014Q3   -1.951205\n",
       "2014Q4   -2.267851\n",
       "2015Q1   -0.434971\n",
       "2015Q2    0.394862\n",
       "2015Q3   -1.237824\n",
       "2015Q4   -0.400220\n",
       "2016Q1    0.717419\n",
       "2016Q2   -1.030479\n",
       "2016Q3   -1.200193\n",
       "2016Q4   -0.933797\n",
       "2017Q1   -0.116630\n",
       "2017Q2    0.068576\n",
       "2017Q3    0.772693\n",
       "2017Q4    0.639035\n",
       "2018Q1   -0.946681\n",
       "2018Q2   -0.185823\n",
       "2018Q3   -1.492190\n",
       "2018Q4    0.547226\n",
       "2019Q1    1.312993\n",
       "2019Q2   -2.061445\n",
       "2019Q3    1.104864\n",
       "2019Q4    1.292067\n",
       "2020Q1    1.895276\n",
       "2020Q2   -0.135043\n",
       "2020Q3    0.790802\n",
       "2020Q4   -0.449047\n",
       "2021Q1    0.675279\n",
       "2021Q2    0.298934\n",
       "2021Q3    2.550673\n",
       "2021Q4   -0.401586\n",
       "2022Q1    0.845102\n",
       "2022Q2    0.276856\n",
       "2022Q3   -2.001220\n",
       "2022Q4    0.690928\n",
       "Freq: Q-JUL, dtype: float64"
      ]
     },
     "execution_count": 253,
     "metadata": {},
     "output_type": "execute_result"
    }
   ],
   "source": [
    "tsme = pd.Series(np.random.standard_normal(len(periods)),index=periods)\n",
    "\n",
    "tsme"
   ]
  },
  {
   "cell_type": "code",
   "execution_count": 254,
   "id": "suspected-abraham",
   "metadata": {},
   "outputs": [
    {
     "data": {
      "text/plain": [
       "PeriodIndex(['2012-01-14 08:00', '2012-04-13 08:00', '2012-07-14 08:00',\n",
       "             '2012-10-16 08:00', '2013-01-16 08:00', '2013-04-13 08:00',\n",
       "             '2013-07-16 08:00', '2013-10-16 08:00', '2014-01-16 08:00',\n",
       "             '2014-04-15 08:00', '2014-07-16 08:00', '2014-10-16 08:00',\n",
       "             '2015-01-15 08:00', '2015-04-15 08:00', '2015-07-16 08:00',\n",
       "             '2015-10-15 08:00', '2016-01-14 08:00', '2016-04-14 08:00',\n",
       "             '2016-07-14 08:00', '2016-10-14 08:00', '2017-01-14 08:00',\n",
       "             '2017-04-13 08:00', '2017-07-14 08:00', '2017-10-14 08:00',\n",
       "             '2018-01-16 08:00', '2018-04-13 08:00', '2018-07-14 08:00',\n",
       "             '2018-10-16 08:00', '2019-01-16 08:00', '2019-04-13 08:00',\n",
       "             '2019-07-16 08:00', '2019-10-16 08:00', '2020-01-16 08:00',\n",
       "             '2020-04-15 08:00', '2020-07-16 08:00', '2020-10-15 08:00',\n",
       "             '2021-01-14 08:00', '2021-04-15 08:00', '2021-07-15 08:00',\n",
       "             '2021-10-14 08:00', '2022-01-14 08:00', '2022-04-14 08:00',\n",
       "             '2022-07-14 08:00'],\n",
       "            dtype='period[H]', freq='H')"
      ]
     },
     "execution_count": 254,
     "metadata": {},
     "output_type": "execute_result"
    }
   ],
   "source": [
    "new_periods = (periods.asfreq('B',how='end') - 12).asfreq('H',how='start') + 32\n",
    "\n",
    "new_periods"
   ]
  },
  {
   "cell_type": "code",
   "execution_count": 255,
   "id": "settled-turning",
   "metadata": {},
   "outputs": [],
   "source": [
    "tsme.index  = new_periods.to_timestamp()"
   ]
  },
  {
   "cell_type": "code",
   "execution_count": 256,
   "id": "russian-steps",
   "metadata": {},
   "outputs": [
    {
     "data": {
      "text/plain": [
       "2012-01-14 08:00:00    0.425611\n",
       "2012-04-13 08:00:00   -0.807032\n",
       "2012-07-14 08:00:00   -1.163952\n",
       "2012-10-16 08:00:00   -1.616590\n",
       "2013-01-16 08:00:00    0.118654\n",
       "2013-04-13 08:00:00    0.134218\n",
       "2013-07-16 08:00:00    0.813473\n",
       "2013-10-16 08:00:00    1.114542\n",
       "2014-01-16 08:00:00    0.048352\n",
       "2014-04-15 08:00:00   -1.951205\n",
       "2014-07-16 08:00:00   -2.267851\n",
       "2014-10-16 08:00:00   -0.434971\n",
       "2015-01-15 08:00:00    0.394862\n",
       "2015-04-15 08:00:00   -1.237824\n",
       "2015-07-16 08:00:00   -0.400220\n",
       "2015-10-15 08:00:00    0.717419\n",
       "2016-01-14 08:00:00   -1.030479\n",
       "2016-04-14 08:00:00   -1.200193\n",
       "2016-07-14 08:00:00   -0.933797\n",
       "2016-10-14 08:00:00   -0.116630\n",
       "2017-01-14 08:00:00    0.068576\n",
       "2017-04-13 08:00:00    0.772693\n",
       "2017-07-14 08:00:00    0.639035\n",
       "2017-10-14 08:00:00   -0.946681\n",
       "2018-01-16 08:00:00   -0.185823\n",
       "2018-04-13 08:00:00   -1.492190\n",
       "2018-07-14 08:00:00    0.547226\n",
       "2018-10-16 08:00:00    1.312993\n",
       "2019-01-16 08:00:00   -2.061445\n",
       "2019-04-13 08:00:00    1.104864\n",
       "2019-07-16 08:00:00    1.292067\n",
       "2019-10-16 08:00:00    1.895276\n",
       "2020-01-16 08:00:00   -0.135043\n",
       "2020-04-15 08:00:00    0.790802\n",
       "2020-07-16 08:00:00   -0.449047\n",
       "2020-10-15 08:00:00    0.675279\n",
       "2021-01-14 08:00:00    0.298934\n",
       "2021-04-15 08:00:00    2.550673\n",
       "2021-07-15 08:00:00   -0.401586\n",
       "2021-10-14 08:00:00    0.845102\n",
       "2022-01-14 08:00:00    0.276856\n",
       "2022-04-14 08:00:00   -2.001220\n",
       "2022-07-14 08:00:00    0.690928\n",
       "dtype: float64"
      ]
     },
     "execution_count": 256,
     "metadata": {},
     "output_type": "execute_result"
    }
   ],
   "source": [
    "tsme"
   ]
  },
  {
   "cell_type": "markdown",
   "id": "intensive-companion",
   "metadata": {},
   "source": [
    "### Creating timestamps to periods(and Back)"
   ]
  },
  {
   "cell_type": "code",
   "execution_count": 257,
   "id": "pacific-idaho",
   "metadata": {},
   "outputs": [],
   "source": [
    "# Series and DataFrame objects with timestamp as indexes can be converted into indexes with periods"
   ]
  },
  {
   "cell_type": "code",
   "execution_count": 258,
   "id": "internal-sphere",
   "metadata": {},
   "outputs": [
    {
     "data": {
      "text/plain": [
       "DatetimeIndex(['2001-11-30', '2001-12-31', '2002-01-31'], dtype='datetime64[ns]', freq='M')"
      ]
     },
     "execution_count": 258,
     "metadata": {},
     "output_type": "execute_result"
    }
   ],
   "source": [
    "dates = pd.date_range('2001-11-2',periods=3,freq='M')\n",
    "\n",
    "dates"
   ]
  },
  {
   "cell_type": "code",
   "execution_count": 259,
   "id": "brave-partition",
   "metadata": {},
   "outputs": [
    {
     "data": {
      "text/plain": [
       "2001-11-30   -0.982745\n",
       "2001-12-31   -0.297482\n",
       "2002-01-31   -0.538516\n",
       "Freq: M, dtype: float64"
      ]
     },
     "execution_count": 259,
     "metadata": {},
     "output_type": "execute_result"
    }
   ],
   "source": [
    "check = pd.Series(np.random.standard_normal(len(dates)),index=dates)\n",
    "\n",
    "check"
   ]
  },
  {
   "cell_type": "code",
   "execution_count": 260,
   "id": "spiritual-flexibility",
   "metadata": {},
   "outputs": [
    {
     "data": {
      "text/plain": [
       "2001-11   -0.982745\n",
       "2001-12   -0.297482\n",
       "2002-01   -0.538516\n",
       "Freq: M, dtype: float64"
      ]
     },
     "execution_count": 260,
     "metadata": {},
     "output_type": "execute_result"
    }
   ],
   "source": [
    "check_c = check.to_period()\n",
    "\n",
    "check_c"
   ]
  },
  {
   "cell_type": "code",
   "execution_count": 261,
   "id": "chicken-argentina",
   "metadata": {},
   "outputs": [],
   "source": [
    "# Now, even if you have duplicate indexes it's not an issue"
   ]
  },
  {
   "cell_type": "code",
   "execution_count": 262,
   "id": "interpreted-myrtle",
   "metadata": {},
   "outputs": [
    {
     "data": {
      "text/plain": [
       "DatetimeIndex(['2001-02-27', '2001-02-28', '2001-03-01', '2001-03-02',\n",
       "               '2001-03-05', '2001-03-06', '2001-03-07'],\n",
       "              dtype='datetime64[ns]', freq='B')"
      ]
     },
     "execution_count": 262,
     "metadata": {},
     "output_type": "execute_result"
    }
   ],
   "source": [
    "new_date = pd.date_range('2001-02-27',periods=7,freq='B')\n",
    "\n",
    "new_date"
   ]
  },
  {
   "cell_type": "code",
   "execution_count": 263,
   "id": "built-aspect",
   "metadata": {},
   "outputs": [
    {
     "data": {
      "text/plain": [
       "2001-02-27    0.947800\n",
       "2001-02-28    0.819038\n",
       "2001-03-01   -0.407847\n",
       "2001-03-02   -0.268217\n",
       "2001-03-05   -0.618834\n",
       "2001-03-06   -2.094936\n",
       "2001-03-07    0.468894\n",
       "Freq: B, dtype: float64"
      ]
     },
     "execution_count": 263,
     "metadata": {},
     "output_type": "execute_result"
    }
   ],
   "source": [
    "serial = pd.Series(np.random.standard_normal(len(new_date)),index=new_date)\n",
    "\n",
    "serial"
   ]
  },
  {
   "cell_type": "code",
   "execution_count": 264,
   "id": "precious-forge",
   "metadata": {},
   "outputs": [
    {
     "data": {
      "text/plain": [
       "2001-02    0.947800\n",
       "2001-02    0.819038\n",
       "2001-03   -0.407847\n",
       "2001-03   -0.268217\n",
       "2001-03   -0.618834\n",
       "2001-03   -2.094936\n",
       "2001-03    0.468894\n",
       "Freq: M, dtype: float64"
      ]
     },
     "execution_count": 264,
     "metadata": {},
     "output_type": "execute_result"
    }
   ],
   "source": [
    "serial.to_period('M')"
   ]
  },
  {
   "cell_type": "code",
   "execution_count": 265,
   "id": "smoking-doctor",
   "metadata": {},
   "outputs": [
    {
     "data": {
      "text/plain": [
       "2001-02-27    0.947800\n",
       "2001-02-28    0.819038\n",
       "2001-03-01   -0.407847\n",
       "2001-03-02   -0.268217\n",
       "2001-03-05   -0.618834\n",
       "2001-03-06   -2.094936\n",
       "2001-03-07    0.468894\n",
       "Freq: B, dtype: float64"
      ]
     },
     "execution_count": 265,
     "metadata": {},
     "output_type": "execute_result"
    }
   ],
   "source": [
    "serial.to_period()"
   ]
  },
  {
   "cell_type": "code",
   "execution_count": 266,
   "id": "acoustic-scanner",
   "metadata": {},
   "outputs": [],
   "source": [
    "# Now, you can convert the periods back to timestamp "
   ]
  },
  {
   "cell_type": "code",
   "execution_count": 267,
   "id": "verbal-ferry",
   "metadata": {},
   "outputs": [],
   "source": [
    "neue = serial.to_period()"
   ]
  },
  {
   "cell_type": "code",
   "execution_count": 268,
   "id": "comparative-naples",
   "metadata": {},
   "outputs": [
    {
     "data": {
      "text/plain": [
       "2001-02-27    0.947800\n",
       "2001-02-28    0.819038\n",
       "2001-03-01   -0.407847\n",
       "2001-03-02   -0.268217\n",
       "2001-03-05   -0.618834\n",
       "2001-03-06   -2.094936\n",
       "2001-03-07    0.468894\n",
       "Freq: B, dtype: float64"
      ]
     },
     "execution_count": 268,
     "metadata": {},
     "output_type": "execute_result"
    }
   ],
   "source": [
    "neue"
   ]
  },
  {
   "cell_type": "code",
   "execution_count": 269,
   "id": "former-junction",
   "metadata": {},
   "outputs": [
    {
     "data": {
      "text/plain": [
       "2001-02-27 23:59:59.999999999    0.947800\n",
       "2001-02-28 23:59:59.999999999    0.819038\n",
       "2001-03-01 23:59:59.999999999   -0.407847\n",
       "2001-03-02 23:59:59.999999999   -0.268217\n",
       "2001-03-05 23:59:59.999999999   -0.618834\n",
       "2001-03-06 23:59:59.999999999   -2.094936\n",
       "2001-03-07 23:59:59.999999999    0.468894\n",
       "dtype: float64"
      ]
     },
     "execution_count": 269,
     "metadata": {},
     "output_type": "execute_result"
    }
   ],
   "source": [
    "neue.to_timestamp(how='end')"
   ]
  },
  {
   "cell_type": "markdown",
   "id": "statewide-factor",
   "metadata": {},
   "source": [
    "### Creating a PeriodicIndex from Arrays"
   ]
  },
  {
   "cell_type": "code",
   "execution_count": 270,
   "id": "designing-mobility",
   "metadata": {},
   "outputs": [],
   "source": [
    "# In case of large datasets time span information is stored in multiple columns. As we will see in the below example \n",
    "# where the year and the quarter are in different columns"
   ]
  },
  {
   "cell_type": "code",
   "execution_count": 271,
   "id": "periodic-alert",
   "metadata": {},
   "outputs": [
    {
     "data": {
      "text/html": [
       "<div>\n",
       "<style scoped>\n",
       "    .dataframe tbody tr th:only-of-type {\n",
       "        vertical-align: middle;\n",
       "    }\n",
       "\n",
       "    .dataframe tbody tr th {\n",
       "        vertical-align: top;\n",
       "    }\n",
       "\n",
       "    .dataframe thead th {\n",
       "        text-align: right;\n",
       "    }\n",
       "</style>\n",
       "<table border=\"1\" class=\"dataframe\">\n",
       "  <thead>\n",
       "    <tr style=\"text-align: right;\">\n",
       "      <th></th>\n",
       "      <th>year</th>\n",
       "      <th>quarter</th>\n",
       "      <th>realgdp</th>\n",
       "      <th>realcons</th>\n",
       "      <th>realinv</th>\n",
       "      <th>realgovt</th>\n",
       "      <th>realdpi</th>\n",
       "      <th>cpi</th>\n",
       "      <th>m1</th>\n",
       "      <th>tbilrate</th>\n",
       "      <th>unemp</th>\n",
       "      <th>pop</th>\n",
       "      <th>infl</th>\n",
       "      <th>realint</th>\n",
       "    </tr>\n",
       "  </thead>\n",
       "  <tbody>\n",
       "    <tr>\n",
       "      <th>0</th>\n",
       "      <td>1959</td>\n",
       "      <td>1</td>\n",
       "      <td>2710.349</td>\n",
       "      <td>1707.4</td>\n",
       "      <td>286.898</td>\n",
       "      <td>470.045</td>\n",
       "      <td>1886.9</td>\n",
       "      <td>28.980</td>\n",
       "      <td>139.7</td>\n",
       "      <td>2.82</td>\n",
       "      <td>5.8</td>\n",
       "      <td>177.146</td>\n",
       "      <td>0.00</td>\n",
       "      <td>0.00</td>\n",
       "    </tr>\n",
       "    <tr>\n",
       "      <th>1</th>\n",
       "      <td>1959</td>\n",
       "      <td>2</td>\n",
       "      <td>2778.801</td>\n",
       "      <td>1733.7</td>\n",
       "      <td>310.859</td>\n",
       "      <td>481.301</td>\n",
       "      <td>1919.7</td>\n",
       "      <td>29.150</td>\n",
       "      <td>141.7</td>\n",
       "      <td>3.08</td>\n",
       "      <td>5.1</td>\n",
       "      <td>177.830</td>\n",
       "      <td>2.34</td>\n",
       "      <td>0.74</td>\n",
       "    </tr>\n",
       "    <tr>\n",
       "      <th>2</th>\n",
       "      <td>1959</td>\n",
       "      <td>3</td>\n",
       "      <td>2775.488</td>\n",
       "      <td>1751.8</td>\n",
       "      <td>289.226</td>\n",
       "      <td>491.260</td>\n",
       "      <td>1916.4</td>\n",
       "      <td>29.350</td>\n",
       "      <td>140.5</td>\n",
       "      <td>3.82</td>\n",
       "      <td>5.3</td>\n",
       "      <td>178.657</td>\n",
       "      <td>2.74</td>\n",
       "      <td>1.09</td>\n",
       "    </tr>\n",
       "    <tr>\n",
       "      <th>3</th>\n",
       "      <td>1959</td>\n",
       "      <td>4</td>\n",
       "      <td>2785.204</td>\n",
       "      <td>1753.7</td>\n",
       "      <td>299.356</td>\n",
       "      <td>484.052</td>\n",
       "      <td>1931.3</td>\n",
       "      <td>29.370</td>\n",
       "      <td>140.0</td>\n",
       "      <td>4.33</td>\n",
       "      <td>5.6</td>\n",
       "      <td>179.386</td>\n",
       "      <td>0.27</td>\n",
       "      <td>4.06</td>\n",
       "    </tr>\n",
       "    <tr>\n",
       "      <th>4</th>\n",
       "      <td>1960</td>\n",
       "      <td>1</td>\n",
       "      <td>2847.699</td>\n",
       "      <td>1770.5</td>\n",
       "      <td>331.722</td>\n",
       "      <td>462.199</td>\n",
       "      <td>1955.5</td>\n",
       "      <td>29.540</td>\n",
       "      <td>139.6</td>\n",
       "      <td>3.50</td>\n",
       "      <td>5.2</td>\n",
       "      <td>180.007</td>\n",
       "      <td>2.31</td>\n",
       "      <td>1.19</td>\n",
       "    </tr>\n",
       "    <tr>\n",
       "      <th>...</th>\n",
       "      <td>...</td>\n",
       "      <td>...</td>\n",
       "      <td>...</td>\n",
       "      <td>...</td>\n",
       "      <td>...</td>\n",
       "      <td>...</td>\n",
       "      <td>...</td>\n",
       "      <td>...</td>\n",
       "      <td>...</td>\n",
       "      <td>...</td>\n",
       "      <td>...</td>\n",
       "      <td>...</td>\n",
       "      <td>...</td>\n",
       "      <td>...</td>\n",
       "    </tr>\n",
       "    <tr>\n",
       "      <th>198</th>\n",
       "      <td>2008</td>\n",
       "      <td>3</td>\n",
       "      <td>13324.600</td>\n",
       "      <td>9267.7</td>\n",
       "      <td>1990.693</td>\n",
       "      <td>991.551</td>\n",
       "      <td>9838.3</td>\n",
       "      <td>216.889</td>\n",
       "      <td>1474.7</td>\n",
       "      <td>1.17</td>\n",
       "      <td>6.0</td>\n",
       "      <td>305.270</td>\n",
       "      <td>-3.16</td>\n",
       "      <td>4.33</td>\n",
       "    </tr>\n",
       "    <tr>\n",
       "      <th>199</th>\n",
       "      <td>2008</td>\n",
       "      <td>4</td>\n",
       "      <td>13141.920</td>\n",
       "      <td>9195.3</td>\n",
       "      <td>1857.661</td>\n",
       "      <td>1007.273</td>\n",
       "      <td>9920.4</td>\n",
       "      <td>212.174</td>\n",
       "      <td>1576.5</td>\n",
       "      <td>0.12</td>\n",
       "      <td>6.9</td>\n",
       "      <td>305.952</td>\n",
       "      <td>-8.79</td>\n",
       "      <td>8.91</td>\n",
       "    </tr>\n",
       "    <tr>\n",
       "      <th>200</th>\n",
       "      <td>2009</td>\n",
       "      <td>1</td>\n",
       "      <td>12925.410</td>\n",
       "      <td>9209.2</td>\n",
       "      <td>1558.494</td>\n",
       "      <td>996.287</td>\n",
       "      <td>9926.4</td>\n",
       "      <td>212.671</td>\n",
       "      <td>1592.8</td>\n",
       "      <td>0.22</td>\n",
       "      <td>8.1</td>\n",
       "      <td>306.547</td>\n",
       "      <td>0.94</td>\n",
       "      <td>-0.71</td>\n",
       "    </tr>\n",
       "    <tr>\n",
       "      <th>201</th>\n",
       "      <td>2009</td>\n",
       "      <td>2</td>\n",
       "      <td>12901.504</td>\n",
       "      <td>9189.0</td>\n",
       "      <td>1456.678</td>\n",
       "      <td>1023.528</td>\n",
       "      <td>10077.5</td>\n",
       "      <td>214.469</td>\n",
       "      <td>1653.6</td>\n",
       "      <td>0.18</td>\n",
       "      <td>9.2</td>\n",
       "      <td>307.226</td>\n",
       "      <td>3.37</td>\n",
       "      <td>-3.19</td>\n",
       "    </tr>\n",
       "    <tr>\n",
       "      <th>202</th>\n",
       "      <td>2009</td>\n",
       "      <td>3</td>\n",
       "      <td>12990.341</td>\n",
       "      <td>9256.0</td>\n",
       "      <td>1486.398</td>\n",
       "      <td>1044.088</td>\n",
       "      <td>10040.6</td>\n",
       "      <td>216.385</td>\n",
       "      <td>1673.9</td>\n",
       "      <td>0.12</td>\n",
       "      <td>9.6</td>\n",
       "      <td>308.013</td>\n",
       "      <td>3.56</td>\n",
       "      <td>-3.44</td>\n",
       "    </tr>\n",
       "  </tbody>\n",
       "</table>\n",
       "<p>203 rows × 14 columns</p>\n",
       "</div>"
      ],
      "text/plain": [
       "     year  quarter    realgdp  realcons   realinv  realgovt  realdpi      cpi  \\\n",
       "0    1959        1   2710.349    1707.4   286.898   470.045   1886.9   28.980   \n",
       "1    1959        2   2778.801    1733.7   310.859   481.301   1919.7   29.150   \n",
       "2    1959        3   2775.488    1751.8   289.226   491.260   1916.4   29.350   \n",
       "3    1959        4   2785.204    1753.7   299.356   484.052   1931.3   29.370   \n",
       "4    1960        1   2847.699    1770.5   331.722   462.199   1955.5   29.540   \n",
       "..    ...      ...        ...       ...       ...       ...      ...      ...   \n",
       "198  2008        3  13324.600    9267.7  1990.693   991.551   9838.3  216.889   \n",
       "199  2008        4  13141.920    9195.3  1857.661  1007.273   9920.4  212.174   \n",
       "200  2009        1  12925.410    9209.2  1558.494   996.287   9926.4  212.671   \n",
       "201  2009        2  12901.504    9189.0  1456.678  1023.528  10077.5  214.469   \n",
       "202  2009        3  12990.341    9256.0  1486.398  1044.088  10040.6  216.385   \n",
       "\n",
       "         m1  tbilrate  unemp      pop  infl  realint  \n",
       "0     139.7      2.82    5.8  177.146  0.00     0.00  \n",
       "1     141.7      3.08    5.1  177.830  2.34     0.74  \n",
       "2     140.5      3.82    5.3  178.657  2.74     1.09  \n",
       "3     140.0      4.33    5.6  179.386  0.27     4.06  \n",
       "4     139.6      3.50    5.2  180.007  2.31     1.19  \n",
       "..      ...       ...    ...      ...   ...      ...  \n",
       "198  1474.7      1.17    6.0  305.270 -3.16     4.33  \n",
       "199  1576.5      0.12    6.9  305.952 -8.79     8.91  \n",
       "200  1592.8      0.22    8.1  306.547  0.94    -0.71  \n",
       "201  1653.6      0.18    9.2  307.226  3.37    -3.19  \n",
       "202  1673.9      0.12    9.6  308.013  3.56    -3.44  \n",
       "\n",
       "[203 rows x 14 columns]"
      ]
     },
     "execution_count": 271,
     "metadata": {},
     "output_type": "execute_result"
    }
   ],
   "source": [
    "fdata = pd.read_csv('examples/macrodata.csv')\n",
    "\n",
    "fdata"
   ]
  },
  {
   "cell_type": "code",
   "execution_count": 272,
   "id": "initial-tribute",
   "metadata": {},
   "outputs": [
    {
     "name": "stdout",
     "output_type": "stream",
     "text": [
      "C:\\Users\\manas\\PycharmProjects\\wes mckinney\n"
     ]
    }
   ],
   "source": [
    "print(o.getcwd())"
   ]
  },
  {
   "cell_type": "code",
   "execution_count": 273,
   "id": "cosmetic-insert",
   "metadata": {},
   "outputs": [
    {
     "data": {
      "text/plain": [
       "0      1959\n",
       "1      1959\n",
       "2      1959\n",
       "3      1959\n",
       "4      1960\n",
       "       ... \n",
       "198    2008\n",
       "199    2008\n",
       "200    2009\n",
       "201    2009\n",
       "202    2009\n",
       "Name: year, Length: 203, dtype: int64"
      ]
     },
     "execution_count": 273,
     "metadata": {},
     "output_type": "execute_result"
    }
   ],
   "source": [
    "fdata['year']"
   ]
  },
  {
   "cell_type": "code",
   "execution_count": 274,
   "id": "centered-highland",
   "metadata": {},
   "outputs": [
    {
     "data": {
      "text/plain": [
       "0      1\n",
       "1      2\n",
       "2      3\n",
       "3      4\n",
       "4      1\n",
       "      ..\n",
       "198    3\n",
       "199    4\n",
       "200    1\n",
       "201    2\n",
       "202    3\n",
       "Name: quarter, Length: 203, dtype: int64"
      ]
     },
     "execution_count": 274,
     "metadata": {},
     "output_type": "execute_result"
    }
   ],
   "source": [
    "fdata['quarter']"
   ]
  },
  {
   "cell_type": "code",
   "execution_count": 275,
   "id": "gross-essence",
   "metadata": {},
   "outputs": [],
   "source": [
    "# Now, you can combine these columns to form an index."
   ]
  },
  {
   "cell_type": "code",
   "execution_count": 276,
   "id": "introductory-surrey",
   "metadata": {},
   "outputs": [],
   "source": [
    "fdata_index = pd.PeriodIndex(year = fdata['year'],quarter = fdata['quarter'],\n",
    "                            freq='Q-DEC')\n",
    "\n",
    "# imp note you cannot use any other thing in place of (year)<-- this = fdata['year'] in this type of code and\n",
    "# similarly for this quarter = fdata['quarter'] as well"
   ]
  },
  {
   "cell_type": "code",
   "execution_count": 277,
   "id": "alike-hopkins",
   "metadata": {},
   "outputs": [
    {
     "data": {
      "text/plain": [
       "PeriodIndex(['1959Q1', '1959Q2', '1959Q3', '1959Q4', '1960Q1', '1960Q2',\n",
       "             '1960Q3', '1960Q4', '1961Q1', '1961Q2',\n",
       "             ...\n",
       "             '2007Q2', '2007Q3', '2007Q4', '2008Q1', '2008Q2', '2008Q3',\n",
       "             '2008Q4', '2009Q1', '2009Q2', '2009Q3'],\n",
       "            dtype='period[Q-DEC]', length=203, freq='Q-DEC')"
      ]
     },
     "execution_count": 277,
     "metadata": {},
     "output_type": "execute_result"
    }
   ],
   "source": [
    "fdata_index"
   ]
  },
  {
   "cell_type": "code",
   "execution_count": 278,
   "id": "heard-member",
   "metadata": {},
   "outputs": [],
   "source": [
    "fdata.index = fdata_index"
   ]
  },
  {
   "cell_type": "code",
   "execution_count": 279,
   "id": "prescribed-welcome",
   "metadata": {},
   "outputs": [
    {
     "data": {
      "text/html": [
       "<div>\n",
       "<style scoped>\n",
       "    .dataframe tbody tr th:only-of-type {\n",
       "        vertical-align: middle;\n",
       "    }\n",
       "\n",
       "    .dataframe tbody tr th {\n",
       "        vertical-align: top;\n",
       "    }\n",
       "\n",
       "    .dataframe thead th {\n",
       "        text-align: right;\n",
       "    }\n",
       "</style>\n",
       "<table border=\"1\" class=\"dataframe\">\n",
       "  <thead>\n",
       "    <tr style=\"text-align: right;\">\n",
       "      <th></th>\n",
       "      <th>year</th>\n",
       "      <th>quarter</th>\n",
       "      <th>realgdp</th>\n",
       "      <th>realcons</th>\n",
       "      <th>realinv</th>\n",
       "      <th>realgovt</th>\n",
       "      <th>realdpi</th>\n",
       "      <th>cpi</th>\n",
       "      <th>m1</th>\n",
       "      <th>tbilrate</th>\n",
       "      <th>unemp</th>\n",
       "      <th>pop</th>\n",
       "      <th>infl</th>\n",
       "      <th>realint</th>\n",
       "    </tr>\n",
       "  </thead>\n",
       "  <tbody>\n",
       "    <tr>\n",
       "      <th>1959Q1</th>\n",
       "      <td>1959</td>\n",
       "      <td>1</td>\n",
       "      <td>2710.349</td>\n",
       "      <td>1707.4</td>\n",
       "      <td>286.898</td>\n",
       "      <td>470.045</td>\n",
       "      <td>1886.9</td>\n",
       "      <td>28.980</td>\n",
       "      <td>139.7</td>\n",
       "      <td>2.82</td>\n",
       "      <td>5.8</td>\n",
       "      <td>177.146</td>\n",
       "      <td>0.00</td>\n",
       "      <td>0.00</td>\n",
       "    </tr>\n",
       "    <tr>\n",
       "      <th>1959Q2</th>\n",
       "      <td>1959</td>\n",
       "      <td>2</td>\n",
       "      <td>2778.801</td>\n",
       "      <td>1733.7</td>\n",
       "      <td>310.859</td>\n",
       "      <td>481.301</td>\n",
       "      <td>1919.7</td>\n",
       "      <td>29.150</td>\n",
       "      <td>141.7</td>\n",
       "      <td>3.08</td>\n",
       "      <td>5.1</td>\n",
       "      <td>177.830</td>\n",
       "      <td>2.34</td>\n",
       "      <td>0.74</td>\n",
       "    </tr>\n",
       "    <tr>\n",
       "      <th>1959Q3</th>\n",
       "      <td>1959</td>\n",
       "      <td>3</td>\n",
       "      <td>2775.488</td>\n",
       "      <td>1751.8</td>\n",
       "      <td>289.226</td>\n",
       "      <td>491.260</td>\n",
       "      <td>1916.4</td>\n",
       "      <td>29.350</td>\n",
       "      <td>140.5</td>\n",
       "      <td>3.82</td>\n",
       "      <td>5.3</td>\n",
       "      <td>178.657</td>\n",
       "      <td>2.74</td>\n",
       "      <td>1.09</td>\n",
       "    </tr>\n",
       "    <tr>\n",
       "      <th>1959Q4</th>\n",
       "      <td>1959</td>\n",
       "      <td>4</td>\n",
       "      <td>2785.204</td>\n",
       "      <td>1753.7</td>\n",
       "      <td>299.356</td>\n",
       "      <td>484.052</td>\n",
       "      <td>1931.3</td>\n",
       "      <td>29.370</td>\n",
       "      <td>140.0</td>\n",
       "      <td>4.33</td>\n",
       "      <td>5.6</td>\n",
       "      <td>179.386</td>\n",
       "      <td>0.27</td>\n",
       "      <td>4.06</td>\n",
       "    </tr>\n",
       "    <tr>\n",
       "      <th>1960Q1</th>\n",
       "      <td>1960</td>\n",
       "      <td>1</td>\n",
       "      <td>2847.699</td>\n",
       "      <td>1770.5</td>\n",
       "      <td>331.722</td>\n",
       "      <td>462.199</td>\n",
       "      <td>1955.5</td>\n",
       "      <td>29.540</td>\n",
       "      <td>139.6</td>\n",
       "      <td>3.50</td>\n",
       "      <td>5.2</td>\n",
       "      <td>180.007</td>\n",
       "      <td>2.31</td>\n",
       "      <td>1.19</td>\n",
       "    </tr>\n",
       "    <tr>\n",
       "      <th>...</th>\n",
       "      <td>...</td>\n",
       "      <td>...</td>\n",
       "      <td>...</td>\n",
       "      <td>...</td>\n",
       "      <td>...</td>\n",
       "      <td>...</td>\n",
       "      <td>...</td>\n",
       "      <td>...</td>\n",
       "      <td>...</td>\n",
       "      <td>...</td>\n",
       "      <td>...</td>\n",
       "      <td>...</td>\n",
       "      <td>...</td>\n",
       "      <td>...</td>\n",
       "    </tr>\n",
       "    <tr>\n",
       "      <th>2008Q3</th>\n",
       "      <td>2008</td>\n",
       "      <td>3</td>\n",
       "      <td>13324.600</td>\n",
       "      <td>9267.7</td>\n",
       "      <td>1990.693</td>\n",
       "      <td>991.551</td>\n",
       "      <td>9838.3</td>\n",
       "      <td>216.889</td>\n",
       "      <td>1474.7</td>\n",
       "      <td>1.17</td>\n",
       "      <td>6.0</td>\n",
       "      <td>305.270</td>\n",
       "      <td>-3.16</td>\n",
       "      <td>4.33</td>\n",
       "    </tr>\n",
       "    <tr>\n",
       "      <th>2008Q4</th>\n",
       "      <td>2008</td>\n",
       "      <td>4</td>\n",
       "      <td>13141.920</td>\n",
       "      <td>9195.3</td>\n",
       "      <td>1857.661</td>\n",
       "      <td>1007.273</td>\n",
       "      <td>9920.4</td>\n",
       "      <td>212.174</td>\n",
       "      <td>1576.5</td>\n",
       "      <td>0.12</td>\n",
       "      <td>6.9</td>\n",
       "      <td>305.952</td>\n",
       "      <td>-8.79</td>\n",
       "      <td>8.91</td>\n",
       "    </tr>\n",
       "    <tr>\n",
       "      <th>2009Q1</th>\n",
       "      <td>2009</td>\n",
       "      <td>1</td>\n",
       "      <td>12925.410</td>\n",
       "      <td>9209.2</td>\n",
       "      <td>1558.494</td>\n",
       "      <td>996.287</td>\n",
       "      <td>9926.4</td>\n",
       "      <td>212.671</td>\n",
       "      <td>1592.8</td>\n",
       "      <td>0.22</td>\n",
       "      <td>8.1</td>\n",
       "      <td>306.547</td>\n",
       "      <td>0.94</td>\n",
       "      <td>-0.71</td>\n",
       "    </tr>\n",
       "    <tr>\n",
       "      <th>2009Q2</th>\n",
       "      <td>2009</td>\n",
       "      <td>2</td>\n",
       "      <td>12901.504</td>\n",
       "      <td>9189.0</td>\n",
       "      <td>1456.678</td>\n",
       "      <td>1023.528</td>\n",
       "      <td>10077.5</td>\n",
       "      <td>214.469</td>\n",
       "      <td>1653.6</td>\n",
       "      <td>0.18</td>\n",
       "      <td>9.2</td>\n",
       "      <td>307.226</td>\n",
       "      <td>3.37</td>\n",
       "      <td>-3.19</td>\n",
       "    </tr>\n",
       "    <tr>\n",
       "      <th>2009Q3</th>\n",
       "      <td>2009</td>\n",
       "      <td>3</td>\n",
       "      <td>12990.341</td>\n",
       "      <td>9256.0</td>\n",
       "      <td>1486.398</td>\n",
       "      <td>1044.088</td>\n",
       "      <td>10040.6</td>\n",
       "      <td>216.385</td>\n",
       "      <td>1673.9</td>\n",
       "      <td>0.12</td>\n",
       "      <td>9.6</td>\n",
       "      <td>308.013</td>\n",
       "      <td>3.56</td>\n",
       "      <td>-3.44</td>\n",
       "    </tr>\n",
       "  </tbody>\n",
       "</table>\n",
       "<p>203 rows × 14 columns</p>\n",
       "</div>"
      ],
      "text/plain": [
       "        year  quarter    realgdp  realcons   realinv  realgovt  realdpi  \\\n",
       "1959Q1  1959        1   2710.349    1707.4   286.898   470.045   1886.9   \n",
       "1959Q2  1959        2   2778.801    1733.7   310.859   481.301   1919.7   \n",
       "1959Q3  1959        3   2775.488    1751.8   289.226   491.260   1916.4   \n",
       "1959Q4  1959        4   2785.204    1753.7   299.356   484.052   1931.3   \n",
       "1960Q1  1960        1   2847.699    1770.5   331.722   462.199   1955.5   \n",
       "...      ...      ...        ...       ...       ...       ...      ...   \n",
       "2008Q3  2008        3  13324.600    9267.7  1990.693   991.551   9838.3   \n",
       "2008Q4  2008        4  13141.920    9195.3  1857.661  1007.273   9920.4   \n",
       "2009Q1  2009        1  12925.410    9209.2  1558.494   996.287   9926.4   \n",
       "2009Q2  2009        2  12901.504    9189.0  1456.678  1023.528  10077.5   \n",
       "2009Q3  2009        3  12990.341    9256.0  1486.398  1044.088  10040.6   \n",
       "\n",
       "            cpi      m1  tbilrate  unemp      pop  infl  realint  \n",
       "1959Q1   28.980   139.7      2.82    5.8  177.146  0.00     0.00  \n",
       "1959Q2   29.150   141.7      3.08    5.1  177.830  2.34     0.74  \n",
       "1959Q3   29.350   140.5      3.82    5.3  178.657  2.74     1.09  \n",
       "1959Q4   29.370   140.0      4.33    5.6  179.386  0.27     4.06  \n",
       "1960Q1   29.540   139.6      3.50    5.2  180.007  2.31     1.19  \n",
       "...         ...     ...       ...    ...      ...   ...      ...  \n",
       "2008Q3  216.889  1474.7      1.17    6.0  305.270 -3.16     4.33  \n",
       "2008Q4  212.174  1576.5      0.12    6.9  305.952 -8.79     8.91  \n",
       "2009Q1  212.671  1592.8      0.22    8.1  306.547  0.94    -0.71  \n",
       "2009Q2  214.469  1653.6      0.18    9.2  307.226  3.37    -3.19  \n",
       "2009Q3  216.385  1673.9      0.12    9.6  308.013  3.56    -3.44  \n",
       "\n",
       "[203 rows x 14 columns]"
      ]
     },
     "execution_count": 279,
     "metadata": {},
     "output_type": "execute_result"
    }
   ],
   "source": [
    "fdata"
   ]
  },
  {
   "cell_type": "markdown",
   "id": "artificial-secretary",
   "metadata": {},
   "source": [
    "## Resampling and Frequency Conversion"
   ]
  },
  {
   "cell_type": "code",
   "execution_count": 280,
   "id": "composed-seating",
   "metadata": {},
   "outputs": [],
   "source": [
    "# Resampling as it sounds means the conversion of a time series from one frequency to another.\n",
    "# Converting a time series of a high frequency data to a lower one means downsampling\n",
    "# Similarly converting a data from lower frequency to a higher one is upsampling\n",
    "# Not every conversion can be called as upsample or downsample like converting a frequency of W-WED that is \n",
    "# weekly on wednesday to W-FRI meaning weekly on Friday is neither upsampling or downsampling"
   ]
  },
  {
   "cell_type": "code",
   "execution_count": 281,
   "id": "passing-blackjack",
   "metadata": {},
   "outputs": [],
   "source": [
    "# pandas has a very useful resample method for this"
   ]
  },
  {
   "cell_type": "code",
   "execution_count": 282,
   "id": "sudden-freeware",
   "metadata": {},
   "outputs": [
    {
     "data": {
      "text/plain": [
       "DatetimeIndex(['2001-12-17', '2001-12-18', '2001-12-19', '2001-12-20',\n",
       "               '2001-12-21', '2001-12-22', '2001-12-23', '2001-12-24',\n",
       "               '2001-12-25', '2001-12-26',\n",
       "               ...\n",
       "               '2002-06-24', '2002-06-25', '2002-06-26', '2002-06-27',\n",
       "               '2002-06-28', '2002-06-29', '2002-06-30', '2002-07-01',\n",
       "               '2002-07-02', '2002-07-03'],\n",
       "              dtype='datetime64[ns]', length=199, freq='D')"
      ]
     },
     "execution_count": 282,
     "metadata": {},
     "output_type": "execute_result"
    }
   ],
   "source": [
    "mydats = pd.date_range('2001-12-17',periods=199)\n",
    "\n",
    "mydats"
   ]
  },
  {
   "cell_type": "code",
   "execution_count": 283,
   "id": "described-russia",
   "metadata": {},
   "outputs": [
    {
     "data": {
      "text/plain": [
       "2001-12-17    1.596480\n",
       "2001-12-18    1.581178\n",
       "2001-12-19   -0.050405\n",
       "2001-12-20    0.819671\n",
       "2001-12-21   -0.878363\n",
       "                ...   \n",
       "2002-06-29    0.218078\n",
       "2002-06-30    1.162297\n",
       "2002-07-01    0.614701\n",
       "2002-07-02    0.129104\n",
       "2002-07-03    1.471784\n",
       "Freq: D, Length: 199, dtype: float64"
      ]
     },
     "execution_count": 283,
     "metadata": {},
     "output_type": "execute_result"
    }
   ],
   "source": [
    "resampser = pd.Series(np.random.standard_normal(len(mydats)),index=mydats)\n",
    "\n",
    "resampser"
   ]
  },
  {
   "cell_type": "code",
   "execution_count": 284,
   "id": "affected-breeding",
   "metadata": {},
   "outputs": [
    {
     "data": {
      "text/plain": [
       "2001-12-17 00:00:00    1.596480\n",
       "2001-12-17 01:00:00         NaN\n",
       "2001-12-17 02:00:00         NaN\n",
       "2001-12-17 03:00:00         NaN\n",
       "2001-12-17 04:00:00         NaN\n",
       "                         ...   \n",
       "2002-07-02 20:00:00         NaN\n",
       "2002-07-02 21:00:00         NaN\n",
       "2002-07-02 22:00:00         NaN\n",
       "2002-07-02 23:00:00         NaN\n",
       "2002-07-03 00:00:00    1.471784\n",
       "Freq: H, Length: 4753, dtype: float64"
      ]
     },
     "execution_count": 284,
     "metadata": {},
     "output_type": "execute_result"
    }
   ],
   "source": [
    "resampser.resample('H').mean()"
   ]
  },
  {
   "cell_type": "code",
   "execution_count": 285,
   "id": "quick-guest",
   "metadata": {},
   "outputs": [
    {
     "data": {
      "text/plain": [
       "2001-12    1.003502\n",
       "2002-01   -0.193250\n",
       "2002-02    0.052928\n",
       "2002-03    0.049539\n",
       "2002-04   -0.163256\n",
       "2002-05   -0.089284\n",
       "2002-06   -0.140777\n",
       "2002-07    0.738530\n",
       "Freq: M, dtype: float64"
      ]
     },
     "execution_count": 285,
     "metadata": {},
     "output_type": "execute_result"
    }
   ],
   "source": [
    "resampser.resample('M',kind='period').mean()"
   ]
  },
  {
   "cell_type": "markdown",
   "id": "prerequisite-begin",
   "metadata": {},
   "source": [
    "### Downsampling"
   ]
  },
  {
   "cell_type": "code",
   "execution_count": 286,
   "id": "large-romania",
   "metadata": {},
   "outputs": [],
   "source": [
    "# Now, downsampling is converting a data of more samples or higher samples to a regularized or lower frequency\n",
    "# ex:- suppose you have a data of monthly frequencies and you wish to convert them to an yearly frequency so by doing this\n",
    "# you are converting a data that has more samples to a lower sampled data"
   ]
  },
  {
   "cell_type": "code",
   "execution_count": 287,
   "id": "frozen-garage",
   "metadata": {},
   "outputs": [],
   "source": [
    "# Now when doing downsampling intervals of the samples are decided based on the frequency that you pass\n",
    "#    Which side of the interval is closed\n",
    "#    how to label each aggregated bin, either with the start of the interval or the end\n"
   ]
  },
  {
   "cell_type": "code",
   "execution_count": 288,
   "id": "compliant-german",
   "metadata": {},
   "outputs": [],
   "source": [
    "\n",
    "# Now, let's see an example"
   ]
  },
  {
   "cell_type": "code",
   "execution_count": 289,
   "id": "indirect-drill",
   "metadata": {},
   "outputs": [
    {
     "data": {
      "text/plain": [
       "DatetimeIndex(['2212-03-22 00:00:00', '2212-03-22 00:01:00',\n",
       "               '2212-03-22 00:02:00', '2212-03-22 00:03:00',\n",
       "               '2212-03-22 00:04:00', '2212-03-22 00:05:00',\n",
       "               '2212-03-22 00:06:00', '2212-03-22 00:07:00',\n",
       "               '2212-03-22 00:08:00', '2212-03-22 00:09:00',\n",
       "               '2212-03-22 00:10:00', '2212-03-22 00:11:00',\n",
       "               '2212-03-22 00:12:00', '2212-03-22 00:13:00',\n",
       "               '2212-03-22 00:14:00', '2212-03-22 00:15:00',\n",
       "               '2212-03-22 00:16:00', '2212-03-22 00:17:00',\n",
       "               '2212-03-22 00:18:00', '2212-03-22 00:19:00',\n",
       "               '2212-03-22 00:20:00', '2212-03-22 00:21:00',\n",
       "               '2212-03-22 00:22:00', '2212-03-22 00:23:00',\n",
       "               '2212-03-22 00:24:00', '2212-03-22 00:25:00',\n",
       "               '2212-03-22 00:26:00', '2212-03-22 00:27:00',\n",
       "               '2212-03-22 00:28:00'],\n",
       "              dtype='datetime64[ns]', freq='T')"
      ]
     },
     "execution_count": 289,
     "metadata": {},
     "output_type": "execute_result"
    }
   ],
   "source": [
    "ndat = pd.date_range('2212-03-22',periods=29,freq='T')\n",
    "\n",
    "ndat"
   ]
  },
  {
   "cell_type": "code",
   "execution_count": 290,
   "id": "smart-cleanup",
   "metadata": {},
   "outputs": [],
   "source": [
    "# Now, suppose you want to convert this data into three-minute chunks"
   ]
  },
  {
   "cell_type": "code",
   "execution_count": 291,
   "id": "consecutive-collective",
   "metadata": {},
   "outputs": [
    {
     "data": {
      "text/plain": [
       "2212-03-22 00:00:00    1.482532\n",
       "2212-03-22 00:01:00   -0.176822\n",
       "2212-03-22 00:02:00   -0.976262\n",
       "2212-03-22 00:03:00   -0.330437\n",
       "2212-03-22 00:04:00   -0.987180\n",
       "2212-03-22 00:05:00    0.314758\n",
       "2212-03-22 00:06:00   -0.226646\n",
       "2212-03-22 00:07:00    1.427484\n",
       "2212-03-22 00:08:00    1.353628\n",
       "2212-03-22 00:09:00   -0.622736\n",
       "2212-03-22 00:10:00    0.061710\n",
       "2212-03-22 00:11:00   -1.279674\n",
       "2212-03-22 00:12:00   -0.334583\n",
       "2212-03-22 00:13:00   -0.185777\n",
       "2212-03-22 00:14:00    0.926520\n",
       "2212-03-22 00:15:00    0.738868\n",
       "2212-03-22 00:16:00   -0.900070\n",
       "2212-03-22 00:17:00    0.992187\n",
       "2212-03-22 00:18:00    0.189903\n",
       "2212-03-22 00:19:00    0.244588\n",
       "2212-03-22 00:20:00   -1.257916\n",
       "2212-03-22 00:21:00    0.610673\n",
       "2212-03-22 00:22:00    1.292899\n",
       "2212-03-22 00:23:00   -0.008233\n",
       "2212-03-22 00:24:00    1.329167\n",
       "2212-03-22 00:25:00   -0.427257\n",
       "2212-03-22 00:26:00   -1.296895\n",
       "2212-03-22 00:27:00   -0.208376\n",
       "2212-03-22 00:28:00   -0.243363\n",
       "Freq: T, dtype: float64"
      ]
     },
     "execution_count": 291,
     "metadata": {},
     "output_type": "execute_result"
    }
   ],
   "source": [
    "tsdn = pd.Series(np.random.standard_normal(len(ndat)),index=ndat)\n",
    "\n",
    "tsdn"
   ]
  },
  {
   "cell_type": "code",
   "execution_count": 292,
   "id": "monetary-destiny",
   "metadata": {},
   "outputs": [
    {
     "data": {
      "text/plain": [
       "2212-03-22 00:00:00    0.329447\n",
       "2212-03-22 00:03:00   -1.002859\n",
       "2212-03-22 00:06:00    2.554466\n",
       "2212-03-22 00:09:00   -1.840699\n",
       "2212-03-22 00:12:00    0.406161\n",
       "2212-03-22 00:15:00    0.830986\n",
       "2212-03-22 00:18:00   -0.823425\n",
       "2212-03-22 00:21:00    1.895340\n",
       "2212-03-22 00:24:00   -0.394984\n",
       "2212-03-22 00:27:00   -0.451739\n",
       "Freq: 3T, dtype: float64"
      ]
     },
     "execution_count": 292,
     "metadata": {},
     "output_type": "execute_result"
    }
   ],
   "source": [
    "tsdn.resample('3min').sum()\n",
    "\n",
    "# Now, in this case the default process is that the left end is inclusive hence as you can see that the right most data\n",
    "# of 28 min was not included in the resample"
   ]
  },
  {
   "cell_type": "code",
   "execution_count": null,
   "id": "directed-commerce",
   "metadata": {},
   "outputs": [],
   "source": []
  },
  {
   "cell_type": "code",
   "execution_count": 293,
   "id": "structural-partnership",
   "metadata": {},
   "outputs": [
    {
     "data": {
      "text/plain": [
       "2212-03-21 23:57:00    1.482532\n",
       "2212-03-22 00:00:00   -1.483521\n",
       "2212-03-22 00:03:00   -0.899068\n",
       "2212-03-22 00:06:00    2.158377\n",
       "2212-03-22 00:09:00   -1.552546\n",
       "2212-03-22 00:12:00    1.479612\n",
       "2212-03-22 00:15:00    0.282021\n",
       "2212-03-22 00:18:00   -0.402655\n",
       "2212-03-22 00:21:00    2.613834\n",
       "2212-03-22 00:24:00   -1.932527\n",
       "2212-03-22 00:27:00   -0.243363\n",
       "Freq: 3T, dtype: float64"
      ]
     },
     "execution_count": 293,
     "metadata": {},
     "output_type": "execute_result"
    }
   ],
   "source": [
    "tsdn.resample('3min',closed='right').sum() # Now, here although you have passed closed = right still the 28th minute timestamp\n",
    "# is not included, hence we pass the label attribute in the below cell for complete inclusion"
   ]
  },
  {
   "cell_type": "code",
   "execution_count": 294,
   "id": "scientific-right",
   "metadata": {},
   "outputs": [
    {
     "data": {
      "text/plain": [
       "2212-03-22 00:00:00    1.482532\n",
       "2212-03-22 00:03:00   -1.483521\n",
       "2212-03-22 00:06:00   -0.899068\n",
       "2212-03-22 00:09:00    2.158377\n",
       "2212-03-22 00:12:00   -1.552546\n",
       "2212-03-22 00:15:00    1.479612\n",
       "2212-03-22 00:18:00    0.282021\n",
       "2212-03-22 00:21:00   -0.402655\n",
       "2212-03-22 00:24:00    2.613834\n",
       "2212-03-22 00:27:00   -1.932527\n",
       "2212-03-22 00:30:00   -0.243363\n",
       "Freq: 3T, dtype: float64"
      ]
     },
     "execution_count": 294,
     "metadata": {},
     "output_type": "execute_result"
    }
   ],
   "source": [
    "tsdn.resample('3min',closed='right',label='right').sum()"
   ]
  },
  {
   "cell_type": "code",
   "execution_count": 295,
   "id": "legendary-field",
   "metadata": {},
   "outputs": [],
   "source": [
    "# Now, here are some beautifying tricks to make the data more presentable as in to make it more clear as to which\n",
    "# interval does the timestamp refer to"
   ]
  },
  {
   "cell_type": "code",
   "execution_count": 296,
   "id": "excited-acoustic",
   "metadata": {},
   "outputs": [],
   "source": [
    "from pandas.tseries.frequencies import to_offset as toffee"
   ]
  },
  {
   "cell_type": "code",
   "execution_count": 297,
   "id": "conventional-graph",
   "metadata": {},
   "outputs": [],
   "source": [
    "new_res = tsdn.resample('3min',closed='right',label='right').sum()"
   ]
  },
  {
   "cell_type": "code",
   "execution_count": 298,
   "id": "optical-maintenance",
   "metadata": {},
   "outputs": [
    {
     "data": {
      "text/plain": [
       "2212-03-22 00:00:00    1.482532\n",
       "2212-03-22 00:03:00   -1.483521\n",
       "2212-03-22 00:06:00   -0.899068\n",
       "2212-03-22 00:09:00    2.158377\n",
       "2212-03-22 00:12:00   -1.552546\n",
       "2212-03-22 00:15:00    1.479612\n",
       "2212-03-22 00:18:00    0.282021\n",
       "2212-03-22 00:21:00   -0.402655\n",
       "2212-03-22 00:24:00    2.613834\n",
       "2212-03-22 00:27:00   -1.932527\n",
       "2212-03-22 00:30:00   -0.243363\n",
       "Freq: 3T, dtype: float64"
      ]
     },
     "execution_count": 298,
     "metadata": {},
     "output_type": "execute_result"
    }
   ],
   "source": [
    "new_res"
   ]
  },
  {
   "cell_type": "code",
   "execution_count": 299,
   "id": "arranged-float",
   "metadata": {},
   "outputs": [],
   "source": [
    "new_res.index = new_res.index + toffee('-1s')"
   ]
  },
  {
   "cell_type": "code",
   "execution_count": 300,
   "id": "statistical-pixel",
   "metadata": {},
   "outputs": [
    {
     "data": {
      "text/plain": [
       "2212-03-21 23:59:59    1.482532\n",
       "2212-03-22 00:02:59   -1.483521\n",
       "2212-03-22 00:05:59   -0.899068\n",
       "2212-03-22 00:08:59    2.158377\n",
       "2212-03-22 00:11:59   -1.552546\n",
       "2212-03-22 00:14:59    1.479612\n",
       "2212-03-22 00:17:59    0.282021\n",
       "2212-03-22 00:20:59   -0.402655\n",
       "2212-03-22 00:23:59    2.613834\n",
       "2212-03-22 00:26:59   -1.932527\n",
       "2212-03-22 00:29:59   -0.243363\n",
       "Freq: 3T, dtype: float64"
      ]
     },
     "execution_count": 300,
     "metadata": {},
     "output_type": "execute_result"
    }
   ],
   "source": [
    "new_res"
   ]
  },
  {
   "cell_type": "markdown",
   "id": "recovered-college",
   "metadata": {},
   "source": [
    "#### Open-high-low-close (OHLC) resampling"
   ]
  },
  {
   "cell_type": "code",
   "execution_count": 301,
   "id": "premier-disorder",
   "metadata": {},
   "outputs": [],
   "source": [
    "# Now, usually for a time series it is pretty useful to compute the 4 values of opening, closing, lowest and highest value.\n",
    "# this can be done with the help of a single function"
   ]
  },
  {
   "cell_type": "code",
   "execution_count": 302,
   "id": "expected-softball",
   "metadata": {},
   "outputs": [
    {
     "data": {
      "text/plain": [
       "2212-03-22 00:00:00    10\n",
       "2212-03-22 00:01:00    22\n",
       "2212-03-22 00:02:00     5\n",
       "2212-03-22 00:03:00    16\n",
       "2212-03-22 00:04:00    23\n",
       "2212-03-22 00:05:00    24\n",
       "2212-03-22 00:06:00     1\n",
       "2212-03-22 00:07:00     2\n",
       "2212-03-22 00:08:00     6\n",
       "2212-03-22 00:09:00    17\n",
       "2212-03-22 00:10:00    12\n",
       "2212-03-22 00:11:00    21\n",
       "2212-03-22 00:12:00     7\n",
       "2212-03-22 00:13:00     8\n",
       "2212-03-22 00:14:00    27\n",
       "2212-03-22 00:15:00    13\n",
       "2212-03-22 00:16:00    14\n",
       "2212-03-22 00:17:00     0\n",
       "2212-03-22 00:18:00    28\n",
       "2212-03-22 00:19:00    15\n",
       "2212-03-22 00:20:00    26\n",
       "2212-03-22 00:21:00    19\n",
       "2212-03-22 00:22:00    25\n",
       "2212-03-22 00:23:00     4\n",
       "2212-03-22 00:24:00    20\n",
       "2212-03-22 00:25:00     9\n",
       "2212-03-22 00:26:00    11\n",
       "2212-03-22 00:27:00    18\n",
       "2212-03-22 00:28:00     3\n",
       "Freq: T, dtype: int32"
      ]
     },
     "execution_count": 302,
     "metadata": {},
     "output_type": "execute_result"
    }
   ],
   "source": [
    "tsohlc = pd.Series(np.random.permutation(np.arange(len(ndat))),index=ndat)\n",
    "\n",
    "tsohlc"
   ]
  },
  {
   "cell_type": "code",
   "execution_count": 303,
   "id": "innovative-eight",
   "metadata": {},
   "outputs": [
    {
     "data": {
      "text/html": [
       "<div>\n",
       "<style scoped>\n",
       "    .dataframe tbody tr th:only-of-type {\n",
       "        vertical-align: middle;\n",
       "    }\n",
       "\n",
       "    .dataframe tbody tr th {\n",
       "        vertical-align: top;\n",
       "    }\n",
       "\n",
       "    .dataframe thead th {\n",
       "        text-align: right;\n",
       "    }\n",
       "</style>\n",
       "<table border=\"1\" class=\"dataframe\">\n",
       "  <thead>\n",
       "    <tr style=\"text-align: right;\">\n",
       "      <th></th>\n",
       "      <th>open</th>\n",
       "      <th>high</th>\n",
       "      <th>low</th>\n",
       "      <th>close</th>\n",
       "    </tr>\n",
       "  </thead>\n",
       "  <tbody>\n",
       "    <tr>\n",
       "      <th>2212-03-22 00:00:00</th>\n",
       "      <td>10</td>\n",
       "      <td>22</td>\n",
       "      <td>5</td>\n",
       "      <td>5</td>\n",
       "    </tr>\n",
       "    <tr>\n",
       "      <th>2212-03-22 00:03:00</th>\n",
       "      <td>16</td>\n",
       "      <td>24</td>\n",
       "      <td>16</td>\n",
       "      <td>24</td>\n",
       "    </tr>\n",
       "    <tr>\n",
       "      <th>2212-03-22 00:06:00</th>\n",
       "      <td>1</td>\n",
       "      <td>6</td>\n",
       "      <td>1</td>\n",
       "      <td>6</td>\n",
       "    </tr>\n",
       "    <tr>\n",
       "      <th>2212-03-22 00:09:00</th>\n",
       "      <td>17</td>\n",
       "      <td>21</td>\n",
       "      <td>12</td>\n",
       "      <td>21</td>\n",
       "    </tr>\n",
       "    <tr>\n",
       "      <th>2212-03-22 00:12:00</th>\n",
       "      <td>7</td>\n",
       "      <td>27</td>\n",
       "      <td>7</td>\n",
       "      <td>27</td>\n",
       "    </tr>\n",
       "    <tr>\n",
       "      <th>2212-03-22 00:15:00</th>\n",
       "      <td>13</td>\n",
       "      <td>14</td>\n",
       "      <td>0</td>\n",
       "      <td>0</td>\n",
       "    </tr>\n",
       "    <tr>\n",
       "      <th>2212-03-22 00:18:00</th>\n",
       "      <td>28</td>\n",
       "      <td>28</td>\n",
       "      <td>15</td>\n",
       "      <td>26</td>\n",
       "    </tr>\n",
       "    <tr>\n",
       "      <th>2212-03-22 00:21:00</th>\n",
       "      <td>19</td>\n",
       "      <td>25</td>\n",
       "      <td>4</td>\n",
       "      <td>4</td>\n",
       "    </tr>\n",
       "    <tr>\n",
       "      <th>2212-03-22 00:24:00</th>\n",
       "      <td>20</td>\n",
       "      <td>20</td>\n",
       "      <td>9</td>\n",
       "      <td>11</td>\n",
       "    </tr>\n",
       "    <tr>\n",
       "      <th>2212-03-22 00:27:00</th>\n",
       "      <td>18</td>\n",
       "      <td>18</td>\n",
       "      <td>3</td>\n",
       "      <td>3</td>\n",
       "    </tr>\n",
       "  </tbody>\n",
       "</table>\n",
       "</div>"
      ],
      "text/plain": [
       "                     open  high  low  close\n",
       "2212-03-22 00:00:00    10    22    5      5\n",
       "2212-03-22 00:03:00    16    24   16     24\n",
       "2212-03-22 00:06:00     1     6    1      6\n",
       "2212-03-22 00:09:00    17    21   12     21\n",
       "2212-03-22 00:12:00     7    27    7     27\n",
       "2212-03-22 00:15:00    13    14    0      0\n",
       "2212-03-22 00:18:00    28    28   15     26\n",
       "2212-03-22 00:21:00    19    25    4      4\n",
       "2212-03-22 00:24:00    20    20    9     11\n",
       "2212-03-22 00:27:00    18    18    3      3"
      ]
     },
     "execution_count": 303,
     "metadata": {},
     "output_type": "execute_result"
    }
   ],
   "source": [
    "tsohlc.resample('3min').ohlc()"
   ]
  },
  {
   "cell_type": "markdown",
   "id": "favorite-minister",
   "metadata": {},
   "source": [
    "### Upsampling and Interpolation"
   ]
  },
  {
   "cell_type": "code",
   "execution_count": 304,
   "id": "julian-assignment",
   "metadata": {},
   "outputs": [
    {
     "data": {
      "text/html": [
       "<div>\n",
       "<style scoped>\n",
       "    .dataframe tbody tr th:only-of-type {\n",
       "        vertical-align: middle;\n",
       "    }\n",
       "\n",
       "    .dataframe tbody tr th {\n",
       "        vertical-align: top;\n",
       "    }\n",
       "\n",
       "    .dataframe thead th {\n",
       "        text-align: right;\n",
       "    }\n",
       "</style>\n",
       "<table border=\"1\" class=\"dataframe\">\n",
       "  <thead>\n",
       "    <tr style=\"text-align: right;\">\n",
       "      <th></th>\n",
       "      <th>pehlla</th>\n",
       "      <th>dusra</th>\n",
       "      <th>teesra</th>\n",
       "      <th>chautha</th>\n",
       "    </tr>\n",
       "  </thead>\n",
       "  <tbody>\n",
       "    <tr>\n",
       "      <th>2222-02-27</th>\n",
       "      <td>-0.272879</td>\n",
       "      <td>-1.333232</td>\n",
       "      <td>0.299501</td>\n",
       "      <td>1.387897</td>\n",
       "    </tr>\n",
       "    <tr>\n",
       "      <th>2222-03-06</th>\n",
       "      <td>1.737430</td>\n",
       "      <td>-1.754307</td>\n",
       "      <td>0.420940</td>\n",
       "      <td>-0.961027</td>\n",
       "    </tr>\n",
       "  </tbody>\n",
       "</table>\n",
       "</div>"
      ],
      "text/plain": [
       "              pehlla     dusra    teesra   chautha\n",
       "2222-02-27 -0.272879 -1.333232  0.299501  1.387897\n",
       "2222-03-06  1.737430 -1.754307  0.420940 -0.961027"
      ]
     },
     "execution_count": 304,
     "metadata": {},
     "output_type": "execute_result"
    }
   ],
   "source": [
    "framed = pd.DataFrame(np.random.standard_normal((2,4)),index=pd.date_range('2222-02-22',freq='W-WED',periods=2),\n",
    "                     columns=['pehlla','dusra','teesra','chautha'])\n",
    "\n",
    "framed"
   ]
  },
  {
   "cell_type": "code",
   "execution_count": 305,
   "id": "fatty-receipt",
   "metadata": {},
   "outputs": [],
   "source": [
    "# Now, if you want to upsample this data or do aggregation then it will lead to introduction of NA values"
   ]
  },
  {
   "cell_type": "code",
   "execution_count": 306,
   "id": "latin-inspiration",
   "metadata": {},
   "outputs": [
    {
     "data": {
      "text/html": [
       "<div>\n",
       "<style scoped>\n",
       "    .dataframe tbody tr th:only-of-type {\n",
       "        vertical-align: middle;\n",
       "    }\n",
       "\n",
       "    .dataframe tbody tr th {\n",
       "        vertical-align: top;\n",
       "    }\n",
       "\n",
       "    .dataframe thead th {\n",
       "        text-align: right;\n",
       "    }\n",
       "</style>\n",
       "<table border=\"1\" class=\"dataframe\">\n",
       "  <thead>\n",
       "    <tr style=\"text-align: right;\">\n",
       "      <th></th>\n",
       "      <th>pehlla</th>\n",
       "      <th>dusra</th>\n",
       "      <th>teesra</th>\n",
       "      <th>chautha</th>\n",
       "    </tr>\n",
       "  </thead>\n",
       "  <tbody>\n",
       "    <tr>\n",
       "      <th>2222-02-27</th>\n",
       "      <td>-0.272879</td>\n",
       "      <td>-1.333232</td>\n",
       "      <td>0.299501</td>\n",
       "      <td>1.387897</td>\n",
       "    </tr>\n",
       "    <tr>\n",
       "      <th>2222-02-28</th>\n",
       "      <td>NaN</td>\n",
       "      <td>NaN</td>\n",
       "      <td>NaN</td>\n",
       "      <td>NaN</td>\n",
       "    </tr>\n",
       "    <tr>\n",
       "      <th>2222-03-01</th>\n",
       "      <td>NaN</td>\n",
       "      <td>NaN</td>\n",
       "      <td>NaN</td>\n",
       "      <td>NaN</td>\n",
       "    </tr>\n",
       "    <tr>\n",
       "      <th>2222-03-02</th>\n",
       "      <td>NaN</td>\n",
       "      <td>NaN</td>\n",
       "      <td>NaN</td>\n",
       "      <td>NaN</td>\n",
       "    </tr>\n",
       "    <tr>\n",
       "      <th>2222-03-03</th>\n",
       "      <td>NaN</td>\n",
       "      <td>NaN</td>\n",
       "      <td>NaN</td>\n",
       "      <td>NaN</td>\n",
       "    </tr>\n",
       "    <tr>\n",
       "      <th>2222-03-04</th>\n",
       "      <td>NaN</td>\n",
       "      <td>NaN</td>\n",
       "      <td>NaN</td>\n",
       "      <td>NaN</td>\n",
       "    </tr>\n",
       "    <tr>\n",
       "      <th>2222-03-05</th>\n",
       "      <td>NaN</td>\n",
       "      <td>NaN</td>\n",
       "      <td>NaN</td>\n",
       "      <td>NaN</td>\n",
       "    </tr>\n",
       "    <tr>\n",
       "      <th>2222-03-06</th>\n",
       "      <td>1.737430</td>\n",
       "      <td>-1.754307</td>\n",
       "      <td>0.420940</td>\n",
       "      <td>-0.961027</td>\n",
       "    </tr>\n",
       "  </tbody>\n",
       "</table>\n",
       "</div>"
      ],
      "text/plain": [
       "              pehlla     dusra    teesra   chautha\n",
       "2222-02-27 -0.272879 -1.333232  0.299501  1.387897\n",
       "2222-02-28       NaN       NaN       NaN       NaN\n",
       "2222-03-01       NaN       NaN       NaN       NaN\n",
       "2222-03-02       NaN       NaN       NaN       NaN\n",
       "2222-03-03       NaN       NaN       NaN       NaN\n",
       "2222-03-04       NaN       NaN       NaN       NaN\n",
       "2222-03-05       NaN       NaN       NaN       NaN\n",
       "2222-03-06  1.737430 -1.754307  0.420940 -0.961027"
      ]
     },
     "execution_count": 306,
     "metadata": {},
     "output_type": "execute_result"
    }
   ],
   "source": [
    "framed.resample('24H').asfreq()"
   ]
  },
  {
   "cell_type": "code",
   "execution_count": 307,
   "id": "reliable-designer",
   "metadata": {},
   "outputs": [],
   "source": [
    "# Now, you can fill these values by using the pandas' filling and interpolation methods for resampling"
   ]
  },
  {
   "cell_type": "code",
   "execution_count": 308,
   "id": "flush-senator",
   "metadata": {},
   "outputs": [
    {
     "data": {
      "text/html": [
       "<div>\n",
       "<style scoped>\n",
       "    .dataframe tbody tr th:only-of-type {\n",
       "        vertical-align: middle;\n",
       "    }\n",
       "\n",
       "    .dataframe tbody tr th {\n",
       "        vertical-align: top;\n",
       "    }\n",
       "\n",
       "    .dataframe thead th {\n",
       "        text-align: right;\n",
       "    }\n",
       "</style>\n",
       "<table border=\"1\" class=\"dataframe\">\n",
       "  <thead>\n",
       "    <tr style=\"text-align: right;\">\n",
       "      <th></th>\n",
       "      <th>pehlla</th>\n",
       "      <th>dusra</th>\n",
       "      <th>teesra</th>\n",
       "      <th>chautha</th>\n",
       "    </tr>\n",
       "  </thead>\n",
       "  <tbody>\n",
       "    <tr>\n",
       "      <th>2222-02-27</th>\n",
       "      <td>-0.272879</td>\n",
       "      <td>-1.333232</td>\n",
       "      <td>0.299501</td>\n",
       "      <td>1.387897</td>\n",
       "    </tr>\n",
       "    <tr>\n",
       "      <th>2222-02-28</th>\n",
       "      <td>-0.272879</td>\n",
       "      <td>-1.333232</td>\n",
       "      <td>0.299501</td>\n",
       "      <td>1.387897</td>\n",
       "    </tr>\n",
       "    <tr>\n",
       "      <th>2222-03-01</th>\n",
       "      <td>-0.272879</td>\n",
       "      <td>-1.333232</td>\n",
       "      <td>0.299501</td>\n",
       "      <td>1.387897</td>\n",
       "    </tr>\n",
       "    <tr>\n",
       "      <th>2222-03-02</th>\n",
       "      <td>-0.272879</td>\n",
       "      <td>-1.333232</td>\n",
       "      <td>0.299501</td>\n",
       "      <td>1.387897</td>\n",
       "    </tr>\n",
       "    <tr>\n",
       "      <th>2222-03-03</th>\n",
       "      <td>-0.272879</td>\n",
       "      <td>-1.333232</td>\n",
       "      <td>0.299501</td>\n",
       "      <td>1.387897</td>\n",
       "    </tr>\n",
       "    <tr>\n",
       "      <th>2222-03-04</th>\n",
       "      <td>-0.272879</td>\n",
       "      <td>-1.333232</td>\n",
       "      <td>0.299501</td>\n",
       "      <td>1.387897</td>\n",
       "    </tr>\n",
       "    <tr>\n",
       "      <th>2222-03-05</th>\n",
       "      <td>-0.272879</td>\n",
       "      <td>-1.333232</td>\n",
       "      <td>0.299501</td>\n",
       "      <td>1.387897</td>\n",
       "    </tr>\n",
       "    <tr>\n",
       "      <th>2222-03-06</th>\n",
       "      <td>1.737430</td>\n",
       "      <td>-1.754307</td>\n",
       "      <td>0.420940</td>\n",
       "      <td>-0.961027</td>\n",
       "    </tr>\n",
       "  </tbody>\n",
       "</table>\n",
       "</div>"
      ],
      "text/plain": [
       "              pehlla     dusra    teesra   chautha\n",
       "2222-02-27 -0.272879 -1.333232  0.299501  1.387897\n",
       "2222-02-28 -0.272879 -1.333232  0.299501  1.387897\n",
       "2222-03-01 -0.272879 -1.333232  0.299501  1.387897\n",
       "2222-03-02 -0.272879 -1.333232  0.299501  1.387897\n",
       "2222-03-03 -0.272879 -1.333232  0.299501  1.387897\n",
       "2222-03-04 -0.272879 -1.333232  0.299501  1.387897\n",
       "2222-03-05 -0.272879 -1.333232  0.299501  1.387897\n",
       "2222-03-06  1.737430 -1.754307  0.420940 -0.961027"
      ]
     },
     "execution_count": 308,
     "metadata": {},
     "output_type": "execute_result"
    }
   ],
   "source": [
    "framed.resample('D').ffill()"
   ]
  },
  {
   "cell_type": "code",
   "execution_count": 309,
   "id": "dated-sperm",
   "metadata": {},
   "outputs": [],
   "source": [
    "# similarly you can also set the limit till the values should fill"
   ]
  },
  {
   "cell_type": "code",
   "execution_count": 310,
   "id": "elect-playback",
   "metadata": {},
   "outputs": [
    {
     "data": {
      "text/html": [
       "<div>\n",
       "<style scoped>\n",
       "    .dataframe tbody tr th:only-of-type {\n",
       "        vertical-align: middle;\n",
       "    }\n",
       "\n",
       "    .dataframe tbody tr th {\n",
       "        vertical-align: top;\n",
       "    }\n",
       "\n",
       "    .dataframe thead th {\n",
       "        text-align: right;\n",
       "    }\n",
       "</style>\n",
       "<table border=\"1\" class=\"dataframe\">\n",
       "  <thead>\n",
       "    <tr style=\"text-align: right;\">\n",
       "      <th></th>\n",
       "      <th>pehlla</th>\n",
       "      <th>dusra</th>\n",
       "      <th>teesra</th>\n",
       "      <th>chautha</th>\n",
       "    </tr>\n",
       "  </thead>\n",
       "  <tbody>\n",
       "    <tr>\n",
       "      <th>2222-02-27</th>\n",
       "      <td>-0.272879</td>\n",
       "      <td>-1.333232</td>\n",
       "      <td>0.299501</td>\n",
       "      <td>1.387897</td>\n",
       "    </tr>\n",
       "    <tr>\n",
       "      <th>2222-02-28</th>\n",
       "      <td>-0.272879</td>\n",
       "      <td>-1.333232</td>\n",
       "      <td>0.299501</td>\n",
       "      <td>1.387897</td>\n",
       "    </tr>\n",
       "    <tr>\n",
       "      <th>2222-03-01</th>\n",
       "      <td>-0.272879</td>\n",
       "      <td>-1.333232</td>\n",
       "      <td>0.299501</td>\n",
       "      <td>1.387897</td>\n",
       "    </tr>\n",
       "    <tr>\n",
       "      <th>2222-03-02</th>\n",
       "      <td>-0.272879</td>\n",
       "      <td>-1.333232</td>\n",
       "      <td>0.299501</td>\n",
       "      <td>1.387897</td>\n",
       "    </tr>\n",
       "    <tr>\n",
       "      <th>2222-03-03</th>\n",
       "      <td>-0.272879</td>\n",
       "      <td>-1.333232</td>\n",
       "      <td>0.299501</td>\n",
       "      <td>1.387897</td>\n",
       "    </tr>\n",
       "    <tr>\n",
       "      <th>2222-03-04</th>\n",
       "      <td>NaN</td>\n",
       "      <td>NaN</td>\n",
       "      <td>NaN</td>\n",
       "      <td>NaN</td>\n",
       "    </tr>\n",
       "    <tr>\n",
       "      <th>2222-03-05</th>\n",
       "      <td>NaN</td>\n",
       "      <td>NaN</td>\n",
       "      <td>NaN</td>\n",
       "      <td>NaN</td>\n",
       "    </tr>\n",
       "    <tr>\n",
       "      <th>2222-03-06</th>\n",
       "      <td>1.737430</td>\n",
       "      <td>-1.754307</td>\n",
       "      <td>0.420940</td>\n",
       "      <td>-0.961027</td>\n",
       "    </tr>\n",
       "  </tbody>\n",
       "</table>\n",
       "</div>"
      ],
      "text/plain": [
       "              pehlla     dusra    teesra   chautha\n",
       "2222-02-27 -0.272879 -1.333232  0.299501  1.387897\n",
       "2222-02-28 -0.272879 -1.333232  0.299501  1.387897\n",
       "2222-03-01 -0.272879 -1.333232  0.299501  1.387897\n",
       "2222-03-02 -0.272879 -1.333232  0.299501  1.387897\n",
       "2222-03-03 -0.272879 -1.333232  0.299501  1.387897\n",
       "2222-03-04       NaN       NaN       NaN       NaN\n",
       "2222-03-05       NaN       NaN       NaN       NaN\n",
       "2222-03-06  1.737430 -1.754307  0.420940 -0.961027"
      ]
     },
     "execution_count": 310,
     "metadata": {},
     "output_type": "execute_result"
    }
   ],
   "source": [
    "framed.resample('D').ffill(limit=4)"
   ]
  },
  {
   "cell_type": "markdown",
   "id": "equal-smoke",
   "metadata": {},
   "source": [
    "### Resampling with Periods"
   ]
  },
  {
   "cell_type": "code",
   "execution_count": 311,
   "id": "greenhouse-agent",
   "metadata": {},
   "outputs": [],
   "source": [
    "# Resampling with data with index as periods is similar to resampling with normal indexed data"
   ]
  },
  {
   "cell_type": "code",
   "execution_count": 312,
   "id": "noble-contribution",
   "metadata": {},
   "outputs": [
    {
     "data": {
      "text/html": [
       "<div>\n",
       "<style scoped>\n",
       "    .dataframe tbody tr th:only-of-type {\n",
       "        vertical-align: middle;\n",
       "    }\n",
       "\n",
       "    .dataframe tbody tr th {\n",
       "        vertical-align: top;\n",
       "    }\n",
       "\n",
       "    .dataframe thead th {\n",
       "        text-align: right;\n",
       "    }\n",
       "</style>\n",
       "<table border=\"1\" class=\"dataframe\">\n",
       "  <thead>\n",
       "    <tr style=\"text-align: right;\">\n",
       "      <th></th>\n",
       "      <th>ek</th>\n",
       "      <th>do</th>\n",
       "      <th>teen</th>\n",
       "      <th>chaar</th>\n",
       "    </tr>\n",
       "  </thead>\n",
       "  <tbody>\n",
       "    <tr>\n",
       "      <th>2000-01</th>\n",
       "      <td>0.884230</td>\n",
       "      <td>-0.381188</td>\n",
       "      <td>-0.742184</td>\n",
       "      <td>-1.158319</td>\n",
       "    </tr>\n",
       "    <tr>\n",
       "      <th>2000-02</th>\n",
       "      <td>-1.811665</td>\n",
       "      <td>-0.345194</td>\n",
       "      <td>-0.887032</td>\n",
       "      <td>1.707497</td>\n",
       "    </tr>\n",
       "    <tr>\n",
       "      <th>2000-03</th>\n",
       "      <td>-0.325145</td>\n",
       "      <td>-0.806570</td>\n",
       "      <td>-1.220062</td>\n",
       "      <td>-0.623296</td>\n",
       "    </tr>\n",
       "    <tr>\n",
       "      <th>2000-04</th>\n",
       "      <td>2.014163</td>\n",
       "      <td>-0.442290</td>\n",
       "      <td>-1.722649</td>\n",
       "      <td>-0.723374</td>\n",
       "    </tr>\n",
       "    <tr>\n",
       "      <th>2000-05</th>\n",
       "      <td>-1.280846</td>\n",
       "      <td>1.559960</td>\n",
       "      <td>0.604084</td>\n",
       "      <td>-0.941983</td>\n",
       "    </tr>\n",
       "    <tr>\n",
       "      <th>2000-06</th>\n",
       "      <td>-0.701250</td>\n",
       "      <td>0.435625</td>\n",
       "      <td>0.391406</td>\n",
       "      <td>-0.510367</td>\n",
       "    </tr>\n",
       "    <tr>\n",
       "      <th>2000-07</th>\n",
       "      <td>-0.414497</td>\n",
       "      <td>1.158232</td>\n",
       "      <td>-0.505682</td>\n",
       "      <td>-0.363133</td>\n",
       "    </tr>\n",
       "    <tr>\n",
       "      <th>2000-08</th>\n",
       "      <td>0.629696</td>\n",
       "      <td>-0.733700</td>\n",
       "      <td>1.391448</td>\n",
       "      <td>0.161085</td>\n",
       "    </tr>\n",
       "    <tr>\n",
       "      <th>2000-09</th>\n",
       "      <td>0.055928</td>\n",
       "      <td>0.157079</td>\n",
       "      <td>-0.629195</td>\n",
       "      <td>0.554578</td>\n",
       "    </tr>\n",
       "    <tr>\n",
       "      <th>2000-10</th>\n",
       "      <td>-2.229476</td>\n",
       "      <td>-1.907648</td>\n",
       "      <td>0.348354</td>\n",
       "      <td>-0.132386</td>\n",
       "    </tr>\n",
       "    <tr>\n",
       "      <th>2000-11</th>\n",
       "      <td>0.498625</td>\n",
       "      <td>1.058261</td>\n",
       "      <td>1.606644</td>\n",
       "      <td>0.219472</td>\n",
       "    </tr>\n",
       "    <tr>\n",
       "      <th>2000-12</th>\n",
       "      <td>-0.627448</td>\n",
       "      <td>-0.244735</td>\n",
       "      <td>0.237330</td>\n",
       "      <td>0.111380</td>\n",
       "    </tr>\n",
       "    <tr>\n",
       "      <th>2001-01</th>\n",
       "      <td>-0.686290</td>\n",
       "      <td>2.088237</td>\n",
       "      <td>0.615629</td>\n",
       "      <td>-0.528527</td>\n",
       "    </tr>\n",
       "    <tr>\n",
       "      <th>2001-02</th>\n",
       "      <td>0.698194</td>\n",
       "      <td>1.179557</td>\n",
       "      <td>1.334940</td>\n",
       "      <td>1.171778</td>\n",
       "    </tr>\n",
       "    <tr>\n",
       "      <th>2001-03</th>\n",
       "      <td>-0.301549</td>\n",
       "      <td>-1.829331</td>\n",
       "      <td>-1.047843</td>\n",
       "      <td>-0.080119</td>\n",
       "    </tr>\n",
       "    <tr>\n",
       "      <th>2001-04</th>\n",
       "      <td>-0.799693</td>\n",
       "      <td>-1.742409</td>\n",
       "      <td>0.688755</td>\n",
       "      <td>1.328781</td>\n",
       "    </tr>\n",
       "    <tr>\n",
       "      <th>2001-05</th>\n",
       "      <td>-0.244896</td>\n",
       "      <td>1.945365</td>\n",
       "      <td>-1.488000</td>\n",
       "      <td>1.545411</td>\n",
       "    </tr>\n",
       "    <tr>\n",
       "      <th>2001-06</th>\n",
       "      <td>0.994747</td>\n",
       "      <td>1.014411</td>\n",
       "      <td>1.710491</td>\n",
       "      <td>-1.085344</td>\n",
       "    </tr>\n",
       "    <tr>\n",
       "      <th>2001-07</th>\n",
       "      <td>0.736427</td>\n",
       "      <td>-0.248941</td>\n",
       "      <td>-0.634434</td>\n",
       "      <td>-0.788241</td>\n",
       "    </tr>\n",
       "    <tr>\n",
       "      <th>2001-08</th>\n",
       "      <td>2.004663</td>\n",
       "      <td>0.323994</td>\n",
       "      <td>0.323690</td>\n",
       "      <td>1.388671</td>\n",
       "    </tr>\n",
       "    <tr>\n",
       "      <th>2001-09</th>\n",
       "      <td>-1.103811</td>\n",
       "      <td>-0.426905</td>\n",
       "      <td>-1.087836</td>\n",
       "      <td>-0.188067</td>\n",
       "    </tr>\n",
       "    <tr>\n",
       "      <th>2001-10</th>\n",
       "      <td>1.086939</td>\n",
       "      <td>1.498537</td>\n",
       "      <td>-0.007015</td>\n",
       "      <td>-1.335007</td>\n",
       "    </tr>\n",
       "    <tr>\n",
       "      <th>2001-11</th>\n",
       "      <td>-1.360575</td>\n",
       "      <td>1.066470</td>\n",
       "      <td>-1.173446</td>\n",
       "      <td>-0.167708</td>\n",
       "    </tr>\n",
       "    <tr>\n",
       "      <th>2001-12</th>\n",
       "      <td>-0.316479</td>\n",
       "      <td>-0.316958</td>\n",
       "      <td>-0.399248</td>\n",
       "      <td>-1.003117</td>\n",
       "    </tr>\n",
       "  </tbody>\n",
       "</table>\n",
       "</div>"
      ],
      "text/plain": [
       "               ek        do      teen     chaar\n",
       "2000-01  0.884230 -0.381188 -0.742184 -1.158319\n",
       "2000-02 -1.811665 -0.345194 -0.887032  1.707497\n",
       "2000-03 -0.325145 -0.806570 -1.220062 -0.623296\n",
       "2000-04  2.014163 -0.442290 -1.722649 -0.723374\n",
       "2000-05 -1.280846  1.559960  0.604084 -0.941983\n",
       "2000-06 -0.701250  0.435625  0.391406 -0.510367\n",
       "2000-07 -0.414497  1.158232 -0.505682 -0.363133\n",
       "2000-08  0.629696 -0.733700  1.391448  0.161085\n",
       "2000-09  0.055928  0.157079 -0.629195  0.554578\n",
       "2000-10 -2.229476 -1.907648  0.348354 -0.132386\n",
       "2000-11  0.498625  1.058261  1.606644  0.219472\n",
       "2000-12 -0.627448 -0.244735  0.237330  0.111380\n",
       "2001-01 -0.686290  2.088237  0.615629 -0.528527\n",
       "2001-02  0.698194  1.179557  1.334940  1.171778\n",
       "2001-03 -0.301549 -1.829331 -1.047843 -0.080119\n",
       "2001-04 -0.799693 -1.742409  0.688755  1.328781\n",
       "2001-05 -0.244896  1.945365 -1.488000  1.545411\n",
       "2001-06  0.994747  1.014411  1.710491 -1.085344\n",
       "2001-07  0.736427 -0.248941 -0.634434 -0.788241\n",
       "2001-08  2.004663  0.323994  0.323690  1.388671\n",
       "2001-09 -1.103811 -0.426905 -1.087836 -0.188067\n",
       "2001-10  1.086939  1.498537 -0.007015 -1.335007\n",
       "2001-11 -1.360575  1.066470 -1.173446 -0.167708\n",
       "2001-12 -0.316479 -0.316958 -0.399248 -1.003117"
      ]
     },
     "execution_count": 312,
     "metadata": {},
     "output_type": "execute_result"
    }
   ],
   "source": [
    "framres = pd.DataFrame(np.random.standard_normal((24,4)),\n",
    "                      index= pd.period_range('2000-01','2001-12',freq='M'),\n",
    "                      columns=['ek','do','teen','chaar'])\n",
    "\n",
    "framres"
   ]
  },
  {
   "cell_type": "code",
   "execution_count": 313,
   "id": "silver-injury",
   "metadata": {},
   "outputs": [],
   "source": [
    "annualframres = framres.resample('A-DEC').mean()"
   ]
  },
  {
   "cell_type": "code",
   "execution_count": 314,
   "id": "suspended-theology",
   "metadata": {},
   "outputs": [],
   "source": [
    "# Now, when upsampling this data based on quaterly values, it is important to use the fill function and also to state\n",
    "# where you want to place the new values i.e in start or end. Default is start"
   ]
  },
  {
   "cell_type": "code",
   "execution_count": 315,
   "id": "studied-powell",
   "metadata": {},
   "outputs": [
    {
     "data": {
      "text/html": [
       "<div>\n",
       "<style scoped>\n",
       "    .dataframe tbody tr th:only-of-type {\n",
       "        vertical-align: middle;\n",
       "    }\n",
       "\n",
       "    .dataframe tbody tr th {\n",
       "        vertical-align: top;\n",
       "    }\n",
       "\n",
       "    .dataframe thead th {\n",
       "        text-align: right;\n",
       "    }\n",
       "</style>\n",
       "<table border=\"1\" class=\"dataframe\">\n",
       "  <thead>\n",
       "    <tr style=\"text-align: right;\">\n",
       "      <th></th>\n",
       "      <th>ek</th>\n",
       "      <th>do</th>\n",
       "      <th>teen</th>\n",
       "      <th>chaar</th>\n",
       "    </tr>\n",
       "  </thead>\n",
       "  <tbody>\n",
       "    <tr>\n",
       "      <th>2000Q1</th>\n",
       "      <td>-0.275640</td>\n",
       "      <td>-0.041014</td>\n",
       "      <td>-0.093961</td>\n",
       "      <td>-0.141570</td>\n",
       "    </tr>\n",
       "    <tr>\n",
       "      <th>2000Q2</th>\n",
       "      <td>NaN</td>\n",
       "      <td>NaN</td>\n",
       "      <td>NaN</td>\n",
       "      <td>NaN</td>\n",
       "    </tr>\n",
       "    <tr>\n",
       "      <th>2000Q3</th>\n",
       "      <td>NaN</td>\n",
       "      <td>NaN</td>\n",
       "      <td>NaN</td>\n",
       "      <td>NaN</td>\n",
       "    </tr>\n",
       "    <tr>\n",
       "      <th>2000Q4</th>\n",
       "      <td>NaN</td>\n",
       "      <td>NaN</td>\n",
       "      <td>NaN</td>\n",
       "      <td>NaN</td>\n",
       "    </tr>\n",
       "    <tr>\n",
       "      <th>2001Q1</th>\n",
       "      <td>0.058973</td>\n",
       "      <td>0.379336</td>\n",
       "      <td>-0.097026</td>\n",
       "      <td>0.021543</td>\n",
       "    </tr>\n",
       "    <tr>\n",
       "      <th>2001Q2</th>\n",
       "      <td>NaN</td>\n",
       "      <td>NaN</td>\n",
       "      <td>NaN</td>\n",
       "      <td>NaN</td>\n",
       "    </tr>\n",
       "    <tr>\n",
       "      <th>2001Q3</th>\n",
       "      <td>NaN</td>\n",
       "      <td>NaN</td>\n",
       "      <td>NaN</td>\n",
       "      <td>NaN</td>\n",
       "    </tr>\n",
       "    <tr>\n",
       "      <th>2001Q4</th>\n",
       "      <td>NaN</td>\n",
       "      <td>NaN</td>\n",
       "      <td>NaN</td>\n",
       "      <td>NaN</td>\n",
       "    </tr>\n",
       "  </tbody>\n",
       "</table>\n",
       "</div>"
      ],
      "text/plain": [
       "              ek        do      teen     chaar\n",
       "2000Q1 -0.275640 -0.041014 -0.093961 -0.141570\n",
       "2000Q2       NaN       NaN       NaN       NaN\n",
       "2000Q3       NaN       NaN       NaN       NaN\n",
       "2000Q4       NaN       NaN       NaN       NaN\n",
       "2001Q1  0.058973  0.379336 -0.097026  0.021543\n",
       "2001Q2       NaN       NaN       NaN       NaN\n",
       "2001Q3       NaN       NaN       NaN       NaN\n",
       "2001Q4       NaN       NaN       NaN       NaN"
      ]
     },
     "execution_count": 315,
     "metadata": {},
     "output_type": "execute_result"
    }
   ],
   "source": [
    "annualframres.resample('Q-DEC').mean()\n",
    "# quaterly year ending in december\n",
    "# It is decided by pandas in default which month will belong in which quarter"
   ]
  },
  {
   "cell_type": "code",
   "execution_count": 316,
   "id": "joined-beaver",
   "metadata": {},
   "outputs": [
    {
     "data": {
      "text/html": [
       "<div>\n",
       "<style scoped>\n",
       "    .dataframe tbody tr th:only-of-type {\n",
       "        vertical-align: middle;\n",
       "    }\n",
       "\n",
       "    .dataframe tbody tr th {\n",
       "        vertical-align: top;\n",
       "    }\n",
       "\n",
       "    .dataframe thead th {\n",
       "        text-align: right;\n",
       "    }\n",
       "</style>\n",
       "<table border=\"1\" class=\"dataframe\">\n",
       "  <thead>\n",
       "    <tr style=\"text-align: right;\">\n",
       "      <th></th>\n",
       "      <th>ek</th>\n",
       "      <th>do</th>\n",
       "      <th>teen</th>\n",
       "      <th>chaar</th>\n",
       "    </tr>\n",
       "  </thead>\n",
       "  <tbody>\n",
       "    <tr>\n",
       "      <th>2000Q1</th>\n",
       "      <td>-0.275640</td>\n",
       "      <td>-0.041014</td>\n",
       "      <td>-0.093961</td>\n",
       "      <td>-0.141570</td>\n",
       "    </tr>\n",
       "    <tr>\n",
       "      <th>2000Q2</th>\n",
       "      <td>-0.275640</td>\n",
       "      <td>-0.041014</td>\n",
       "      <td>-0.093961</td>\n",
       "      <td>-0.141570</td>\n",
       "    </tr>\n",
       "    <tr>\n",
       "      <th>2000Q3</th>\n",
       "      <td>-0.275640</td>\n",
       "      <td>-0.041014</td>\n",
       "      <td>-0.093961</td>\n",
       "      <td>-0.141570</td>\n",
       "    </tr>\n",
       "    <tr>\n",
       "      <th>2000Q4</th>\n",
       "      <td>-0.275640</td>\n",
       "      <td>-0.041014</td>\n",
       "      <td>-0.093961</td>\n",
       "      <td>-0.141570</td>\n",
       "    </tr>\n",
       "    <tr>\n",
       "      <th>2001Q1</th>\n",
       "      <td>0.058973</td>\n",
       "      <td>0.379336</td>\n",
       "      <td>-0.097026</td>\n",
       "      <td>0.021543</td>\n",
       "    </tr>\n",
       "    <tr>\n",
       "      <th>2001Q2</th>\n",
       "      <td>0.058973</td>\n",
       "      <td>0.379336</td>\n",
       "      <td>-0.097026</td>\n",
       "      <td>0.021543</td>\n",
       "    </tr>\n",
       "    <tr>\n",
       "      <th>2001Q3</th>\n",
       "      <td>0.058973</td>\n",
       "      <td>0.379336</td>\n",
       "      <td>-0.097026</td>\n",
       "      <td>0.021543</td>\n",
       "    </tr>\n",
       "    <tr>\n",
       "      <th>2001Q4</th>\n",
       "      <td>0.058973</td>\n",
       "      <td>0.379336</td>\n",
       "      <td>-0.097026</td>\n",
       "      <td>0.021543</td>\n",
       "    </tr>\n",
       "  </tbody>\n",
       "</table>\n",
       "</div>"
      ],
      "text/plain": [
       "              ek        do      teen     chaar\n",
       "2000Q1 -0.275640 -0.041014 -0.093961 -0.141570\n",
       "2000Q2 -0.275640 -0.041014 -0.093961 -0.141570\n",
       "2000Q3 -0.275640 -0.041014 -0.093961 -0.141570\n",
       "2000Q4 -0.275640 -0.041014 -0.093961 -0.141570\n",
       "2001Q1  0.058973  0.379336 -0.097026  0.021543\n",
       "2001Q2  0.058973  0.379336 -0.097026  0.021543\n",
       "2001Q3  0.058973  0.379336 -0.097026  0.021543\n",
       "2001Q4  0.058973  0.379336 -0.097026  0.021543"
      ]
     },
     "execution_count": 316,
     "metadata": {},
     "output_type": "execute_result"
    }
   ],
   "source": [
    "annualframres.resample('Q-DEC').ffill()"
   ]
  },
  {
   "cell_type": "code",
   "execution_count": 317,
   "id": "tired-airline",
   "metadata": {},
   "outputs": [
    {
     "data": {
      "text/html": [
       "<div>\n",
       "<style scoped>\n",
       "    .dataframe tbody tr th:only-of-type {\n",
       "        vertical-align: middle;\n",
       "    }\n",
       "\n",
       "    .dataframe tbody tr th {\n",
       "        vertical-align: top;\n",
       "    }\n",
       "\n",
       "    .dataframe thead th {\n",
       "        text-align: right;\n",
       "    }\n",
       "</style>\n",
       "<table border=\"1\" class=\"dataframe\">\n",
       "  <thead>\n",
       "    <tr style=\"text-align: right;\">\n",
       "      <th></th>\n",
       "      <th>ek</th>\n",
       "      <th>do</th>\n",
       "      <th>teen</th>\n",
       "      <th>chaar</th>\n",
       "    </tr>\n",
       "  </thead>\n",
       "  <tbody>\n",
       "    <tr>\n",
       "      <th>2000Q4</th>\n",
       "      <td>-0.275640</td>\n",
       "      <td>-0.041014</td>\n",
       "      <td>-0.093961</td>\n",
       "      <td>-0.141570</td>\n",
       "    </tr>\n",
       "    <tr>\n",
       "      <th>2001Q1</th>\n",
       "      <td>NaN</td>\n",
       "      <td>NaN</td>\n",
       "      <td>NaN</td>\n",
       "      <td>NaN</td>\n",
       "    </tr>\n",
       "    <tr>\n",
       "      <th>2001Q2</th>\n",
       "      <td>NaN</td>\n",
       "      <td>NaN</td>\n",
       "      <td>NaN</td>\n",
       "      <td>NaN</td>\n",
       "    </tr>\n",
       "    <tr>\n",
       "      <th>2001Q3</th>\n",
       "      <td>NaN</td>\n",
       "      <td>NaN</td>\n",
       "      <td>NaN</td>\n",
       "      <td>NaN</td>\n",
       "    </tr>\n",
       "    <tr>\n",
       "      <th>2001Q4</th>\n",
       "      <td>0.058973</td>\n",
       "      <td>0.379336</td>\n",
       "      <td>-0.097026</td>\n",
       "      <td>0.021543</td>\n",
       "    </tr>\n",
       "  </tbody>\n",
       "</table>\n",
       "</div>"
      ],
      "text/plain": [
       "              ek        do      teen     chaar\n",
       "2000Q4 -0.275640 -0.041014 -0.093961 -0.141570\n",
       "2001Q1       NaN       NaN       NaN       NaN\n",
       "2001Q2       NaN       NaN       NaN       NaN\n",
       "2001Q3       NaN       NaN       NaN       NaN\n",
       "2001Q4  0.058973  0.379336 -0.097026  0.021543"
      ]
     },
     "execution_count": 317,
     "metadata": {},
     "output_type": "execute_result"
    }
   ],
   "source": [
    "annualframres.resample('Q-DEC',convention='end').asfreq()"
   ]
  },
  {
   "cell_type": "code",
   "execution_count": 318,
   "id": "taken-copper",
   "metadata": {},
   "outputs": [
    {
     "data": {
      "text/html": [
       "<div>\n",
       "<style scoped>\n",
       "    .dataframe tbody tr th:only-of-type {\n",
       "        vertical-align: middle;\n",
       "    }\n",
       "\n",
       "    .dataframe tbody tr th {\n",
       "        vertical-align: top;\n",
       "    }\n",
       "\n",
       "    .dataframe thead th {\n",
       "        text-align: right;\n",
       "    }\n",
       "</style>\n",
       "<table border=\"1\" class=\"dataframe\">\n",
       "  <thead>\n",
       "    <tr style=\"text-align: right;\">\n",
       "      <th></th>\n",
       "      <th>ek</th>\n",
       "      <th>do</th>\n",
       "      <th>teen</th>\n",
       "      <th>chaar</th>\n",
       "    </tr>\n",
       "  </thead>\n",
       "  <tbody>\n",
       "    <tr>\n",
       "      <th>2000Q4</th>\n",
       "      <td>-0.275640</td>\n",
       "      <td>-0.041014</td>\n",
       "      <td>-0.093961</td>\n",
       "      <td>-0.141570</td>\n",
       "    </tr>\n",
       "    <tr>\n",
       "      <th>2001Q1</th>\n",
       "      <td>NaN</td>\n",
       "      <td>NaN</td>\n",
       "      <td>NaN</td>\n",
       "      <td>NaN</td>\n",
       "    </tr>\n",
       "    <tr>\n",
       "      <th>2001Q2</th>\n",
       "      <td>NaN</td>\n",
       "      <td>NaN</td>\n",
       "      <td>NaN</td>\n",
       "      <td>NaN</td>\n",
       "    </tr>\n",
       "    <tr>\n",
       "      <th>2001Q3</th>\n",
       "      <td>NaN</td>\n",
       "      <td>NaN</td>\n",
       "      <td>NaN</td>\n",
       "      <td>NaN</td>\n",
       "    </tr>\n",
       "    <tr>\n",
       "      <th>2001Q4</th>\n",
       "      <td>0.058973</td>\n",
       "      <td>0.379336</td>\n",
       "      <td>-0.097026</td>\n",
       "      <td>0.021543</td>\n",
       "    </tr>\n",
       "    <tr>\n",
       "      <th>2002Q1</th>\n",
       "      <td>NaN</td>\n",
       "      <td>NaN</td>\n",
       "      <td>NaN</td>\n",
       "      <td>NaN</td>\n",
       "    </tr>\n",
       "    <tr>\n",
       "      <th>2002Q2</th>\n",
       "      <td>NaN</td>\n",
       "      <td>NaN</td>\n",
       "      <td>NaN</td>\n",
       "      <td>NaN</td>\n",
       "    </tr>\n",
       "    <tr>\n",
       "      <th>2002Q3</th>\n",
       "      <td>NaN</td>\n",
       "      <td>NaN</td>\n",
       "      <td>NaN</td>\n",
       "      <td>NaN</td>\n",
       "    </tr>\n",
       "  </tbody>\n",
       "</table>\n",
       "</div>"
      ],
      "text/plain": [
       "              ek        do      teen     chaar\n",
       "2000Q4 -0.275640 -0.041014 -0.093961 -0.141570\n",
       "2001Q1       NaN       NaN       NaN       NaN\n",
       "2001Q2       NaN       NaN       NaN       NaN\n",
       "2001Q3       NaN       NaN       NaN       NaN\n",
       "2001Q4  0.058973  0.379336 -0.097026  0.021543\n",
       "2002Q1       NaN       NaN       NaN       NaN\n",
       "2002Q2       NaN       NaN       NaN       NaN\n",
       "2002Q3       NaN       NaN       NaN       NaN"
      ]
     },
     "execution_count": 318,
     "metadata": {},
     "output_type": "execute_result"
    }
   ],
   "source": [
    "annualframres.resample('Q-MAR').mean()"
   ]
  },
  {
   "cell_type": "code",
   "execution_count": 319,
   "id": "chronic-arlington",
   "metadata": {},
   "outputs": [
    {
     "data": {
      "text/html": [
       "<div>\n",
       "<style scoped>\n",
       "    .dataframe tbody tr th:only-of-type {\n",
       "        vertical-align: middle;\n",
       "    }\n",
       "\n",
       "    .dataframe tbody tr th {\n",
       "        vertical-align: top;\n",
       "    }\n",
       "\n",
       "    .dataframe thead th {\n",
       "        text-align: right;\n",
       "    }\n",
       "</style>\n",
       "<table border=\"1\" class=\"dataframe\">\n",
       "  <thead>\n",
       "    <tr style=\"text-align: right;\">\n",
       "      <th></th>\n",
       "      <th>ek</th>\n",
       "      <th>do</th>\n",
       "      <th>teen</th>\n",
       "      <th>chaar</th>\n",
       "    </tr>\n",
       "  </thead>\n",
       "  <tbody>\n",
       "    <tr>\n",
       "      <th>2000Q3</th>\n",
       "      <td>-0.275640</td>\n",
       "      <td>-0.041014</td>\n",
       "      <td>-0.093961</td>\n",
       "      <td>-0.141570</td>\n",
       "    </tr>\n",
       "    <tr>\n",
       "      <th>2000Q4</th>\n",
       "      <td>NaN</td>\n",
       "      <td>NaN</td>\n",
       "      <td>NaN</td>\n",
       "      <td>NaN</td>\n",
       "    </tr>\n",
       "    <tr>\n",
       "      <th>2001Q1</th>\n",
       "      <td>NaN</td>\n",
       "      <td>NaN</td>\n",
       "      <td>NaN</td>\n",
       "      <td>NaN</td>\n",
       "    </tr>\n",
       "    <tr>\n",
       "      <th>2001Q2</th>\n",
       "      <td>NaN</td>\n",
       "      <td>NaN</td>\n",
       "      <td>NaN</td>\n",
       "      <td>NaN</td>\n",
       "    </tr>\n",
       "    <tr>\n",
       "      <th>2001Q3</th>\n",
       "      <td>0.058973</td>\n",
       "      <td>0.379336</td>\n",
       "      <td>-0.097026</td>\n",
       "      <td>0.021543</td>\n",
       "    </tr>\n",
       "    <tr>\n",
       "      <th>2001Q4</th>\n",
       "      <td>NaN</td>\n",
       "      <td>NaN</td>\n",
       "      <td>NaN</td>\n",
       "      <td>NaN</td>\n",
       "    </tr>\n",
       "    <tr>\n",
       "      <th>2002Q1</th>\n",
       "      <td>NaN</td>\n",
       "      <td>NaN</td>\n",
       "      <td>NaN</td>\n",
       "      <td>NaN</td>\n",
       "    </tr>\n",
       "    <tr>\n",
       "      <th>2002Q2</th>\n",
       "      <td>NaN</td>\n",
       "      <td>NaN</td>\n",
       "      <td>NaN</td>\n",
       "      <td>NaN</td>\n",
       "    </tr>\n",
       "  </tbody>\n",
       "</table>\n",
       "</div>"
      ],
      "text/plain": [
       "              ek        do      teen     chaar\n",
       "2000Q3 -0.275640 -0.041014 -0.093961 -0.141570\n",
       "2000Q4       NaN       NaN       NaN       NaN\n",
       "2001Q1       NaN       NaN       NaN       NaN\n",
       "2001Q2       NaN       NaN       NaN       NaN\n",
       "2001Q3  0.058973  0.379336 -0.097026  0.021543\n",
       "2001Q4       NaN       NaN       NaN       NaN\n",
       "2002Q1       NaN       NaN       NaN       NaN\n",
       "2002Q2       NaN       NaN       NaN       NaN"
      ]
     },
     "execution_count": 319,
     "metadata": {},
     "output_type": "execute_result"
    }
   ],
   "source": [
    "annualframres.resample('Q-JUN').mean()"
   ]
  },
  {
   "cell_type": "code",
   "execution_count": 320,
   "id": "seventh-sterling",
   "metadata": {},
   "outputs": [
    {
     "data": {
      "text/html": [
       "<div>\n",
       "<style scoped>\n",
       "    .dataframe tbody tr th:only-of-type {\n",
       "        vertical-align: middle;\n",
       "    }\n",
       "\n",
       "    .dataframe tbody tr th {\n",
       "        vertical-align: top;\n",
       "    }\n",
       "\n",
       "    .dataframe thead th {\n",
       "        text-align: right;\n",
       "    }\n",
       "</style>\n",
       "<table border=\"1\" class=\"dataframe\">\n",
       "  <thead>\n",
       "    <tr style=\"text-align: right;\">\n",
       "      <th></th>\n",
       "      <th>ek</th>\n",
       "      <th>do</th>\n",
       "      <th>teen</th>\n",
       "      <th>chaar</th>\n",
       "    </tr>\n",
       "  </thead>\n",
       "  <tbody>\n",
       "    <tr>\n",
       "      <th>2000Q2</th>\n",
       "      <td>-0.275640</td>\n",
       "      <td>-0.041014</td>\n",
       "      <td>-0.093961</td>\n",
       "      <td>-0.141570</td>\n",
       "    </tr>\n",
       "    <tr>\n",
       "      <th>2000Q3</th>\n",
       "      <td>NaN</td>\n",
       "      <td>NaN</td>\n",
       "      <td>NaN</td>\n",
       "      <td>NaN</td>\n",
       "    </tr>\n",
       "    <tr>\n",
       "      <th>2000Q4</th>\n",
       "      <td>NaN</td>\n",
       "      <td>NaN</td>\n",
       "      <td>NaN</td>\n",
       "      <td>NaN</td>\n",
       "    </tr>\n",
       "    <tr>\n",
       "      <th>2001Q1</th>\n",
       "      <td>NaN</td>\n",
       "      <td>NaN</td>\n",
       "      <td>NaN</td>\n",
       "      <td>NaN</td>\n",
       "    </tr>\n",
       "    <tr>\n",
       "      <th>2001Q2</th>\n",
       "      <td>0.058973</td>\n",
       "      <td>0.379336</td>\n",
       "      <td>-0.097026</td>\n",
       "      <td>0.021543</td>\n",
       "    </tr>\n",
       "    <tr>\n",
       "      <th>2001Q3</th>\n",
       "      <td>NaN</td>\n",
       "      <td>NaN</td>\n",
       "      <td>NaN</td>\n",
       "      <td>NaN</td>\n",
       "    </tr>\n",
       "    <tr>\n",
       "      <th>2001Q4</th>\n",
       "      <td>NaN</td>\n",
       "      <td>NaN</td>\n",
       "      <td>NaN</td>\n",
       "      <td>NaN</td>\n",
       "    </tr>\n",
       "    <tr>\n",
       "      <th>2002Q1</th>\n",
       "      <td>NaN</td>\n",
       "      <td>NaN</td>\n",
       "      <td>NaN</td>\n",
       "      <td>NaN</td>\n",
       "    </tr>\n",
       "  </tbody>\n",
       "</table>\n",
       "</div>"
      ],
      "text/plain": [
       "              ek        do      teen     chaar\n",
       "2000Q2 -0.275640 -0.041014 -0.093961 -0.141570\n",
       "2000Q3       NaN       NaN       NaN       NaN\n",
       "2000Q4       NaN       NaN       NaN       NaN\n",
       "2001Q1       NaN       NaN       NaN       NaN\n",
       "2001Q2  0.058973  0.379336 -0.097026  0.021543\n",
       "2001Q3       NaN       NaN       NaN       NaN\n",
       "2001Q4       NaN       NaN       NaN       NaN\n",
       "2002Q1       NaN       NaN       NaN       NaN"
      ]
     },
     "execution_count": 320,
     "metadata": {},
     "output_type": "execute_result"
    }
   ],
   "source": [
    "annualframres.resample('Q-SEP').mean()"
   ]
  },
  {
   "cell_type": "code",
   "execution_count": 321,
   "id": "noted-neighborhood",
   "metadata": {},
   "outputs": [],
   "source": [
    "# There are two important rules to understand with upsampling and downsampling"
   ]
  },
  {
   "cell_type": "markdown",
   "id": "naughty-visit",
   "metadata": {},
   "source": [
    "#### In downsampling the target frequency must be a subperiod of the source frequency\n",
    "#### In upsampling the target frequency must be a subperiod of the source frequency"
   ]
  },
  {
   "cell_type": "code",
   "execution_count": null,
   "id": "executive-caribbean",
   "metadata": {},
   "outputs": [],
   "source": []
  },
  {
   "cell_type": "code",
   "execution_count": 322,
   "id": "alive-helena",
   "metadata": {},
   "outputs": [],
   "source": [
    "# annualframres.resample('Q-APR').mean()\n",
    "\n",
    "# Now this will throw an error as this does not belong to start or end of any quarter\n",
    "# this is because if you use Q-DEC or Q-MAR then it will only line up with A-MAR, A-JUN, A-SEP and A-DEC"
   ]
  },
  {
   "cell_type": "code",
   "execution_count": 323,
   "id": "maritime-canal",
   "metadata": {},
   "outputs": [
    {
     "data": {
      "text/html": [
       "<div>\n",
       "<style scoped>\n",
       "    .dataframe tbody tr th:only-of-type {\n",
       "        vertical-align: middle;\n",
       "    }\n",
       "\n",
       "    .dataframe tbody tr th {\n",
       "        vertical-align: top;\n",
       "    }\n",
       "\n",
       "    .dataframe thead th {\n",
       "        text-align: right;\n",
       "    }\n",
       "</style>\n",
       "<table border=\"1\" class=\"dataframe\">\n",
       "  <thead>\n",
       "    <tr style=\"text-align: right;\">\n",
       "      <th></th>\n",
       "      <th>ek</th>\n",
       "      <th>do</th>\n",
       "      <th>teen</th>\n",
       "      <th>chaar</th>\n",
       "    </tr>\n",
       "  </thead>\n",
       "  <tbody>\n",
       "    <tr>\n",
       "      <th>2000Q4</th>\n",
       "      <td>-0.275640</td>\n",
       "      <td>-0.041014</td>\n",
       "      <td>-0.093961</td>\n",
       "      <td>-0.141570</td>\n",
       "    </tr>\n",
       "    <tr>\n",
       "      <th>2001Q1</th>\n",
       "      <td>-0.275640</td>\n",
       "      <td>-0.041014</td>\n",
       "      <td>-0.093961</td>\n",
       "      <td>-0.141570</td>\n",
       "    </tr>\n",
       "    <tr>\n",
       "      <th>2001Q2</th>\n",
       "      <td>-0.275640</td>\n",
       "      <td>-0.041014</td>\n",
       "      <td>-0.093961</td>\n",
       "      <td>-0.141570</td>\n",
       "    </tr>\n",
       "    <tr>\n",
       "      <th>2001Q3</th>\n",
       "      <td>-0.275640</td>\n",
       "      <td>-0.041014</td>\n",
       "      <td>-0.093961</td>\n",
       "      <td>-0.141570</td>\n",
       "    </tr>\n",
       "    <tr>\n",
       "      <th>2001Q4</th>\n",
       "      <td>0.058973</td>\n",
       "      <td>0.379336</td>\n",
       "      <td>-0.097026</td>\n",
       "      <td>0.021543</td>\n",
       "    </tr>\n",
       "    <tr>\n",
       "      <th>2002Q1</th>\n",
       "      <td>0.058973</td>\n",
       "      <td>0.379336</td>\n",
       "      <td>-0.097026</td>\n",
       "      <td>0.021543</td>\n",
       "    </tr>\n",
       "    <tr>\n",
       "      <th>2002Q2</th>\n",
       "      <td>0.058973</td>\n",
       "      <td>0.379336</td>\n",
       "      <td>-0.097026</td>\n",
       "      <td>0.021543</td>\n",
       "    </tr>\n",
       "    <tr>\n",
       "      <th>2002Q3</th>\n",
       "      <td>0.058973</td>\n",
       "      <td>0.379336</td>\n",
       "      <td>-0.097026</td>\n",
       "      <td>0.021543</td>\n",
       "    </tr>\n",
       "  </tbody>\n",
       "</table>\n",
       "</div>"
      ],
      "text/plain": [
       "              ek        do      teen     chaar\n",
       "2000Q4 -0.275640 -0.041014 -0.093961 -0.141570\n",
       "2001Q1 -0.275640 -0.041014 -0.093961 -0.141570\n",
       "2001Q2 -0.275640 -0.041014 -0.093961 -0.141570\n",
       "2001Q3 -0.275640 -0.041014 -0.093961 -0.141570\n",
       "2001Q4  0.058973  0.379336 -0.097026  0.021543\n",
       "2002Q1  0.058973  0.379336 -0.097026  0.021543\n",
       "2002Q2  0.058973  0.379336 -0.097026  0.021543\n",
       "2002Q3  0.058973  0.379336 -0.097026  0.021543"
      ]
     },
     "execution_count": 323,
     "metadata": {},
     "output_type": "execute_result"
    }
   ],
   "source": [
    "annualframres.resample('Q-MAR').ffill()"
   ]
  },
  {
   "cell_type": "code",
   "execution_count": 324,
   "id": "industrial-attitude",
   "metadata": {},
   "outputs": [
    {
     "data": {
      "text/html": [
       "<div>\n",
       "<style scoped>\n",
       "    .dataframe tbody tr th:only-of-type {\n",
       "        vertical-align: middle;\n",
       "    }\n",
       "\n",
       "    .dataframe tbody tr th {\n",
       "        vertical-align: top;\n",
       "    }\n",
       "\n",
       "    .dataframe thead th {\n",
       "        text-align: right;\n",
       "    }\n",
       "</style>\n",
       "<table border=\"1\" class=\"dataframe\">\n",
       "  <thead>\n",
       "    <tr style=\"text-align: right;\">\n",
       "      <th></th>\n",
       "      <th>ek</th>\n",
       "      <th>do</th>\n",
       "      <th>teen</th>\n",
       "      <th>chaar</th>\n",
       "    </tr>\n",
       "  </thead>\n",
       "  <tbody>\n",
       "    <tr>\n",
       "      <th>2000</th>\n",
       "      <td>-0.275640</td>\n",
       "      <td>-0.041014</td>\n",
       "      <td>-0.093961</td>\n",
       "      <td>-0.141570</td>\n",
       "    </tr>\n",
       "    <tr>\n",
       "      <th>2001</th>\n",
       "      <td>0.058973</td>\n",
       "      <td>0.379336</td>\n",
       "      <td>-0.097026</td>\n",
       "      <td>0.021543</td>\n",
       "    </tr>\n",
       "    <tr>\n",
       "      <th>2002</th>\n",
       "      <td>0.058973</td>\n",
       "      <td>0.379336</td>\n",
       "      <td>-0.097026</td>\n",
       "      <td>0.021543</td>\n",
       "    </tr>\n",
       "  </tbody>\n",
       "</table>\n",
       "</div>"
      ],
      "text/plain": [
       "            ek        do      teen     chaar\n",
       "2000 -0.275640 -0.041014 -0.093961 -0.141570\n",
       "2001  0.058973  0.379336 -0.097026  0.021543\n",
       "2002  0.058973  0.379336 -0.097026  0.021543"
      ]
     },
     "execution_count": 324,
     "metadata": {},
     "output_type": "execute_result"
    }
   ],
   "source": [
    "annualframres.resample('A-MAR').ffill()"
   ]
  },
  {
   "cell_type": "markdown",
   "id": "appropriate-highland",
   "metadata": {},
   "source": [
    "### Grouped Time Resampling"
   ]
  },
  {
   "cell_type": "code",
   "execution_count": 325,
   "id": "indonesian-importance",
   "metadata": {},
   "outputs": [],
   "source": [
    "# Now for pandas object that have time series data, resample is more like a group operation based on time\n",
    "# intervalization"
   ]
  },
  {
   "cell_type": "code",
   "execution_count": 326,
   "id": "informative-president",
   "metadata": {},
   "outputs": [
    {
     "data": {
      "text/plain": [
       "DatetimeIndex(['2000-02-12 00:00:00', '2000-02-12 00:01:00',\n",
       "               '2000-02-12 00:02:00', '2000-02-12 00:03:00',\n",
       "               '2000-02-12 00:04:00', '2000-02-12 00:05:00',\n",
       "               '2000-02-12 00:06:00', '2000-02-12 00:07:00',\n",
       "               '2000-02-12 00:08:00', '2000-02-12 00:09:00',\n",
       "               '2000-02-12 00:10:00', '2000-02-12 00:11:00',\n",
       "               '2000-02-12 00:12:00', '2000-02-12 00:13:00',\n",
       "               '2000-02-12 00:14:00'],\n",
       "              dtype='datetime64[ns]', freq='T')"
      ]
     },
     "execution_count": 326,
     "metadata": {},
     "output_type": "execute_result"
    }
   ],
   "source": [
    "N = 15\n",
    "\n",
    "timer = pd.date_range('2000-02-12 00:00:00',freq='1min',periods=N)\n",
    "\n",
    "timer"
   ]
  },
  {
   "cell_type": "code",
   "execution_count": 327,
   "id": "piano-bernard",
   "metadata": {},
   "outputs": [
    {
     "data": {
      "text/html": [
       "<div>\n",
       "<style scoped>\n",
       "    .dataframe tbody tr th:only-of-type {\n",
       "        vertical-align: middle;\n",
       "    }\n",
       "\n",
       "    .dataframe tbody tr th {\n",
       "        vertical-align: top;\n",
       "    }\n",
       "\n",
       "    .dataframe thead th {\n",
       "        text-align: right;\n",
       "    }\n",
       "</style>\n",
       "<table border=\"1\" class=\"dataframe\">\n",
       "  <thead>\n",
       "    <tr style=\"text-align: right;\">\n",
       "      <th></th>\n",
       "      <th>times</th>\n",
       "      <th>vallu</th>\n",
       "    </tr>\n",
       "  </thead>\n",
       "  <tbody>\n",
       "    <tr>\n",
       "      <th>0</th>\n",
       "      <td>2000-02-12 00:00:00</td>\n",
       "      <td>0</td>\n",
       "    </tr>\n",
       "    <tr>\n",
       "      <th>1</th>\n",
       "      <td>2000-02-12 00:01:00</td>\n",
       "      <td>1</td>\n",
       "    </tr>\n",
       "    <tr>\n",
       "      <th>2</th>\n",
       "      <td>2000-02-12 00:02:00</td>\n",
       "      <td>2</td>\n",
       "    </tr>\n",
       "    <tr>\n",
       "      <th>3</th>\n",
       "      <td>2000-02-12 00:03:00</td>\n",
       "      <td>3</td>\n",
       "    </tr>\n",
       "    <tr>\n",
       "      <th>4</th>\n",
       "      <td>2000-02-12 00:04:00</td>\n",
       "      <td>4</td>\n",
       "    </tr>\n",
       "    <tr>\n",
       "      <th>5</th>\n",
       "      <td>2000-02-12 00:05:00</td>\n",
       "      <td>5</td>\n",
       "    </tr>\n",
       "    <tr>\n",
       "      <th>6</th>\n",
       "      <td>2000-02-12 00:06:00</td>\n",
       "      <td>6</td>\n",
       "    </tr>\n",
       "    <tr>\n",
       "      <th>7</th>\n",
       "      <td>2000-02-12 00:07:00</td>\n",
       "      <td>7</td>\n",
       "    </tr>\n",
       "    <tr>\n",
       "      <th>8</th>\n",
       "      <td>2000-02-12 00:08:00</td>\n",
       "      <td>8</td>\n",
       "    </tr>\n",
       "    <tr>\n",
       "      <th>9</th>\n",
       "      <td>2000-02-12 00:09:00</td>\n",
       "      <td>9</td>\n",
       "    </tr>\n",
       "    <tr>\n",
       "      <th>10</th>\n",
       "      <td>2000-02-12 00:10:00</td>\n",
       "      <td>10</td>\n",
       "    </tr>\n",
       "    <tr>\n",
       "      <th>11</th>\n",
       "      <td>2000-02-12 00:11:00</td>\n",
       "      <td>11</td>\n",
       "    </tr>\n",
       "    <tr>\n",
       "      <th>12</th>\n",
       "      <td>2000-02-12 00:12:00</td>\n",
       "      <td>12</td>\n",
       "    </tr>\n",
       "    <tr>\n",
       "      <th>13</th>\n",
       "      <td>2000-02-12 00:13:00</td>\n",
       "      <td>13</td>\n",
       "    </tr>\n",
       "    <tr>\n",
       "      <th>14</th>\n",
       "      <td>2000-02-12 00:14:00</td>\n",
       "      <td>14</td>\n",
       "    </tr>\n",
       "  </tbody>\n",
       "</table>\n",
       "</div>"
      ],
      "text/plain": [
       "                 times  vallu\n",
       "0  2000-02-12 00:00:00      0\n",
       "1  2000-02-12 00:01:00      1\n",
       "2  2000-02-12 00:02:00      2\n",
       "3  2000-02-12 00:03:00      3\n",
       "4  2000-02-12 00:04:00      4\n",
       "5  2000-02-12 00:05:00      5\n",
       "6  2000-02-12 00:06:00      6\n",
       "7  2000-02-12 00:07:00      7\n",
       "8  2000-02-12 00:08:00      8\n",
       "9  2000-02-12 00:09:00      9\n",
       "10 2000-02-12 00:10:00     10\n",
       "11 2000-02-12 00:11:00     11\n",
       "12 2000-02-12 00:12:00     12\n",
       "13 2000-02-12 00:13:00     13\n",
       "14 2000-02-12 00:14:00     14"
      ]
     },
     "execution_count": 327,
     "metadata": {},
     "output_type": "execute_result"
    }
   ],
   "source": [
    "dfs = pd.DataFrame({'times':timer,'vallu':np.arange(N)})\n",
    "\n",
    "dfs"
   ]
  },
  {
   "cell_type": "code",
   "execution_count": 328,
   "id": "micro-springfield",
   "metadata": {},
   "outputs": [
    {
     "name": "stdout",
     "output_type": "stream",
     "text": [
      "                 times  vallu\n",
      "0  2000-02-12 00:00:00      0\n",
      "1  2000-02-12 00:01:00      1\n",
      "2  2000-02-12 00:02:00      2\n",
      "3  2000-02-12 00:03:00      3\n",
      "4  2000-02-12 00:04:00      4\n",
      "5  2000-02-12 00:05:00      5\n",
      "6  2000-02-12 00:06:00      6\n",
      "7  2000-02-12 00:07:00      7\n",
      "8  2000-02-12 00:08:00      8\n",
      "9  2000-02-12 00:09:00      9\n",
      "10 2000-02-12 00:10:00     10\n",
      "11 2000-02-12 00:11:00     11\n",
      "12 2000-02-12 00:12:00     12\n",
      "13 2000-02-12 00:13:00     13\n",
      "14 2000-02-12 00:14:00     14\n"
     ]
    },
    {
     "data": {
      "text/html": [
       "<div>\n",
       "<style scoped>\n",
       "    .dataframe tbody tr th:only-of-type {\n",
       "        vertical-align: middle;\n",
       "    }\n",
       "\n",
       "    .dataframe tbody tr th {\n",
       "        vertical-align: top;\n",
       "    }\n",
       "\n",
       "    .dataframe thead th {\n",
       "        text-align: right;\n",
       "    }\n",
       "</style>\n",
       "<table border=\"1\" class=\"dataframe\">\n",
       "  <thead>\n",
       "    <tr style=\"text-align: right;\">\n",
       "      <th></th>\n",
       "      <th>vallu</th>\n",
       "    </tr>\n",
       "    <tr>\n",
       "      <th>times</th>\n",
       "      <th></th>\n",
       "    </tr>\n",
       "  </thead>\n",
       "  <tbody>\n",
       "    <tr>\n",
       "      <th>2000-02-12 00:00:00</th>\n",
       "      <td>0</td>\n",
       "    </tr>\n",
       "    <tr>\n",
       "      <th>2000-02-12 00:01:00</th>\n",
       "      <td>1</td>\n",
       "    </tr>\n",
       "    <tr>\n",
       "      <th>2000-02-12 00:02:00</th>\n",
       "      <td>2</td>\n",
       "    </tr>\n",
       "    <tr>\n",
       "      <th>2000-02-12 00:03:00</th>\n",
       "      <td>3</td>\n",
       "    </tr>\n",
       "    <tr>\n",
       "      <th>2000-02-12 00:04:00</th>\n",
       "      <td>4</td>\n",
       "    </tr>\n",
       "    <tr>\n",
       "      <th>2000-02-12 00:05:00</th>\n",
       "      <td>5</td>\n",
       "    </tr>\n",
       "    <tr>\n",
       "      <th>2000-02-12 00:06:00</th>\n",
       "      <td>6</td>\n",
       "    </tr>\n",
       "    <tr>\n",
       "      <th>2000-02-12 00:07:00</th>\n",
       "      <td>7</td>\n",
       "    </tr>\n",
       "    <tr>\n",
       "      <th>2000-02-12 00:08:00</th>\n",
       "      <td>8</td>\n",
       "    </tr>\n",
       "    <tr>\n",
       "      <th>2000-02-12 00:09:00</th>\n",
       "      <td>9</td>\n",
       "    </tr>\n",
       "    <tr>\n",
       "      <th>2000-02-12 00:10:00</th>\n",
       "      <td>10</td>\n",
       "    </tr>\n",
       "    <tr>\n",
       "      <th>2000-02-12 00:11:00</th>\n",
       "      <td>11</td>\n",
       "    </tr>\n",
       "    <tr>\n",
       "      <th>2000-02-12 00:12:00</th>\n",
       "      <td>12</td>\n",
       "    </tr>\n",
       "    <tr>\n",
       "      <th>2000-02-12 00:13:00</th>\n",
       "      <td>13</td>\n",
       "    </tr>\n",
       "    <tr>\n",
       "      <th>2000-02-12 00:14:00</th>\n",
       "      <td>14</td>\n",
       "    </tr>\n",
       "  </tbody>\n",
       "</table>\n",
       "</div>"
      ],
      "text/plain": [
       "                     vallu\n",
       "times                     \n",
       "2000-02-12 00:00:00      0\n",
       "2000-02-12 00:01:00      1\n",
       "2000-02-12 00:02:00      2\n",
       "2000-02-12 00:03:00      3\n",
       "2000-02-12 00:04:00      4\n",
       "2000-02-12 00:05:00      5\n",
       "2000-02-12 00:06:00      6\n",
       "2000-02-12 00:07:00      7\n",
       "2000-02-12 00:08:00      8\n",
       "2000-02-12 00:09:00      9\n",
       "2000-02-12 00:10:00     10\n",
       "2000-02-12 00:11:00     11\n",
       "2000-02-12 00:12:00     12\n",
       "2000-02-12 00:13:00     13\n",
       "2000-02-12 00:14:00     14"
      ]
     },
     "execution_count": 328,
     "metadata": {},
     "output_type": "execute_result"
    }
   ],
   "source": [
    "nedfs = dfs.set_index('times')\n",
    "\n",
    "print(dfs)\n",
    "\n",
    "nedfs"
   ]
  },
  {
   "cell_type": "code",
   "execution_count": 329,
   "id": "elementary-spiritual",
   "metadata": {},
   "outputs": [],
   "source": [
    "# dfs.resample('5min') Now you can't do set_index and resample separatly because set_index does not change the original \n",
    "# dataframe"
   ]
  },
  {
   "cell_type": "code",
   "execution_count": 330,
   "id": "intended-walter",
   "metadata": {},
   "outputs": [
    {
     "data": {
      "text/html": [
       "<div>\n",
       "<style scoped>\n",
       "    .dataframe tbody tr th:only-of-type {\n",
       "        vertical-align: middle;\n",
       "    }\n",
       "\n",
       "    .dataframe tbody tr th {\n",
       "        vertical-align: top;\n",
       "    }\n",
       "\n",
       "    .dataframe thead th {\n",
       "        text-align: right;\n",
       "    }\n",
       "</style>\n",
       "<table border=\"1\" class=\"dataframe\">\n",
       "  <thead>\n",
       "    <tr style=\"text-align: right;\">\n",
       "      <th></th>\n",
       "      <th>vallu</th>\n",
       "    </tr>\n",
       "    <tr>\n",
       "      <th>times</th>\n",
       "      <th></th>\n",
       "    </tr>\n",
       "  </thead>\n",
       "  <tbody>\n",
       "    <tr>\n",
       "      <th>2000-02-12 00:00:00</th>\n",
       "      <td>5</td>\n",
       "    </tr>\n",
       "    <tr>\n",
       "      <th>2000-02-12 00:05:00</th>\n",
       "      <td>5</td>\n",
       "    </tr>\n",
       "    <tr>\n",
       "      <th>2000-02-12 00:10:00</th>\n",
       "      <td>5</td>\n",
       "    </tr>\n",
       "  </tbody>\n",
       "</table>\n",
       "</div>"
      ],
      "text/plain": [
       "                     vallu\n",
       "times                     \n",
       "2000-02-12 00:00:00      5\n",
       "2000-02-12 00:05:00      5\n",
       "2000-02-12 00:10:00      5"
      ]
     },
     "execution_count": 330,
     "metadata": {},
     "output_type": "execute_result"
    }
   ],
   "source": [
    "nedfs.resample('5min').count()"
   ]
  },
  {
   "cell_type": "code",
   "execution_count": 331,
   "id": "advisory-harvest",
   "metadata": {},
   "outputs": [],
   "source": [
    "# Now suppose that a DataFrame contains multiple time series, marked by an additional group key columns then:"
   ]
  },
  {
   "cell_type": "code",
   "execution_count": 332,
   "id": "signed-mediterranean",
   "metadata": {},
   "outputs": [
    {
     "data": {
      "text/html": [
       "<div>\n",
       "<style scoped>\n",
       "    .dataframe tbody tr th:only-of-type {\n",
       "        vertical-align: middle;\n",
       "    }\n",
       "\n",
       "    .dataframe tbody tr th {\n",
       "        vertical-align: top;\n",
       "    }\n",
       "\n",
       "    .dataframe thead th {\n",
       "        text-align: right;\n",
       "    }\n",
       "</style>\n",
       "<table border=\"1\" class=\"dataframe\">\n",
       "  <thead>\n",
       "    <tr style=\"text-align: right;\">\n",
       "      <th></th>\n",
       "      <th>times</th>\n",
       "      <th>vallu</th>\n",
       "      <th>checker</th>\n",
       "    </tr>\n",
       "  </thead>\n",
       "  <tbody>\n",
       "    <tr>\n",
       "      <th>0</th>\n",
       "      <td>2000-02-12 00:00:00</td>\n",
       "      <td>a</td>\n",
       "      <td>0.0</td>\n",
       "    </tr>\n",
       "    <tr>\n",
       "      <th>1</th>\n",
       "      <td>2000-02-12 00:00:00</td>\n",
       "      <td>b</td>\n",
       "      <td>1.0</td>\n",
       "    </tr>\n",
       "    <tr>\n",
       "      <th>2</th>\n",
       "      <td>2000-02-12 00:00:00</td>\n",
       "      <td>j</td>\n",
       "      <td>2.0</td>\n",
       "    </tr>\n",
       "    <tr>\n",
       "      <th>3</th>\n",
       "      <td>2000-02-12 00:01:00</td>\n",
       "      <td>a</td>\n",
       "      <td>3.0</td>\n",
       "    </tr>\n",
       "    <tr>\n",
       "      <th>4</th>\n",
       "      <td>2000-02-12 00:01:00</td>\n",
       "      <td>b</td>\n",
       "      <td>4.0</td>\n",
       "    </tr>\n",
       "    <tr>\n",
       "      <th>5</th>\n",
       "      <td>2000-02-12 00:01:00</td>\n",
       "      <td>j</td>\n",
       "      <td>5.0</td>\n",
       "    </tr>\n",
       "    <tr>\n",
       "      <th>6</th>\n",
       "      <td>2000-02-12 00:02:00</td>\n",
       "      <td>a</td>\n",
       "      <td>6.0</td>\n",
       "    </tr>\n",
       "    <tr>\n",
       "      <th>7</th>\n",
       "      <td>2000-02-12 00:02:00</td>\n",
       "      <td>b</td>\n",
       "      <td>7.0</td>\n",
       "    </tr>\n",
       "    <tr>\n",
       "      <th>8</th>\n",
       "      <td>2000-02-12 00:02:00</td>\n",
       "      <td>j</td>\n",
       "      <td>8.0</td>\n",
       "    </tr>\n",
       "    <tr>\n",
       "      <th>9</th>\n",
       "      <td>2000-02-12 00:03:00</td>\n",
       "      <td>a</td>\n",
       "      <td>9.0</td>\n",
       "    </tr>\n",
       "    <tr>\n",
       "      <th>10</th>\n",
       "      <td>2000-02-12 00:03:00</td>\n",
       "      <td>b</td>\n",
       "      <td>10.0</td>\n",
       "    </tr>\n",
       "    <tr>\n",
       "      <th>11</th>\n",
       "      <td>2000-02-12 00:03:00</td>\n",
       "      <td>j</td>\n",
       "      <td>11.0</td>\n",
       "    </tr>\n",
       "    <tr>\n",
       "      <th>12</th>\n",
       "      <td>2000-02-12 00:04:00</td>\n",
       "      <td>a</td>\n",
       "      <td>12.0</td>\n",
       "    </tr>\n",
       "    <tr>\n",
       "      <th>13</th>\n",
       "      <td>2000-02-12 00:04:00</td>\n",
       "      <td>b</td>\n",
       "      <td>13.0</td>\n",
       "    </tr>\n",
       "    <tr>\n",
       "      <th>14</th>\n",
       "      <td>2000-02-12 00:04:00</td>\n",
       "      <td>j</td>\n",
       "      <td>14.0</td>\n",
       "    </tr>\n",
       "    <tr>\n",
       "      <th>15</th>\n",
       "      <td>2000-02-12 00:05:00</td>\n",
       "      <td>a</td>\n",
       "      <td>15.0</td>\n",
       "    </tr>\n",
       "    <tr>\n",
       "      <th>16</th>\n",
       "      <td>2000-02-12 00:05:00</td>\n",
       "      <td>b</td>\n",
       "      <td>16.0</td>\n",
       "    </tr>\n",
       "    <tr>\n",
       "      <th>17</th>\n",
       "      <td>2000-02-12 00:05:00</td>\n",
       "      <td>j</td>\n",
       "      <td>17.0</td>\n",
       "    </tr>\n",
       "    <tr>\n",
       "      <th>18</th>\n",
       "      <td>2000-02-12 00:06:00</td>\n",
       "      <td>a</td>\n",
       "      <td>18.0</td>\n",
       "    </tr>\n",
       "    <tr>\n",
       "      <th>19</th>\n",
       "      <td>2000-02-12 00:06:00</td>\n",
       "      <td>b</td>\n",
       "      <td>19.0</td>\n",
       "    </tr>\n",
       "    <tr>\n",
       "      <th>20</th>\n",
       "      <td>2000-02-12 00:06:00</td>\n",
       "      <td>j</td>\n",
       "      <td>20.0</td>\n",
       "    </tr>\n",
       "    <tr>\n",
       "      <th>21</th>\n",
       "      <td>2000-02-12 00:07:00</td>\n",
       "      <td>a</td>\n",
       "      <td>21.0</td>\n",
       "    </tr>\n",
       "    <tr>\n",
       "      <th>22</th>\n",
       "      <td>2000-02-12 00:07:00</td>\n",
       "      <td>b</td>\n",
       "      <td>22.0</td>\n",
       "    </tr>\n",
       "    <tr>\n",
       "      <th>23</th>\n",
       "      <td>2000-02-12 00:07:00</td>\n",
       "      <td>j</td>\n",
       "      <td>23.0</td>\n",
       "    </tr>\n",
       "    <tr>\n",
       "      <th>24</th>\n",
       "      <td>2000-02-12 00:08:00</td>\n",
       "      <td>a</td>\n",
       "      <td>24.0</td>\n",
       "    </tr>\n",
       "    <tr>\n",
       "      <th>25</th>\n",
       "      <td>2000-02-12 00:08:00</td>\n",
       "      <td>b</td>\n",
       "      <td>25.0</td>\n",
       "    </tr>\n",
       "    <tr>\n",
       "      <th>26</th>\n",
       "      <td>2000-02-12 00:08:00</td>\n",
       "      <td>j</td>\n",
       "      <td>26.0</td>\n",
       "    </tr>\n",
       "    <tr>\n",
       "      <th>27</th>\n",
       "      <td>2000-02-12 00:09:00</td>\n",
       "      <td>a</td>\n",
       "      <td>27.0</td>\n",
       "    </tr>\n",
       "    <tr>\n",
       "      <th>28</th>\n",
       "      <td>2000-02-12 00:09:00</td>\n",
       "      <td>b</td>\n",
       "      <td>28.0</td>\n",
       "    </tr>\n",
       "    <tr>\n",
       "      <th>29</th>\n",
       "      <td>2000-02-12 00:09:00</td>\n",
       "      <td>j</td>\n",
       "      <td>29.0</td>\n",
       "    </tr>\n",
       "    <tr>\n",
       "      <th>30</th>\n",
       "      <td>2000-02-12 00:10:00</td>\n",
       "      <td>a</td>\n",
       "      <td>30.0</td>\n",
       "    </tr>\n",
       "    <tr>\n",
       "      <th>31</th>\n",
       "      <td>2000-02-12 00:10:00</td>\n",
       "      <td>b</td>\n",
       "      <td>31.0</td>\n",
       "    </tr>\n",
       "    <tr>\n",
       "      <th>32</th>\n",
       "      <td>2000-02-12 00:10:00</td>\n",
       "      <td>j</td>\n",
       "      <td>32.0</td>\n",
       "    </tr>\n",
       "    <tr>\n",
       "      <th>33</th>\n",
       "      <td>2000-02-12 00:11:00</td>\n",
       "      <td>a</td>\n",
       "      <td>33.0</td>\n",
       "    </tr>\n",
       "    <tr>\n",
       "      <th>34</th>\n",
       "      <td>2000-02-12 00:11:00</td>\n",
       "      <td>b</td>\n",
       "      <td>34.0</td>\n",
       "    </tr>\n",
       "    <tr>\n",
       "      <th>35</th>\n",
       "      <td>2000-02-12 00:11:00</td>\n",
       "      <td>j</td>\n",
       "      <td>35.0</td>\n",
       "    </tr>\n",
       "    <tr>\n",
       "      <th>36</th>\n",
       "      <td>2000-02-12 00:12:00</td>\n",
       "      <td>a</td>\n",
       "      <td>36.0</td>\n",
       "    </tr>\n",
       "    <tr>\n",
       "      <th>37</th>\n",
       "      <td>2000-02-12 00:12:00</td>\n",
       "      <td>b</td>\n",
       "      <td>37.0</td>\n",
       "    </tr>\n",
       "    <tr>\n",
       "      <th>38</th>\n",
       "      <td>2000-02-12 00:12:00</td>\n",
       "      <td>j</td>\n",
       "      <td>38.0</td>\n",
       "    </tr>\n",
       "    <tr>\n",
       "      <th>39</th>\n",
       "      <td>2000-02-12 00:13:00</td>\n",
       "      <td>a</td>\n",
       "      <td>39.0</td>\n",
       "    </tr>\n",
       "    <tr>\n",
       "      <th>40</th>\n",
       "      <td>2000-02-12 00:13:00</td>\n",
       "      <td>b</td>\n",
       "      <td>40.0</td>\n",
       "    </tr>\n",
       "    <tr>\n",
       "      <th>41</th>\n",
       "      <td>2000-02-12 00:13:00</td>\n",
       "      <td>j</td>\n",
       "      <td>41.0</td>\n",
       "    </tr>\n",
       "    <tr>\n",
       "      <th>42</th>\n",
       "      <td>2000-02-12 00:14:00</td>\n",
       "      <td>a</td>\n",
       "      <td>42.0</td>\n",
       "    </tr>\n",
       "    <tr>\n",
       "      <th>43</th>\n",
       "      <td>2000-02-12 00:14:00</td>\n",
       "      <td>b</td>\n",
       "      <td>43.0</td>\n",
       "    </tr>\n",
       "    <tr>\n",
       "      <th>44</th>\n",
       "      <td>2000-02-12 00:14:00</td>\n",
       "      <td>j</td>\n",
       "      <td>44.0</td>\n",
       "    </tr>\n",
       "  </tbody>\n",
       "</table>\n",
       "</div>"
      ],
      "text/plain": [
       "                 times vallu  checker\n",
       "0  2000-02-12 00:00:00     a      0.0\n",
       "1  2000-02-12 00:00:00     b      1.0\n",
       "2  2000-02-12 00:00:00     j      2.0\n",
       "3  2000-02-12 00:01:00     a      3.0\n",
       "4  2000-02-12 00:01:00     b      4.0\n",
       "5  2000-02-12 00:01:00     j      5.0\n",
       "6  2000-02-12 00:02:00     a      6.0\n",
       "7  2000-02-12 00:02:00     b      7.0\n",
       "8  2000-02-12 00:02:00     j      8.0\n",
       "9  2000-02-12 00:03:00     a      9.0\n",
       "10 2000-02-12 00:03:00     b     10.0\n",
       "11 2000-02-12 00:03:00     j     11.0\n",
       "12 2000-02-12 00:04:00     a     12.0\n",
       "13 2000-02-12 00:04:00     b     13.0\n",
       "14 2000-02-12 00:04:00     j     14.0\n",
       "15 2000-02-12 00:05:00     a     15.0\n",
       "16 2000-02-12 00:05:00     b     16.0\n",
       "17 2000-02-12 00:05:00     j     17.0\n",
       "18 2000-02-12 00:06:00     a     18.0\n",
       "19 2000-02-12 00:06:00     b     19.0\n",
       "20 2000-02-12 00:06:00     j     20.0\n",
       "21 2000-02-12 00:07:00     a     21.0\n",
       "22 2000-02-12 00:07:00     b     22.0\n",
       "23 2000-02-12 00:07:00     j     23.0\n",
       "24 2000-02-12 00:08:00     a     24.0\n",
       "25 2000-02-12 00:08:00     b     25.0\n",
       "26 2000-02-12 00:08:00     j     26.0\n",
       "27 2000-02-12 00:09:00     a     27.0\n",
       "28 2000-02-12 00:09:00     b     28.0\n",
       "29 2000-02-12 00:09:00     j     29.0\n",
       "30 2000-02-12 00:10:00     a     30.0\n",
       "31 2000-02-12 00:10:00     b     31.0\n",
       "32 2000-02-12 00:10:00     j     32.0\n",
       "33 2000-02-12 00:11:00     a     33.0\n",
       "34 2000-02-12 00:11:00     b     34.0\n",
       "35 2000-02-12 00:11:00     j     35.0\n",
       "36 2000-02-12 00:12:00     a     36.0\n",
       "37 2000-02-12 00:12:00     b     37.0\n",
       "38 2000-02-12 00:12:00     j     38.0\n",
       "39 2000-02-12 00:13:00     a     39.0\n",
       "40 2000-02-12 00:13:00     b     40.0\n",
       "41 2000-02-12 00:13:00     j     41.0\n",
       "42 2000-02-12 00:14:00     a     42.0\n",
       "43 2000-02-12 00:14:00     b     43.0\n",
       "44 2000-02-12 00:14:00     j     44.0"
      ]
     },
     "execution_count": 332,
     "metadata": {},
     "output_type": "execute_result"
    }
   ],
   "source": [
    "dfs2 = pd.DataFrame({'times':timer.repeat(3),\n",
    "                     'vallu':np.tile(['a','b','j'],N),\n",
    "                     'checker':np.arange(N * 3.)\n",
    "                    })\n",
    "\n",
    "dfs2"
   ]
  },
  {
   "cell_type": "code",
   "execution_count": 333,
   "id": "imported-suspect",
   "metadata": {},
   "outputs": [],
   "source": [
    "# To do resampling of each key we use the grouper function"
   ]
  },
  {
   "cell_type": "code",
   "execution_count": 334,
   "id": "mental-patio",
   "metadata": {},
   "outputs": [],
   "source": [
    "time_grp_key = pd.Grouper(freq = '3min')"
   ]
  },
  {
   "cell_type": "code",
   "execution_count": 335,
   "id": "assured-discount",
   "metadata": {},
   "outputs": [
    {
     "data": {
      "text/html": [
       "<div>\n",
       "<style scoped>\n",
       "    .dataframe tbody tr th:only-of-type {\n",
       "        vertical-align: middle;\n",
       "    }\n",
       "\n",
       "    .dataframe tbody tr th {\n",
       "        vertical-align: top;\n",
       "    }\n",
       "\n",
       "    .dataframe thead th {\n",
       "        text-align: right;\n",
       "    }\n",
       "</style>\n",
       "<table border=\"1\" class=\"dataframe\">\n",
       "  <thead>\n",
       "    <tr style=\"text-align: right;\">\n",
       "      <th></th>\n",
       "      <th></th>\n",
       "      <th>checker</th>\n",
       "    </tr>\n",
       "    <tr>\n",
       "      <th>vallu</th>\n",
       "      <th>times</th>\n",
       "      <th></th>\n",
       "    </tr>\n",
       "  </thead>\n",
       "  <tbody>\n",
       "    <tr>\n",
       "      <th rowspan=\"5\" valign=\"top\">a</th>\n",
       "      <th>2000-02-12 00:00:00</th>\n",
       "      <td>3.0</td>\n",
       "    </tr>\n",
       "    <tr>\n",
       "      <th>2000-02-12 00:03:00</th>\n",
       "      <td>12.0</td>\n",
       "    </tr>\n",
       "    <tr>\n",
       "      <th>2000-02-12 00:06:00</th>\n",
       "      <td>21.0</td>\n",
       "    </tr>\n",
       "    <tr>\n",
       "      <th>2000-02-12 00:09:00</th>\n",
       "      <td>30.0</td>\n",
       "    </tr>\n",
       "    <tr>\n",
       "      <th>2000-02-12 00:12:00</th>\n",
       "      <td>39.0</td>\n",
       "    </tr>\n",
       "    <tr>\n",
       "      <th rowspan=\"5\" valign=\"top\">b</th>\n",
       "      <th>2000-02-12 00:00:00</th>\n",
       "      <td>4.0</td>\n",
       "    </tr>\n",
       "    <tr>\n",
       "      <th>2000-02-12 00:03:00</th>\n",
       "      <td>13.0</td>\n",
       "    </tr>\n",
       "    <tr>\n",
       "      <th>2000-02-12 00:06:00</th>\n",
       "      <td>22.0</td>\n",
       "    </tr>\n",
       "    <tr>\n",
       "      <th>2000-02-12 00:09:00</th>\n",
       "      <td>31.0</td>\n",
       "    </tr>\n",
       "    <tr>\n",
       "      <th>2000-02-12 00:12:00</th>\n",
       "      <td>40.0</td>\n",
       "    </tr>\n",
       "    <tr>\n",
       "      <th rowspan=\"5\" valign=\"top\">j</th>\n",
       "      <th>2000-02-12 00:00:00</th>\n",
       "      <td>5.0</td>\n",
       "    </tr>\n",
       "    <tr>\n",
       "      <th>2000-02-12 00:03:00</th>\n",
       "      <td>14.0</td>\n",
       "    </tr>\n",
       "    <tr>\n",
       "      <th>2000-02-12 00:06:00</th>\n",
       "      <td>23.0</td>\n",
       "    </tr>\n",
       "    <tr>\n",
       "      <th>2000-02-12 00:09:00</th>\n",
       "      <td>32.0</td>\n",
       "    </tr>\n",
       "    <tr>\n",
       "      <th>2000-02-12 00:12:00</th>\n",
       "      <td>41.0</td>\n",
       "    </tr>\n",
       "  </tbody>\n",
       "</table>\n",
       "</div>"
      ],
      "text/plain": [
       "                           checker\n",
       "vallu times                       \n",
       "a     2000-02-12 00:00:00      3.0\n",
       "      2000-02-12 00:03:00     12.0\n",
       "      2000-02-12 00:06:00     21.0\n",
       "      2000-02-12 00:09:00     30.0\n",
       "      2000-02-12 00:12:00     39.0\n",
       "b     2000-02-12 00:00:00      4.0\n",
       "      2000-02-12 00:03:00     13.0\n",
       "      2000-02-12 00:06:00     22.0\n",
       "      2000-02-12 00:09:00     31.0\n",
       "      2000-02-12 00:12:00     40.0\n",
       "j     2000-02-12 00:00:00      5.0\n",
       "      2000-02-12 00:03:00     14.0\n",
       "      2000-02-12 00:06:00     23.0\n",
       "      2000-02-12 00:09:00     32.0\n",
       "      2000-02-12 00:12:00     41.0"
      ]
     },
     "execution_count": 335,
     "metadata": {},
     "output_type": "execute_result"
    }
   ],
   "source": [
    "resampled_dfs2 = (dfs2.set_index('times').groupby(['vallu',time_grp_key]).mean())\n",
    "\n",
    "resampled_dfs2"
   ]
  },
  {
   "cell_type": "code",
   "execution_count": 336,
   "id": "editorial-reason",
   "metadata": {},
   "outputs": [],
   "source": [
    "# Now, you can put all this back together"
   ]
  },
  {
   "cell_type": "code",
   "execution_count": 337,
   "id": "historical-struggle",
   "metadata": {},
   "outputs": [
    {
     "data": {
      "text/html": [
       "<div>\n",
       "<style scoped>\n",
       "    .dataframe tbody tr th:only-of-type {\n",
       "        vertical-align: middle;\n",
       "    }\n",
       "\n",
       "    .dataframe tbody tr th {\n",
       "        vertical-align: top;\n",
       "    }\n",
       "\n",
       "    .dataframe thead th {\n",
       "        text-align: right;\n",
       "    }\n",
       "</style>\n",
       "<table border=\"1\" class=\"dataframe\">\n",
       "  <thead>\n",
       "    <tr style=\"text-align: right;\">\n",
       "      <th></th>\n",
       "      <th>vallu</th>\n",
       "      <th>times</th>\n",
       "      <th>checker</th>\n",
       "    </tr>\n",
       "  </thead>\n",
       "  <tbody>\n",
       "    <tr>\n",
       "      <th>0</th>\n",
       "      <td>a</td>\n",
       "      <td>2000-02-12 00:00:00</td>\n",
       "      <td>3.0</td>\n",
       "    </tr>\n",
       "    <tr>\n",
       "      <th>1</th>\n",
       "      <td>a</td>\n",
       "      <td>2000-02-12 00:03:00</td>\n",
       "      <td>12.0</td>\n",
       "    </tr>\n",
       "    <tr>\n",
       "      <th>2</th>\n",
       "      <td>a</td>\n",
       "      <td>2000-02-12 00:06:00</td>\n",
       "      <td>21.0</td>\n",
       "    </tr>\n",
       "    <tr>\n",
       "      <th>3</th>\n",
       "      <td>a</td>\n",
       "      <td>2000-02-12 00:09:00</td>\n",
       "      <td>30.0</td>\n",
       "    </tr>\n",
       "    <tr>\n",
       "      <th>4</th>\n",
       "      <td>a</td>\n",
       "      <td>2000-02-12 00:12:00</td>\n",
       "      <td>39.0</td>\n",
       "    </tr>\n",
       "    <tr>\n",
       "      <th>5</th>\n",
       "      <td>b</td>\n",
       "      <td>2000-02-12 00:00:00</td>\n",
       "      <td>4.0</td>\n",
       "    </tr>\n",
       "    <tr>\n",
       "      <th>6</th>\n",
       "      <td>b</td>\n",
       "      <td>2000-02-12 00:03:00</td>\n",
       "      <td>13.0</td>\n",
       "    </tr>\n",
       "    <tr>\n",
       "      <th>7</th>\n",
       "      <td>b</td>\n",
       "      <td>2000-02-12 00:06:00</td>\n",
       "      <td>22.0</td>\n",
       "    </tr>\n",
       "    <tr>\n",
       "      <th>8</th>\n",
       "      <td>b</td>\n",
       "      <td>2000-02-12 00:09:00</td>\n",
       "      <td>31.0</td>\n",
       "    </tr>\n",
       "    <tr>\n",
       "      <th>9</th>\n",
       "      <td>b</td>\n",
       "      <td>2000-02-12 00:12:00</td>\n",
       "      <td>40.0</td>\n",
       "    </tr>\n",
       "    <tr>\n",
       "      <th>10</th>\n",
       "      <td>j</td>\n",
       "      <td>2000-02-12 00:00:00</td>\n",
       "      <td>5.0</td>\n",
       "    </tr>\n",
       "    <tr>\n",
       "      <th>11</th>\n",
       "      <td>j</td>\n",
       "      <td>2000-02-12 00:03:00</td>\n",
       "      <td>14.0</td>\n",
       "    </tr>\n",
       "    <tr>\n",
       "      <th>12</th>\n",
       "      <td>j</td>\n",
       "      <td>2000-02-12 00:06:00</td>\n",
       "      <td>23.0</td>\n",
       "    </tr>\n",
       "    <tr>\n",
       "      <th>13</th>\n",
       "      <td>j</td>\n",
       "      <td>2000-02-12 00:09:00</td>\n",
       "      <td>32.0</td>\n",
       "    </tr>\n",
       "    <tr>\n",
       "      <th>14</th>\n",
       "      <td>j</td>\n",
       "      <td>2000-02-12 00:12:00</td>\n",
       "      <td>41.0</td>\n",
       "    </tr>\n",
       "  </tbody>\n",
       "</table>\n",
       "</div>"
      ],
      "text/plain": [
       "   vallu               times  checker\n",
       "0      a 2000-02-12 00:00:00      3.0\n",
       "1      a 2000-02-12 00:03:00     12.0\n",
       "2      a 2000-02-12 00:06:00     21.0\n",
       "3      a 2000-02-12 00:09:00     30.0\n",
       "4      a 2000-02-12 00:12:00     39.0\n",
       "5      b 2000-02-12 00:00:00      4.0\n",
       "6      b 2000-02-12 00:03:00     13.0\n",
       "7      b 2000-02-12 00:06:00     22.0\n",
       "8      b 2000-02-12 00:09:00     31.0\n",
       "9      b 2000-02-12 00:12:00     40.0\n",
       "10     j 2000-02-12 00:00:00      5.0\n",
       "11     j 2000-02-12 00:03:00     14.0\n",
       "12     j 2000-02-12 00:06:00     23.0\n",
       "13     j 2000-02-12 00:09:00     32.0\n",
       "14     j 2000-02-12 00:12:00     41.0"
      ]
     },
     "execution_count": 337,
     "metadata": {},
     "output_type": "execute_result"
    }
   ],
   "source": [
    "resampled_dfs2.reset_index()"
   ]
  },
  {
   "cell_type": "markdown",
   "id": "common-approval",
   "metadata": {},
   "source": [
    "## Moving Window Functions"
   ]
  },
  {
   "cell_type": "code",
   "execution_count": 338,
   "id": "liberal-incident",
   "metadata": {},
   "outputs": [],
   "source": [
    "# for stastical and other functions there is a special class of array transformations used for time series operation\n",
    "# These are called sliding or moving window functions"
   ]
  },
  {
   "cell_type": "code",
   "execution_count": 339,
   "id": "rotary-hughes",
   "metadata": {},
   "outputs": [
    {
     "data": {
      "text/html": [
       "<div>\n",
       "<style scoped>\n",
       "    .dataframe tbody tr th:only-of-type {\n",
       "        vertical-align: middle;\n",
       "    }\n",
       "\n",
       "    .dataframe tbody tr th {\n",
       "        vertical-align: top;\n",
       "    }\n",
       "\n",
       "    .dataframe thead th {\n",
       "        text-align: right;\n",
       "    }\n",
       "</style>\n",
       "<table border=\"1\" class=\"dataframe\">\n",
       "  <thead>\n",
       "    <tr style=\"text-align: right;\">\n",
       "      <th></th>\n",
       "      <th>AAPL</th>\n",
       "      <th>MSFT</th>\n",
       "      <th>XOM</th>\n",
       "      <th>SPX</th>\n",
       "    </tr>\n",
       "  </thead>\n",
       "  <tbody>\n",
       "    <tr>\n",
       "      <th>2003-01-02</th>\n",
       "      <td>7.40</td>\n",
       "      <td>21.11</td>\n",
       "      <td>29.22</td>\n",
       "      <td>909.03</td>\n",
       "    </tr>\n",
       "    <tr>\n",
       "      <th>2003-01-03</th>\n",
       "      <td>7.45</td>\n",
       "      <td>21.14</td>\n",
       "      <td>29.24</td>\n",
       "      <td>908.59</td>\n",
       "    </tr>\n",
       "    <tr>\n",
       "      <th>2003-01-06</th>\n",
       "      <td>7.45</td>\n",
       "      <td>21.52</td>\n",
       "      <td>29.96</td>\n",
       "      <td>929.01</td>\n",
       "    </tr>\n",
       "    <tr>\n",
       "      <th>2003-01-07</th>\n",
       "      <td>7.43</td>\n",
       "      <td>21.93</td>\n",
       "      <td>28.95</td>\n",
       "      <td>922.93</td>\n",
       "    </tr>\n",
       "    <tr>\n",
       "      <th>2003-01-08</th>\n",
       "      <td>7.28</td>\n",
       "      <td>21.31</td>\n",
       "      <td>28.83</td>\n",
       "      <td>909.93</td>\n",
       "    </tr>\n",
       "    <tr>\n",
       "      <th>...</th>\n",
       "      <td>...</td>\n",
       "      <td>...</td>\n",
       "      <td>...</td>\n",
       "      <td>...</td>\n",
       "    </tr>\n",
       "    <tr>\n",
       "      <th>2011-10-10</th>\n",
       "      <td>388.81</td>\n",
       "      <td>26.94</td>\n",
       "      <td>76.28</td>\n",
       "      <td>1194.89</td>\n",
       "    </tr>\n",
       "    <tr>\n",
       "      <th>2011-10-11</th>\n",
       "      <td>400.29</td>\n",
       "      <td>27.00</td>\n",
       "      <td>76.27</td>\n",
       "      <td>1195.54</td>\n",
       "    </tr>\n",
       "    <tr>\n",
       "      <th>2011-10-12</th>\n",
       "      <td>402.19</td>\n",
       "      <td>26.96</td>\n",
       "      <td>77.16</td>\n",
       "      <td>1207.25</td>\n",
       "    </tr>\n",
       "    <tr>\n",
       "      <th>2011-10-13</th>\n",
       "      <td>408.43</td>\n",
       "      <td>27.18</td>\n",
       "      <td>76.37</td>\n",
       "      <td>1203.66</td>\n",
       "    </tr>\n",
       "    <tr>\n",
       "      <th>2011-10-14</th>\n",
       "      <td>422.00</td>\n",
       "      <td>27.27</td>\n",
       "      <td>78.11</td>\n",
       "      <td>1224.58</td>\n",
       "    </tr>\n",
       "  </tbody>\n",
       "</table>\n",
       "<p>2214 rows × 4 columns</p>\n",
       "</div>"
      ],
      "text/plain": [
       "              AAPL   MSFT    XOM      SPX\n",
       "2003-01-02    7.40  21.11  29.22   909.03\n",
       "2003-01-03    7.45  21.14  29.24   908.59\n",
       "2003-01-06    7.45  21.52  29.96   929.01\n",
       "2003-01-07    7.43  21.93  28.95   922.93\n",
       "2003-01-08    7.28  21.31  28.83   909.93\n",
       "...            ...    ...    ...      ...\n",
       "2011-10-10  388.81  26.94  76.28  1194.89\n",
       "2011-10-11  400.29  27.00  76.27  1195.54\n",
       "2011-10-12  402.19  26.96  77.16  1207.25\n",
       "2011-10-13  408.43  27.18  76.37  1203.66\n",
       "2011-10-14  422.00  27.27  78.11  1224.58\n",
       "\n",
       "[2214 rows x 4 columns]"
      ]
     },
     "execution_count": 339,
     "metadata": {},
     "output_type": "execute_result"
    }
   ],
   "source": [
    "close_call = pd.read_csv('examples/stock_px.csv',parse_dates=True,index_col=0)\n",
    "\n",
    "close_call"
   ]
  },
  {
   "cell_type": "code",
   "execution_count": 340,
   "id": "understanding-compression",
   "metadata": {},
   "outputs": [
    {
     "data": {
      "text/html": [
       "<div>\n",
       "<style scoped>\n",
       "    .dataframe tbody tr th:only-of-type {\n",
       "        vertical-align: middle;\n",
       "    }\n",
       "\n",
       "    .dataframe tbody tr th {\n",
       "        vertical-align: top;\n",
       "    }\n",
       "\n",
       "    .dataframe thead th {\n",
       "        text-align: right;\n",
       "    }\n",
       "</style>\n",
       "<table border=\"1\" class=\"dataframe\">\n",
       "  <thead>\n",
       "    <tr style=\"text-align: right;\">\n",
       "      <th></th>\n",
       "      <th>AAPL</th>\n",
       "      <th>MSFT</th>\n",
       "      <th>XOM</th>\n",
       "    </tr>\n",
       "  </thead>\n",
       "  <tbody>\n",
       "    <tr>\n",
       "      <th>2003-01-02</th>\n",
       "      <td>7.40</td>\n",
       "      <td>21.11</td>\n",
       "      <td>29.22</td>\n",
       "    </tr>\n",
       "    <tr>\n",
       "      <th>2003-01-03</th>\n",
       "      <td>7.45</td>\n",
       "      <td>21.14</td>\n",
       "      <td>29.24</td>\n",
       "    </tr>\n",
       "    <tr>\n",
       "      <th>2003-01-06</th>\n",
       "      <td>7.45</td>\n",
       "      <td>21.52</td>\n",
       "      <td>29.96</td>\n",
       "    </tr>\n",
       "    <tr>\n",
       "      <th>2003-01-07</th>\n",
       "      <td>7.43</td>\n",
       "      <td>21.93</td>\n",
       "      <td>28.95</td>\n",
       "    </tr>\n",
       "    <tr>\n",
       "      <th>2003-01-08</th>\n",
       "      <td>7.28</td>\n",
       "      <td>21.31</td>\n",
       "      <td>28.83</td>\n",
       "    </tr>\n",
       "    <tr>\n",
       "      <th>...</th>\n",
       "      <td>...</td>\n",
       "      <td>...</td>\n",
       "      <td>...</td>\n",
       "    </tr>\n",
       "    <tr>\n",
       "      <th>2011-10-10</th>\n",
       "      <td>388.81</td>\n",
       "      <td>26.94</td>\n",
       "      <td>76.28</td>\n",
       "    </tr>\n",
       "    <tr>\n",
       "      <th>2011-10-11</th>\n",
       "      <td>400.29</td>\n",
       "      <td>27.00</td>\n",
       "      <td>76.27</td>\n",
       "    </tr>\n",
       "    <tr>\n",
       "      <th>2011-10-12</th>\n",
       "      <td>402.19</td>\n",
       "      <td>26.96</td>\n",
       "      <td>77.16</td>\n",
       "    </tr>\n",
       "    <tr>\n",
       "      <th>2011-10-13</th>\n",
       "      <td>408.43</td>\n",
       "      <td>27.18</td>\n",
       "      <td>76.37</td>\n",
       "    </tr>\n",
       "    <tr>\n",
       "      <th>2011-10-14</th>\n",
       "      <td>422.00</td>\n",
       "      <td>27.27</td>\n",
       "      <td>78.11</td>\n",
       "    </tr>\n",
       "  </tbody>\n",
       "</table>\n",
       "<p>2214 rows × 3 columns</p>\n",
       "</div>"
      ],
      "text/plain": [
       "              AAPL   MSFT    XOM\n",
       "2003-01-02    7.40  21.11  29.22\n",
       "2003-01-03    7.45  21.14  29.24\n",
       "2003-01-06    7.45  21.52  29.96\n",
       "2003-01-07    7.43  21.93  28.95\n",
       "2003-01-08    7.28  21.31  28.83\n",
       "...            ...    ...    ...\n",
       "2011-10-10  388.81  26.94  76.28\n",
       "2011-10-11  400.29  27.00  76.27\n",
       "2011-10-12  402.19  26.96  77.16\n",
       "2011-10-13  408.43  27.18  76.37\n",
       "2011-10-14  422.00  27.27  78.11\n",
       "\n",
       "[2214 rows x 3 columns]"
      ]
     },
     "execution_count": 340,
     "metadata": {},
     "output_type": "execute_result"
    }
   ],
   "source": [
    "close_some = close_call[['AAPL','MSFT','XOM']]\n",
    "\n",
    "close_some"
   ]
  },
  {
   "cell_type": "code",
   "execution_count": 341,
   "id": "synthetic-section",
   "metadata": {},
   "outputs": [
    {
     "data": {
      "text/html": [
       "<div>\n",
       "<style scoped>\n",
       "    .dataframe tbody tr th:only-of-type {\n",
       "        vertical-align: middle;\n",
       "    }\n",
       "\n",
       "    .dataframe tbody tr th {\n",
       "        vertical-align: top;\n",
       "    }\n",
       "\n",
       "    .dataframe thead th {\n",
       "        text-align: right;\n",
       "    }\n",
       "</style>\n",
       "<table border=\"1\" class=\"dataframe\">\n",
       "  <thead>\n",
       "    <tr style=\"text-align: right;\">\n",
       "      <th></th>\n",
       "      <th>AAPL</th>\n",
       "      <th>MSFT</th>\n",
       "      <th>XOM</th>\n",
       "    </tr>\n",
       "  </thead>\n",
       "  <tbody>\n",
       "    <tr>\n",
       "      <th>2003-01-02</th>\n",
       "      <td>7.40</td>\n",
       "      <td>21.11</td>\n",
       "      <td>29.22</td>\n",
       "    </tr>\n",
       "    <tr>\n",
       "      <th>2003-01-03</th>\n",
       "      <td>7.45</td>\n",
       "      <td>21.14</td>\n",
       "      <td>29.24</td>\n",
       "    </tr>\n",
       "    <tr>\n",
       "      <th>2003-01-06</th>\n",
       "      <td>7.45</td>\n",
       "      <td>21.52</td>\n",
       "      <td>29.96</td>\n",
       "    </tr>\n",
       "    <tr>\n",
       "      <th>2003-01-07</th>\n",
       "      <td>7.43</td>\n",
       "      <td>21.93</td>\n",
       "      <td>28.95</td>\n",
       "    </tr>\n",
       "    <tr>\n",
       "      <th>2003-01-08</th>\n",
       "      <td>7.28</td>\n",
       "      <td>21.31</td>\n",
       "      <td>28.83</td>\n",
       "    </tr>\n",
       "    <tr>\n",
       "      <th>2003-01-09</th>\n",
       "      <td>7.34</td>\n",
       "      <td>21.93</td>\n",
       "      <td>29.44</td>\n",
       "    </tr>\n",
       "    <tr>\n",
       "      <th>2003-01-10</th>\n",
       "      <td>7.36</td>\n",
       "      <td>21.97</td>\n",
       "      <td>29.03</td>\n",
       "    </tr>\n",
       "    <tr>\n",
       "      <th>2003-01-13</th>\n",
       "      <td>7.32</td>\n",
       "      <td>22.16</td>\n",
       "      <td>28.91</td>\n",
       "    </tr>\n",
       "    <tr>\n",
       "      <th>2003-01-14</th>\n",
       "      <td>7.30</td>\n",
       "      <td>22.39</td>\n",
       "      <td>29.17</td>\n",
       "    </tr>\n",
       "    <tr>\n",
       "      <th>2003-01-15</th>\n",
       "      <td>7.22</td>\n",
       "      <td>22.11</td>\n",
       "      <td>28.77</td>\n",
       "    </tr>\n",
       "    <tr>\n",
       "      <th>2003-01-16</th>\n",
       "      <td>7.31</td>\n",
       "      <td>21.75</td>\n",
       "      <td>28.90</td>\n",
       "    </tr>\n",
       "    <tr>\n",
       "      <th>2003-01-17</th>\n",
       "      <td>7.05</td>\n",
       "      <td>20.22</td>\n",
       "      <td>28.60</td>\n",
       "    </tr>\n",
       "    <tr>\n",
       "      <th>2003-01-20</th>\n",
       "      <td>7.05</td>\n",
       "      <td>20.22</td>\n",
       "      <td>28.60</td>\n",
       "    </tr>\n",
       "    <tr>\n",
       "      <th>2003-01-21</th>\n",
       "      <td>7.01</td>\n",
       "      <td>20.17</td>\n",
       "      <td>27.94</td>\n",
       "    </tr>\n",
       "    <tr>\n",
       "      <th>2003-01-22</th>\n",
       "      <td>6.94</td>\n",
       "      <td>20.04</td>\n",
       "      <td>27.58</td>\n",
       "    </tr>\n",
       "    <tr>\n",
       "      <th>2003-01-23</th>\n",
       "      <td>7.09</td>\n",
       "      <td>20.54</td>\n",
       "      <td>27.52</td>\n",
       "    </tr>\n",
       "    <tr>\n",
       "      <th>2003-01-24</th>\n",
       "      <td>6.90</td>\n",
       "      <td>19.59</td>\n",
       "      <td>26.93</td>\n",
       "    </tr>\n",
       "    <tr>\n",
       "      <th>2003-01-27</th>\n",
       "      <td>7.07</td>\n",
       "      <td>19.32</td>\n",
       "      <td>26.21</td>\n",
       "    </tr>\n",
       "    <tr>\n",
       "      <th>2003-01-28</th>\n",
       "      <td>7.29</td>\n",
       "      <td>19.18</td>\n",
       "      <td>26.90</td>\n",
       "    </tr>\n",
       "    <tr>\n",
       "      <th>2003-01-29</th>\n",
       "      <td>7.47</td>\n",
       "      <td>19.61</td>\n",
       "      <td>27.88</td>\n",
       "    </tr>\n",
       "    <tr>\n",
       "      <th>2003-01-30</th>\n",
       "      <td>7.16</td>\n",
       "      <td>18.95</td>\n",
       "      <td>27.37</td>\n",
       "    </tr>\n",
       "    <tr>\n",
       "      <th>2003-01-31</th>\n",
       "      <td>7.18</td>\n",
       "      <td>18.65</td>\n",
       "      <td>28.13</td>\n",
       "    </tr>\n",
       "    <tr>\n",
       "      <th>2003-02-03</th>\n",
       "      <td>7.33</td>\n",
       "      <td>19.08</td>\n",
       "      <td>28.52</td>\n",
       "    </tr>\n",
       "    <tr>\n",
       "      <th>2003-02-04</th>\n",
       "      <td>7.30</td>\n",
       "      <td>18.59</td>\n",
       "      <td>28.52</td>\n",
       "    </tr>\n",
       "    <tr>\n",
       "      <th>2003-02-05</th>\n",
       "      <td>7.22</td>\n",
       "      <td>18.45</td>\n",
       "      <td>28.11</td>\n",
       "    </tr>\n",
       "    <tr>\n",
       "      <th>2003-02-06</th>\n",
       "      <td>7.22</td>\n",
       "      <td>18.63</td>\n",
       "      <td>27.87</td>\n",
       "    </tr>\n",
       "    <tr>\n",
       "      <th>2003-02-07</th>\n",
       "      <td>7.07</td>\n",
       "      <td>18.30</td>\n",
       "      <td>27.66</td>\n",
       "    </tr>\n",
       "    <tr>\n",
       "      <th>2003-02-10</th>\n",
       "      <td>7.18</td>\n",
       "      <td>18.62</td>\n",
       "      <td>27.87</td>\n",
       "    </tr>\n",
       "    <tr>\n",
       "      <th>2003-02-11</th>\n",
       "      <td>7.18</td>\n",
       "      <td>18.25</td>\n",
       "      <td>27.67</td>\n",
       "    </tr>\n",
       "    <tr>\n",
       "      <th>2003-02-12</th>\n",
       "      <td>7.20</td>\n",
       "      <td>18.25</td>\n",
       "      <td>27.12</td>\n",
       "    </tr>\n",
       "    <tr>\n",
       "      <th>2003-02-13</th>\n",
       "      <td>7.27</td>\n",
       "      <td>18.46</td>\n",
       "      <td>27.47</td>\n",
       "    </tr>\n",
       "    <tr>\n",
       "      <th>2003-02-14</th>\n",
       "      <td>7.34</td>\n",
       "      <td>18.98</td>\n",
       "      <td>27.73</td>\n",
       "    </tr>\n",
       "    <tr>\n",
       "      <th>2003-02-17</th>\n",
       "      <td>7.34</td>\n",
       "      <td>18.98</td>\n",
       "      <td>27.73</td>\n",
       "    </tr>\n",
       "    <tr>\n",
       "      <th>2003-02-18</th>\n",
       "      <td>7.64</td>\n",
       "      <td>19.61</td>\n",
       "      <td>27.99</td>\n",
       "    </tr>\n",
       "    <tr>\n",
       "      <th>2003-02-19</th>\n",
       "      <td>7.43</td>\n",
       "      <td>19.34</td>\n",
       "      <td>28.01</td>\n",
       "    </tr>\n",
       "    <tr>\n",
       "      <th>2003-02-20</th>\n",
       "      <td>7.39</td>\n",
       "      <td>19.03</td>\n",
       "      <td>27.89</td>\n",
       "    </tr>\n",
       "    <tr>\n",
       "      <th>2003-02-21</th>\n",
       "      <td>7.50</td>\n",
       "      <td>19.42</td>\n",
       "      <td>28.34</td>\n",
       "    </tr>\n",
       "    <tr>\n",
       "      <th>2003-02-24</th>\n",
       "      <td>7.37</td>\n",
       "      <td>18.98</td>\n",
       "      <td>28.19</td>\n",
       "    </tr>\n",
       "    <tr>\n",
       "      <th>2003-02-25</th>\n",
       "      <td>7.51</td>\n",
       "      <td>19.07</td>\n",
       "      <td>28.31</td>\n",
       "    </tr>\n",
       "    <tr>\n",
       "      <th>2003-02-26</th>\n",
       "      <td>7.25</td>\n",
       "      <td>18.61</td>\n",
       "      <td>28.06</td>\n",
       "    </tr>\n",
       "    <tr>\n",
       "      <th>2003-02-27</th>\n",
       "      <td>7.43</td>\n",
       "      <td>18.59</td>\n",
       "      <td>28.18</td>\n",
       "    </tr>\n",
       "    <tr>\n",
       "      <th>2003-02-28</th>\n",
       "      <td>7.51</td>\n",
       "      <td>18.68</td>\n",
       "      <td>28.21</td>\n",
       "    </tr>\n",
       "    <tr>\n",
       "      <th>2003-03-03</th>\n",
       "      <td>7.32</td>\n",
       "      <td>18.56</td>\n",
       "      <td>28.58</td>\n",
       "    </tr>\n",
       "    <tr>\n",
       "      <th>2003-03-04</th>\n",
       "      <td>7.28</td>\n",
       "      <td>18.19</td>\n",
       "      <td>28.39</td>\n",
       "    </tr>\n",
       "    <tr>\n",
       "      <th>2003-03-05</th>\n",
       "      <td>7.31</td>\n",
       "      <td>18.48</td>\n",
       "      <td>28.96</td>\n",
       "    </tr>\n",
       "    <tr>\n",
       "      <th>2003-03-06</th>\n",
       "      <td>7.28</td>\n",
       "      <td>18.35</td>\n",
       "      <td>28.66</td>\n",
       "    </tr>\n",
       "    <tr>\n",
       "      <th>2003-03-07</th>\n",
       "      <td>7.26</td>\n",
       "      <td>18.57</td>\n",
       "      <td>28.85</td>\n",
       "    </tr>\n",
       "    <tr>\n",
       "      <th>2003-03-10</th>\n",
       "      <td>7.18</td>\n",
       "      <td>18.09</td>\n",
       "      <td>28.48</td>\n",
       "    </tr>\n",
       "    <tr>\n",
       "      <th>2003-03-11</th>\n",
       "      <td>7.11</td>\n",
       "      <td>17.98</td>\n",
       "      <td>28.67</td>\n",
       "    </tr>\n",
       "    <tr>\n",
       "      <th>2003-03-12</th>\n",
       "      <td>7.11</td>\n",
       "      <td>18.44</td>\n",
       "      <td>28.24</td>\n",
       "    </tr>\n",
       "    <tr>\n",
       "      <th>2003-03-13</th>\n",
       "      <td>7.36</td>\n",
       "      <td>19.45</td>\n",
       "      <td>28.60</td>\n",
       "    </tr>\n",
       "    <tr>\n",
       "      <th>2003-03-14</th>\n",
       "      <td>7.39</td>\n",
       "      <td>19.60</td>\n",
       "      <td>28.52</td>\n",
       "    </tr>\n",
       "    <tr>\n",
       "      <th>2003-03-17</th>\n",
       "      <td>7.51</td>\n",
       "      <td>20.44</td>\n",
       "      <td>29.07</td>\n",
       "    </tr>\n",
       "    <tr>\n",
       "      <th>2003-03-18</th>\n",
       "      <td>7.50</td>\n",
       "      <td>20.53</td>\n",
       "      <td>29.23</td>\n",
       "    </tr>\n",
       "    <tr>\n",
       "      <th>2003-03-19</th>\n",
       "      <td>7.47</td>\n",
       "      <td>20.75</td>\n",
       "      <td>29.51</td>\n",
       "    </tr>\n",
       "    <tr>\n",
       "      <th>2003-03-20</th>\n",
       "      <td>7.45</td>\n",
       "      <td>20.69</td>\n",
       "      <td>29.51</td>\n",
       "    </tr>\n",
       "    <tr>\n",
       "      <th>2003-03-21</th>\n",
       "      <td>7.50</td>\n",
       "      <td>20.95</td>\n",
       "      <td>29.85</td>\n",
       "    </tr>\n",
       "    <tr>\n",
       "      <th>2003-03-24</th>\n",
       "      <td>7.18</td>\n",
       "      <td>19.94</td>\n",
       "      <td>29.28</td>\n",
       "    </tr>\n",
       "    <tr>\n",
       "      <th>2003-03-25</th>\n",
       "      <td>7.28</td>\n",
       "      <td>20.10</td>\n",
       "      <td>29.58</td>\n",
       "    </tr>\n",
       "  </tbody>\n",
       "</table>\n",
       "</div>"
      ],
      "text/plain": [
       "            AAPL   MSFT    XOM\n",
       "2003-01-02  7.40  21.11  29.22\n",
       "2003-01-03  7.45  21.14  29.24\n",
       "2003-01-06  7.45  21.52  29.96\n",
       "2003-01-07  7.43  21.93  28.95\n",
       "2003-01-08  7.28  21.31  28.83\n",
       "2003-01-09  7.34  21.93  29.44\n",
       "2003-01-10  7.36  21.97  29.03\n",
       "2003-01-13  7.32  22.16  28.91\n",
       "2003-01-14  7.30  22.39  29.17\n",
       "2003-01-15  7.22  22.11  28.77\n",
       "2003-01-16  7.31  21.75  28.90\n",
       "2003-01-17  7.05  20.22  28.60\n",
       "2003-01-20  7.05  20.22  28.60\n",
       "2003-01-21  7.01  20.17  27.94\n",
       "2003-01-22  6.94  20.04  27.58\n",
       "2003-01-23  7.09  20.54  27.52\n",
       "2003-01-24  6.90  19.59  26.93\n",
       "2003-01-27  7.07  19.32  26.21\n",
       "2003-01-28  7.29  19.18  26.90\n",
       "2003-01-29  7.47  19.61  27.88\n",
       "2003-01-30  7.16  18.95  27.37\n",
       "2003-01-31  7.18  18.65  28.13\n",
       "2003-02-03  7.33  19.08  28.52\n",
       "2003-02-04  7.30  18.59  28.52\n",
       "2003-02-05  7.22  18.45  28.11\n",
       "2003-02-06  7.22  18.63  27.87\n",
       "2003-02-07  7.07  18.30  27.66\n",
       "2003-02-10  7.18  18.62  27.87\n",
       "2003-02-11  7.18  18.25  27.67\n",
       "2003-02-12  7.20  18.25  27.12\n",
       "2003-02-13  7.27  18.46  27.47\n",
       "2003-02-14  7.34  18.98  27.73\n",
       "2003-02-17  7.34  18.98  27.73\n",
       "2003-02-18  7.64  19.61  27.99\n",
       "2003-02-19  7.43  19.34  28.01\n",
       "2003-02-20  7.39  19.03  27.89\n",
       "2003-02-21  7.50  19.42  28.34\n",
       "2003-02-24  7.37  18.98  28.19\n",
       "2003-02-25  7.51  19.07  28.31\n",
       "2003-02-26  7.25  18.61  28.06\n",
       "2003-02-27  7.43  18.59  28.18\n",
       "2003-02-28  7.51  18.68  28.21\n",
       "2003-03-03  7.32  18.56  28.58\n",
       "2003-03-04  7.28  18.19  28.39\n",
       "2003-03-05  7.31  18.48  28.96\n",
       "2003-03-06  7.28  18.35  28.66\n",
       "2003-03-07  7.26  18.57  28.85\n",
       "2003-03-10  7.18  18.09  28.48\n",
       "2003-03-11  7.11  17.98  28.67\n",
       "2003-03-12  7.11  18.44  28.24\n",
       "2003-03-13  7.36  19.45  28.60\n",
       "2003-03-14  7.39  19.60  28.52\n",
       "2003-03-17  7.51  20.44  29.07\n",
       "2003-03-18  7.50  20.53  29.23\n",
       "2003-03-19  7.47  20.75  29.51\n",
       "2003-03-20  7.45  20.69  29.51\n",
       "2003-03-21  7.50  20.95  29.85\n",
       "2003-03-24  7.18  19.94  29.28\n",
       "2003-03-25  7.28  20.10  29.58"
      ]
     },
     "execution_count": 341,
     "metadata": {},
     "output_type": "execute_result"
    }
   ],
   "source": [
    "close = close_some.resample('B').ffill()\n",
    "\n",
    "close.head(59)"
   ]
  },
  {
   "cell_type": "code",
   "execution_count": 342,
   "id": "minor-hopkins",
   "metadata": {},
   "outputs": [],
   "source": [
    "# Now, here we will use the rolling function it behaves similarly to resample and groupby function"
   ]
  },
  {
   "cell_type": "code",
   "execution_count": 343,
   "id": "naval-decline",
   "metadata": {},
   "outputs": [
    {
     "data": {
      "text/plain": [
       "<AxesSubplot:>"
      ]
     },
     "execution_count": 343,
     "metadata": {},
     "output_type": "execute_result"
    },
    {
     "data": {
      "image/png": "[encoded data removed]",
      "text/plain": [
       "<Figure size 432x288 with 1 Axes>"
      ]
     },
     "metadata": {
      "needs_background": "light"
     },
     "output_type": "display_data"
    }
   ],
   "source": [
    "close['AAPL'].plot()\n",
    "\n",
    "close['AAPL'].rolling(250).mean().plot()"
   ]
  },
  {
   "cell_type": "code",
   "execution_count": 344,
   "id": "coordinate-advance",
   "metadata": {},
   "outputs": [],
   "source": [
    "# the value 250 that is passed in the rolling function gives us an object that enables a grouping over a 250 period\n",
    "# of sliding window, so here we have a 250 day moving window average of Apple's stock price"
   ]
  },
  {
   "cell_type": "code",
   "execution_count": 345,
   "id": "continuing-stamp",
   "metadata": {},
   "outputs": [],
   "source": [
    "# By default rolling window requires all the values to be Non-NA, but with some modification it can accept and handle\n",
    "# the NA values"
   ]
  },
  {
   "cell_type": "code",
   "execution_count": 346,
   "id": "prepared-muscle",
   "metadata": {},
   "outputs": [
    {
     "data": {
      "text/plain": [
       "<Figure size 432x288 with 0 Axes>"
      ]
     },
     "execution_count": 346,
     "metadata": {},
     "output_type": "execute_result"
    },
    {
     "data": {
      "text/plain": [
       "<Figure size 432x288 with 0 Axes>"
      ]
     },
     "metadata": {},
     "output_type": "display_data"
    }
   ],
   "source": [
    "plt.figure()"
   ]
  },
  {
   "cell_type": "code",
   "execution_count": 347,
   "id": "satisfactory-harbor",
   "metadata": {},
   "outputs": [
    {
     "data": {
      "text/plain": [
       "2003-01-02         NaN\n",
       "2003-01-03         NaN\n",
       "2003-01-06         NaN\n",
       "2003-01-07         NaN\n",
       "2003-01-08         NaN\n",
       "2003-01-09         NaN\n",
       "2003-01-10         NaN\n",
       "2003-01-13         NaN\n",
       "2003-01-14         NaN\n",
       "2003-01-15         NaN\n",
       "2003-01-16         NaN\n",
       "2003-01-17         NaN\n",
       "2003-01-20    0.013233\n",
       "2003-01-21    0.012679\n",
       "2003-01-22    0.012283\n",
       "2003-01-23    0.013622\n",
       "2003-01-24    0.014468\n",
       "Freq: B, Name: AAPL, dtype: float64"
      ]
     },
     "execution_count": 347,
     "metadata": {},
     "output_type": "execute_result"
    }
   ],
   "source": [
    "std250 = close['AAPL'].pct_change().rolling(250,min_periods=12).std()\n",
    "\n",
    "std250.head(17)"
   ]
  },
  {
   "cell_type": "code",
   "execution_count": 348,
   "id": "mature-steps",
   "metadata": {},
   "outputs": [
    {
     "data": {
      "text/plain": [
       "<AxesSubplot:>"
      ]
     },
     "execution_count": 348,
     "metadata": {},
     "output_type": "execute_result"
    },
    {
     "data": {
      "image/png": "[encoded data removed]",
      "text/plain": [
       "<Figure size 432x288 with 1 Axes>"
      ]
     },
     "metadata": {
      "needs_background": "light"
     },
     "output_type": "display_data"
    }
   ],
   "source": [
    "std250.plot()"
   ]
  },
  {
   "cell_type": "code",
   "execution_count": 349,
   "id": "adapted-newfoundland",
   "metadata": {},
   "outputs": [],
   "source": [
    "# Now, if you want to compute the mean of window instead of rolling we use the expanding function"
   ]
  },
  {
   "cell_type": "code",
   "execution_count": 350,
   "id": "minor-graduate",
   "metadata": {},
   "outputs": [
    {
     "data": {
      "text/plain": [
       "2003-01-02         NaN\n",
       "2003-01-03         NaN\n",
       "2003-01-06         NaN\n",
       "2003-01-07         NaN\n",
       "2003-01-08         NaN\n",
       "                ...   \n",
       "2011-10-10    0.023611\n",
       "2011-10-11    0.023607\n",
       "2011-10-12    0.023603\n",
       "2011-10-13    0.023600\n",
       "2011-10-14    0.023596\n",
       "Freq: B, Name: AAPL, Length: 2292, dtype: float64"
      ]
     },
     "execution_count": 350,
     "metadata": {},
     "output_type": "execute_result"
    }
   ],
   "source": [
    "expandex = std250.expanding().mean()\n",
    "\n",
    "expandex"
   ]
  },
  {
   "cell_type": "code",
   "execution_count": 351,
   "id": "favorite-finish",
   "metadata": {},
   "outputs": [],
   "source": [
    "# Now if you call the rolling on the entire DataFrame instead of just one separated column, the rolling gets applied\n",
    "# to all the columns"
   ]
  },
  {
   "cell_type": "code",
   "execution_count": 352,
   "id": "compound-client",
   "metadata": {},
   "outputs": [],
   "source": [
    "plt.style.use('grayscale')"
   ]
  },
  {
   "cell_type": "code",
   "execution_count": 353,
   "id": "crude-village",
   "metadata": {},
   "outputs": [
    {
     "data": {
      "text/plain": [
       "<AxesSubplot:>"
      ]
     },
     "execution_count": 353,
     "metadata": {},
     "output_type": "execute_result"
    },
    {
     "data": {
      "image/png": "[encoded data removed]",
      "text/plain": [
       "<Figure size 432x288 with 1 Axes>"
      ]
     },
     "metadata": {},
     "output_type": "display_data"
    }
   ],
   "source": [
    "close.rolling(39).mean().plot(logy = True)"
   ]
  },
  {
   "cell_type": "code",
   "execution_count": 354,
   "id": "metric-hampton",
   "metadata": {},
   "outputs": [],
   "source": [
    "# Now, the rolling function also accepts string inputs and you can use them to calculate the mean and other data"
   ]
  },
  {
   "cell_type": "code",
   "execution_count": 355,
   "id": "linear-transsexual",
   "metadata": {},
   "outputs": [
    {
     "data": {
      "text/html": [
       "<div>\n",
       "<style scoped>\n",
       "    .dataframe tbody tr th:only-of-type {\n",
       "        vertical-align: middle;\n",
       "    }\n",
       "\n",
       "    .dataframe tbody tr th {\n",
       "        vertical-align: top;\n",
       "    }\n",
       "\n",
       "    .dataframe thead th {\n",
       "        text-align: right;\n",
       "    }\n",
       "</style>\n",
       "<table border=\"1\" class=\"dataframe\">\n",
       "  <thead>\n",
       "    <tr style=\"text-align: right;\">\n",
       "      <th></th>\n",
       "      <th>AAPL</th>\n",
       "      <th>MSFT</th>\n",
       "      <th>XOM</th>\n",
       "    </tr>\n",
       "  </thead>\n",
       "  <tbody>\n",
       "    <tr>\n",
       "      <th>2003-01-02</th>\n",
       "      <td>7.400000</td>\n",
       "      <td>21.110000</td>\n",
       "      <td>29.220000</td>\n",
       "    </tr>\n",
       "    <tr>\n",
       "      <th>2003-01-03</th>\n",
       "      <td>7.425000</td>\n",
       "      <td>21.125000</td>\n",
       "      <td>29.230000</td>\n",
       "    </tr>\n",
       "    <tr>\n",
       "      <th>2003-01-06</th>\n",
       "      <td>7.433333</td>\n",
       "      <td>21.256667</td>\n",
       "      <td>29.473333</td>\n",
       "    </tr>\n",
       "    <tr>\n",
       "      <th>2003-01-07</th>\n",
       "      <td>7.432500</td>\n",
       "      <td>21.425000</td>\n",
       "      <td>29.342500</td>\n",
       "    </tr>\n",
       "    <tr>\n",
       "      <th>2003-01-08</th>\n",
       "      <td>7.402000</td>\n",
       "      <td>21.402000</td>\n",
       "      <td>29.240000</td>\n",
       "    </tr>\n",
       "    <tr>\n",
       "      <th>...</th>\n",
       "      <td>...</td>\n",
       "      <td>...</td>\n",
       "      <td>...</td>\n",
       "    </tr>\n",
       "    <tr>\n",
       "      <th>2011-10-10</th>\n",
       "      <td>371.166628</td>\n",
       "      <td>25.745698</td>\n",
       "      <td>76.089186</td>\n",
       "    </tr>\n",
       "    <tr>\n",
       "      <th>2011-10-11</th>\n",
       "      <td>372.023488</td>\n",
       "      <td>25.781860</td>\n",
       "      <td>76.060814</td>\n",
       "    </tr>\n",
       "    <tr>\n",
       "      <th>2011-10-12</th>\n",
       "      <td>372.834535</td>\n",
       "      <td>25.815465</td>\n",
       "      <td>76.029535</td>\n",
       "    </tr>\n",
       "    <tr>\n",
       "      <th>2011-10-13</th>\n",
       "      <td>373.784302</td>\n",
       "      <td>25.857209</td>\n",
       "      <td>76.008953</td>\n",
       "    </tr>\n",
       "    <tr>\n",
       "      <th>2011-10-14</th>\n",
       "      <td>374.910349</td>\n",
       "      <td>25.896977</td>\n",
       "      <td>76.002093</td>\n",
       "    </tr>\n",
       "  </tbody>\n",
       "</table>\n",
       "<p>2292 rows × 3 columns</p>\n",
       "</div>"
      ],
      "text/plain": [
       "                  AAPL       MSFT        XOM\n",
       "2003-01-02    7.400000  21.110000  29.220000\n",
       "2003-01-03    7.425000  21.125000  29.230000\n",
       "2003-01-06    7.433333  21.256667  29.473333\n",
       "2003-01-07    7.432500  21.425000  29.342500\n",
       "2003-01-08    7.402000  21.402000  29.240000\n",
       "...                ...        ...        ...\n",
       "2011-10-10  371.166628  25.745698  76.089186\n",
       "2011-10-11  372.023488  25.781860  76.060814\n",
       "2011-10-12  372.834535  25.815465  76.029535\n",
       "2011-10-13  373.784302  25.857209  76.008953\n",
       "2011-10-14  374.910349  25.896977  76.002093\n",
       "\n",
       "[2292 rows x 3 columns]"
      ]
     },
     "execution_count": 355,
     "metadata": {},
     "output_type": "execute_result"
    }
   ],
   "source": [
    "close.rolling('120D').mean()"
   ]
  },
  {
   "cell_type": "code",
   "execution_count": 356,
   "id": "signed-henry",
   "metadata": {},
   "outputs": [
    {
     "name": "stdout",
     "output_type": "stream",
     "text": [
      "              AAPL   MSFT    XOM\n",
      "2003-01-02    7.40  21.11  29.22\n",
      "2003-01-03    7.45  21.14  29.24\n",
      "2003-01-06    7.45  21.52  29.96\n",
      "2003-01-07    7.43  21.93  28.95\n",
      "2003-01-08    7.28  21.31  28.83\n",
      "...            ...    ...    ...\n",
      "2011-10-10  388.81  26.94  76.28\n",
      "2011-10-11  400.29  27.00  76.27\n",
      "2011-10-12  402.19  26.96  77.16\n",
      "2011-10-13  408.43  27.18  76.37\n",
      "2011-10-14  422.00  27.27  78.11\n",
      "\n",
      "[2214 rows x 3 columns]\n"
     ]
    }
   ],
   "source": [
    "print(close_some)"
   ]
  },
  {
   "cell_type": "markdown",
   "id": "present-individual",
   "metadata": {},
   "source": [
    "### Exponentially weighted Functions"
   ]
  },
  {
   "cell_type": "code",
   "execution_count": 357,
   "id": "amended-scratch",
   "metadata": {},
   "outputs": [],
   "source": [
    "# Now one slight disadvantage with moving window functions is that the focus area is fixed\n",
    "# The alternative to this is to specify constant decay factor to give more weight to recent observation\n",
    "# So here we will se how to specify the decay factor using \"span\" and make the result comparable to moving window function\n",
    "# We will also use the ewm(exponentially weighted moving) operator which adapts faster to the changes to go along with\n",
    "# rolling and expanding\n"
   ]
  },
  {
   "cell_type": "code",
   "execution_count": 358,
   "id": "domestic-wales",
   "metadata": {},
   "outputs": [
    {
     "data": {
      "text/plain": [
       "2006-01-02     71.89\n",
       "2006-01-03     74.75\n",
       "2006-01-04     74.97\n",
       "2006-01-05     74.38\n",
       "2006-01-06     76.30\n",
       "               ...  \n",
       "2007-12-25    198.80\n",
       "2007-12-26    198.95\n",
       "2007-12-27    198.57\n",
       "2007-12-28    199.83\n",
       "2007-12-31    198.08\n",
       "Freq: B, Name: AAPL, Length: 521, dtype: float64"
      ]
     },
     "execution_count": 358,
     "metadata": {},
     "output_type": "execute_result"
    }
   ],
   "source": [
    "aaple_stox = close['AAPL']['2006':'2007']\n",
    "\n",
    "aaple_stox\n"
   ]
  },
  {
   "cell_type": "code",
   "execution_count": 359,
   "id": "tamil-grade",
   "metadata": {},
   "outputs": [
    {
     "data": {
      "text/plain": [
       "2006-01-02           NaN\n",
       "2006-01-03           NaN\n",
       "2006-01-04           NaN\n",
       "2006-01-05           NaN\n",
       "2006-01-06           NaN\n",
       "                 ...    \n",
       "2007-12-25    181.520333\n",
       "2007-12-26    182.615000\n",
       "2007-12-27    183.757333\n",
       "2007-12-28    184.872000\n",
       "2007-12-31    186.009667\n",
       "Freq: B, Name: AAPL, Length: 521, dtype: float64"
      ]
     },
     "execution_count": 359,
     "metadata": {},
     "output_type": "execute_result"
    }
   ],
   "source": [
    "mean_aaple = aaple_stox.rolling(30,min_periods=21).mean()\n",
    "\n",
    "mean_aaple"
   ]
  },
  {
   "cell_type": "code",
   "execution_count": 360,
   "id": "appropriate-trash",
   "metadata": {},
   "outputs": [
    {
     "data": {
      "text/plain": [
       "2006-01-02     71.890000\n",
       "2006-01-03     73.367667\n",
       "2006-01-04     73.937767\n",
       "2006-01-05     74.059619\n",
       "2006-01-06     74.569360\n",
       "                 ...    \n",
       "2007-12-25    184.441771\n",
       "2007-12-26    185.377786\n",
       "2007-12-27    186.228897\n",
       "2007-12-28    187.106387\n",
       "2007-12-31    187.814362\n",
       "Freq: B, Name: AAPL, Length: 521, dtype: float64"
      ]
     },
     "execution_count": 360,
     "metadata": {},
     "output_type": "execute_result"
    }
   ],
   "source": [
    "ewma_aaple_stox = aaple_stox.ewm(span=30).mean()\n",
    "\n",
    "ewma_aaple_stox"
   ]
  },
  {
   "cell_type": "code",
   "execution_count": 361,
   "id": "compatible-corner",
   "metadata": {},
   "outputs": [
    {
     "data": {
      "text/plain": [
       "<AxesSubplot:>"
      ]
     },
     "execution_count": 361,
     "metadata": {},
     "output_type": "execute_result"
    },
    {
     "data": {
      "image/png": "[encoded data removed]",
      "text/plain": [
       "<Figure size 432x288 with 1 Axes>"
      ]
     },
     "metadata": {},
     "output_type": "display_data"
    }
   ],
   "source": [
    "aaple_stox.plot(style = 'k-',label = 'Price')"
   ]
  },
  {
   "cell_type": "code",
   "execution_count": 362,
   "id": "impaired-center",
   "metadata": {},
   "outputs": [
    {
     "data": {
      "text/plain": [
       "<AxesSubplot:>"
      ]
     },
     "execution_count": 362,
     "metadata": {},
     "output_type": "execute_result"
    },
    {
     "data": {
      "image/png": "[encoded data removed]",
      "text/plain": [
       "<Figure size 432x288 with 1 Axes>"
      ]
     },
     "metadata": {},
     "output_type": "display_data"
    }
   ],
   "source": [
    "mean_aaple.plot(style = 'c-.',label = 'Simple Moving Average')"
   ]
  },
  {
   "cell_type": "code",
   "execution_count": 363,
   "id": "cellular-announcement",
   "metadata": {},
   "outputs": [
    {
     "data": {
      "text/plain": [
       "<AxesSubplot:>"
      ]
     },
     "execution_count": 363,
     "metadata": {},
     "output_type": "execute_result"
    },
    {
     "data": {
      "image/png": "[encoded data removed]",
      "text/plain": [
       "<Figure size 432x288 with 1 Axes>"
      ]
     },
     "metadata": {},
     "output_type": "display_data"
    }
   ],
   "source": [
    "ewma_aaple_stox.plot(style = 'y-*',label = 'EW MA')"
   ]
  },
  {
   "cell_type": "code",
   "execution_count": 364,
   "id": "computational-average",
   "metadata": {},
   "outputs": [
    {
     "name": "stderr",
     "output_type": "stream",
     "text": [
      "No handles with labels found to put in legend.\n"
     ]
    },
    {
     "data": {
      "text/plain": [
       "<matplotlib.legend.Legend at 0x1ba24867208>"
      ]
     },
     "execution_count": 364,
     "metadata": {},
     "output_type": "execute_result"
    },
    {
     "data": {
      "image/png": "[encoded data removed]",
      "text/plain": [
       "<Figure size 432x288 with 1 Axes>"
      ]
     },
     "metadata": {},
     "output_type": "display_data"
    }
   ],
   "source": [
    "plt.legend()"
   ]
  },
  {
   "cell_type": "code",
   "execution_count": null,
   "id": "funded-composition",
   "metadata": {},
   "outputs": [],
   "source": []
  },
  {
   "cell_type": "code",
   "execution_count": 365,
   "id": "spiritual-glenn",
   "metadata": {},
   "outputs": [
    {
     "data": {
      "text/plain": [
       "<matplotlib.legend.Legend at 0x1ba25881ac8>"
      ]
     },
     "execution_count": 365,
     "metadata": {},
     "output_type": "execute_result"
    },
    {
     "data": {
      "image/png": "[encoded data removed]",
      "text/plain": [
       "<Figure size 432x288 with 1 Axes>"
      ]
     },
     "metadata": {},
     "output_type": "display_data"
    }
   ],
   "source": [
    "aaple_stox.plot(style = 'k-',label = 'Price')\n",
    "mean_aaple.plot(style = 'c-.',label = 'Simple Moving Average')\n",
    "ewma_aaple_stox.plot(style = 'y-*',label = 'EW MA')\n",
    "plt.legend()"
   ]
  },
  {
   "cell_type": "markdown",
   "id": "sudden-uncle",
   "metadata": {},
   "source": [
    "### Binary Moving Window Functions"
   ]
  },
  {
   "cell_type": "code",
   "execution_count": 366,
   "id": "compressed-patent",
   "metadata": {},
   "outputs": [],
   "source": [
    "# Now stasticals operations like covariance and correlation need to operate on two time series ex:-\n",
    "# financial analysts are often interested in a stock's correlation with index like S&P 500. Now to understand all of this\n",
    "# we will first start with computing the percent change for all our time series for interest"
   ]
  },
  {
   "cell_type": "code",
   "execution_count": 367,
   "id": "collect-prince",
   "metadata": {},
   "outputs": [
    {
     "data": {
      "text/plain": [
       "2003-01-02     909.03\n",
       "2003-01-03     908.59\n",
       "2003-01-06     929.01\n",
       "2003-01-07     922.93\n",
       "2003-01-08     909.93\n",
       "               ...   \n",
       "2011-10-10    1194.89\n",
       "2011-10-11    1195.54\n",
       "2011-10-12    1207.25\n",
       "2011-10-13    1203.66\n",
       "2011-10-14    1224.58\n",
       "Name: SPX, Length: 2214, dtype: float64"
      ]
     },
     "execution_count": 367,
     "metadata": {},
     "output_type": "execute_result"
    }
   ],
   "source": [
    "spx_pc = close_call['SPX']\n",
    "\n",
    "spx_pc"
   ]
  },
  {
   "cell_type": "code",
   "execution_count": 368,
   "id": "sporting-gamma",
   "metadata": {},
   "outputs": [
    {
     "data": {
      "text/plain": [
       "2003-01-02         NaN\n",
       "2003-01-03   -0.000484\n",
       "2003-01-06    0.022474\n",
       "2003-01-07   -0.006545\n",
       "2003-01-08   -0.014086\n",
       "                ...   \n",
       "2011-10-10    0.034125\n",
       "2011-10-11    0.000544\n",
       "2011-10-12    0.009795\n",
       "2011-10-13   -0.002974\n",
       "2011-10-14    0.017380\n",
       "Name: SPX, Length: 2214, dtype: float64"
      ]
     },
     "execution_count": 368,
     "metadata": {},
     "output_type": "execute_result"
    }
   ],
   "source": [
    "spx_retrn = spx_pc.pct_change()\n",
    "\n",
    "spx_retrn"
   ]
  },
  {
   "cell_type": "code",
   "execution_count": 369,
   "id": "global-australian",
   "metadata": {},
   "outputs": [
    {
     "data": {
      "text/html": [
       "<div>\n",
       "<style scoped>\n",
       "    .dataframe tbody tr th:only-of-type {\n",
       "        vertical-align: middle;\n",
       "    }\n",
       "\n",
       "    .dataframe tbody tr th {\n",
       "        vertical-align: top;\n",
       "    }\n",
       "\n",
       "    .dataframe thead th {\n",
       "        text-align: right;\n",
       "    }\n",
       "</style>\n",
       "<table border=\"1\" class=\"dataframe\">\n",
       "  <thead>\n",
       "    <tr style=\"text-align: right;\">\n",
       "      <th></th>\n",
       "      <th>AAPL</th>\n",
       "      <th>MSFT</th>\n",
       "      <th>XOM</th>\n",
       "      <th>SPX</th>\n",
       "    </tr>\n",
       "  </thead>\n",
       "  <tbody>\n",
       "    <tr>\n",
       "      <th>2003-01-02</th>\n",
       "      <td>NaN</td>\n",
       "      <td>NaN</td>\n",
       "      <td>NaN</td>\n",
       "      <td>NaN</td>\n",
       "    </tr>\n",
       "    <tr>\n",
       "      <th>2003-01-03</th>\n",
       "      <td>0.006757</td>\n",
       "      <td>0.001421</td>\n",
       "      <td>0.000684</td>\n",
       "      <td>-0.000484</td>\n",
       "    </tr>\n",
       "    <tr>\n",
       "      <th>2003-01-06</th>\n",
       "      <td>0.000000</td>\n",
       "      <td>0.017975</td>\n",
       "      <td>0.024624</td>\n",
       "      <td>0.022474</td>\n",
       "    </tr>\n",
       "    <tr>\n",
       "      <th>2003-01-07</th>\n",
       "      <td>-0.002685</td>\n",
       "      <td>0.019052</td>\n",
       "      <td>-0.033712</td>\n",
       "      <td>-0.006545</td>\n",
       "    </tr>\n",
       "    <tr>\n",
       "      <th>2003-01-08</th>\n",
       "      <td>-0.020188</td>\n",
       "      <td>-0.028272</td>\n",
       "      <td>-0.004145</td>\n",
       "      <td>-0.014086</td>\n",
       "    </tr>\n",
       "    <tr>\n",
       "      <th>...</th>\n",
       "      <td>...</td>\n",
       "      <td>...</td>\n",
       "      <td>...</td>\n",
       "      <td>...</td>\n",
       "    </tr>\n",
       "    <tr>\n",
       "      <th>2011-10-10</th>\n",
       "      <td>0.051406</td>\n",
       "      <td>0.026286</td>\n",
       "      <td>0.036977</td>\n",
       "      <td>0.034125</td>\n",
       "    </tr>\n",
       "    <tr>\n",
       "      <th>2011-10-11</th>\n",
       "      <td>0.029526</td>\n",
       "      <td>0.002227</td>\n",
       "      <td>-0.000131</td>\n",
       "      <td>0.000544</td>\n",
       "    </tr>\n",
       "    <tr>\n",
       "      <th>2011-10-12</th>\n",
       "      <td>0.004747</td>\n",
       "      <td>-0.001481</td>\n",
       "      <td>0.011669</td>\n",
       "      <td>0.009795</td>\n",
       "    </tr>\n",
       "    <tr>\n",
       "      <th>2011-10-13</th>\n",
       "      <td>0.015515</td>\n",
       "      <td>0.008160</td>\n",
       "      <td>-0.010238</td>\n",
       "      <td>-0.002974</td>\n",
       "    </tr>\n",
       "    <tr>\n",
       "      <th>2011-10-14</th>\n",
       "      <td>0.033225</td>\n",
       "      <td>0.003311</td>\n",
       "      <td>0.022784</td>\n",
       "      <td>0.017380</td>\n",
       "    </tr>\n",
       "  </tbody>\n",
       "</table>\n",
       "<p>2214 rows × 4 columns</p>\n",
       "</div>"
      ],
      "text/plain": [
       "                AAPL      MSFT       XOM       SPX\n",
       "2003-01-02       NaN       NaN       NaN       NaN\n",
       "2003-01-03  0.006757  0.001421  0.000684 -0.000484\n",
       "2003-01-06  0.000000  0.017975  0.024624  0.022474\n",
       "2003-01-07 -0.002685  0.019052 -0.033712 -0.006545\n",
       "2003-01-08 -0.020188 -0.028272 -0.004145 -0.014086\n",
       "...              ...       ...       ...       ...\n",
       "2011-10-10  0.051406  0.026286  0.036977  0.034125\n",
       "2011-10-11  0.029526  0.002227 -0.000131  0.000544\n",
       "2011-10-12  0.004747 -0.001481  0.011669  0.009795\n",
       "2011-10-13  0.015515  0.008160 -0.010238 -0.002974\n",
       "2011-10-14  0.033225  0.003311  0.022784  0.017380\n",
       "\n",
       "[2214 rows x 4 columns]"
      ]
     },
     "execution_count": 369,
     "metadata": {},
     "output_type": "execute_result"
    }
   ],
   "source": [
    "total_ret = close_call.pct_change()\n",
    "\n",
    "total_ret"
   ]
  },
  {
   "cell_type": "code",
   "execution_count": 370,
   "id": "known-croatia",
   "metadata": {},
   "outputs": [],
   "source": [
    "# Now we will call rolling and then the  corr function can do the computing of the rolling correlation with spx_retrn"
   ]
  },
  {
   "cell_type": "code",
   "execution_count": 371,
   "id": "capital-organic",
   "metadata": {},
   "outputs": [
    {
     "data": {
      "text/plain": [
       "<AxesSubplot:>"
      ]
     },
     "execution_count": 371,
     "metadata": {},
     "output_type": "execute_result"
    },
    {
     "data": {
      "image/png": "[encoded data removed]",
      "text/plain": [
       "<Figure size 432x288 with 1 Axes>"
      ]
     },
     "metadata": {},
     "output_type": "display_data"
    }
   ],
   "source": [
    "corr_me = total_ret['AAPL'].rolling(125,min_periods=100).corr(spx_retrn)\n",
    "\n",
    "corr_me.plot()"
   ]
  },
  {
   "cell_type": "code",
   "execution_count": 372,
   "id": "exempt-salvation",
   "metadata": {},
   "outputs": [
    {
     "data": {
      "text/html": [
       "<div>\n",
       "<style scoped>\n",
       "    .dataframe tbody tr th:only-of-type {\n",
       "        vertical-align: middle;\n",
       "    }\n",
       "\n",
       "    .dataframe tbody tr th {\n",
       "        vertical-align: top;\n",
       "    }\n",
       "\n",
       "    .dataframe thead th {\n",
       "        text-align: right;\n",
       "    }\n",
       "</style>\n",
       "<table border=\"1\" class=\"dataframe\">\n",
       "  <thead>\n",
       "    <tr style=\"text-align: right;\">\n",
       "      <th></th>\n",
       "      <th>AAPL</th>\n",
       "      <th>MSFT</th>\n",
       "      <th>XOM</th>\n",
       "      <th>SPX</th>\n",
       "    </tr>\n",
       "  </thead>\n",
       "  <tbody>\n",
       "    <tr>\n",
       "      <th>2003-01-02</th>\n",
       "      <td>7.40</td>\n",
       "      <td>21.11</td>\n",
       "      <td>29.22</td>\n",
       "      <td>909.03</td>\n",
       "    </tr>\n",
       "    <tr>\n",
       "      <th>2003-01-03</th>\n",
       "      <td>7.45</td>\n",
       "      <td>21.14</td>\n",
       "      <td>29.24</td>\n",
       "      <td>908.59</td>\n",
       "    </tr>\n",
       "    <tr>\n",
       "      <th>2003-01-06</th>\n",
       "      <td>7.45</td>\n",
       "      <td>21.52</td>\n",
       "      <td>29.96</td>\n",
       "      <td>929.01</td>\n",
       "    </tr>\n",
       "    <tr>\n",
       "      <th>2003-01-07</th>\n",
       "      <td>7.43</td>\n",
       "      <td>21.93</td>\n",
       "      <td>28.95</td>\n",
       "      <td>922.93</td>\n",
       "    </tr>\n",
       "    <tr>\n",
       "      <th>2003-01-08</th>\n",
       "      <td>7.28</td>\n",
       "      <td>21.31</td>\n",
       "      <td>28.83</td>\n",
       "      <td>909.93</td>\n",
       "    </tr>\n",
       "    <tr>\n",
       "      <th>...</th>\n",
       "      <td>...</td>\n",
       "      <td>...</td>\n",
       "      <td>...</td>\n",
       "      <td>...</td>\n",
       "    </tr>\n",
       "    <tr>\n",
       "      <th>2011-10-10</th>\n",
       "      <td>388.81</td>\n",
       "      <td>26.94</td>\n",
       "      <td>76.28</td>\n",
       "      <td>1194.89</td>\n",
       "    </tr>\n",
       "    <tr>\n",
       "      <th>2011-10-11</th>\n",
       "      <td>400.29</td>\n",
       "      <td>27.00</td>\n",
       "      <td>76.27</td>\n",
       "      <td>1195.54</td>\n",
       "    </tr>\n",
       "    <tr>\n",
       "      <th>2011-10-12</th>\n",
       "      <td>402.19</td>\n",
       "      <td>26.96</td>\n",
       "      <td>77.16</td>\n",
       "      <td>1207.25</td>\n",
       "    </tr>\n",
       "    <tr>\n",
       "      <th>2011-10-13</th>\n",
       "      <td>408.43</td>\n",
       "      <td>27.18</td>\n",
       "      <td>76.37</td>\n",
       "      <td>1203.66</td>\n",
       "    </tr>\n",
       "    <tr>\n",
       "      <th>2011-10-14</th>\n",
       "      <td>422.00</td>\n",
       "      <td>27.27</td>\n",
       "      <td>78.11</td>\n",
       "      <td>1224.58</td>\n",
       "    </tr>\n",
       "  </tbody>\n",
       "</table>\n",
       "<p>2214 rows × 4 columns</p>\n",
       "</div>"
      ],
      "text/plain": [
       "              AAPL   MSFT    XOM      SPX\n",
       "2003-01-02    7.40  21.11  29.22   909.03\n",
       "2003-01-03    7.45  21.14  29.24   908.59\n",
       "2003-01-06    7.45  21.52  29.96   929.01\n",
       "2003-01-07    7.43  21.93  28.95   922.93\n",
       "2003-01-08    7.28  21.31  28.83   909.93\n",
       "...            ...    ...    ...      ...\n",
       "2011-10-10  388.81  26.94  76.28  1194.89\n",
       "2011-10-11  400.29  27.00  76.27  1195.54\n",
       "2011-10-12  402.19  26.96  77.16  1207.25\n",
       "2011-10-13  408.43  27.18  76.37  1203.66\n",
       "2011-10-14  422.00  27.27  78.11  1224.58\n",
       "\n",
       "[2214 rows x 4 columns]"
      ]
     },
     "execution_count": 372,
     "metadata": {},
     "output_type": "execute_result"
    }
   ],
   "source": [
    "close_call"
   ]
  },
  {
   "cell_type": "code",
   "execution_count": 373,
   "id": "incorrect-breeding",
   "metadata": {},
   "outputs": [],
   "source": [
    "# Now here we calculated the S&P 500 of just one stock, suppose you wanted to calculate for all the stocks at one shot.\n",
    "# you can do this by applying the rolling function on the entire DataFrame"
   ]
  },
  {
   "cell_type": "code",
   "execution_count": 374,
   "id": "cloudy-december",
   "metadata": {},
   "outputs": [
    {
     "data": {
      "text/plain": [
       "<AxesSubplot:>"
      ]
     },
     "execution_count": 374,
     "metadata": {},
     "output_type": "execute_result"
    },
    {
     "data": {
      "image/png": "[encoded data removed]",
      "text/plain": [
       "<Figure size 432x288 with 1 Axes>"
      ]
     },
     "metadata": {},
     "output_type": "display_data"
    }
   ],
   "source": [
    "corr_all = total_ret.rolling(125,min_periods=100).corr(spx_retrn)\n",
    "\n",
    "corr_all.plot()"
   ]
  },
  {
   "cell_type": "markdown",
   "id": "cardiac-favor",
   "metadata": {},
   "source": [
    "### User-Defined Moving Window Functions"
   ]
  },
  {
   "cell_type": "code",
   "execution_count": 375,
   "id": "likely-corps",
   "metadata": {},
   "outputs": [],
   "source": [
    "# Now this part is a bit of an overkill, here we will see how to use the apply function on the moving window\n"
   ]
  },
  {
   "cell_type": "code",
   "execution_count": 376,
   "id": "accepted-vermont",
   "metadata": {},
   "outputs": [],
   "source": [
    "# Now the user defined function like apply only works if the value returned is single"
   ]
  },
  {
   "cell_type": "code",
   "execution_count": 377,
   "id": "hungarian-unemployment",
   "metadata": {},
   "outputs": [],
   "source": [
    "# Suppose you wanted to calculate the percentile rank of a particular value"
   ]
  },
  {
   "cell_type": "code",
   "execution_count": 378,
   "id": "hollow-marina",
   "metadata": {},
   "outputs": [],
   "source": [
    "from scipy.stats import percentileofscore"
   ]
  },
  {
   "cell_type": "code",
   "execution_count": 379,
   "id": "separated-spice",
   "metadata": {},
   "outputs": [],
   "source": [
    "def score_at_2percent(c):\n",
    "    return percentileofscore(c,0.00000000000023)"
   ]
  },
  {
   "cell_type": "code",
   "execution_count": 380,
   "id": "swiss-turtle",
   "metadata": {},
   "outputs": [
    {
     "data": {
      "text/plain": [
       "<AxesSubplot:>"
      ]
     },
     "execution_count": 380,
     "metadata": {},
     "output_type": "execute_result"
    },
    {
     "data": {
      "image/png": "[encoded data removed]",
      "text/plain": [
       "<Figure size 432x288 with 1 Axes>"
      ]
     },
     "metadata": {},
     "output_type": "display_data"
    }
   ],
   "source": [
    "resalt = total_ret['AAPL'].rolling(220).apply(score_at_2percent)\n",
    "\n",
    "resalt.plot()"
   ]
  },
  {
   "cell_type": "code",
   "execution_count": null,
   "id": "behavioral-clark",
   "metadata": {},
   "outputs": [],
   "source": []
  },
  {
   "cell_type": "code",
   "execution_count": null,
   "id": "handy-clothing",
   "metadata": {},
   "outputs": [],
   "source": []
  },
  {
   "cell_type": "code",
   "execution_count": null,
   "id": "systematic-vacuum",
   "metadata": {},
   "outputs": [],
   "source": []
  },
  {
   "cell_type": "code",
   "execution_count": null,
   "id": "utility-friendship",
   "metadata": {},
   "outputs": [],
   "source": []
  },
  {
   "cell_type": "code",
   "execution_count": null,
   "id": "recent-preservation",
   "metadata": {},
   "outputs": [],
   "source": []
  },
  {
   "cell_type": "code",
   "execution_count": null,
   "id": "excellent-moore",
   "metadata": {},
   "outputs": [],
   "source": []
  },
  {
   "cell_type": "code",
   "execution_count": null,
   "id": "cognitive-stability",
   "metadata": {},
   "outputs": [],
   "source": []
  },
  {
   "cell_type": "code",
   "execution_count": null,
   "id": "broad-nowhere",
   "metadata": {},
   "outputs": [],
   "source": []
  },
  {
   "cell_type": "code",
   "execution_count": null,
   "id": "injured-loading",
   "metadata": {},
   "outputs": [],
   "source": []
  },
  {
   "cell_type": "code",
   "execution_count": null,
   "id": "limited-amplifier",
   "metadata": {},
   "outputs": [],
   "source": []
  },
  {
   "cell_type": "code",
   "execution_count": null,
   "id": "collected-stanford",
   "metadata": {},
   "outputs": [],
   "source": []
  },
  {
   "cell_type": "code",
   "execution_count": null,
   "id": "provincial-austria",
   "metadata": {},
   "outputs": [],
   "source": []
  },
  {
   "cell_type": "code",
   "execution_count": null,
   "id": "accompanied-latex",
   "metadata": {},
   "outputs": [],
   "source": []
  },
  {
   "cell_type": "code",
   "execution_count": null,
   "id": "vanilla-cabin",
   "metadata": {},
   "outputs": [],
   "source": []
  },
  {
   "cell_type": "code",
   "execution_count": null,
   "id": "middle-honduras",
   "metadata": {},
   "outputs": [],
   "source": []
  },
  {
   "cell_type": "code",
   "execution_count": null,
   "id": "senior-somerset",
   "metadata": {},
   "outputs": [],
   "source": []
  },
  {
   "cell_type": "code",
   "execution_count": null,
   "id": "reported-appeal",
   "metadata": {},
   "outputs": [],
   "source": []
  },
  {
   "cell_type": "code",
   "execution_count": null,
   "id": "backed-given",
   "metadata": {},
   "outputs": [],
   "source": []
  },
  {
   "cell_type": "code",
   "execution_count": null,
   "id": "chinese-supplement",
   "metadata": {},
   "outputs": [],
   "source": []
  },
  {
   "cell_type": "code",
   "execution_count": null,
   "id": "willing-terrain",
   "metadata": {},
   "outputs": [],
   "source": []
  },
  {
   "cell_type": "code",
   "execution_count": null,
   "id": "prerequisite-logan",
   "metadata": {},
   "outputs": [],
   "source": []
  },
  {
   "cell_type": "code",
   "execution_count": null,
   "id": "downtown-retail",
   "metadata": {},
   "outputs": [],
   "source": []
  },
  {
   "cell_type": "code",
   "execution_count": null,
   "id": "soviet-police",
   "metadata": {},
   "outputs": [],
   "source": []
  },
  {
   "cell_type": "code",
   "execution_count": null,
   "id": "becoming-annotation",
   "metadata": {},
   "outputs": [],
   "source": []
  },
  {
   "cell_type": "code",
   "execution_count": null,
   "id": "persistent-franchise",
   "metadata": {},
   "outputs": [],
   "source": []
  },
  {
   "cell_type": "code",
   "execution_count": null,
   "id": "tender-modeling",
   "metadata": {},
   "outputs": [],
   "source": []
  },
  {
   "cell_type": "code",
   "execution_count": null,
   "id": "fantastic-study",
   "metadata": {},
   "outputs": [],
   "source": []
  },
  {
   "cell_type": "code",
   "execution_count": null,
   "id": "offshore-american",
   "metadata": {},
   "outputs": [],
   "source": []
  },
  {
   "cell_type": "code",
   "execution_count": null,
   "id": "future-comparison",
   "metadata": {},
   "outputs": [],
   "source": []
  },
  {
   "cell_type": "markdown",
   "id": "every-stupid",
   "metadata": {},
   "source": [
    "## "
   ]
  }
 ],
 "metadata": {
  "kernelspec": {
   "display_name": "Python 3 (ipykernel)",
   "language": "python",
   "name": "python3"
  },
  "language_info": {
   "codemirror_mode": {
    "name": "ipython",
    "version": 3
   },
   "file_extension": ".py",
   "mimetype": "text/x-python",
   "name": "python",
   "nbconvert_exporter": "python",
   "pygments_lexer": "ipython3",
   "version": "3.11.2"
  }
 },
 "nbformat": 4,
 "nbformat_minor": 5
}
