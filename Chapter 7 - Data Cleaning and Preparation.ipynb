{
 "cells": [
  {
   "cell_type": "markdown",
   "id": "improving-billy",
   "metadata": {},
   "source": [
    "## Handling missing Data"
   ]
  },
  {
   "cell_type": "code",
   "execution_count": 1,
   "id": "false-planner",
   "metadata": {},
   "outputs": [],
   "source": [
    "import numpy as np\n",
    "\n",
    "import pandas as pd\n",
    "\n",
    "import os as o\n",
    "\n",
    "import sys as ss\n",
    "\n",
    "import csv as cv\n",
    "\n",
    "import json as jayz\n",
    "\n",
    "#import lxml as xml Not working ecen though it is installed\n",
    "\n",
    "\n",
    "import requests\n",
    "\n",
    "import sqlite3\n",
    "\n",
    "# import sqlalchemy as sqa , not working even though installed\n",
    "\n",
    "\n",
    "import re"
   ]
  },
  {
   "cell_type": "code",
   "execution_count": 2,
   "id": "invisible-invite",
   "metadata": {},
   "outputs": [
    {
     "data": {
      "text/plain": [
       "0        1.000\n",
       "1      333.266\n",
       "2          NaN\n",
       "3    33262.000\n",
       "dtype: float64"
      ]
     },
     "execution_count": 2,
     "metadata": {},
     "output_type": "execute_result"
    }
   ],
   "source": [
    "float_data = pd.Series([1,333.266,np.nan,33262])\n",
    "\n",
    "float_data"
   ]
  },
  {
   "cell_type": "code",
   "execution_count": 3,
   "id": "increasing-payroll",
   "metadata": {},
   "outputs": [
    {
     "data": {
      "text/plain": [
       "0    False\n",
       "1    False\n",
       "2     True\n",
       "3    False\n",
       "dtype: bool"
      ]
     },
     "execution_count": 3,
     "metadata": {},
     "output_type": "execute_result"
    }
   ],
   "source": [
    "float_data.isna()"
   ]
  },
  {
   "cell_type": "code",
   "execution_count": 4,
   "id": "associate-baking",
   "metadata": {},
   "outputs": [
    {
     "data": {
      "text/plain": [
       "0    sgdgs\n",
       "1     aaha\n",
       "2     None\n",
       "3     raja\n",
       "4      NaN\n",
       "dtype: object"
      ]
     },
     "execution_count": 4,
     "metadata": {},
     "output_type": "execute_result"
    }
   ],
   "source": [
    "string_data = pd.Series(['sgdgs','aaha',None,'raja',np.nan])\n",
    "\n",
    "string_data"
   ]
  },
  {
   "cell_type": "code",
   "execution_count": 5,
   "id": "excessive-headquarters",
   "metadata": {},
   "outputs": [
    {
     "data": {
      "text/plain": [
       "0    False\n",
       "1    False\n",
       "2     True\n",
       "3    False\n",
       "4     True\n",
       "dtype: bool"
      ]
     },
     "execution_count": 5,
     "metadata": {},
     "output_type": "execute_result"
    }
   ],
   "source": [
    "string_data.isna()"
   ]
  },
  {
   "cell_type": "markdown",
   "id": "preceding-camcorder",
   "metadata": {},
   "source": [
    "### Filtering Out Missing Data"
   ]
  },
  {
   "cell_type": "code",
   "execution_count": 6,
   "id": "fitting-retailer",
   "metadata": {},
   "outputs": [
    {
     "data": {
      "text/plain": [
       "0        1.000\n",
       "1     3344.000\n",
       "3    22553.261\n",
       "5      323.000\n",
       "dtype: float64"
      ]
     },
     "execution_count": 6,
     "metadata": {},
     "output_type": "execute_result"
    }
   ],
   "source": [
    "datar = pd.Series([1,3344,None,22553.261,np.nan,323])\n",
    "\n",
    "datar.dropna()"
   ]
  },
  {
   "cell_type": "code",
   "execution_count": 7,
   "id": "organizational-bidder",
   "metadata": {},
   "outputs": [
    {
     "data": {
      "text/html": [
       "<div>\n",
       "<style scoped>\n",
       "    .dataframe tbody tr th:only-of-type {\n",
       "        vertical-align: middle;\n",
       "    }\n",
       "\n",
       "    .dataframe tbody tr th {\n",
       "        vertical-align: top;\n",
       "    }\n",
       "\n",
       "    .dataframe thead th {\n",
       "        text-align: right;\n",
       "    }\n",
       "</style>\n",
       "<table border=\"1\" class=\"dataframe\">\n",
       "  <thead>\n",
       "    <tr style=\"text-align: right;\">\n",
       "      <th></th>\n",
       "      <th>0</th>\n",
       "      <th>1</th>\n",
       "      <th>2</th>\n",
       "    </tr>\n",
       "  </thead>\n",
       "  <tbody>\n",
       "    <tr>\n",
       "      <th>0</th>\n",
       "      <td>1.0</td>\n",
       "      <td>8.553</td>\n",
       "      <td>2.0</td>\n",
       "    </tr>\n",
       "    <tr>\n",
       "      <th>1</th>\n",
       "      <td>1.0</td>\n",
       "      <td>NaN</td>\n",
       "      <td>NaN</td>\n",
       "    </tr>\n",
       "    <tr>\n",
       "      <th>2</th>\n",
       "      <td>NaN</td>\n",
       "      <td>NaN</td>\n",
       "      <td>NaN</td>\n",
       "    </tr>\n",
       "    <tr>\n",
       "      <th>3</th>\n",
       "      <td>NaN</td>\n",
       "      <td>7.330</td>\n",
       "      <td>3.0</td>\n",
       "    </tr>\n",
       "  </tbody>\n",
       "</table>\n",
       "</div>"
      ],
      "text/plain": [
       "     0      1    2\n",
       "0  1.0  8.553  2.0\n",
       "1  1.0    NaN  NaN\n",
       "2  NaN    NaN  NaN\n",
       "3  NaN  7.330  3.0"
      ]
     },
     "execution_count": 7,
     "metadata": {},
     "output_type": "execute_result"
    }
   ],
   "source": [
    "dataq = pd.DataFrame([[1,8.553,2.],[1,np.nan,np.nan],\n",
    "                     [np.nan,np.nan,np.nan],[np.nan,7.33,3]]\n",
    "                    )\n",
    "\n",
    "dataq"
   ]
  },
  {
   "cell_type": "code",
   "execution_count": 8,
   "id": "compact-breakfast",
   "metadata": {},
   "outputs": [
    {
     "data": {
      "text/html": [
       "<div>\n",
       "<style scoped>\n",
       "    .dataframe tbody tr th:only-of-type {\n",
       "        vertical-align: middle;\n",
       "    }\n",
       "\n",
       "    .dataframe tbody tr th {\n",
       "        vertical-align: top;\n",
       "    }\n",
       "\n",
       "    .dataframe thead th {\n",
       "        text-align: right;\n",
       "    }\n",
       "</style>\n",
       "<table border=\"1\" class=\"dataframe\">\n",
       "  <thead>\n",
       "    <tr style=\"text-align: right;\">\n",
       "      <th></th>\n",
       "      <th>0</th>\n",
       "      <th>1</th>\n",
       "      <th>2</th>\n",
       "    </tr>\n",
       "  </thead>\n",
       "  <tbody>\n",
       "    <tr>\n",
       "      <th>0</th>\n",
       "      <td>1.0</td>\n",
       "      <td>8.553</td>\n",
       "      <td>2.0</td>\n",
       "    </tr>\n",
       "  </tbody>\n",
       "</table>\n",
       "</div>"
      ],
      "text/plain": [
       "     0      1    2\n",
       "0  1.0  8.553  2.0"
      ]
     },
     "execution_count": 8,
     "metadata": {},
     "output_type": "execute_result"
    }
   ],
   "source": [
    "dataq.dropna()"
   ]
  },
  {
   "cell_type": "code",
   "execution_count": 9,
   "id": "human-chick",
   "metadata": {},
   "outputs": [
    {
     "data": {
      "text/html": [
       "<div>\n",
       "<style scoped>\n",
       "    .dataframe tbody tr th:only-of-type {\n",
       "        vertical-align: middle;\n",
       "    }\n",
       "\n",
       "    .dataframe tbody tr th {\n",
       "        vertical-align: top;\n",
       "    }\n",
       "\n",
       "    .dataframe thead th {\n",
       "        text-align: right;\n",
       "    }\n",
       "</style>\n",
       "<table border=\"1\" class=\"dataframe\">\n",
       "  <thead>\n",
       "    <tr style=\"text-align: right;\">\n",
       "      <th></th>\n",
       "      <th>0</th>\n",
       "      <th>1</th>\n",
       "      <th>2</th>\n",
       "    </tr>\n",
       "  </thead>\n",
       "  <tbody>\n",
       "    <tr>\n",
       "      <th>0</th>\n",
       "      <td>1.0</td>\n",
       "      <td>8.553</td>\n",
       "      <td>2.0</td>\n",
       "    </tr>\n",
       "    <tr>\n",
       "      <th>1</th>\n",
       "      <td>1.0</td>\n",
       "      <td>NaN</td>\n",
       "      <td>NaN</td>\n",
       "    </tr>\n",
       "    <tr>\n",
       "      <th>3</th>\n",
       "      <td>NaN</td>\n",
       "      <td>7.330</td>\n",
       "      <td>3.0</td>\n",
       "    </tr>\n",
       "  </tbody>\n",
       "</table>\n",
       "</div>"
      ],
      "text/plain": [
       "     0      1    2\n",
       "0  1.0  8.553  2.0\n",
       "1  1.0    NaN  NaN\n",
       "3  NaN  7.330  3.0"
      ]
     },
     "execution_count": 9,
     "metadata": {},
     "output_type": "execute_result"
    }
   ],
   "source": [
    "dataq.dropna(how = 'all')  # This will drop rows that are all NA"
   ]
  },
  {
   "cell_type": "code",
   "execution_count": 10,
   "id": "southern-hepatitis",
   "metadata": {},
   "outputs": [],
   "source": [
    "dataq['aa'] = 3"
   ]
  },
  {
   "cell_type": "code",
   "execution_count": 11,
   "id": "atmospheric-telling",
   "metadata": {},
   "outputs": [],
   "source": [
    "dataq = dataq.drop(columns = 'aa') "
   ]
  },
  {
   "cell_type": "code",
   "execution_count": 12,
   "id": "ultimate-scholarship",
   "metadata": {},
   "outputs": [],
   "source": [
    "dataq[4] = np.nan"
   ]
  },
  {
   "cell_type": "code",
   "execution_count": 13,
   "id": "applied-demographic",
   "metadata": {},
   "outputs": [
    {
     "data": {
      "text/html": [
       "<div>\n",
       "<style scoped>\n",
       "    .dataframe tbody tr th:only-of-type {\n",
       "        vertical-align: middle;\n",
       "    }\n",
       "\n",
       "    .dataframe tbody tr th {\n",
       "        vertical-align: top;\n",
       "    }\n",
       "\n",
       "    .dataframe thead th {\n",
       "        text-align: right;\n",
       "    }\n",
       "</style>\n",
       "<table border=\"1\" class=\"dataframe\">\n",
       "  <thead>\n",
       "    <tr style=\"text-align: right;\">\n",
       "      <th></th>\n",
       "      <th>0</th>\n",
       "      <th>1</th>\n",
       "      <th>2</th>\n",
       "      <th>4</th>\n",
       "    </tr>\n",
       "  </thead>\n",
       "  <tbody>\n",
       "    <tr>\n",
       "      <th>0</th>\n",
       "      <td>1.0</td>\n",
       "      <td>8.553</td>\n",
       "      <td>2.0</td>\n",
       "      <td>NaN</td>\n",
       "    </tr>\n",
       "    <tr>\n",
       "      <th>1</th>\n",
       "      <td>1.0</td>\n",
       "      <td>NaN</td>\n",
       "      <td>NaN</td>\n",
       "      <td>NaN</td>\n",
       "    </tr>\n",
       "    <tr>\n",
       "      <th>2</th>\n",
       "      <td>NaN</td>\n",
       "      <td>NaN</td>\n",
       "      <td>NaN</td>\n",
       "      <td>NaN</td>\n",
       "    </tr>\n",
       "    <tr>\n",
       "      <th>3</th>\n",
       "      <td>NaN</td>\n",
       "      <td>7.330</td>\n",
       "      <td>3.0</td>\n",
       "      <td>NaN</td>\n",
       "    </tr>\n",
       "  </tbody>\n",
       "</table>\n",
       "</div>"
      ],
      "text/plain": [
       "     0      1    2   4\n",
       "0  1.0  8.553  2.0 NaN\n",
       "1  1.0    NaN  NaN NaN\n",
       "2  NaN    NaN  NaN NaN\n",
       "3  NaN  7.330  3.0 NaN"
      ]
     },
     "execution_count": 13,
     "metadata": {},
     "output_type": "execute_result"
    }
   ],
   "source": [
    "dataq"
   ]
  },
  {
   "cell_type": "code",
   "execution_count": 14,
   "id": "recognized-potato",
   "metadata": {},
   "outputs": [
    {
     "data": {
      "text/html": [
       "<div>\n",
       "<style scoped>\n",
       "    .dataframe tbody tr th:only-of-type {\n",
       "        vertical-align: middle;\n",
       "    }\n",
       "\n",
       "    .dataframe tbody tr th {\n",
       "        vertical-align: top;\n",
       "    }\n",
       "\n",
       "    .dataframe thead th {\n",
       "        text-align: right;\n",
       "    }\n",
       "</style>\n",
       "<table border=\"1\" class=\"dataframe\">\n",
       "  <thead>\n",
       "    <tr style=\"text-align: right;\">\n",
       "      <th></th>\n",
       "      <th>0</th>\n",
       "      <th>1</th>\n",
       "      <th>2</th>\n",
       "    </tr>\n",
       "  </thead>\n",
       "  <tbody>\n",
       "    <tr>\n",
       "      <th>0</th>\n",
       "      <td>1.0</td>\n",
       "      <td>8.553</td>\n",
       "      <td>2.0</td>\n",
       "    </tr>\n",
       "    <tr>\n",
       "      <th>1</th>\n",
       "      <td>1.0</td>\n",
       "      <td>NaN</td>\n",
       "      <td>NaN</td>\n",
       "    </tr>\n",
       "    <tr>\n",
       "      <th>2</th>\n",
       "      <td>NaN</td>\n",
       "      <td>NaN</td>\n",
       "      <td>NaN</td>\n",
       "    </tr>\n",
       "    <tr>\n",
       "      <th>3</th>\n",
       "      <td>NaN</td>\n",
       "      <td>7.330</td>\n",
       "      <td>3.0</td>\n",
       "    </tr>\n",
       "  </tbody>\n",
       "</table>\n",
       "</div>"
      ],
      "text/plain": [
       "     0      1    2\n",
       "0  1.0  8.553  2.0\n",
       "1  1.0    NaN  NaN\n",
       "2  NaN    NaN  NaN\n",
       "3  NaN  7.330  3.0"
      ]
     },
     "execution_count": 14,
     "metadata": {},
     "output_type": "execute_result"
    }
   ],
   "source": [
    "dataq.dropna(how = 'all',axis = 'columns')"
   ]
  },
  {
   "cell_type": "markdown",
   "id": "visible-refrigerator",
   "metadata": {},
   "source": [
    "### If you want to show few number of NAN do like"
   ]
  },
  {
   "cell_type": "code",
   "execution_count": 15,
   "id": "everyday-manual",
   "metadata": {},
   "outputs": [
    {
     "data": {
      "text/html": [
       "<div>\n",
       "<style scoped>\n",
       "    .dataframe tbody tr th:only-of-type {\n",
       "        vertical-align: middle;\n",
       "    }\n",
       "\n",
       "    .dataframe tbody tr th {\n",
       "        vertical-align: top;\n",
       "    }\n",
       "\n",
       "    .dataframe thead th {\n",
       "        text-align: right;\n",
       "    }\n",
       "</style>\n",
       "<table border=\"1\" class=\"dataframe\">\n",
       "  <thead>\n",
       "    <tr style=\"text-align: right;\">\n",
       "      <th></th>\n",
       "      <th>0</th>\n",
       "      <th>1</th>\n",
       "      <th>2</th>\n",
       "    </tr>\n",
       "  </thead>\n",
       "  <tbody>\n",
       "    <tr>\n",
       "      <th>0</th>\n",
       "      <td>-0.170800</td>\n",
       "      <td>0.445630</td>\n",
       "      <td>0.530779</td>\n",
       "    </tr>\n",
       "    <tr>\n",
       "      <th>1</th>\n",
       "      <td>0.672590</td>\n",
       "      <td>-1.672733</td>\n",
       "      <td>-1.279841</td>\n",
       "    </tr>\n",
       "    <tr>\n",
       "      <th>2</th>\n",
       "      <td>-0.901987</td>\n",
       "      <td>-0.472300</td>\n",
       "      <td>0.993764</td>\n",
       "    </tr>\n",
       "    <tr>\n",
       "      <th>3</th>\n",
       "      <td>-0.592836</td>\n",
       "      <td>0.752147</td>\n",
       "      <td>0.868656</td>\n",
       "    </tr>\n",
       "    <tr>\n",
       "      <th>4</th>\n",
       "      <td>0.310584</td>\n",
       "      <td>0.040337</td>\n",
       "      <td>-0.472298</td>\n",
       "    </tr>\n",
       "    <tr>\n",
       "      <th>5</th>\n",
       "      <td>-0.780694</td>\n",
       "      <td>-0.785953</td>\n",
       "      <td>-1.405317</td>\n",
       "    </tr>\n",
       "    <tr>\n",
       "      <th>6</th>\n",
       "      <td>0.178345</td>\n",
       "      <td>1.060868</td>\n",
       "      <td>2.241134</td>\n",
       "    </tr>\n",
       "  </tbody>\n",
       "</table>\n",
       "</div>"
      ],
      "text/plain": [
       "          0         1         2\n",
       "0 -0.170800  0.445630  0.530779\n",
       "1  0.672590 -1.672733 -1.279841\n",
       "2 -0.901987 -0.472300  0.993764\n",
       "3 -0.592836  0.752147  0.868656\n",
       "4  0.310584  0.040337 -0.472298\n",
       "5 -0.780694 -0.785953 -1.405317\n",
       "6  0.178345  1.060868  2.241134"
      ]
     },
     "execution_count": 15,
     "metadata": {},
     "output_type": "execute_result"
    }
   ],
   "source": [
    "df = pd.DataFrame(np.random.standard_normal((7,3)))\n",
    "\n",
    "df"
   ]
  },
  {
   "cell_type": "code",
   "execution_count": 16,
   "id": "practical-voluntary",
   "metadata": {},
   "outputs": [],
   "source": [
    "df.iloc[:4,1] = np.nan"
   ]
  },
  {
   "cell_type": "code",
   "execution_count": 17,
   "id": "appreciated-academy",
   "metadata": {},
   "outputs": [],
   "source": [
    "df.iloc[:2,2] = np.nan"
   ]
  },
  {
   "cell_type": "code",
   "execution_count": 18,
   "id": "needed-moscow",
   "metadata": {},
   "outputs": [
    {
     "data": {
      "text/html": [
       "<div>\n",
       "<style scoped>\n",
       "    .dataframe tbody tr th:only-of-type {\n",
       "        vertical-align: middle;\n",
       "    }\n",
       "\n",
       "    .dataframe tbody tr th {\n",
       "        vertical-align: top;\n",
       "    }\n",
       "\n",
       "    .dataframe thead th {\n",
       "        text-align: right;\n",
       "    }\n",
       "</style>\n",
       "<table border=\"1\" class=\"dataframe\">\n",
       "  <thead>\n",
       "    <tr style=\"text-align: right;\">\n",
       "      <th></th>\n",
       "      <th>0</th>\n",
       "      <th>1</th>\n",
       "      <th>2</th>\n",
       "    </tr>\n",
       "  </thead>\n",
       "  <tbody>\n",
       "    <tr>\n",
       "      <th>0</th>\n",
       "      <td>-0.170800</td>\n",
       "      <td>NaN</td>\n",
       "      <td>NaN</td>\n",
       "    </tr>\n",
       "    <tr>\n",
       "      <th>1</th>\n",
       "      <td>0.672590</td>\n",
       "      <td>NaN</td>\n",
       "      <td>NaN</td>\n",
       "    </tr>\n",
       "    <tr>\n",
       "      <th>2</th>\n",
       "      <td>-0.901987</td>\n",
       "      <td>NaN</td>\n",
       "      <td>0.993764</td>\n",
       "    </tr>\n",
       "    <tr>\n",
       "      <th>3</th>\n",
       "      <td>-0.592836</td>\n",
       "      <td>NaN</td>\n",
       "      <td>0.868656</td>\n",
       "    </tr>\n",
       "    <tr>\n",
       "      <th>4</th>\n",
       "      <td>0.310584</td>\n",
       "      <td>0.040337</td>\n",
       "      <td>-0.472298</td>\n",
       "    </tr>\n",
       "    <tr>\n",
       "      <th>5</th>\n",
       "      <td>-0.780694</td>\n",
       "      <td>-0.785953</td>\n",
       "      <td>-1.405317</td>\n",
       "    </tr>\n",
       "    <tr>\n",
       "      <th>6</th>\n",
       "      <td>0.178345</td>\n",
       "      <td>1.060868</td>\n",
       "      <td>2.241134</td>\n",
       "    </tr>\n",
       "  </tbody>\n",
       "</table>\n",
       "</div>"
      ],
      "text/plain": [
       "          0         1         2\n",
       "0 -0.170800       NaN       NaN\n",
       "1  0.672590       NaN       NaN\n",
       "2 -0.901987       NaN  0.993764\n",
       "3 -0.592836       NaN  0.868656\n",
       "4  0.310584  0.040337 -0.472298\n",
       "5 -0.780694 -0.785953 -1.405317\n",
       "6  0.178345  1.060868  2.241134"
      ]
     },
     "execution_count": 18,
     "metadata": {},
     "output_type": "execute_result"
    }
   ],
   "source": [
    "df"
   ]
  },
  {
   "cell_type": "code",
   "execution_count": 19,
   "id": "restricted-flash",
   "metadata": {},
   "outputs": [
    {
     "data": {
      "text/html": [
       "<div>\n",
       "<style scoped>\n",
       "    .dataframe tbody tr th:only-of-type {\n",
       "        vertical-align: middle;\n",
       "    }\n",
       "\n",
       "    .dataframe tbody tr th {\n",
       "        vertical-align: top;\n",
       "    }\n",
       "\n",
       "    .dataframe thead th {\n",
       "        text-align: right;\n",
       "    }\n",
       "</style>\n",
       "<table border=\"1\" class=\"dataframe\">\n",
       "  <thead>\n",
       "    <tr style=\"text-align: right;\">\n",
       "      <th></th>\n",
       "      <th>0</th>\n",
       "      <th>1</th>\n",
       "      <th>2</th>\n",
       "    </tr>\n",
       "  </thead>\n",
       "  <tbody>\n",
       "    <tr>\n",
       "      <th>0</th>\n",
       "      <td>-0.170800</td>\n",
       "      <td>NaN</td>\n",
       "      <td>NaN</td>\n",
       "    </tr>\n",
       "    <tr>\n",
       "      <th>1</th>\n",
       "      <td>0.672590</td>\n",
       "      <td>NaN</td>\n",
       "      <td>NaN</td>\n",
       "    </tr>\n",
       "    <tr>\n",
       "      <th>2</th>\n",
       "      <td>-0.901987</td>\n",
       "      <td>NaN</td>\n",
       "      <td>0.993764</td>\n",
       "    </tr>\n",
       "    <tr>\n",
       "      <th>3</th>\n",
       "      <td>-0.592836</td>\n",
       "      <td>NaN</td>\n",
       "      <td>0.868656</td>\n",
       "    </tr>\n",
       "    <tr>\n",
       "      <th>4</th>\n",
       "      <td>0.310584</td>\n",
       "      <td>0.040337</td>\n",
       "      <td>-0.472298</td>\n",
       "    </tr>\n",
       "    <tr>\n",
       "      <th>5</th>\n",
       "      <td>-0.780694</td>\n",
       "      <td>-0.785953</td>\n",
       "      <td>-1.405317</td>\n",
       "    </tr>\n",
       "    <tr>\n",
       "      <th>6</th>\n",
       "      <td>0.178345</td>\n",
       "      <td>1.060868</td>\n",
       "      <td>2.241134</td>\n",
       "    </tr>\n",
       "  </tbody>\n",
       "</table>\n",
       "</div>"
      ],
      "text/plain": [
       "          0         1         2\n",
       "0 -0.170800       NaN       NaN\n",
       "1  0.672590       NaN       NaN\n",
       "2 -0.901987       NaN  0.993764\n",
       "3 -0.592836       NaN  0.868656\n",
       "4  0.310584  0.040337 -0.472298\n",
       "5 -0.780694 -0.785953 -1.405317\n",
       "6  0.178345  1.060868  2.241134"
      ]
     },
     "execution_count": 19,
     "metadata": {},
     "output_type": "execute_result"
    }
   ],
   "source": [
    "df.dropna(thresh = 1) # It's not working as expected"
   ]
  },
  {
   "cell_type": "code",
   "execution_count": 20,
   "id": "comparable-mercy",
   "metadata": {},
   "outputs": [
    {
     "data": {
      "text/html": [
       "<div>\n",
       "<style scoped>\n",
       "    .dataframe tbody tr th:only-of-type {\n",
       "        vertical-align: middle;\n",
       "    }\n",
       "\n",
       "    .dataframe tbody tr th {\n",
       "        vertical-align: top;\n",
       "    }\n",
       "\n",
       "    .dataframe thead th {\n",
       "        text-align: right;\n",
       "    }\n",
       "</style>\n",
       "<table border=\"1\" class=\"dataframe\">\n",
       "  <thead>\n",
       "    <tr style=\"text-align: right;\">\n",
       "      <th></th>\n",
       "      <th>0</th>\n",
       "      <th>1</th>\n",
       "      <th>2</th>\n",
       "    </tr>\n",
       "  </thead>\n",
       "  <tbody>\n",
       "    <tr>\n",
       "      <th>2</th>\n",
       "      <td>-0.901987</td>\n",
       "      <td>NaN</td>\n",
       "      <td>0.993764</td>\n",
       "    </tr>\n",
       "    <tr>\n",
       "      <th>3</th>\n",
       "      <td>-0.592836</td>\n",
       "      <td>NaN</td>\n",
       "      <td>0.868656</td>\n",
       "    </tr>\n",
       "    <tr>\n",
       "      <th>4</th>\n",
       "      <td>0.310584</td>\n",
       "      <td>0.040337</td>\n",
       "      <td>-0.472298</td>\n",
       "    </tr>\n",
       "    <tr>\n",
       "      <th>5</th>\n",
       "      <td>-0.780694</td>\n",
       "      <td>-0.785953</td>\n",
       "      <td>-1.405317</td>\n",
       "    </tr>\n",
       "    <tr>\n",
       "      <th>6</th>\n",
       "      <td>0.178345</td>\n",
       "      <td>1.060868</td>\n",
       "      <td>2.241134</td>\n",
       "    </tr>\n",
       "  </tbody>\n",
       "</table>\n",
       "</div>"
      ],
      "text/plain": [
       "          0         1         2\n",
       "2 -0.901987       NaN  0.993764\n",
       "3 -0.592836       NaN  0.868656\n",
       "4  0.310584  0.040337 -0.472298\n",
       "5 -0.780694 -0.785953 -1.405317\n",
       "6  0.178345  1.060868  2.241134"
      ]
     },
     "execution_count": 20,
     "metadata": {},
     "output_type": "execute_result"
    }
   ],
   "source": [
    "df.dropna(thresh = 2)"
   ]
  },
  {
   "cell_type": "code",
   "execution_count": 21,
   "id": "defensive-consultancy",
   "metadata": {},
   "outputs": [],
   "source": [
    "df[3] = np.nan"
   ]
  },
  {
   "cell_type": "code",
   "execution_count": 22,
   "id": "moderate-module",
   "metadata": {},
   "outputs": [
    {
     "data": {
      "text/html": [
       "<div>\n",
       "<style scoped>\n",
       "    .dataframe tbody tr th:only-of-type {\n",
       "        vertical-align: middle;\n",
       "    }\n",
       "\n",
       "    .dataframe tbody tr th {\n",
       "        vertical-align: top;\n",
       "    }\n",
       "\n",
       "    .dataframe thead th {\n",
       "        text-align: right;\n",
       "    }\n",
       "</style>\n",
       "<table border=\"1\" class=\"dataframe\">\n",
       "  <thead>\n",
       "    <tr style=\"text-align: right;\">\n",
       "      <th></th>\n",
       "      <th>0</th>\n",
       "      <th>1</th>\n",
       "      <th>2</th>\n",
       "      <th>3</th>\n",
       "    </tr>\n",
       "  </thead>\n",
       "  <tbody>\n",
       "    <tr>\n",
       "      <th>0</th>\n",
       "      <td>-0.170800</td>\n",
       "      <td>NaN</td>\n",
       "      <td>NaN</td>\n",
       "      <td>NaN</td>\n",
       "    </tr>\n",
       "    <tr>\n",
       "      <th>1</th>\n",
       "      <td>0.672590</td>\n",
       "      <td>NaN</td>\n",
       "      <td>NaN</td>\n",
       "      <td>NaN</td>\n",
       "    </tr>\n",
       "    <tr>\n",
       "      <th>2</th>\n",
       "      <td>-0.901987</td>\n",
       "      <td>NaN</td>\n",
       "      <td>0.993764</td>\n",
       "      <td>NaN</td>\n",
       "    </tr>\n",
       "    <tr>\n",
       "      <th>3</th>\n",
       "      <td>-0.592836</td>\n",
       "      <td>NaN</td>\n",
       "      <td>0.868656</td>\n",
       "      <td>NaN</td>\n",
       "    </tr>\n",
       "    <tr>\n",
       "      <th>4</th>\n",
       "      <td>0.310584</td>\n",
       "      <td>0.040337</td>\n",
       "      <td>-0.472298</td>\n",
       "      <td>NaN</td>\n",
       "    </tr>\n",
       "    <tr>\n",
       "      <th>5</th>\n",
       "      <td>-0.780694</td>\n",
       "      <td>-0.785953</td>\n",
       "      <td>-1.405317</td>\n",
       "      <td>NaN</td>\n",
       "    </tr>\n",
       "    <tr>\n",
       "      <th>6</th>\n",
       "      <td>0.178345</td>\n",
       "      <td>1.060868</td>\n",
       "      <td>2.241134</td>\n",
       "      <td>NaN</td>\n",
       "    </tr>\n",
       "  </tbody>\n",
       "</table>\n",
       "</div>"
      ],
      "text/plain": [
       "          0         1         2   3\n",
       "0 -0.170800       NaN       NaN NaN\n",
       "1  0.672590       NaN       NaN NaN\n",
       "2 -0.901987       NaN  0.993764 NaN\n",
       "3 -0.592836       NaN  0.868656 NaN\n",
       "4  0.310584  0.040337 -0.472298 NaN\n",
       "5 -0.780694 -0.785953 -1.405317 NaN\n",
       "6  0.178345  1.060868  2.241134 NaN"
      ]
     },
     "execution_count": 22,
     "metadata": {},
     "output_type": "execute_result"
    }
   ],
   "source": [
    "df"
   ]
  },
  {
   "cell_type": "code",
   "execution_count": 23,
   "id": "blocked-example",
   "metadata": {},
   "outputs": [
    {
     "data": {
      "text/html": [
       "<div>\n",
       "<style scoped>\n",
       "    .dataframe tbody tr th:only-of-type {\n",
       "        vertical-align: middle;\n",
       "    }\n",
       "\n",
       "    .dataframe tbody tr th {\n",
       "        vertical-align: top;\n",
       "    }\n",
       "\n",
       "    .dataframe thead th {\n",
       "        text-align: right;\n",
       "    }\n",
       "</style>\n",
       "<table border=\"1\" class=\"dataframe\">\n",
       "  <thead>\n",
       "    <tr style=\"text-align: right;\">\n",
       "      <th></th>\n",
       "      <th>0</th>\n",
       "      <th>1</th>\n",
       "      <th>2</th>\n",
       "      <th>3</th>\n",
       "    </tr>\n",
       "  </thead>\n",
       "  <tbody>\n",
       "    <tr>\n",
       "      <th>4</th>\n",
       "      <td>0.310584</td>\n",
       "      <td>0.040337</td>\n",
       "      <td>-0.472298</td>\n",
       "      <td>NaN</td>\n",
       "    </tr>\n",
       "    <tr>\n",
       "      <th>5</th>\n",
       "      <td>-0.780694</td>\n",
       "      <td>-0.785953</td>\n",
       "      <td>-1.405317</td>\n",
       "      <td>NaN</td>\n",
       "    </tr>\n",
       "    <tr>\n",
       "      <th>6</th>\n",
       "      <td>0.178345</td>\n",
       "      <td>1.060868</td>\n",
       "      <td>2.241134</td>\n",
       "      <td>NaN</td>\n",
       "    </tr>\n",
       "  </tbody>\n",
       "</table>\n",
       "</div>"
      ],
      "text/plain": [
       "          0         1         2   3\n",
       "4  0.310584  0.040337 -0.472298 NaN\n",
       "5 -0.780694 -0.785953 -1.405317 NaN\n",
       "6  0.178345  1.060868  2.241134 NaN"
      ]
     },
     "execution_count": 23,
     "metadata": {},
     "output_type": "execute_result"
    }
   ],
   "source": [
    "df.dropna(thresh = 3) # utna nahi samjh  rha, like basically agar usse 2 ka mila toh drop kardega, varna agar usse zyada wala\n",
    "# jitna rahega utna drop kar dega\n"
   ]
  },
  {
   "cell_type": "code",
   "execution_count": 24,
   "id": "loose-astronomy",
   "metadata": {},
   "outputs": [],
   "source": [
    "df.iloc[3:,3] = 90"
   ]
  },
  {
   "cell_type": "code",
   "execution_count": 25,
   "id": "cardiac-agenda",
   "metadata": {},
   "outputs": [
    {
     "data": {
      "text/html": [
       "<div>\n",
       "<style scoped>\n",
       "    .dataframe tbody tr th:only-of-type {\n",
       "        vertical-align: middle;\n",
       "    }\n",
       "\n",
       "    .dataframe tbody tr th {\n",
       "        vertical-align: top;\n",
       "    }\n",
       "\n",
       "    .dataframe thead th {\n",
       "        text-align: right;\n",
       "    }\n",
       "</style>\n",
       "<table border=\"1\" class=\"dataframe\">\n",
       "  <thead>\n",
       "    <tr style=\"text-align: right;\">\n",
       "      <th></th>\n",
       "      <th>0</th>\n",
       "      <th>1</th>\n",
       "      <th>2</th>\n",
       "      <th>3</th>\n",
       "    </tr>\n",
       "  </thead>\n",
       "  <tbody>\n",
       "    <tr>\n",
       "      <th>0</th>\n",
       "      <td>-0.170800</td>\n",
       "      <td>NaN</td>\n",
       "      <td>NaN</td>\n",
       "      <td>NaN</td>\n",
       "    </tr>\n",
       "    <tr>\n",
       "      <th>1</th>\n",
       "      <td>0.672590</td>\n",
       "      <td>NaN</td>\n",
       "      <td>NaN</td>\n",
       "      <td>NaN</td>\n",
       "    </tr>\n",
       "    <tr>\n",
       "      <th>2</th>\n",
       "      <td>-0.901987</td>\n",
       "      <td>NaN</td>\n",
       "      <td>0.993764</td>\n",
       "      <td>NaN</td>\n",
       "    </tr>\n",
       "    <tr>\n",
       "      <th>3</th>\n",
       "      <td>-0.592836</td>\n",
       "      <td>NaN</td>\n",
       "      <td>0.868656</td>\n",
       "      <td>90.0</td>\n",
       "    </tr>\n",
       "    <tr>\n",
       "      <th>4</th>\n",
       "      <td>0.310584</td>\n",
       "      <td>0.040337</td>\n",
       "      <td>-0.472298</td>\n",
       "      <td>90.0</td>\n",
       "    </tr>\n",
       "    <tr>\n",
       "      <th>5</th>\n",
       "      <td>-0.780694</td>\n",
       "      <td>-0.785953</td>\n",
       "      <td>-1.405317</td>\n",
       "      <td>90.0</td>\n",
       "    </tr>\n",
       "    <tr>\n",
       "      <th>6</th>\n",
       "      <td>0.178345</td>\n",
       "      <td>1.060868</td>\n",
       "      <td>2.241134</td>\n",
       "      <td>90.0</td>\n",
       "    </tr>\n",
       "  </tbody>\n",
       "</table>\n",
       "</div>"
      ],
      "text/plain": [
       "          0         1         2     3\n",
       "0 -0.170800       NaN       NaN   NaN\n",
       "1  0.672590       NaN       NaN   NaN\n",
       "2 -0.901987       NaN  0.993764   NaN\n",
       "3 -0.592836       NaN  0.868656  90.0\n",
       "4  0.310584  0.040337 -0.472298  90.0\n",
       "5 -0.780694 -0.785953 -1.405317  90.0\n",
       "6  0.178345  1.060868  2.241134  90.0"
      ]
     },
     "execution_count": 25,
     "metadata": {},
     "output_type": "execute_result"
    }
   ],
   "source": [
    "df"
   ]
  },
  {
   "cell_type": "code",
   "execution_count": 26,
   "id": "treated-particular",
   "metadata": {},
   "outputs": [
    {
     "data": {
      "text/html": [
       "<div>\n",
       "<style scoped>\n",
       "    .dataframe tbody tr th:only-of-type {\n",
       "        vertical-align: middle;\n",
       "    }\n",
       "\n",
       "    .dataframe tbody tr th {\n",
       "        vertical-align: top;\n",
       "    }\n",
       "\n",
       "    .dataframe thead th {\n",
       "        text-align: right;\n",
       "    }\n",
       "</style>\n",
       "<table border=\"1\" class=\"dataframe\">\n",
       "  <thead>\n",
       "    <tr style=\"text-align: right;\">\n",
       "      <th></th>\n",
       "      <th>0</th>\n",
       "      <th>1</th>\n",
       "      <th>2</th>\n",
       "      <th>3</th>\n",
       "    </tr>\n",
       "  </thead>\n",
       "  <tbody>\n",
       "    <tr>\n",
       "      <th>3</th>\n",
       "      <td>-0.592836</td>\n",
       "      <td>NaN</td>\n",
       "      <td>0.868656</td>\n",
       "      <td>90.0</td>\n",
       "    </tr>\n",
       "    <tr>\n",
       "      <th>4</th>\n",
       "      <td>0.310584</td>\n",
       "      <td>0.040337</td>\n",
       "      <td>-0.472298</td>\n",
       "      <td>90.0</td>\n",
       "    </tr>\n",
       "    <tr>\n",
       "      <th>5</th>\n",
       "      <td>-0.780694</td>\n",
       "      <td>-0.785953</td>\n",
       "      <td>-1.405317</td>\n",
       "      <td>90.0</td>\n",
       "    </tr>\n",
       "    <tr>\n",
       "      <th>6</th>\n",
       "      <td>0.178345</td>\n",
       "      <td>1.060868</td>\n",
       "      <td>2.241134</td>\n",
       "      <td>90.0</td>\n",
       "    </tr>\n",
       "  </tbody>\n",
       "</table>\n",
       "</div>"
      ],
      "text/plain": [
       "          0         1         2     3\n",
       "3 -0.592836       NaN  0.868656  90.0\n",
       "4  0.310584  0.040337 -0.472298  90.0\n",
       "5 -0.780694 -0.785953 -1.405317  90.0\n",
       "6  0.178345  1.060868  2.241134  90.0"
      ]
     },
     "execution_count": 26,
     "metadata": {},
     "output_type": "execute_result"
    }
   ],
   "source": [
    "df.dropna(thresh = 3)"
   ]
  },
  {
   "cell_type": "markdown",
   "id": "contrary-gender",
   "metadata": {},
   "source": [
    "### Filling the missing data"
   ]
  },
  {
   "cell_type": "code",
   "execution_count": 27,
   "id": "filled-thirty",
   "metadata": {},
   "outputs": [
    {
     "data": {
      "text/html": [
       "<div>\n",
       "<style scoped>\n",
       "    .dataframe tbody tr th:only-of-type {\n",
       "        vertical-align: middle;\n",
       "    }\n",
       "\n",
       "    .dataframe tbody tr th {\n",
       "        vertical-align: top;\n",
       "    }\n",
       "\n",
       "    .dataframe thead th {\n",
       "        text-align: right;\n",
       "    }\n",
       "</style>\n",
       "<table border=\"1\" class=\"dataframe\">\n",
       "  <thead>\n",
       "    <tr style=\"text-align: right;\">\n",
       "      <th></th>\n",
       "      <th>0</th>\n",
       "      <th>1</th>\n",
       "      <th>2</th>\n",
       "      <th>3</th>\n",
       "    </tr>\n",
       "  </thead>\n",
       "  <tbody>\n",
       "    <tr>\n",
       "      <th>0</th>\n",
       "      <td>-0.170800</td>\n",
       "      <td>0.000000</td>\n",
       "      <td>0.000000</td>\n",
       "      <td>0.0</td>\n",
       "    </tr>\n",
       "    <tr>\n",
       "      <th>1</th>\n",
       "      <td>0.672590</td>\n",
       "      <td>0.000000</td>\n",
       "      <td>0.000000</td>\n",
       "      <td>0.0</td>\n",
       "    </tr>\n",
       "    <tr>\n",
       "      <th>2</th>\n",
       "      <td>-0.901987</td>\n",
       "      <td>0.000000</td>\n",
       "      <td>0.993764</td>\n",
       "      <td>0.0</td>\n",
       "    </tr>\n",
       "    <tr>\n",
       "      <th>3</th>\n",
       "      <td>-0.592836</td>\n",
       "      <td>0.000000</td>\n",
       "      <td>0.868656</td>\n",
       "      <td>90.0</td>\n",
       "    </tr>\n",
       "    <tr>\n",
       "      <th>4</th>\n",
       "      <td>0.310584</td>\n",
       "      <td>0.040337</td>\n",
       "      <td>-0.472298</td>\n",
       "      <td>90.0</td>\n",
       "    </tr>\n",
       "    <tr>\n",
       "      <th>5</th>\n",
       "      <td>-0.780694</td>\n",
       "      <td>-0.785953</td>\n",
       "      <td>-1.405317</td>\n",
       "      <td>90.0</td>\n",
       "    </tr>\n",
       "    <tr>\n",
       "      <th>6</th>\n",
       "      <td>0.178345</td>\n",
       "      <td>1.060868</td>\n",
       "      <td>2.241134</td>\n",
       "      <td>90.0</td>\n",
       "    </tr>\n",
       "  </tbody>\n",
       "</table>\n",
       "</div>"
      ],
      "text/plain": [
       "          0         1         2     3\n",
       "0 -0.170800  0.000000  0.000000   0.0\n",
       "1  0.672590  0.000000  0.000000   0.0\n",
       "2 -0.901987  0.000000  0.993764   0.0\n",
       "3 -0.592836  0.000000  0.868656  90.0\n",
       "4  0.310584  0.040337 -0.472298  90.0\n",
       "5 -0.780694 -0.785953 -1.405317  90.0\n",
       "6  0.178345  1.060868  2.241134  90.0"
      ]
     },
     "execution_count": 27,
     "metadata": {},
     "output_type": "execute_result"
    }
   ],
   "source": [
    "df.fillna(0)"
   ]
  },
  {
   "cell_type": "code",
   "execution_count": 28,
   "id": "humanitarian-quantity",
   "metadata": {},
   "outputs": [],
   "source": [
    "dict_for_column_filling = {1:'aaj',2:'raat',3:'done'}"
   ]
  },
  {
   "cell_type": "code",
   "execution_count": 29,
   "id": "incomplete-leone",
   "metadata": {},
   "outputs": [
    {
     "data": {
      "text/html": [
       "<div>\n",
       "<style scoped>\n",
       "    .dataframe tbody tr th:only-of-type {\n",
       "        vertical-align: middle;\n",
       "    }\n",
       "\n",
       "    .dataframe tbody tr th {\n",
       "        vertical-align: top;\n",
       "    }\n",
       "\n",
       "    .dataframe thead th {\n",
       "        text-align: right;\n",
       "    }\n",
       "</style>\n",
       "<table border=\"1\" class=\"dataframe\">\n",
       "  <thead>\n",
       "    <tr style=\"text-align: right;\">\n",
       "      <th></th>\n",
       "      <th>0</th>\n",
       "      <th>1</th>\n",
       "      <th>2</th>\n",
       "      <th>3</th>\n",
       "    </tr>\n",
       "  </thead>\n",
       "  <tbody>\n",
       "    <tr>\n",
       "      <th>0</th>\n",
       "      <td>-0.170800</td>\n",
       "      <td>aaj</td>\n",
       "      <td>raat</td>\n",
       "      <td>done</td>\n",
       "    </tr>\n",
       "    <tr>\n",
       "      <th>1</th>\n",
       "      <td>0.672590</td>\n",
       "      <td>aaj</td>\n",
       "      <td>raat</td>\n",
       "      <td>done</td>\n",
       "    </tr>\n",
       "    <tr>\n",
       "      <th>2</th>\n",
       "      <td>-0.901987</td>\n",
       "      <td>aaj</td>\n",
       "      <td>0.993764</td>\n",
       "      <td>done</td>\n",
       "    </tr>\n",
       "    <tr>\n",
       "      <th>3</th>\n",
       "      <td>-0.592836</td>\n",
       "      <td>aaj</td>\n",
       "      <td>0.868656</td>\n",
       "      <td>90.0</td>\n",
       "    </tr>\n",
       "    <tr>\n",
       "      <th>4</th>\n",
       "      <td>0.310584</td>\n",
       "      <td>0.040337</td>\n",
       "      <td>-0.472298</td>\n",
       "      <td>90.0</td>\n",
       "    </tr>\n",
       "    <tr>\n",
       "      <th>5</th>\n",
       "      <td>-0.780694</td>\n",
       "      <td>-0.785953</td>\n",
       "      <td>-1.405317</td>\n",
       "      <td>90.0</td>\n",
       "    </tr>\n",
       "    <tr>\n",
       "      <th>6</th>\n",
       "      <td>0.178345</td>\n",
       "      <td>1.060868</td>\n",
       "      <td>2.241134</td>\n",
       "      <td>90.0</td>\n",
       "    </tr>\n",
       "  </tbody>\n",
       "</table>\n",
       "</div>"
      ],
      "text/plain": [
       "          0         1         2     3\n",
       "0 -0.170800       aaj      raat  done\n",
       "1  0.672590       aaj      raat  done\n",
       "2 -0.901987       aaj  0.993764  done\n",
       "3 -0.592836       aaj  0.868656  90.0\n",
       "4  0.310584  0.040337 -0.472298  90.0\n",
       "5 -0.780694 -0.785953 -1.405317  90.0\n",
       "6  0.178345  1.060868  2.241134  90.0"
      ]
     },
     "execution_count": 29,
     "metadata": {},
     "output_type": "execute_result"
    }
   ],
   "source": [
    "df.fillna(dict_for_column_filling)"
   ]
  },
  {
   "cell_type": "code",
   "execution_count": 30,
   "id": "straight-general",
   "metadata": {},
   "outputs": [],
   "source": [
    "# You can fill up with other also"
   ]
  },
  {
   "cell_type": "code",
   "execution_count": 31,
   "id": "upset-benchmark",
   "metadata": {},
   "outputs": [
    {
     "data": {
      "text/html": [
       "<div>\n",
       "<style scoped>\n",
       "    .dataframe tbody tr th:only-of-type {\n",
       "        vertical-align: middle;\n",
       "    }\n",
       "\n",
       "    .dataframe tbody tr th {\n",
       "        vertical-align: top;\n",
       "    }\n",
       "\n",
       "    .dataframe thead th {\n",
       "        text-align: right;\n",
       "    }\n",
       "</style>\n",
       "<table border=\"1\" class=\"dataframe\">\n",
       "  <thead>\n",
       "    <tr style=\"text-align: right;\">\n",
       "      <th></th>\n",
       "      <th>0</th>\n",
       "      <th>1</th>\n",
       "      <th>2</th>\n",
       "      <th>3</th>\n",
       "    </tr>\n",
       "  </thead>\n",
       "  <tbody>\n",
       "    <tr>\n",
       "      <th>0</th>\n",
       "      <td>-0.170800</td>\n",
       "      <td>0.105084</td>\n",
       "      <td>0.445188</td>\n",
       "      <td>90.0</td>\n",
       "    </tr>\n",
       "    <tr>\n",
       "      <th>1</th>\n",
       "      <td>0.672590</td>\n",
       "      <td>0.105084</td>\n",
       "      <td>0.445188</td>\n",
       "      <td>90.0</td>\n",
       "    </tr>\n",
       "    <tr>\n",
       "      <th>2</th>\n",
       "      <td>-0.901987</td>\n",
       "      <td>0.105084</td>\n",
       "      <td>0.993764</td>\n",
       "      <td>90.0</td>\n",
       "    </tr>\n",
       "    <tr>\n",
       "      <th>3</th>\n",
       "      <td>-0.592836</td>\n",
       "      <td>0.105084</td>\n",
       "      <td>0.868656</td>\n",
       "      <td>90.0</td>\n",
       "    </tr>\n",
       "    <tr>\n",
       "      <th>4</th>\n",
       "      <td>0.310584</td>\n",
       "      <td>0.040337</td>\n",
       "      <td>-0.472298</td>\n",
       "      <td>90.0</td>\n",
       "    </tr>\n",
       "    <tr>\n",
       "      <th>5</th>\n",
       "      <td>-0.780694</td>\n",
       "      <td>-0.785953</td>\n",
       "      <td>-1.405317</td>\n",
       "      <td>90.0</td>\n",
       "    </tr>\n",
       "    <tr>\n",
       "      <th>6</th>\n",
       "      <td>0.178345</td>\n",
       "      <td>1.060868</td>\n",
       "      <td>2.241134</td>\n",
       "      <td>90.0</td>\n",
       "    </tr>\n",
       "  </tbody>\n",
       "</table>\n",
       "</div>"
      ],
      "text/plain": [
       "          0         1         2     3\n",
       "0 -0.170800  0.105084  0.445188  90.0\n",
       "1  0.672590  0.105084  0.445188  90.0\n",
       "2 -0.901987  0.105084  0.993764  90.0\n",
       "3 -0.592836  0.105084  0.868656  90.0\n",
       "4  0.310584  0.040337 -0.472298  90.0\n",
       "5 -0.780694 -0.785953 -1.405317  90.0\n",
       "6  0.178345  1.060868  2.241134  90.0"
      ]
     },
     "execution_count": 31,
     "metadata": {},
     "output_type": "execute_result"
    }
   ],
   "source": [
    "df.fillna(df.mean()) # this will fill the mean of column wise, like the mean of 3rd col is 90, do 90 will come in place of Nan"
   ]
  },
  {
   "cell_type": "markdown",
   "id": "behind-knife",
   "metadata": {},
   "source": [
    "## Data Transformation"
   ]
  },
  {
   "cell_type": "markdown",
   "id": "cooperative-converter",
   "metadata": {},
   "source": [
    "### Removing Duplicates"
   ]
  },
  {
   "cell_type": "code",
   "execution_count": 32,
   "id": "regulation-blame",
   "metadata": {},
   "outputs": [
    {
     "data": {
      "text/html": [
       "<div>\n",
       "<style scoped>\n",
       "    .dataframe tbody tr th:only-of-type {\n",
       "        vertical-align: middle;\n",
       "    }\n",
       "\n",
       "    .dataframe tbody tr th {\n",
       "        vertical-align: top;\n",
       "    }\n",
       "\n",
       "    .dataframe thead th {\n",
       "        text-align: right;\n",
       "    }\n",
       "</style>\n",
       "<table border=\"1\" class=\"dataframe\">\n",
       "  <thead>\n",
       "    <tr style=\"text-align: right;\">\n",
       "      <th></th>\n",
       "      <th>k0</th>\n",
       "      <th>k1</th>\n",
       "    </tr>\n",
       "  </thead>\n",
       "  <tbody>\n",
       "    <tr>\n",
       "      <th>0</th>\n",
       "      <td>ek</td>\n",
       "      <td>1</td>\n",
       "    </tr>\n",
       "    <tr>\n",
       "      <th>1</th>\n",
       "      <td>do</td>\n",
       "      <td>1</td>\n",
       "    </tr>\n",
       "    <tr>\n",
       "      <th>2</th>\n",
       "      <td>ek</td>\n",
       "      <td>2</td>\n",
       "    </tr>\n",
       "    <tr>\n",
       "      <th>3</th>\n",
       "      <td>do</td>\n",
       "      <td>3</td>\n",
       "    </tr>\n",
       "    <tr>\n",
       "      <th>4</th>\n",
       "      <td>ek</td>\n",
       "      <td>3</td>\n",
       "    </tr>\n",
       "    <tr>\n",
       "      <th>5</th>\n",
       "      <td>do</td>\n",
       "      <td>4</td>\n",
       "    </tr>\n",
       "    <tr>\n",
       "      <th>6</th>\n",
       "      <td>do</td>\n",
       "      <td>4</td>\n",
       "    </tr>\n",
       "  </tbody>\n",
       "</table>\n",
       "</div>"
      ],
      "text/plain": [
       "   k0  k1\n",
       "0  ek   1\n",
       "1  do   1\n",
       "2  ek   2\n",
       "3  do   3\n",
       "4  ek   3\n",
       "5  do   4\n",
       "6  do   4"
      ]
     },
     "execution_count": 32,
     "metadata": {},
     "output_type": "execute_result"
    }
   ],
   "source": [
    "data = pd.DataFrame({'k0':['ek','do']*3 + ['do'],\n",
    "                    \n",
    "                    'k1':[1,1,2,3,3,4,4]\n",
    "                    })\n",
    "\n",
    "data"
   ]
  },
  {
   "cell_type": "code",
   "execution_count": 33,
   "id": "individual-empire",
   "metadata": {},
   "outputs": [
    {
     "data": {
      "text/plain": [
       "0    False\n",
       "1    False\n",
       "2    False\n",
       "3    False\n",
       "4    False\n",
       "5    False\n",
       "6     True\n",
       "dtype: bool"
      ]
     },
     "execution_count": 33,
     "metadata": {},
     "output_type": "execute_result"
    }
   ],
   "source": [
    "data.duplicated()"
   ]
  },
  {
   "cell_type": "code",
   "execution_count": 34,
   "id": "urban-regard",
   "metadata": {},
   "outputs": [
    {
     "data": {
      "text/html": [
       "<div>\n",
       "<style scoped>\n",
       "    .dataframe tbody tr th:only-of-type {\n",
       "        vertical-align: middle;\n",
       "    }\n",
       "\n",
       "    .dataframe tbody tr th {\n",
       "        vertical-align: top;\n",
       "    }\n",
       "\n",
       "    .dataframe thead th {\n",
       "        text-align: right;\n",
       "    }\n",
       "</style>\n",
       "<table border=\"1\" class=\"dataframe\">\n",
       "  <thead>\n",
       "    <tr style=\"text-align: right;\">\n",
       "      <th></th>\n",
       "      <th>k0</th>\n",
       "      <th>k1</th>\n",
       "    </tr>\n",
       "  </thead>\n",
       "  <tbody>\n",
       "    <tr>\n",
       "      <th>0</th>\n",
       "      <td>ek</td>\n",
       "      <td>1</td>\n",
       "    </tr>\n",
       "    <tr>\n",
       "      <th>1</th>\n",
       "      <td>do</td>\n",
       "      <td>1</td>\n",
       "    </tr>\n",
       "    <tr>\n",
       "      <th>2</th>\n",
       "      <td>ek</td>\n",
       "      <td>2</td>\n",
       "    </tr>\n",
       "    <tr>\n",
       "      <th>3</th>\n",
       "      <td>do</td>\n",
       "      <td>3</td>\n",
       "    </tr>\n",
       "    <tr>\n",
       "      <th>4</th>\n",
       "      <td>ek</td>\n",
       "      <td>3</td>\n",
       "    </tr>\n",
       "    <tr>\n",
       "      <th>5</th>\n",
       "      <td>do</td>\n",
       "      <td>4</td>\n",
       "    </tr>\n",
       "  </tbody>\n",
       "</table>\n",
       "</div>"
      ],
      "text/plain": [
       "   k0  k1\n",
       "0  ek   1\n",
       "1  do   1\n",
       "2  ek   2\n",
       "3  do   3\n",
       "4  ek   3\n",
       "5  do   4"
      ]
     },
     "execution_count": 34,
     "metadata": {},
     "output_type": "execute_result"
    }
   ],
   "source": [
    "data.drop_duplicates()"
   ]
  },
  {
   "cell_type": "code",
   "execution_count": 35,
   "id": "smart-alert",
   "metadata": {},
   "outputs": [],
   "source": [
    "# Important note, by default both the functions run on all the columns and they work by checking if the entire combination\n",
    "\n",
    "# of all the rows under all the columns are duplicate or not"
   ]
  },
  {
   "cell_type": "code",
   "execution_count": 36,
   "id": "interim-northeast",
   "metadata": {},
   "outputs": [],
   "source": [
    "data['pappi'] = range(7)"
   ]
  },
  {
   "cell_type": "code",
   "execution_count": 37,
   "id": "broken-edition",
   "metadata": {},
   "outputs": [
    {
     "data": {
      "text/html": [
       "<div>\n",
       "<style scoped>\n",
       "    .dataframe tbody tr th:only-of-type {\n",
       "        vertical-align: middle;\n",
       "    }\n",
       "\n",
       "    .dataframe tbody tr th {\n",
       "        vertical-align: top;\n",
       "    }\n",
       "\n",
       "    .dataframe thead th {\n",
       "        text-align: right;\n",
       "    }\n",
       "</style>\n",
       "<table border=\"1\" class=\"dataframe\">\n",
       "  <thead>\n",
       "    <tr style=\"text-align: right;\">\n",
       "      <th></th>\n",
       "      <th>k0</th>\n",
       "      <th>k1</th>\n",
       "      <th>pappi</th>\n",
       "    </tr>\n",
       "  </thead>\n",
       "  <tbody>\n",
       "    <tr>\n",
       "      <th>0</th>\n",
       "      <td>ek</td>\n",
       "      <td>1</td>\n",
       "      <td>0</td>\n",
       "    </tr>\n",
       "    <tr>\n",
       "      <th>1</th>\n",
       "      <td>do</td>\n",
       "      <td>1</td>\n",
       "      <td>1</td>\n",
       "    </tr>\n",
       "    <tr>\n",
       "      <th>2</th>\n",
       "      <td>ek</td>\n",
       "      <td>2</td>\n",
       "      <td>2</td>\n",
       "    </tr>\n",
       "    <tr>\n",
       "      <th>3</th>\n",
       "      <td>do</td>\n",
       "      <td>3</td>\n",
       "      <td>3</td>\n",
       "    </tr>\n",
       "    <tr>\n",
       "      <th>4</th>\n",
       "      <td>ek</td>\n",
       "      <td>3</td>\n",
       "      <td>4</td>\n",
       "    </tr>\n",
       "    <tr>\n",
       "      <th>5</th>\n",
       "      <td>do</td>\n",
       "      <td>4</td>\n",
       "      <td>5</td>\n",
       "    </tr>\n",
       "    <tr>\n",
       "      <th>6</th>\n",
       "      <td>do</td>\n",
       "      <td>4</td>\n",
       "      <td>6</td>\n",
       "    </tr>\n",
       "  </tbody>\n",
       "</table>\n",
       "</div>"
      ],
      "text/plain": [
       "   k0  k1  pappi\n",
       "0  ek   1      0\n",
       "1  do   1      1\n",
       "2  ek   2      2\n",
       "3  do   3      3\n",
       "4  ek   3      4\n",
       "5  do   4      5\n",
       "6  do   4      6"
      ]
     },
     "execution_count": 37,
     "metadata": {},
     "output_type": "execute_result"
    }
   ],
   "source": [
    "data"
   ]
  },
  {
   "cell_type": "code",
   "execution_count": 38,
   "id": "outdoor-houston",
   "metadata": {},
   "outputs": [
    {
     "data": {
      "text/html": [
       "<div>\n",
       "<style scoped>\n",
       "    .dataframe tbody tr th:only-of-type {\n",
       "        vertical-align: middle;\n",
       "    }\n",
       "\n",
       "    .dataframe tbody tr th {\n",
       "        vertical-align: top;\n",
       "    }\n",
       "\n",
       "    .dataframe thead th {\n",
       "        text-align: right;\n",
       "    }\n",
       "</style>\n",
       "<table border=\"1\" class=\"dataframe\">\n",
       "  <thead>\n",
       "    <tr style=\"text-align: right;\">\n",
       "      <th></th>\n",
       "      <th>k0</th>\n",
       "      <th>k1</th>\n",
       "      <th>pappi</th>\n",
       "    </tr>\n",
       "  </thead>\n",
       "  <tbody>\n",
       "    <tr>\n",
       "      <th>0</th>\n",
       "      <td>ek</td>\n",
       "      <td>1</td>\n",
       "      <td>0</td>\n",
       "    </tr>\n",
       "    <tr>\n",
       "      <th>1</th>\n",
       "      <td>do</td>\n",
       "      <td>1</td>\n",
       "      <td>1</td>\n",
       "    </tr>\n",
       "  </tbody>\n",
       "</table>\n",
       "</div>"
      ],
      "text/plain": [
       "   k0  k1  pappi\n",
       "0  ek   1      0\n",
       "1  do   1      1"
      ]
     },
     "execution_count": 38,
     "metadata": {},
     "output_type": "execute_result"
    }
   ],
   "source": [
    "data.drop_duplicates(subset = 'k0') # if you want to check running only on one column"
   ]
  },
  {
   "cell_type": "markdown",
   "id": "normal-paraguay",
   "metadata": {},
   "source": [
    "### Transforming data using function or mapping"
   ]
  },
  {
   "cell_type": "code",
   "execution_count": 39,
   "id": "nearby-afghanistan",
   "metadata": {},
   "outputs": [
    {
     "data": {
      "text/html": [
       "<div>\n",
       "<style scoped>\n",
       "    .dataframe tbody tr th:only-of-type {\n",
       "        vertical-align: middle;\n",
       "    }\n",
       "\n",
       "    .dataframe tbody tr th {\n",
       "        vertical-align: top;\n",
       "    }\n",
       "\n",
       "    .dataframe thead th {\n",
       "        text-align: right;\n",
       "    }\n",
       "</style>\n",
       "<table border=\"1\" class=\"dataframe\">\n",
       "  <thead>\n",
       "    <tr style=\"text-align: right;\">\n",
       "      <th></th>\n",
       "      <th>food</th>\n",
       "      <th>ounces</th>\n",
       "    </tr>\n",
       "  </thead>\n",
       "  <tbody>\n",
       "    <tr>\n",
       "      <th>0</th>\n",
       "      <td>bacon</td>\n",
       "      <td>4.0</td>\n",
       "    </tr>\n",
       "    <tr>\n",
       "      <th>1</th>\n",
       "      <td>pulled pork</td>\n",
       "      <td>3.0</td>\n",
       "    </tr>\n",
       "    <tr>\n",
       "      <th>2</th>\n",
       "      <td>bacon</td>\n",
       "      <td>12.0</td>\n",
       "    </tr>\n",
       "    <tr>\n",
       "      <th>3</th>\n",
       "      <td>pastrami</td>\n",
       "      <td>6.0</td>\n",
       "    </tr>\n",
       "    <tr>\n",
       "      <th>4</th>\n",
       "      <td>corned beef</td>\n",
       "      <td>7.8</td>\n",
       "    </tr>\n",
       "    <tr>\n",
       "      <th>5</th>\n",
       "      <td>bacon</td>\n",
       "      <td>8.0</td>\n",
       "    </tr>\n",
       "    <tr>\n",
       "      <th>6</th>\n",
       "      <td>pastrami</td>\n",
       "      <td>3.0</td>\n",
       "    </tr>\n",
       "    <tr>\n",
       "      <th>7</th>\n",
       "      <td>honey ham</td>\n",
       "      <td>5.0</td>\n",
       "    </tr>\n",
       "    <tr>\n",
       "      <th>8</th>\n",
       "      <td>nova lox</td>\n",
       "      <td>6.0</td>\n",
       "    </tr>\n",
       "  </tbody>\n",
       "</table>\n",
       "</div>"
      ],
      "text/plain": [
       "          food  ounces\n",
       "0        bacon     4.0\n",
       "1  pulled pork     3.0\n",
       "2        bacon    12.0\n",
       "3     pastrami     6.0\n",
       "4  corned beef     7.8\n",
       "5        bacon     8.0\n",
       "6     pastrami     3.0\n",
       "7    honey ham     5.0\n",
       "8     nova lox     6.0"
      ]
     },
     "execution_count": 39,
     "metadata": {},
     "output_type": "execute_result"
    }
   ],
   "source": [
    "data = pd.DataFrame({'food':['bacon','pulled pork','bacon','pastrami','corned beef','bacon','pastrami','honey ham','nova lox'],\n",
    "                   \n",
    "                   'ounces':[4,3,12,6,7.8,8,3,5,6]}\n",
    "                   )\n",
    "\n",
    "data"
   ]
  },
  {
   "cell_type": "code",
   "execution_count": 40,
   "id": "brave-chemistry",
   "metadata": {},
   "outputs": [],
   "source": [
    "# Suppose you want to map the meat to the animal it came from, do it like this"
   ]
  },
  {
   "cell_type": "code",
   "execution_count": 41,
   "id": "critical-deviation",
   "metadata": {},
   "outputs": [],
   "source": [
    "mapdict = {'bacon':'pig',\n",
    "           'pulled pork' : 'pig',   \n",
    "          'pastrami':'cow',\n",
    "          'corned beef':'cow',\n",
    "          'honey ham' : 'pig',\n",
    "          'nova lox':'salmon'          \n",
    "          }"
   ]
  },
  {
   "cell_type": "code",
   "execution_count": 42,
   "id": "forced-honor",
   "metadata": {},
   "outputs": [
    {
     "data": {
      "text/html": [
       "<div>\n",
       "<style scoped>\n",
       "    .dataframe tbody tr th:only-of-type {\n",
       "        vertical-align: middle;\n",
       "    }\n",
       "\n",
       "    .dataframe tbody tr th {\n",
       "        vertical-align: top;\n",
       "    }\n",
       "\n",
       "    .dataframe thead th {\n",
       "        text-align: right;\n",
       "    }\n",
       "</style>\n",
       "<table border=\"1\" class=\"dataframe\">\n",
       "  <thead>\n",
       "    <tr style=\"text-align: right;\">\n",
       "      <th></th>\n",
       "      <th>food</th>\n",
       "      <th>ounces</th>\n",
       "      <th>origin</th>\n",
       "    </tr>\n",
       "  </thead>\n",
       "  <tbody>\n",
       "    <tr>\n",
       "      <th>0</th>\n",
       "      <td>bacon</td>\n",
       "      <td>4.0</td>\n",
       "      <td>pig</td>\n",
       "    </tr>\n",
       "    <tr>\n",
       "      <th>1</th>\n",
       "      <td>pulled pork</td>\n",
       "      <td>3.0</td>\n",
       "      <td>pig</td>\n",
       "    </tr>\n",
       "    <tr>\n",
       "      <th>2</th>\n",
       "      <td>bacon</td>\n",
       "      <td>12.0</td>\n",
       "      <td>pig</td>\n",
       "    </tr>\n",
       "    <tr>\n",
       "      <th>3</th>\n",
       "      <td>pastrami</td>\n",
       "      <td>6.0</td>\n",
       "      <td>cow</td>\n",
       "    </tr>\n",
       "    <tr>\n",
       "      <th>4</th>\n",
       "      <td>corned beef</td>\n",
       "      <td>7.8</td>\n",
       "      <td>cow</td>\n",
       "    </tr>\n",
       "    <tr>\n",
       "      <th>5</th>\n",
       "      <td>bacon</td>\n",
       "      <td>8.0</td>\n",
       "      <td>pig</td>\n",
       "    </tr>\n",
       "    <tr>\n",
       "      <th>6</th>\n",
       "      <td>pastrami</td>\n",
       "      <td>3.0</td>\n",
       "      <td>cow</td>\n",
       "    </tr>\n",
       "    <tr>\n",
       "      <th>7</th>\n",
       "      <td>honey ham</td>\n",
       "      <td>5.0</td>\n",
       "      <td>pig</td>\n",
       "    </tr>\n",
       "    <tr>\n",
       "      <th>8</th>\n",
       "      <td>nova lox</td>\n",
       "      <td>6.0</td>\n",
       "      <td>salmon</td>\n",
       "    </tr>\n",
       "  </tbody>\n",
       "</table>\n",
       "</div>"
      ],
      "text/plain": [
       "          food  ounces  origin\n",
       "0        bacon     4.0     pig\n",
       "1  pulled pork     3.0     pig\n",
       "2        bacon    12.0     pig\n",
       "3     pastrami     6.0     cow\n",
       "4  corned beef     7.8     cow\n",
       "5        bacon     8.0     pig\n",
       "6     pastrami     3.0     cow\n",
       "7    honey ham     5.0     pig\n",
       "8     nova lox     6.0  salmon"
      ]
     },
     "execution_count": 42,
     "metadata": {},
     "output_type": "execute_result"
    }
   ],
   "source": [
    "data['origin'] = data['food'].map(mapdict)\n",
    "\n",
    "data"
   ]
  },
  {
   "cell_type": "markdown",
   "id": "handy-presence",
   "metadata": {},
   "source": [
    "###  Replacing values"
   ]
  },
  {
   "cell_type": "code",
   "execution_count": 43,
   "id": "living-idaho",
   "metadata": {},
   "outputs": [
    {
     "data": {
      "text/plain": [
       "0        1.00\n",
       "1        2.00\n",
       "2        3.32\n",
       "3   -73227.00\n",
       "4     1233.00\n",
       "5    -1000.00\n",
       "dtype: float64"
      ]
     },
     "execution_count": 43,
     "metadata": {},
     "output_type": "execute_result"
    }
   ],
   "source": [
    "dayya = pd.Series([1,2,3.32,-73227,1233,-1000])\n",
    "\n",
    "dayya"
   ]
  },
  {
   "cell_type": "code",
   "execution_count": 44,
   "id": "appropriate-pastor",
   "metadata": {},
   "outputs": [
    {
     "data": {
      "text/plain": [
       "0       1.00\n",
       "1       2.00\n",
       "2       3.32\n",
       "3       0.00\n",
       "4    1233.00\n",
       "5       0.00\n",
       "dtype: float64"
      ]
     },
     "execution_count": 44,
     "metadata": {},
     "output_type": "execute_result"
    }
   ],
   "source": [
    "dayya.replace({-73227:0,-1000:0})"
   ]
  },
  {
   "cell_type": "code",
   "execution_count": 45,
   "id": "incorporate-adaptation",
   "metadata": {},
   "outputs": [],
   "source": [
    "def func1():\n",
    "    return 1"
   ]
  },
  {
   "cell_type": "code",
   "execution_count": 46,
   "id": "sharp-eight",
   "metadata": {},
   "outputs": [],
   "source": [
    "#dayya.replace(func1)"
   ]
  },
  {
   "cell_type": "markdown",
   "id": "confidential-wings",
   "metadata": {},
   "source": [
    "### Renaming Axis Indexes"
   ]
  },
  {
   "cell_type": "code",
   "execution_count": 47,
   "id": "temporal-thumb",
   "metadata": {},
   "outputs": [
    {
     "data": {
      "text/html": [
       "<div>\n",
       "<style scoped>\n",
       "    .dataframe tbody tr th:only-of-type {\n",
       "        vertical-align: middle;\n",
       "    }\n",
       "\n",
       "    .dataframe tbody tr th {\n",
       "        vertical-align: top;\n",
       "    }\n",
       "\n",
       "    .dataframe thead th {\n",
       "        text-align: right;\n",
       "    }\n",
       "</style>\n",
       "<table border=\"1\" class=\"dataframe\">\n",
       "  <thead>\n",
       "    <tr style=\"text-align: right;\">\n",
       "      <th></th>\n",
       "      <th>ek</th>\n",
       "      <th>do</th>\n",
       "      <th>teen</th>\n",
       "      <th>chaar</th>\n",
       "    </tr>\n",
       "  </thead>\n",
       "  <tbody>\n",
       "    <tr>\n",
       "      <th>mumbai</th>\n",
       "      <td>0</td>\n",
       "      <td>1</td>\n",
       "      <td>2</td>\n",
       "      <td>3</td>\n",
       "    </tr>\n",
       "    <tr>\n",
       "      <th>kerala</th>\n",
       "      <td>4</td>\n",
       "      <td>5</td>\n",
       "      <td>6</td>\n",
       "      <td>7</td>\n",
       "    </tr>\n",
       "    <tr>\n",
       "      <th>delhi</th>\n",
       "      <td>8</td>\n",
       "      <td>9</td>\n",
       "      <td>10</td>\n",
       "      <td>11</td>\n",
       "    </tr>\n",
       "  </tbody>\n",
       "</table>\n",
       "</div>"
      ],
      "text/plain": [
       "        ek  do  teen  chaar\n",
       "mumbai   0   1     2      3\n",
       "kerala   4   5     6      7\n",
       "delhi    8   9    10     11"
      ]
     },
     "execution_count": 47,
     "metadata": {},
     "output_type": "execute_result"
    }
   ],
   "source": [
    "data = pd.DataFrame(np.arange(12).reshape((3,4)),\n",
    "                   index = ['mumbai','kerala','delhi'],\n",
    "                    \n",
    "                    columns = ['ek','do','teen','chaar']\n",
    "                   \n",
    "                   )\n",
    "\n",
    "data"
   ]
  },
  {
   "cell_type": "code",
   "execution_count": 48,
   "id": "distinguished-community",
   "metadata": {},
   "outputs": [],
   "source": [
    "def Changer(x):\n",
    "    return x[:3].upper()"
   ]
  },
  {
   "cell_type": "code",
   "execution_count": 49,
   "id": "opposite-hunter",
   "metadata": {},
   "outputs": [
    {
     "data": {
      "text/plain": [
       "Index(['MUM', 'KER', 'DEL'], dtype='object')"
      ]
     },
     "execution_count": 49,
     "metadata": {},
     "output_type": "execute_result"
    }
   ],
   "source": [
    "data.index.map(Changer)"
   ]
  },
  {
   "cell_type": "code",
   "execution_count": 50,
   "id": "increasing-creature",
   "metadata": {},
   "outputs": [
    {
     "data": {
      "text/plain": [
       "Index(['EK', 'DO', 'TEE', 'CHA'], dtype='object')"
      ]
     },
     "execution_count": 50,
     "metadata": {},
     "output_type": "execute_result"
    }
   ],
   "source": [
    "data.columns.map(Changer)"
   ]
  },
  {
   "cell_type": "code",
   "execution_count": 51,
   "id": "moderate-fifty",
   "metadata": {},
   "outputs": [],
   "source": [
    "data.index = data.index.map(Changer)"
   ]
  },
  {
   "cell_type": "code",
   "execution_count": 52,
   "id": "funded-enzyme",
   "metadata": {},
   "outputs": [],
   "source": [
    "data.columns = data.columns.map(Changer)"
   ]
  },
  {
   "cell_type": "code",
   "execution_count": 53,
   "id": "senior-average",
   "metadata": {},
   "outputs": [
    {
     "data": {
      "text/html": [
       "<div>\n",
       "<style scoped>\n",
       "    .dataframe tbody tr th:only-of-type {\n",
       "        vertical-align: middle;\n",
       "    }\n",
       "\n",
       "    .dataframe tbody tr th {\n",
       "        vertical-align: top;\n",
       "    }\n",
       "\n",
       "    .dataframe thead th {\n",
       "        text-align: right;\n",
       "    }\n",
       "</style>\n",
       "<table border=\"1\" class=\"dataframe\">\n",
       "  <thead>\n",
       "    <tr style=\"text-align: right;\">\n",
       "      <th></th>\n",
       "      <th>EK</th>\n",
       "      <th>DO</th>\n",
       "      <th>TEE</th>\n",
       "      <th>CHA</th>\n",
       "    </tr>\n",
       "  </thead>\n",
       "  <tbody>\n",
       "    <tr>\n",
       "      <th>MUM</th>\n",
       "      <td>0</td>\n",
       "      <td>1</td>\n",
       "      <td>2</td>\n",
       "      <td>3</td>\n",
       "    </tr>\n",
       "    <tr>\n",
       "      <th>KER</th>\n",
       "      <td>4</td>\n",
       "      <td>5</td>\n",
       "      <td>6</td>\n",
       "      <td>7</td>\n",
       "    </tr>\n",
       "    <tr>\n",
       "      <th>DEL</th>\n",
       "      <td>8</td>\n",
       "      <td>9</td>\n",
       "      <td>10</td>\n",
       "      <td>11</td>\n",
       "    </tr>\n",
       "  </tbody>\n",
       "</table>\n",
       "</div>"
      ],
      "text/plain": [
       "     EK  DO  TEE  CHA\n",
       "MUM   0   1    2    3\n",
       "KER   4   5    6    7\n",
       "DEL   8   9   10   11"
      ]
     },
     "execution_count": 53,
     "metadata": {},
     "output_type": "execute_result"
    }
   ],
   "source": [
    "data"
   ]
  },
  {
   "cell_type": "code",
   "execution_count": 54,
   "id": "reserved-check",
   "metadata": {},
   "outputs": [
    {
     "data": {
      "text/html": [
       "<div>\n",
       "<style scoped>\n",
       "    .dataframe tbody tr th:only-of-type {\n",
       "        vertical-align: middle;\n",
       "    }\n",
       "\n",
       "    .dataframe tbody tr th {\n",
       "        vertical-align: top;\n",
       "    }\n",
       "\n",
       "    .dataframe thead th {\n",
       "        text-align: right;\n",
       "    }\n",
       "</style>\n",
       "<table border=\"1\" class=\"dataframe\">\n",
       "  <thead>\n",
       "    <tr style=\"text-align: right;\">\n",
       "      <th></th>\n",
       "      <th>Ek</th>\n",
       "      <th>Do</th>\n",
       "      <th>Tee</th>\n",
       "      <th>Cha</th>\n",
       "    </tr>\n",
       "  </thead>\n",
       "  <tbody>\n",
       "    <tr>\n",
       "      <th>mum</th>\n",
       "      <td>0</td>\n",
       "      <td>1</td>\n",
       "      <td>2</td>\n",
       "      <td>3</td>\n",
       "    </tr>\n",
       "    <tr>\n",
       "      <th>ker</th>\n",
       "      <td>4</td>\n",
       "      <td>5</td>\n",
       "      <td>6</td>\n",
       "      <td>7</td>\n",
       "    </tr>\n",
       "    <tr>\n",
       "      <th>del</th>\n",
       "      <td>8</td>\n",
       "      <td>9</td>\n",
       "      <td>10</td>\n",
       "      <td>11</td>\n",
       "    </tr>\n",
       "  </tbody>\n",
       "</table>\n",
       "</div>"
      ],
      "text/plain": [
       "     Ek  Do  Tee  Cha\n",
       "mum   0   1    2    3\n",
       "ker   4   5    6    7\n",
       "del   8   9   10   11"
      ]
     },
     "execution_count": 54,
     "metadata": {},
     "output_type": "execute_result"
    }
   ],
   "source": [
    "data.rename(index = str.lower,columns = str.title)"
   ]
  },
  {
   "cell_type": "code",
   "execution_count": 55,
   "id": "continental-cameroon",
   "metadata": {},
   "outputs": [
    {
     "data": {
      "text/html": [
       "<div>\n",
       "<style scoped>\n",
       "    .dataframe tbody tr th:only-of-type {\n",
       "        vertical-align: middle;\n",
       "    }\n",
       "\n",
       "    .dataframe tbody tr th {\n",
       "        vertical-align: top;\n",
       "    }\n",
       "\n",
       "    .dataframe thead th {\n",
       "        text-align: right;\n",
       "    }\n",
       "</style>\n",
       "<table border=\"1\" class=\"dataframe\">\n",
       "  <thead>\n",
       "    <tr style=\"text-align: right;\">\n",
       "      <th></th>\n",
       "      <th>EK</th>\n",
       "      <th>DO</th>\n",
       "      <th>TEE</th>\n",
       "      <th>CHA</th>\n",
       "    </tr>\n",
       "  </thead>\n",
       "  <tbody>\n",
       "    <tr>\n",
       "      <th>MUM</th>\n",
       "      <td>0</td>\n",
       "      <td>1</td>\n",
       "      <td>2</td>\n",
       "      <td>3</td>\n",
       "    </tr>\n",
       "    <tr>\n",
       "      <th>KER</th>\n",
       "      <td>4</td>\n",
       "      <td>5</td>\n",
       "      <td>6</td>\n",
       "      <td>7</td>\n",
       "    </tr>\n",
       "    <tr>\n",
       "      <th>DEL</th>\n",
       "      <td>8</td>\n",
       "      <td>9</td>\n",
       "      <td>10</td>\n",
       "      <td>11</td>\n",
       "    </tr>\n",
       "  </tbody>\n",
       "</table>\n",
       "</div>"
      ],
      "text/plain": [
       "     EK  DO  TEE  CHA\n",
       "MUM   0   1    2    3\n",
       "KER   4   5    6    7\n",
       "DEL   8   9   10   11"
      ]
     },
     "execution_count": 55,
     "metadata": {},
     "output_type": "execute_result"
    }
   ],
   "source": [
    "data"
   ]
  },
  {
   "cell_type": "code",
   "execution_count": 56,
   "id": "alone-president",
   "metadata": {},
   "outputs": [
    {
     "data": {
      "text/html": [
       "<div>\n",
       "<style scoped>\n",
       "    .dataframe tbody tr th:only-of-type {\n",
       "        vertical-align: middle;\n",
       "    }\n",
       "\n",
       "    .dataframe tbody tr th {\n",
       "        vertical-align: top;\n",
       "    }\n",
       "\n",
       "    .dataframe thead th {\n",
       "        text-align: right;\n",
       "    }\n",
       "</style>\n",
       "<table border=\"1\" class=\"dataframe\">\n",
       "  <thead>\n",
       "    <tr style=\"text-align: right;\">\n",
       "      <th></th>\n",
       "      <th>uno</th>\n",
       "      <th>DO</th>\n",
       "      <th>TEE</th>\n",
       "      <th>CHA</th>\n",
       "    </tr>\n",
       "  </thead>\n",
       "  <tbody>\n",
       "    <tr>\n",
       "      <th>aaja</th>\n",
       "      <td>0</td>\n",
       "      <td>1</td>\n",
       "      <td>2</td>\n",
       "      <td>3</td>\n",
       "    </tr>\n",
       "    <tr>\n",
       "      <th>KER</th>\n",
       "      <td>4</td>\n",
       "      <td>5</td>\n",
       "      <td>6</td>\n",
       "      <td>7</td>\n",
       "    </tr>\n",
       "    <tr>\n",
       "      <th>DEL</th>\n",
       "      <td>8</td>\n",
       "      <td>9</td>\n",
       "      <td>10</td>\n",
       "      <td>11</td>\n",
       "    </tr>\n",
       "  </tbody>\n",
       "</table>\n",
       "</div>"
      ],
      "text/plain": [
       "      uno  DO  TEE  CHA\n",
       "aaja    0   1    2    3\n",
       "KER     4   5    6    7\n",
       "DEL     8   9   10   11"
      ]
     },
     "execution_count": 56,
     "metadata": {},
     "output_type": "execute_result"
    }
   ],
   "source": [
    "data.rename(index = {'MUM':'aaja'},\n",
    "           columns = {'EK':'uno'})"
   ]
  },
  {
   "cell_type": "markdown",
   "id": "quarterly-speaker",
   "metadata": {},
   "source": [
    "### Discretization and Binning"
   ]
  },
  {
   "cell_type": "code",
   "execution_count": 57,
   "id": "included-failing",
   "metadata": {},
   "outputs": [],
   "source": [
    "# To divide the data into categories"
   ]
  },
  {
   "cell_type": "code",
   "execution_count": 58,
   "id": "postal-married",
   "metadata": {},
   "outputs": [],
   "source": [
    "ages = [20,22,25,27,21,23,37,31,61,45,41,32]"
   ]
  },
  {
   "cell_type": "code",
   "execution_count": 59,
   "id": "blind-benefit",
   "metadata": {},
   "outputs": [],
   "source": [
    "bins = [18,25,35,60,100]"
   ]
  },
  {
   "cell_type": "code",
   "execution_count": 60,
   "id": "dressed-pregnancy",
   "metadata": {},
   "outputs": [],
   "source": [
    "age_cat = pd.cut(ages,bins)"
   ]
  },
  {
   "cell_type": "code",
   "execution_count": 61,
   "id": "requested-giving",
   "metadata": {},
   "outputs": [
    {
     "data": {
      "text/plain": [
       "[(18, 25], (18, 25], (18, 25], (25, 35], (18, 25], ..., (25, 35], (60, 100], (35, 60], (35, 60], (25, 35]]\n",
       "Length: 12\n",
       "Categories (4, interval[int64]): [(18, 25] < (25, 35] < (35, 60] < (60, 100]]"
      ]
     },
     "execution_count": 61,
     "metadata": {},
     "output_type": "execute_result"
    }
   ],
   "source": [
    "age_cat"
   ]
  },
  {
   "cell_type": "code",
   "execution_count": 62,
   "id": "speaking-express",
   "metadata": {},
   "outputs": [
    {
     "data": {
      "text/plain": [
       "IntervalIndex([(18, 25], (25, 35], (35, 60], (60, 100]],\n",
       "              closed='right',\n",
       "              dtype='interval[int64]')"
      ]
     },
     "execution_count": 62,
     "metadata": {},
     "output_type": "execute_result"
    }
   ],
   "source": [
    "age_cat.categories "
   ]
  },
  {
   "cell_type": "code",
   "execution_count": 63,
   "id": "focused-pantyhose",
   "metadata": {},
   "outputs": [
    {
     "data": {
      "text/plain": [
       "array([0, 0, 0, 1, 0, 0, 2, 1, 3, 2, 2, 1], dtype=int8)"
      ]
     },
     "execution_count": 63,
     "metadata": {},
     "output_type": "execute_result"
    }
   ],
   "source": [
    "age_cat.codes # The output contains the index value of the lower value from age_cat (18, 25] in bins "
   ]
  },
  {
   "cell_type": "code",
   "execution_count": 64,
   "id": "built-hawaiian",
   "metadata": {},
   "outputs": [
    {
     "data": {
      "text/plain": [
       "(18, 25]     5\n",
       "(25, 35]     3\n",
       "(35, 60]     3\n",
       "(60, 100]    1\n",
       "dtype: int64"
      ]
     },
     "execution_count": 64,
     "metadata": {},
     "output_type": "execute_result"
    }
   ],
   "source": [
    "pd.value_counts(age_cat)"
   ]
  },
  {
   "cell_type": "code",
   "execution_count": 65,
   "id": "liberal-business",
   "metadata": {},
   "outputs": [],
   "source": [
    "# You can also modify the categorizing to string values"
   ]
  },
  {
   "cell_type": "code",
   "execution_count": 66,
   "id": "hundred-preview",
   "metadata": {},
   "outputs": [],
   "source": [
    "age_group = ['baccha','bada','beech umar','sabse samjhdaar'] # order matters, it works in coordination to bins"
   ]
  },
  {
   "cell_type": "code",
   "execution_count": 67,
   "id": "silver-constitution",
   "metadata": {},
   "outputs": [],
   "source": [
    "age_cat = pd.cut(ages,bins,labels = age_group)"
   ]
  },
  {
   "cell_type": "code",
   "execution_count": 68,
   "id": "individual-librarian",
   "metadata": {},
   "outputs": [
    {
     "data": {
      "text/plain": [
       "['baccha', 'baccha', 'baccha', 'bada', 'baccha', ..., 'bada', 'sabse samjhdaar', 'beech umar', 'beech umar', 'bada']\n",
       "Length: 12\n",
       "Categories (4, object): ['baccha' < 'bada' < 'beech umar' < 'sabse samjhdaar']"
      ]
     },
     "execution_count": 68,
     "metadata": {},
     "output_type": "execute_result"
    }
   ],
   "source": [
    "age_cat"
   ]
  },
  {
   "cell_type": "code",
   "execution_count": 69,
   "id": "vulnerable-fifteen",
   "metadata": {},
   "outputs": [
    {
     "data": {
      "text/plain": [
       "baccha             5\n",
       "bada               3\n",
       "beech umar         3\n",
       "sabse samjhdaar    1\n",
       "dtype: int64"
      ]
     },
     "execution_count": 69,
     "metadata": {},
     "output_type": "execute_result"
    }
   ],
   "source": [
    "pd.value_counts(age_cat)"
   ]
  },
  {
   "cell_type": "code",
   "execution_count": 70,
   "id": "stuck-ending",
   "metadata": {},
   "outputs": [],
   "source": [
    "da = np.random.uniform(size = 20)"
   ]
  },
  {
   "cell_type": "code",
   "execution_count": 71,
   "id": "unlikely-voluntary",
   "metadata": {},
   "outputs": [
    {
     "data": {
      "text/plain": [
       "[(0.0599, 0.289], (0.0599, 0.289], (0.517, 0.745], (0.289, 0.517], (0.745, 0.973], ..., (0.745, 0.973], (0.517, 0.745], (0.289, 0.517], (0.517, 0.745], (0.517, 0.745]]\n",
       "Length: 20\n",
       "Categories (4, interval[float64]): [(0.0599, 0.289] < (0.289, 0.517] < (0.517, 0.745] < (0.745, 0.973]]"
      ]
     },
     "execution_count": 71,
     "metadata": {},
     "output_type": "execute_result"
    }
   ],
   "source": [
    "check = pd.cut(da,4,precision = 3) # If you pass like this, then 4 is irrelevant what cut will do is make equal length bins\n",
    "# based on maximum and minimum values\n",
    "\n",
    "check"
   ]
  },
  {
   "cell_type": "markdown",
   "id": "strange-commons",
   "metadata": {},
   "source": [
    "### Quantiles cut"
   ]
  },
  {
   "cell_type": "code",
   "execution_count": 72,
   "id": "inappropriate-ideal",
   "metadata": {},
   "outputs": [],
   "source": [
    "# qcut is used to obtain more equally sized cuts from the data"
   ]
  },
  {
   "cell_type": "code",
   "execution_count": 73,
   "id": "persistent-penny",
   "metadata": {},
   "outputs": [
    {
     "data": {
      "text/plain": [
       "array([ 1.17366499e-01, -7.30844865e-01,  5.22200787e-01,  1.52240550e+00,\n",
       "        4.00515365e-01, -1.73379306e-01, -1.24478361e-01,  1.84735101e+00,\n",
       "       -1.25691404e-01,  2.48961367e-01,  7.41887085e-01,  1.03473924e+00,\n",
       "       -3.02041656e-04, -3.74816984e-01,  7.88306271e-01,  1.35434616e+00,\n",
       "        6.92801088e-01, -4.13456866e-01, -6.87734009e-01, -3.40283752e-01,\n",
       "        1.57510508e+00, -7.29459568e-02,  4.89499687e-01,  8.24577168e-01,\n",
       "        5.04676182e-01,  8.56963282e-01,  3.24269022e+00,  1.08438987e-01,\n",
       "        1.81818050e+00, -7.44575758e-01,  1.57525352e-01, -7.03441141e-01,\n",
       "       -5.16390906e-01, -1.81077447e+00, -3.64662001e-01, -4.61900751e-01,\n",
       "       -1.26920173e+00, -1.17823046e+00, -7.94554478e-01,  1.86774155e+00,\n",
       "        2.36884583e-01,  9.36565902e-02,  1.11929707e+00, -5.31578285e-01,\n",
       "        1.45442545e+00,  1.61367099e+00,  1.52264424e-01, -1.02753594e+00,\n",
       "       -2.49973276e+00, -1.39792239e+00,  9.87783183e-01, -1.06567886e+00,\n",
       "       -4.64403080e-01, -5.28585605e-01,  1.03503451e+00,  1.56897238e+00,\n",
       "       -1.01662873e+00,  8.04806310e-01, -1.43724665e-02,  2.85617872e-01,\n",
       "        1.45932239e+00, -2.55815213e+00,  1.76157527e-01,  1.20884281e+00,\n",
       "       -3.65996633e-01,  1.71855307e+00,  1.27894931e-01,  8.95228059e-01,\n",
       "        1.81129132e+00, -3.18452448e-01, -3.95478052e-01, -1.18362127e+00,\n",
       "       -1.96975440e+00,  8.41111329e-01,  4.68531986e-01,  5.60425415e-01,\n",
       "        1.65929573e+00,  1.18081211e+00,  5.41165018e-02, -7.13176591e-02,\n",
       "       -1.45185429e-01, -8.13043900e-01,  1.68279511e-01,  9.13305356e-01,\n",
       "       -1.33781719e+00, -1.07334100e+00, -2.99020690e-01, -7.21338863e-01,\n",
       "       -8.08634842e-01, -1.05824053e+00,  5.81563717e-01, -8.31160239e-01,\n",
       "        1.23170870e-01,  1.72610924e+00,  8.52330719e-01, -4.36692949e-01,\n",
       "        8.82061475e-01, -8.94367558e-01,  1.44586062e+00,  6.34939620e-01,\n",
       "        1.95667555e+00,  6.49671193e-02,  3.39006643e-01, -2.51874851e-03,\n",
       "       -9.57039813e-01, -6.71204360e-01,  1.65744102e+00,  3.07034919e-01,\n",
       "        1.62461346e-01, -1.18749595e-01, -7.75983231e-01, -1.79916691e+00,\n",
       "       -9.93420689e-01,  2.32680498e-01, -3.63025153e-02, -8.02119106e-02,\n",
       "       -4.78681801e-01,  4.32170750e-01,  5.91151186e-01,  1.13527266e+00,\n",
       "        3.28518266e-01,  4.04706559e-02, -4.90732377e-01, -2.18075149e-01,\n",
       "       -1.66705918e-01,  3.18985647e-01, -2.31871988e-01, -1.32718516e+00,\n",
       "       -3.38089608e-01, -1.01034800e+00,  1.45359732e+00,  4.19541323e-01,\n",
       "        5.96799400e-02, -1.32792897e+00, -5.00221301e-01,  9.64448756e-01,\n",
       "       -9.01570809e-01,  1.44516227e+00,  9.47188976e-01, -9.51588625e-01,\n",
       "        1.42946644e+00,  9.00008667e-01,  8.08039404e-01, -1.88127354e+00,\n",
       "        1.15404320e-01, -1.12313313e+00, -6.78364616e-01, -1.53674438e+00,\n",
       "        2.63558897e+00, -3.84084475e-01, -7.65783690e-01, -4.63836459e-02,\n",
       "        7.57598175e-01,  1.04208919e+00,  5.05870763e-02,  5.31647774e-01,\n",
       "        1.49088369e-01,  9.50340292e-01, -1.74635590e+00, -4.32666382e-01,\n",
       "        1.78848313e+00,  1.33480494e-01, -9.38556937e-01,  1.36407819e+00,\n",
       "        3.40102801e-01, -1.64480605e+00,  1.30697198e+00, -4.17113146e-01,\n",
       "       -6.69874604e-01,  1.39239723e+00, -3.70053471e-01,  6.02370408e-01,\n",
       "        1.23522734e-01, -9.16244504e-01,  1.23698479e-01, -1.11922221e+00,\n",
       "        5.32675079e-01, -1.56364878e+00, -1.97939936e+00,  1.31125615e+00,\n",
       "       -9.30957509e-01, -1.41127334e+00, -6.05035863e-01, -1.59774315e+00,\n",
       "       -1.37931993e+00,  8.41462534e-01, -6.11997087e-01,  1.02517229e+00,\n",
       "        3.84901810e-01, -1.67246349e+00,  8.91948217e-01,  1.43800640e+00,\n",
       "        5.95320782e-02,  8.68845606e-01,  2.20515768e+00, -8.90763725e-01,\n",
       "        5.17953809e-01, -1.66018817e+00, -1.27400504e+00,  9.24393621e-01,\n",
       "       -1.01132002e+00, -6.25669350e-01,  1.72934065e+00,  1.70544196e+00,\n",
       "        2.46900811e-01, -3.74170237e-01, -7.30073064e-01,  9.56161108e-01,\n",
       "       -1.61547561e+00,  1.91793397e-01,  2.36186424e-02,  9.08307258e-01,\n",
       "        1.22360202e-01,  5.21661121e-01,  1.19980209e-01, -1.50299078e-01,\n",
       "       -1.30999390e+00, -6.36476370e-01,  2.91317217e-01,  9.91378417e-01,\n",
       "       -9.95755646e-01, -1.34287613e+00,  5.45691893e-01,  2.48834336e-01,\n",
       "       -6.61990032e-01, -4.55445927e-02, -2.26023555e+00,  1.40826148e+00,\n",
       "        2.90358649e-01, -2.57599628e+00,  1.40435674e+00, -2.38120913e-01,\n",
       "        5.99553499e-01, -1.63600397e-01, -6.32984883e-01,  2.37838403e-01,\n",
       "        5.97341896e-02, -2.84850373e-01,  7.53553178e-01, -2.33758909e-01,\n",
       "        1.48962129e-01, -2.31468487e+00, -1.65150827e+00, -1.07563887e+00,\n",
       "       -4.58692739e-01,  3.18485148e-01,  1.09657245e+00,  6.83621487e-01,\n",
       "        3.88512367e-01,  1.60381965e-01,  2.52412318e+00, -8.60367267e-01,\n",
       "       -8.13304357e-01,  1.42586091e-02,  2.62861395e-01,  4.73909142e-01,\n",
       "       -1.12016344e+00,  1.45593231e+00, -1.29478920e-01,  1.94325736e+00,\n",
       "        1.67867829e+00,  6.74236984e-01, -6.69633993e-01, -1.08675255e-01,\n",
       "        1.35837749e+00, -1.95144141e+00,  3.53829836e-01,  8.47438239e-01,\n",
       "       -6.56421463e-01, -1.54593682e+00,  1.25671779e+00, -1.37490568e+00,\n",
       "       -1.24760658e-01, -8.69659399e-01,  1.87469611e-01, -1.46309327e-02,\n",
       "       -5.40997547e-03,  7.66867203e-01, -1.34557685e+00,  1.02708510e+00,\n",
       "        1.96196724e+00,  2.95402587e-01, -5.20177960e-01, -6.76525133e-01,\n",
       "        1.03706636e+00,  1.30953943e+00,  1.89218044e-02, -5.22078004e-01,\n",
       "        9.14090535e-01,  5.47319551e-01,  3.47048128e-02, -1.22873589e+00,\n",
       "        1.25707448e-01, -2.43624681e-01, -8.55061943e-01, -3.27184433e-01,\n",
       "        1.56688766e+00, -1.33661816e+00, -3.02780030e-01, -3.63743553e+00,\n",
       "        3.33860187e-01,  1.92920413e+00,  4.23270234e-01, -4.57753916e-01,\n",
       "        8.18990377e-01,  5.01172733e-01, -1.36371810e+00, -1.16526402e+00,\n",
       "        1.40868362e+00, -1.94203270e+00, -1.23669872e+00,  1.15867294e+00,\n",
       "        5.94550945e-01,  1.93822509e+00,  5.09865795e-01, -2.21042851e+00,\n",
       "        6.26623767e-01,  2.44076842e-01,  1.05392728e+00, -8.09572423e-01,\n",
       "        9.82811394e-02,  3.79112702e-01, -3.18214784e-02, -2.98747455e-01,\n",
       "       -5.79942685e-01, -1.23226776e+00,  9.10052604e-01, -1.32323760e+00,\n",
       "       -2.67732745e-01, -1.29060821e+00, -1.03768789e+00, -1.52067933e+00,\n",
       "       -1.17926790e+00,  2.64997283e-02, -1.86864081e+00,  3.81595406e-01,\n",
       "       -1.57460292e+00, -1.48634771e-01, -5.62290612e-03,  9.58398658e-01,\n",
       "       -8.31709187e-02, -6.31174682e-01, -8.01795154e-01, -1.14148190e+00,\n",
       "        9.91541951e-01,  1.13787809e+00, -7.13778654e-01, -2.12404011e-01,\n",
       "        1.80496224e+00, -3.46993417e-01, -5.91497254e-01,  7.22937127e-01,\n",
       "       -2.47266776e-02, -5.28546213e-01,  6.63286913e-01, -1.82991379e+00,\n",
       "       -1.62949423e+00, -2.13817912e-01, -2.85618688e-01, -8.50667470e-01,\n",
       "       -6.67329708e-01,  5.99172444e-01, -6.43301543e-01, -3.81578286e-01,\n",
       "        4.56800711e-01,  6.94896872e-01, -8.32015574e-01, -9.92340075e-01,\n",
       "        5.67170777e-01,  4.38872867e-01, -1.91744145e-02, -4.67701786e-02,\n",
       "       -4.32096903e-02, -3.22667487e+00,  7.62256508e-01, -8.19109318e-01,\n",
       "       -1.35221258e-01,  1.32845345e+00, -6.80599930e-01,  3.68670249e-01,\n",
       "        3.78275187e-01, -1.66232647e+00, -1.25905699e+00,  3.43687823e-01,\n",
       "       -2.29337299e-01, -9.41679114e-01,  9.34695919e-01, -1.35407095e+00,\n",
       "        2.50156488e-01, -1.28859738e+00, -2.06488204e-01,  9.05876332e-01,\n",
       "       -8.23276243e-01,  1.08223280e+00,  9.04856226e-01,  1.43677271e+00,\n",
       "        5.99757097e-01,  2.41553741e-01, -2.39985931e-01,  4.34690578e-01,\n",
       "       -1.77883944e+00,  1.22176713e+00, -1.37083269e-01, -1.10772440e+00,\n",
       "        1.31923780e+00,  1.33128194e+00,  5.64327044e-01,  4.86544804e-01,\n",
       "        1.28937542e+00,  3.39495871e-01, -3.19908702e-01,  1.90441929e-02,\n",
       "        1.06528539e+00,  3.05757696e-01, -5.85573127e-01,  1.26200578e+00,\n",
       "       -5.83419079e-01,  4.17213624e-01, -8.63460522e-01, -1.23537133e+00,\n",
       "        7.16433209e-01,  1.68842279e+00,  3.38884049e-01, -3.20140332e-01,\n",
       "        6.79276962e-02,  4.89681302e-01, -8.12078330e-01, -1.03091416e+00,\n",
       "       -7.14816449e-01,  1.70989486e+00,  1.92022430e-01, -9.59027513e-01,\n",
       "       -6.75314428e-01, -1.59134174e+00,  9.83770665e-01,  7.62184266e-01,\n",
       "       -1.69696009e+00,  2.00412939e-01, -4.00834716e-01, -1.37501591e+00,\n",
       "        2.68134536e-01, -8.79509279e-01,  6.26231441e-01, -7.46574591e-01,\n",
       "        3.05426920e-01, -2.05281284e+00, -4.62436000e-01, -1.75388425e+00,\n",
       "        1.12238541e+00, -2.65862609e-01,  1.69870011e+00,  3.92176499e-01,\n",
       "        8.62991390e-01,  3.77935475e-01,  1.25484619e+00,  1.43329241e+00,\n",
       "        1.35347451e+00, -8.58218441e-01, -1.26616800e+00,  4.24809221e-01,\n",
       "        4.47526441e-01,  2.57366626e-01, -1.61410190e+00, -4.78120883e-01,\n",
       "        8.58300005e-01,  4.61628034e-01, -8.70547124e-01, -1.42707925e+00,\n",
       "       -1.87128726e+00,  5.68370696e-02,  4.37399280e-01,  3.86401050e-01,\n",
       "       -1.59118002e+00, -1.14569120e-01, -1.19145525e+00,  5.31631109e-01,\n",
       "       -1.32842259e+00, -3.78468186e-01,  1.27372444e+00,  6.22845611e-01,\n",
       "        3.20241507e-01, -5.30830796e-01, -1.60288155e+00, -4.20565886e-01,\n",
       "        3.28775389e-01,  2.04595485e+00, -3.00479157e-02, -9.86321749e-01,\n",
       "       -1.82887989e+00,  2.58198525e-01,  9.54286351e-01, -1.54617140e-01,\n",
       "       -2.47782472e+00, -1.84931672e-01, -6.94479405e-01,  3.09805806e-01,\n",
       "       -4.08427735e-01, -3.86421906e-01, -6.37248846e-01,  5.65965912e-01,\n",
       "       -7.64960526e-01, -9.67217096e-01,  1.51359368e+00, -8.58301464e-02,\n",
       "       -1.05971228e+00, -8.82916027e-02,  1.25818620e+00, -2.50866295e+00,\n",
       "        3.50533953e-01,  3.84525940e-02, -1.55468886e+00, -1.70696237e-01,\n",
       "       -3.27584674e-01,  1.68123453e+00, -2.19005920e-01, -9.89679728e-01,\n",
       "        8.94409599e-01,  1.17936014e+00, -2.84157065e-01, -1.08328322e+00,\n",
       "        1.50610093e+00, -8.82842627e-02,  5.51244904e-01,  1.05374694e+00,\n",
       "        1.89838831e+00, -1.72795225e+00, -1.73908858e+00,  1.06797188e+00,\n",
       "        4.27832203e-01,  7.14821274e-01, -1.13063301e+00,  3.72544159e-01,\n",
       "        7.53403988e-01,  6.90213372e-01,  1.51639376e+00, -8.69422301e-01,\n",
       "       -4.33152591e-01,  2.59136297e-01, -9.47232067e-01, -6.61133707e-01,\n",
       "        1.42811867e-02,  9.92740975e-01,  7.42679211e-01, -7.41360286e-01,\n",
       "        5.91600473e-01, -1.25163298e+00,  3.49930174e-02,  1.69096898e+00,\n",
       "        7.18385423e-01,  1.78844963e+00, -6.49714913e-01,  9.76743131e-01,\n",
       "        9.17142517e-01, -1.50789173e-01,  4.54138455e-01, -8.22492194e-01,\n",
       "       -4.07720359e-01,  9.78278923e-01, -3.41142657e-01,  2.72714428e-01,\n",
       "       -8.65925752e-01, -1.62414319e-01,  8.98032138e-01,  6.72217873e-01,\n",
       "       -6.17349554e-01,  7.48346233e-01,  2.43880400e-01,  1.09776445e+00,\n",
       "       -4.16579621e-01, -2.34354257e+00, -3.21289921e-01,  3.66849706e-01,\n",
       "       -3.09877489e-01, -4.80721748e-01,  5.71893306e-01, -1.07867683e+00,\n",
       "        1.89118393e-01,  1.46730321e+00,  1.73620984e+00, -1.07581182e-01,\n",
       "        2.01223359e+00,  7.05468631e-01, -9.87489034e-01,  6.00148123e-01,\n",
       "       -4.72674023e-01, -6.35533250e-01, -1.44980242e+00, -5.28099111e-02,\n",
       "       -2.47122007e+00, -3.16341736e-01,  3.15926351e+00,  6.69229836e-01,\n",
       "        4.36273981e-01,  1.81728123e-01,  2.93557240e-01,  9.15876088e-01,\n",
       "       -1.08542339e+00,  2.33451386e-02, -2.54371014e-01,  5.73431306e-01,\n",
       "       -4.98766440e-01, -4.43452364e-02,  9.16294715e-01, -1.37973758e+00,\n",
       "        3.94878980e-01, -1.43499920e-01, -1.42937113e+00, -8.32262745e-01,\n",
       "       -1.37884054e+00,  2.18472495e-01, -2.16048096e-01,  5.88649323e-01,\n",
       "        1.00166372e+00, -8.71651791e-02,  2.53702497e-01, -2.12706828e-01,\n",
       "       -7.24315375e-01, -3.49564564e-01, -1.17281029e+00, -8.45834962e-01,\n",
       "       -2.55370912e-02, -1.32283632e-01,  1.52269267e-01,  1.28947110e+00,\n",
       "        1.09541928e-01,  1.52496134e-01,  8.03191722e-01, -1.63937899e+00,\n",
       "        1.68251157e+00, -1.50751678e+00,  4.02501904e-01, -1.20786992e+00,\n",
       "        5.16352242e-01, -7.11006182e-01,  1.19312185e+00,  6.81603130e-01,\n",
       "       -8.46795424e-02,  1.83315497e-01,  2.48400930e-01,  5.78974271e-01,\n",
       "        1.69399097e+00, -6.56988869e-01, -1.68774214e+00,  2.13264191e-01,\n",
       "       -1.51509813e-01,  1.09199296e-01,  1.72341294e-02,  1.35118164e+00,\n",
       "       -4.74745301e-01,  7.45440144e-01, -4.37212871e-01,  8.38435080e-01,\n",
       "       -4.67748179e-02, -1.13199792e+00,  4.35872279e-01, -7.56488973e-01,\n",
       "        6.94568222e-01, -3.06341622e-01,  5.94177451e-01,  2.36444695e+00,\n",
       "        1.76328423e+00, -1.03297877e+00,  8.09375812e-01, -9.59042266e-02,\n",
       "        5.18193778e-01,  4.06201429e-01,  2.35592813e-01, -1.13341274e-01,\n",
       "        3.93028483e-01, -6.50817649e-01, -9.65296270e-01, -6.88512213e-02,\n",
       "        1.16474002e-01,  1.28828882e+00, -1.84726191e+00,  7.03569898e-01,\n",
       "       -8.12135795e-01, -1.18712915e-01, -2.50009327e-01, -1.86598849e-01,\n",
       "       -7.46323891e-01,  1.95720003e-01, -5.30105761e-01,  2.80196750e+00,\n",
       "       -1.23409998e+00,  8.13504178e-01, -1.34177888e+00,  5.11150712e-01,\n",
       "       -2.93191136e-01,  8.44802176e-01, -1.04123131e+00,  3.45318968e-01,\n",
       "        1.97332185e+00, -5.14526338e-01, -1.34242313e+00, -6.60751665e-02,\n",
       "       -2.08761569e-01, -3.55510871e-01, -4.21325400e-01,  9.35617140e-02,\n",
       "       -2.25302634e-01, -1.24854512e+00,  3.92293487e-01, -1.09687307e+00,\n",
       "       -7.79853875e-01, -1.89571194e+00, -3.76143749e-01, -8.54801579e-04,\n",
       "        1.01414670e-01,  2.37701786e+00, -3.64769502e-01,  1.74652783e-01,\n",
       "        2.80644553e+00, -8.27473295e-01, -1.74264489e-02,  9.98457144e-02,\n",
       "        1.27553164e+00,  1.21322128e+00,  1.07378201e+00,  1.36517117e-01,\n",
       "       -7.46005585e-01,  7.38638324e-01,  1.01669138e+00, -4.15267904e-01,\n",
       "        1.77916291e-01, -1.15752466e+00, -1.03874031e+00, -4.14141587e-01,\n",
       "        7.95048893e-01, -1.26249458e+00, -1.11050055e+00,  5.98243246e-02,\n",
       "       -1.96006555e+00,  1.25160731e+00, -5.26808247e-01,  1.98564136e+00,\n",
       "       -5.23723390e-01,  7.33095032e-01, -1.00373120e-01, -2.74284282e-01,\n",
       "       -4.16827170e-01, -3.30757136e-01,  1.60171702e-02, -4.84722972e-01,\n",
       "        9.84382322e-01,  5.06545940e-01,  4.92309706e-01, -8.63917575e-01,\n",
       "       -1.80914089e+00, -1.45579476e-01, -9.54152143e-01, -1.11179759e+00,\n",
       "        2.19249087e+00,  2.05943031e-01,  2.93400791e-01,  1.72318203e-01,\n",
       "       -1.50441986e-01,  1.62820164e-01, -6.95675545e-01,  2.49973469e-01,\n",
       "       -1.30145138e+00,  6.82533540e-01,  2.45687863e-01, -4.98057609e-01,\n",
       "        6.55504003e-01,  7.48683178e-01, -1.00049466e+00,  5.98782634e-01,\n",
       "        1.13344324e+00,  8.37469302e-01, -3.75307248e-01, -6.43326535e-01,\n",
       "       -5.18095943e-01,  3.87892650e-02, -1.02020562e+00, -1.58587644e-01,\n",
       "        3.90924279e-01, -1.10795567e+00, -1.10392270e+00,  7.94082076e-01,\n",
       "       -1.26780266e+00,  2.63818718e+00, -3.43033814e-01, -4.01349371e-01,\n",
       "        1.32069589e+00,  1.62480602e+00,  1.34472552e+00, -3.35832786e-01,\n",
       "       -8.06023161e-01,  1.36931710e+00, -1.36052275e+00, -7.04450525e-01,\n",
       "       -4.25388807e-01,  9.08995967e-01, -3.65310507e-01,  1.03946072e-01,\n",
       "        3.44039082e-01, -3.94496849e-03,  1.06691963e+00, -1.03123498e+00,\n",
       "        5.86958795e-01, -8.27115872e-01,  2.58852049e-01, -6.08134062e-01,\n",
       "        1.03016998e+00, -6.76502864e-01,  8.94039370e-01, -9.28066338e-01,\n",
       "       -4.08443687e-01, -1.15399487e+00,  5.63144911e-01,  3.49346378e-01,\n",
       "       -5.67238248e-01, -6.02634961e-01,  5.91460571e-01,  1.60903974e+00,\n",
       "        6.64673704e-01,  2.11477508e-01, -4.09665199e-01, -1.34631031e-01,\n",
       "       -4.49285847e-01, -2.41039017e-01, -3.74113158e-01,  4.34591090e-01,\n",
       "        5.82551713e-02,  1.33084588e+00,  4.46145944e-01,  2.72761733e-01,\n",
       "        1.80343147e-01,  1.99649061e+00,  5.70930089e-01, -2.18513315e-02,\n",
       "       -9.17541096e-01, -3.64465339e-01, -1.52734826e+00,  4.94108188e-01,\n",
       "        1.37958728e+00, -7.49316771e-01,  8.25612281e-01,  2.12430090e-01,\n",
       "       -1.55288956e+00, -4.55266194e-01, -5.27143110e-01,  3.99251637e-01,\n",
       "        9.90417949e-01, -2.62791893e-01, -9.44932493e-01, -8.03156228e-01,\n",
       "       -1.42188222e+00, -1.17431655e-01,  3.57400310e-01, -8.67062951e-01,\n",
       "       -6.74848534e-01,  1.37118850e+00, -1.24093443e+00,  3.07936234e-01,\n",
       "        6.39403233e-01,  1.48385159e-01, -4.24008082e-01,  1.16355542e+00,\n",
       "        5.79217405e-01, -7.77744133e-01, -9.13255598e-01,  9.05847145e-01,\n",
       "        1.67293618e-02,  2.46708727e-01, -1.11898247e+00, -9.16449775e-01,\n",
       "       -5.22453461e-01, -1.21264669e+00, -1.10409059e+00,  1.57686409e+00,\n",
       "       -2.37033795e+00, -1.02455788e+00, -3.00481959e-01, -8.50656319e-02,\n",
       "        9.76937401e-02, -1.25697503e+00,  1.42000544e+00,  6.92604216e-01,\n",
       "        9.86430764e-01,  2.88952058e-01,  2.49687890e-02,  1.14511709e+00,\n",
       "       -3.48260732e-01,  8.71174752e-01, -1.56757408e+00,  3.89894859e-01,\n",
       "       -3.29199202e-01, -6.55862185e-01, -1.85683322e-01,  1.11647705e-01,\n",
       "        6.50652078e-01,  1.63142041e+00,  3.77613738e-01, -1.40914363e+00,\n",
       "        9.19528043e-01, -1.90084173e+00,  1.61880169e+00,  1.17916306e+00,\n",
       "       -5.12238257e-01, -1.07854956e+00, -2.65216672e-01,  3.49050418e-01,\n",
       "       -1.08887098e+00,  1.84366665e-02, -4.42465291e-03, -1.50819380e+00,\n",
       "        1.64202761e+00, -2.24401740e-01, -1.59601303e+00, -1.48729367e+00,\n",
       "        1.26888161e+00,  6.38915048e-01,  8.91710413e-01,  1.39670885e+00,\n",
       "       -1.14858772e+00,  8.45429731e-01,  8.37744089e-01,  5.58744760e-01,\n",
       "       -5.86442253e-01,  3.62685995e-01,  1.23190113e+00,  5.30650697e-01,\n",
       "        4.06520524e-01,  2.36487919e-01,  4.89562402e-01, -1.27142201e+00,\n",
       "        5.07684301e-01,  1.65667575e+00, -5.53668421e-01,  3.81369025e-01,\n",
       "       -3.15029147e-01, -8.43854438e-01,  4.32184318e-01, -1.13908325e+00,\n",
       "        1.17251121e+00, -6.42982942e-01,  1.62665466e+00,  3.09349891e-01,\n",
       "        2.69908592e-01, -1.26433249e-01, -3.61438455e-01, -1.56592388e+00,\n",
       "       -4.64068579e-01,  7.62853583e-01, -8.60091488e-01,  6.67510977e-01,\n",
       "       -1.55158313e-01,  1.14411363e+00, -6.79497115e-01, -1.89717512e+00,\n",
       "       -1.36778167e-01,  3.51292047e-01,  1.32206578e+00, -1.48757096e-01,\n",
       "       -1.62531123e-01, -1.77573326e+00, -5.79329201e-01,  4.28031657e-01,\n",
       "       -1.18376870e+00,  1.11969852e+00, -3.06446115e-01,  4.23766555e-01,\n",
       "       -1.80460942e+00,  1.07733268e+00, -2.33926793e+00, -9.82872816e-02,\n",
       "        8.83341580e-03,  4.21423055e-01, -5.69393524e-01,  2.74975377e-01,\n",
       "       -3.46913344e-01, -3.14463605e-01, -2.69861348e-01,  5.81660623e-01,\n",
       "        1.85865020e+00,  1.00857401e+00, -2.25913362e+00, -3.74882871e-01,\n",
       "       -4.76319750e-02, -2.05392758e+00,  1.00139194e+00,  3.78318727e-01,\n",
       "        9.44069922e-02,  2.23001818e-01,  5.12190094e-01,  6.73072667e-01,\n",
       "       -7.03855279e-01,  3.85414227e-01,  9.64143118e-01, -2.22409565e-01,\n",
       "        9.55626221e-01, -8.53996096e-01, -7.44384259e-01, -4.63367321e-01,\n",
       "       -1.84264754e+00,  2.13182140e+00, -1.77584406e-01, -6.33503906e-01])"
      ]
     },
     "execution_count": 73,
     "metadata": {},
     "output_type": "execute_result"
    }
   ],
   "source": [
    "data = np.random.standard_normal(1000)\n",
    "\n",
    "data"
   ]
  },
  {
   "cell_type": "code",
   "execution_count": 74,
   "id": "intermediate-third",
   "metadata": {},
   "outputs": [],
   "source": [
    "qucut = pd.qcut(data,5) # the integer in qcut gives the number of intervals the data will be divided in"
   ]
  },
  {
   "cell_type": "code",
   "execution_count": 75,
   "id": "prepared-analyst",
   "metadata": {},
   "outputs": [
    {
     "data": {
      "text/plain": [
       "[(-0.267, 0.252], (-0.86, -0.267], (0.252, 0.839], (0.839, 3.243], (0.252, 0.839], ..., (-0.86, -0.267], (-3.638, -0.86], (0.839, 3.243], (-0.267, 0.252], (-0.86, -0.267]]\n",
       "Length: 1000\n",
       "Categories (5, interval[float64]): [(-3.638, -0.86] < (-0.86, -0.267] < (-0.267, 0.252] < (0.252, 0.839] < (0.839, 3.243]]"
      ]
     },
     "execution_count": 75,
     "metadata": {},
     "output_type": "execute_result"
    }
   ],
   "source": [
    "qucut"
   ]
  },
  {
   "cell_type": "code",
   "execution_count": 76,
   "id": "northern-grace",
   "metadata": {},
   "outputs": [
    {
     "data": {
      "text/plain": [
       "(-3.638, -0.86]    200\n",
       "(-0.86, -0.267]    200\n",
       "(-0.267, 0.252]    200\n",
       "(0.252, 0.839]     200\n",
       "(0.839, 3.243]     200\n",
       "dtype: int64"
      ]
     },
     "execution_count": 76,
     "metadata": {},
     "output_type": "execute_result"
    }
   ],
   "source": [
    "pd.value_counts(qucut)"
   ]
  },
  {
   "cell_type": "markdown",
   "id": "expensive-intersection",
   "metadata": {},
   "source": [
    "### Detecting and Filtering Outliers"
   ]
  },
  {
   "cell_type": "code",
   "execution_count": 77,
   "id": "competent-xerox",
   "metadata": {},
   "outputs": [],
   "source": [
    "daae = pd.DataFrame(np.random.standard_normal((1000,6)))"
   ]
  },
  {
   "cell_type": "code",
   "execution_count": 78,
   "id": "wired-password",
   "metadata": {},
   "outputs": [
    {
     "data": {
      "text/html": [
       "<div>\n",
       "<style scoped>\n",
       "    .dataframe tbody tr th:only-of-type {\n",
       "        vertical-align: middle;\n",
       "    }\n",
       "\n",
       "    .dataframe tbody tr th {\n",
       "        vertical-align: top;\n",
       "    }\n",
       "\n",
       "    .dataframe thead th {\n",
       "        text-align: right;\n",
       "    }\n",
       "</style>\n",
       "<table border=\"1\" class=\"dataframe\">\n",
       "  <thead>\n",
       "    <tr style=\"text-align: right;\">\n",
       "      <th></th>\n",
       "      <th>0</th>\n",
       "      <th>1</th>\n",
       "      <th>2</th>\n",
       "      <th>3</th>\n",
       "      <th>4</th>\n",
       "      <th>5</th>\n",
       "    </tr>\n",
       "  </thead>\n",
       "  <tbody>\n",
       "    <tr>\n",
       "      <th>0</th>\n",
       "      <td>0.532021</td>\n",
       "      <td>-0.564124</td>\n",
       "      <td>1.576131</td>\n",
       "      <td>0.657895</td>\n",
       "      <td>-1.361864</td>\n",
       "      <td>0.027007</td>\n",
       "    </tr>\n",
       "    <tr>\n",
       "      <th>1</th>\n",
       "      <td>-1.983539</td>\n",
       "      <td>0.245271</td>\n",
       "      <td>-2.137079</td>\n",
       "      <td>0.428326</td>\n",
       "      <td>0.964720</td>\n",
       "      <td>0.170698</td>\n",
       "    </tr>\n",
       "    <tr>\n",
       "      <th>2</th>\n",
       "      <td>-0.325173</td>\n",
       "      <td>-2.003997</td>\n",
       "      <td>1.779440</td>\n",
       "      <td>-0.770938</td>\n",
       "      <td>-1.079025</td>\n",
       "      <td>0.301320</td>\n",
       "    </tr>\n",
       "    <tr>\n",
       "      <th>3</th>\n",
       "      <td>0.392349</td>\n",
       "      <td>-2.099110</td>\n",
       "      <td>-0.308825</td>\n",
       "      <td>0.180912</td>\n",
       "      <td>-0.061064</td>\n",
       "      <td>0.911710</td>\n",
       "    </tr>\n",
       "    <tr>\n",
       "      <th>4</th>\n",
       "      <td>-1.899468</td>\n",
       "      <td>-0.605579</td>\n",
       "      <td>-0.860374</td>\n",
       "      <td>0.363094</td>\n",
       "      <td>-1.059297</td>\n",
       "      <td>-1.518650</td>\n",
       "    </tr>\n",
       "    <tr>\n",
       "      <th>...</th>\n",
       "      <td>...</td>\n",
       "      <td>...</td>\n",
       "      <td>...</td>\n",
       "      <td>...</td>\n",
       "      <td>...</td>\n",
       "      <td>...</td>\n",
       "    </tr>\n",
       "    <tr>\n",
       "      <th>995</th>\n",
       "      <td>-0.047619</td>\n",
       "      <td>-0.085251</td>\n",
       "      <td>1.741490</td>\n",
       "      <td>-0.020452</td>\n",
       "      <td>1.220541</td>\n",
       "      <td>0.889056</td>\n",
       "    </tr>\n",
       "    <tr>\n",
       "      <th>996</th>\n",
       "      <td>0.728771</td>\n",
       "      <td>0.460518</td>\n",
       "      <td>-1.141419</td>\n",
       "      <td>-0.993012</td>\n",
       "      <td>-1.280424</td>\n",
       "      <td>0.795004</td>\n",
       "    </tr>\n",
       "    <tr>\n",
       "      <th>997</th>\n",
       "      <td>0.062766</td>\n",
       "      <td>1.015451</td>\n",
       "      <td>-0.543865</td>\n",
       "      <td>0.464998</td>\n",
       "      <td>0.081717</td>\n",
       "      <td>-0.718523</td>\n",
       "    </tr>\n",
       "    <tr>\n",
       "      <th>998</th>\n",
       "      <td>1.090665</td>\n",
       "      <td>-0.064472</td>\n",
       "      <td>-0.784449</td>\n",
       "      <td>0.242435</td>\n",
       "      <td>0.632528</td>\n",
       "      <td>-0.911609</td>\n",
       "    </tr>\n",
       "    <tr>\n",
       "      <th>999</th>\n",
       "      <td>0.978104</td>\n",
       "      <td>1.539126</td>\n",
       "      <td>0.703022</td>\n",
       "      <td>-0.647202</td>\n",
       "      <td>-0.943231</td>\n",
       "      <td>-0.198111</td>\n",
       "    </tr>\n",
       "  </tbody>\n",
       "</table>\n",
       "<p>1000 rows × 6 columns</p>\n",
       "</div>"
      ],
      "text/plain": [
       "            0         1         2         3         4         5\n",
       "0    0.532021 -0.564124  1.576131  0.657895 -1.361864  0.027007\n",
       "1   -1.983539  0.245271 -2.137079  0.428326  0.964720  0.170698\n",
       "2   -0.325173 -2.003997  1.779440 -0.770938 -1.079025  0.301320\n",
       "3    0.392349 -2.099110 -0.308825  0.180912 -0.061064  0.911710\n",
       "4   -1.899468 -0.605579 -0.860374  0.363094 -1.059297 -1.518650\n",
       "..        ...       ...       ...       ...       ...       ...\n",
       "995 -0.047619 -0.085251  1.741490 -0.020452  1.220541  0.889056\n",
       "996  0.728771  0.460518 -1.141419 -0.993012 -1.280424  0.795004\n",
       "997  0.062766  1.015451 -0.543865  0.464998  0.081717 -0.718523\n",
       "998  1.090665 -0.064472 -0.784449  0.242435  0.632528 -0.911609\n",
       "999  0.978104  1.539126  0.703022 -0.647202 -0.943231 -0.198111\n",
       "\n",
       "[1000 rows x 6 columns]"
      ]
     },
     "execution_count": 78,
     "metadata": {},
     "output_type": "execute_result"
    }
   ],
   "source": [
    "daae"
   ]
  },
  {
   "cell_type": "code",
   "execution_count": 79,
   "id": "fifth-macedonia",
   "metadata": {},
   "outputs": [
    {
     "data": {
      "text/html": [
       "<div>\n",
       "<style scoped>\n",
       "    .dataframe tbody tr th:only-of-type {\n",
       "        vertical-align: middle;\n",
       "    }\n",
       "\n",
       "    .dataframe tbody tr th {\n",
       "        vertical-align: top;\n",
       "    }\n",
       "\n",
       "    .dataframe thead th {\n",
       "        text-align: right;\n",
       "    }\n",
       "</style>\n",
       "<table border=\"1\" class=\"dataframe\">\n",
       "  <thead>\n",
       "    <tr style=\"text-align: right;\">\n",
       "      <th></th>\n",
       "      <th>0</th>\n",
       "      <th>1</th>\n",
       "      <th>2</th>\n",
       "      <th>3</th>\n",
       "      <th>4</th>\n",
       "      <th>5</th>\n",
       "    </tr>\n",
       "  </thead>\n",
       "  <tbody>\n",
       "    <tr>\n",
       "      <th>count</th>\n",
       "      <td>1000.000000</td>\n",
       "      <td>1000.000000</td>\n",
       "      <td>1000.000000</td>\n",
       "      <td>1000.000000</td>\n",
       "      <td>1000.000000</td>\n",
       "      <td>1000.000000</td>\n",
       "    </tr>\n",
       "    <tr>\n",
       "      <th>mean</th>\n",
       "      <td>0.022291</td>\n",
       "      <td>-0.041095</td>\n",
       "      <td>0.001347</td>\n",
       "      <td>0.010711</td>\n",
       "      <td>-0.003475</td>\n",
       "      <td>0.001742</td>\n",
       "    </tr>\n",
       "    <tr>\n",
       "      <th>std</th>\n",
       "      <td>0.983520</td>\n",
       "      <td>0.987163</td>\n",
       "      <td>0.995956</td>\n",
       "      <td>1.003207</td>\n",
       "      <td>0.999132</td>\n",
       "      <td>0.998844</td>\n",
       "    </tr>\n",
       "    <tr>\n",
       "      <th>min</th>\n",
       "      <td>-2.606916</td>\n",
       "      <td>-3.130359</td>\n",
       "      <td>-3.330615</td>\n",
       "      <td>-3.031643</td>\n",
       "      <td>-2.848881</td>\n",
       "      <td>-2.669704</td>\n",
       "    </tr>\n",
       "    <tr>\n",
       "      <th>25%</th>\n",
       "      <td>-0.690617</td>\n",
       "      <td>-0.734244</td>\n",
       "      <td>-0.628401</td>\n",
       "      <td>-0.679015</td>\n",
       "      <td>-0.702167</td>\n",
       "      <td>-0.723079</td>\n",
       "    </tr>\n",
       "    <tr>\n",
       "      <th>50%</th>\n",
       "      <td>0.027882</td>\n",
       "      <td>-0.048151</td>\n",
       "      <td>-0.015358</td>\n",
       "      <td>-0.001925</td>\n",
       "      <td>-0.036632</td>\n",
       "      <td>0.066115</td>\n",
       "    </tr>\n",
       "    <tr>\n",
       "      <th>75%</th>\n",
       "      <td>0.675383</td>\n",
       "      <td>0.641451</td>\n",
       "      <td>0.684023</td>\n",
       "      <td>0.658622</td>\n",
       "      <td>0.668831</td>\n",
       "      <td>0.676955</td>\n",
       "    </tr>\n",
       "    <tr>\n",
       "      <th>max</th>\n",
       "      <td>3.634760</td>\n",
       "      <td>3.292015</td>\n",
       "      <td>3.446161</td>\n",
       "      <td>3.187873</td>\n",
       "      <td>3.311595</td>\n",
       "      <td>3.161179</td>\n",
       "    </tr>\n",
       "  </tbody>\n",
       "</table>\n",
       "</div>"
      ],
      "text/plain": [
       "                 0            1            2            3            4  \\\n",
       "count  1000.000000  1000.000000  1000.000000  1000.000000  1000.000000   \n",
       "mean      0.022291    -0.041095     0.001347     0.010711    -0.003475   \n",
       "std       0.983520     0.987163     0.995956     1.003207     0.999132   \n",
       "min      -2.606916    -3.130359    -3.330615    -3.031643    -2.848881   \n",
       "25%      -0.690617    -0.734244    -0.628401    -0.679015    -0.702167   \n",
       "50%       0.027882    -0.048151    -0.015358    -0.001925    -0.036632   \n",
       "75%       0.675383     0.641451     0.684023     0.658622     0.668831   \n",
       "max       3.634760     3.292015     3.446161     3.187873     3.311595   \n",
       "\n",
       "                 5  \n",
       "count  1000.000000  \n",
       "mean      0.001742  \n",
       "std       0.998844  \n",
       "min      -2.669704  \n",
       "25%      -0.723079  \n",
       "50%       0.066115  \n",
       "75%       0.676955  \n",
       "max       3.161179  "
      ]
     },
     "execution_count": 79,
     "metadata": {},
     "output_type": "execute_result"
    }
   ],
   "source": [
    "daae.describe()"
   ]
  },
  {
   "cell_type": "code",
   "execution_count": 80,
   "id": "amazing-fundamentals",
   "metadata": {},
   "outputs": [],
   "source": [
    "# Suppose you want to get values greater than 3 in all or all columns"
   ]
  },
  {
   "cell_type": "code",
   "execution_count": 81,
   "id": "compound-maryland",
   "metadata": {},
   "outputs": [],
   "source": [
    "col2 = daae[2]"
   ]
  },
  {
   "cell_type": "code",
   "execution_count": 82,
   "id": "recent-saver",
   "metadata": {},
   "outputs": [
    {
     "data": {
      "text/plain": [
       "0      1.576131\n",
       "1     -2.137079\n",
       "2      1.779440\n",
       "3     -0.308825\n",
       "4     -0.860374\n",
       "         ...   \n",
       "995    1.741490\n",
       "996   -1.141419\n",
       "997   -0.543865\n",
       "998   -0.784449\n",
       "999    0.703022\n",
       "Name: 2, Length: 1000, dtype: float64"
      ]
     },
     "execution_count": 82,
     "metadata": {},
     "output_type": "execute_result"
    }
   ],
   "source": [
    "col2"
   ]
  },
  {
   "cell_type": "code",
   "execution_count": 83,
   "id": "loved-harris",
   "metadata": {},
   "outputs": [
    {
     "data": {
      "text/plain": [
       "31     3.001859\n",
       "360    3.446161\n",
       "821   -3.330615\n",
       "Name: 2, dtype: float64"
      ]
     },
     "execution_count": 83,
     "metadata": {},
     "output_type": "execute_result"
    }
   ],
   "source": [
    "col2[col2.abs()>3]"
   ]
  },
  {
   "cell_type": "code",
   "execution_count": 84,
   "id": "likely-diving",
   "metadata": {},
   "outputs": [
    {
     "data": {
      "text/html": [
       "<div>\n",
       "<style scoped>\n",
       "    .dataframe tbody tr th:only-of-type {\n",
       "        vertical-align: middle;\n",
       "    }\n",
       "\n",
       "    .dataframe tbody tr th {\n",
       "        vertical-align: top;\n",
       "    }\n",
       "\n",
       "    .dataframe thead th {\n",
       "        text-align: right;\n",
       "    }\n",
       "</style>\n",
       "<table border=\"1\" class=\"dataframe\">\n",
       "  <thead>\n",
       "    <tr style=\"text-align: right;\">\n",
       "      <th></th>\n",
       "      <th>0</th>\n",
       "      <th>1</th>\n",
       "      <th>2</th>\n",
       "      <th>3</th>\n",
       "      <th>4</th>\n",
       "      <th>5</th>\n",
       "    </tr>\n",
       "  </thead>\n",
       "  <tbody>\n",
       "    <tr>\n",
       "      <th>22</th>\n",
       "      <td>0.203492</td>\n",
       "      <td>-1.417809</td>\n",
       "      <td>-0.195756</td>\n",
       "      <td>0.113927</td>\n",
       "      <td>3.202787</td>\n",
       "      <td>-0.792078</td>\n",
       "    </tr>\n",
       "    <tr>\n",
       "      <th>31</th>\n",
       "      <td>-1.545937</td>\n",
       "      <td>-1.621729</td>\n",
       "      <td>3.001859</td>\n",
       "      <td>-1.574427</td>\n",
       "      <td>0.559231</td>\n",
       "      <td>-0.254497</td>\n",
       "    </tr>\n",
       "    <tr>\n",
       "      <th>40</th>\n",
       "      <td>-0.486877</td>\n",
       "      <td>-0.225681</td>\n",
       "      <td>0.462186</td>\n",
       "      <td>-0.031665</td>\n",
       "      <td>3.004295</td>\n",
       "      <td>-0.187341</td>\n",
       "    </tr>\n",
       "    <tr>\n",
       "      <th>268</th>\n",
       "      <td>-1.732164</td>\n",
       "      <td>-0.049612</td>\n",
       "      <td>-0.042245</td>\n",
       "      <td>0.261892</td>\n",
       "      <td>3.311595</td>\n",
       "      <td>0.962413</td>\n",
       "    </tr>\n",
       "    <tr>\n",
       "      <th>272</th>\n",
       "      <td>3.634760</td>\n",
       "      <td>0.977452</td>\n",
       "      <td>0.916349</td>\n",
       "      <td>-0.028764</td>\n",
       "      <td>0.323941</td>\n",
       "      <td>1.883188</td>\n",
       "    </tr>\n",
       "    <tr>\n",
       "      <th>314</th>\n",
       "      <td>-1.032116</td>\n",
       "      <td>-1.470619</td>\n",
       "      <td>-1.315729</td>\n",
       "      <td>-0.798319</td>\n",
       "      <td>-0.400952</td>\n",
       "      <td>3.161179</td>\n",
       "    </tr>\n",
       "    <tr>\n",
       "      <th>316</th>\n",
       "      <td>1.068838</td>\n",
       "      <td>-0.012093</td>\n",
       "      <td>1.230925</td>\n",
       "      <td>-0.864605</td>\n",
       "      <td>3.094846</td>\n",
       "      <td>0.592033</td>\n",
       "    </tr>\n",
       "    <tr>\n",
       "      <th>358</th>\n",
       "      <td>1.642390</td>\n",
       "      <td>-0.308021</td>\n",
       "      <td>-0.318929</td>\n",
       "      <td>3.187873</td>\n",
       "      <td>1.213606</td>\n",
       "      <td>-0.182109</td>\n",
       "    </tr>\n",
       "    <tr>\n",
       "      <th>360</th>\n",
       "      <td>1.011217</td>\n",
       "      <td>-1.067225</td>\n",
       "      <td>3.446161</td>\n",
       "      <td>0.672969</td>\n",
       "      <td>-0.210942</td>\n",
       "      <td>0.681059</td>\n",
       "    </tr>\n",
       "    <tr>\n",
       "      <th>414</th>\n",
       "      <td>3.499722</td>\n",
       "      <td>-0.040889</td>\n",
       "      <td>1.305524</td>\n",
       "      <td>-0.156122</td>\n",
       "      <td>-0.010781</td>\n",
       "      <td>0.008744</td>\n",
       "    </tr>\n",
       "    <tr>\n",
       "      <th>483</th>\n",
       "      <td>3.213303</td>\n",
       "      <td>-0.294323</td>\n",
       "      <td>1.961119</td>\n",
       "      <td>-0.455660</td>\n",
       "      <td>-0.186384</td>\n",
       "      <td>-1.524296</td>\n",
       "    </tr>\n",
       "    <tr>\n",
       "      <th>527</th>\n",
       "      <td>-0.229298</td>\n",
       "      <td>3.292015</td>\n",
       "      <td>0.907822</td>\n",
       "      <td>0.810637</td>\n",
       "      <td>-0.069565</td>\n",
       "      <td>0.718151</td>\n",
       "    </tr>\n",
       "    <tr>\n",
       "      <th>549</th>\n",
       "      <td>0.550057</td>\n",
       "      <td>-3.130359</td>\n",
       "      <td>-0.583040</td>\n",
       "      <td>1.110041</td>\n",
       "      <td>-2.299657</td>\n",
       "      <td>0.355846</td>\n",
       "    </tr>\n",
       "    <tr>\n",
       "      <th>679</th>\n",
       "      <td>1.098994</td>\n",
       "      <td>1.139971</td>\n",
       "      <td>-1.015784</td>\n",
       "      <td>-3.031643</td>\n",
       "      <td>-2.051456</td>\n",
       "      <td>0.467415</td>\n",
       "    </tr>\n",
       "    <tr>\n",
       "      <th>821</th>\n",
       "      <td>1.045467</td>\n",
       "      <td>-0.972737</td>\n",
       "      <td>-3.330615</td>\n",
       "      <td>1.474960</td>\n",
       "      <td>0.439714</td>\n",
       "      <td>-1.619675</td>\n",
       "    </tr>\n",
       "  </tbody>\n",
       "</table>\n",
       "</div>"
      ],
      "text/plain": [
       "            0         1         2         3         4         5\n",
       "22   0.203492 -1.417809 -0.195756  0.113927  3.202787 -0.792078\n",
       "31  -1.545937 -1.621729  3.001859 -1.574427  0.559231 -0.254497\n",
       "40  -0.486877 -0.225681  0.462186 -0.031665  3.004295 -0.187341\n",
       "268 -1.732164 -0.049612 -0.042245  0.261892  3.311595  0.962413\n",
       "272  3.634760  0.977452  0.916349 -0.028764  0.323941  1.883188\n",
       "314 -1.032116 -1.470619 -1.315729 -0.798319 -0.400952  3.161179\n",
       "316  1.068838 -0.012093  1.230925 -0.864605  3.094846  0.592033\n",
       "358  1.642390 -0.308021 -0.318929  3.187873  1.213606 -0.182109\n",
       "360  1.011217 -1.067225  3.446161  0.672969 -0.210942  0.681059\n",
       "414  3.499722 -0.040889  1.305524 -0.156122 -0.010781  0.008744\n",
       "483  3.213303 -0.294323  1.961119 -0.455660 -0.186384 -1.524296\n",
       "527 -0.229298  3.292015  0.907822  0.810637 -0.069565  0.718151\n",
       "549  0.550057 -3.130359 -0.583040  1.110041 -2.299657  0.355846\n",
       "679  1.098994  1.139971 -1.015784 -3.031643 -2.051456  0.467415\n",
       "821  1.045467 -0.972737 -3.330615  1.474960  0.439714 -1.619675"
      ]
     },
     "execution_count": 84,
     "metadata": {},
     "output_type": "execute_result"
    }
   ],
   "source": [
    "daae[(daae.abs()>3).any(axis = 'columns')]"
   ]
  },
  {
   "cell_type": "code",
   "execution_count": 85,
   "id": "assigned-tumor",
   "metadata": {},
   "outputs": [
    {
     "data": {
      "text/plain": [
       "array([ 1., -1.,  1.,  1.,  1., -1., -1.,  1., -1.,  1.,  1.,  1., -1.,\n",
       "       -1.,  1.,  1.,  1., -1., -1., -1.,  1., -1.,  1.,  1.,  1.,  1.,\n",
       "        1.,  1.,  1., -1.,  1., -1., -1., -1., -1., -1., -1., -1., -1.,\n",
       "        1.,  1.,  1.,  1., -1.,  1.,  1.,  1., -1., -1., -1.,  1., -1.,\n",
       "       -1., -1.,  1.,  1., -1.,  1., -1.,  1.,  1., -1.,  1.,  1., -1.,\n",
       "        1.,  1.,  1.,  1., -1., -1., -1., -1.,  1.,  1.,  1.,  1.,  1.,\n",
       "        1., -1., -1., -1.,  1.,  1., -1., -1., -1., -1., -1., -1.,  1.,\n",
       "       -1.,  1.,  1.,  1., -1.,  1., -1.,  1.,  1.,  1.,  1.,  1., -1.,\n",
       "       -1., -1.,  1.,  1.,  1., -1., -1., -1., -1.,  1., -1., -1., -1.,\n",
       "        1.,  1.,  1.,  1.,  1., -1., -1., -1.,  1., -1., -1., -1., -1.,\n",
       "        1.,  1.,  1., -1., -1.,  1., -1.,  1.,  1., -1.,  1.,  1.,  1.,\n",
       "       -1.,  1., -1., -1., -1.,  1., -1., -1., -1.,  1.,  1.,  1.,  1.,\n",
       "        1.,  1., -1., -1.,  1.,  1., -1.,  1.,  1., -1.,  1., -1., -1.,\n",
       "        1., -1.,  1.,  1., -1.,  1., -1.,  1., -1., -1.,  1., -1., -1.,\n",
       "       -1., -1., -1.,  1., -1.,  1.,  1., -1.,  1.,  1.,  1.,  1.,  1.,\n",
       "       -1.,  1., -1., -1.,  1., -1., -1.,  1.,  1.,  1., -1., -1.,  1.,\n",
       "       -1.,  1.,  1.,  1.,  1.,  1.,  1., -1., -1., -1.,  1.,  1., -1.,\n",
       "       -1.,  1.,  1., -1., -1., -1.,  1.,  1., -1.,  1., -1.,  1., -1.,\n",
       "       -1.,  1.,  1., -1.,  1., -1.,  1., -1., -1., -1., -1.,  1.,  1.,\n",
       "        1.,  1.,  1.,  1., -1., -1.,  1.,  1.,  1., -1.,  1., -1.,  1.,\n",
       "        1.,  1., -1., -1.,  1., -1.,  1.,  1., -1., -1.,  1., -1., -1.,\n",
       "       -1.,  1., -1., -1.,  1., -1.,  1.,  1.,  1., -1., -1.,  1.,  1.,\n",
       "        1., -1.,  1.,  1.,  1., -1.,  1., -1., -1., -1.,  1., -1., -1.,\n",
       "       -1.,  1.,  1.,  1., -1.,  1.,  1., -1., -1.,  1., -1., -1.,  1.,\n",
       "        1.,  1.,  1., -1.,  1.,  1.,  1., -1.,  1.,  1., -1., -1., -1.,\n",
       "       -1.,  1., -1., -1., -1., -1., -1., -1.,  1., -1.,  1., -1., -1.,\n",
       "       -1.,  1., -1., -1., -1., -1.,  1.,  1., -1., -1.,  1., -1., -1.,\n",
       "        1., -1., -1.,  1., -1., -1., -1., -1., -1., -1.,  1., -1., -1.,\n",
       "        1.,  1., -1., -1.,  1.,  1., -1., -1., -1., -1.,  1., -1., -1.,\n",
       "        1., -1.,  1.,  1., -1., -1.,  1., -1., -1.,  1., -1.,  1., -1.,\n",
       "       -1.,  1., -1.,  1.,  1.,  1.,  1.,  1., -1.,  1., -1.,  1., -1.,\n",
       "       -1.,  1.,  1.,  1.,  1.,  1.,  1., -1.,  1.,  1.,  1., -1.,  1.,\n",
       "       -1.,  1., -1., -1.,  1.,  1.,  1., -1.,  1.,  1., -1., -1., -1.,\n",
       "        1.,  1., -1., -1., -1.,  1.,  1., -1.,  1., -1., -1.,  1., -1.,\n",
       "        1., -1.,  1., -1., -1., -1.,  1., -1.,  1.,  1.,  1.,  1.,  1.,\n",
       "        1.,  1., -1., -1.,  1.,  1.,  1., -1., -1.,  1.,  1., -1., -1.,\n",
       "       -1.,  1.,  1.,  1., -1., -1., -1.,  1., -1., -1.,  1.,  1.,  1.,\n",
       "       -1., -1., -1.,  1.,  1., -1., -1., -1.,  1.,  1., -1., -1., -1.,\n",
       "       -1.,  1., -1., -1., -1.,  1., -1., -1.,  1., -1., -1., -1.,  1.,\n",
       "       -1.,  1.,  1., -1., -1., -1.,  1., -1., -1.,  1.,  1., -1., -1.,\n",
       "        1., -1.,  1.,  1.,  1., -1., -1.,  1.,  1.,  1., -1.,  1.,  1.,\n",
       "        1.,  1., -1., -1.,  1., -1., -1.,  1.,  1.,  1., -1.,  1., -1.,\n",
       "        1.,  1.,  1.,  1., -1.,  1.,  1., -1.,  1., -1., -1.,  1., -1.,\n",
       "        1., -1., -1.,  1.,  1., -1.,  1.,  1.,  1., -1., -1., -1.,  1.,\n",
       "       -1., -1.,  1., -1.,  1.,  1.,  1., -1.,  1.,  1., -1.,  1., -1.,\n",
       "       -1., -1., -1., -1., -1.,  1.,  1.,  1.,  1.,  1.,  1., -1.,  1.,\n",
       "       -1.,  1., -1., -1.,  1., -1.,  1., -1., -1., -1., -1.,  1., -1.,\n",
       "        1.,  1., -1.,  1., -1., -1., -1., -1., -1., -1., -1.,  1.,  1.,\n",
       "        1.,  1.,  1., -1.,  1., -1.,  1., -1.,  1., -1.,  1.,  1., -1.,\n",
       "        1.,  1.,  1.,  1., -1., -1.,  1., -1.,  1.,  1.,  1., -1.,  1.,\n",
       "       -1.,  1., -1., -1.,  1., -1.,  1., -1.,  1.,  1.,  1., -1.,  1.,\n",
       "       -1.,  1.,  1.,  1., -1.,  1., -1., -1., -1.,  1.,  1., -1.,  1.,\n",
       "       -1., -1., -1., -1., -1.,  1., -1.,  1., -1.,  1., -1.,  1., -1.,\n",
       "        1., -1.,  1.,  1., -1., -1., -1., -1., -1., -1.,  1., -1., -1.,\n",
       "        1., -1., -1., -1., -1., -1.,  1.,  1., -1.,  1.,  1., -1., -1.,\n",
       "        1.,  1.,  1.,  1.,  1., -1.,  1.,  1., -1.,  1., -1., -1., -1.,\n",
       "        1., -1., -1.,  1., -1.,  1., -1.,  1., -1.,  1., -1., -1., -1.,\n",
       "       -1.,  1., -1.,  1.,  1.,  1., -1., -1., -1., -1., -1.,  1.,  1.,\n",
       "        1.,  1., -1.,  1., -1.,  1., -1.,  1.,  1., -1.,  1.,  1., -1.,\n",
       "        1.,  1.,  1., -1., -1., -1.,  1., -1., -1.,  1., -1., -1.,  1.,\n",
       "       -1.,  1., -1., -1.,  1.,  1.,  1., -1., -1.,  1., -1., -1., -1.,\n",
       "        1., -1.,  1.,  1., -1.,  1., -1.,  1., -1.,  1., -1.,  1., -1.,\n",
       "        1., -1., -1., -1.,  1.,  1., -1., -1.,  1.,  1.,  1.,  1., -1.,\n",
       "       -1., -1., -1., -1.,  1.,  1.,  1.,  1.,  1.,  1.,  1.,  1., -1.,\n",
       "       -1., -1., -1.,  1.,  1., -1.,  1.,  1., -1., -1., -1.,  1.,  1.,\n",
       "       -1., -1., -1., -1., -1.,  1., -1., -1.,  1., -1.,  1.,  1.,  1.,\n",
       "       -1.,  1.,  1., -1., -1.,  1.,  1.,  1., -1., -1., -1., -1., -1.,\n",
       "        1., -1., -1., -1., -1.,  1., -1.,  1.,  1.,  1.,  1.,  1.,  1.,\n",
       "       -1.,  1., -1.,  1., -1., -1., -1.,  1.,  1.,  1.,  1., -1.,  1.,\n",
       "       -1.,  1.,  1., -1., -1., -1.,  1., -1.,  1., -1., -1.,  1., -1.,\n",
       "       -1., -1.,  1.,  1.,  1.,  1., -1.,  1.,  1.,  1., -1.,  1.,  1.,\n",
       "        1.,  1.,  1.,  1., -1.,  1.,  1., -1.,  1., -1., -1.,  1., -1.,\n",
       "        1., -1.,  1.,  1.,  1., -1., -1., -1., -1.,  1., -1.,  1., -1.,\n",
       "        1., -1., -1., -1.,  1.,  1., -1., -1., -1., -1.,  1., -1.,  1.,\n",
       "       -1.,  1., -1.,  1., -1., -1.,  1.,  1., -1.,  1., -1., -1., -1.,\n",
       "        1.,  1.,  1., -1., -1., -1., -1.,  1.,  1.,  1.,  1.,  1.,  1.,\n",
       "       -1.,  1.,  1., -1.,  1., -1., -1., -1., -1.,  1., -1., -1.])"
      ]
     },
     "execution_count": 85,
     "metadata": {},
     "output_type": "execute_result"
    }
   ],
   "source": [
    "\n",
    "np.sign(data) "
   ]
  },
  {
   "cell_type": "code",
   "execution_count": null,
   "id": "liable-optics",
   "metadata": {},
   "outputs": [],
   "source": []
  },
  {
   "cell_type": "code",
   "execution_count": 86,
   "id": "designing-crystal",
   "metadata": {},
   "outputs": [],
   "source": [
    "daae[daae.abs()>3] = np.sign(daae)  # ye part utna nahi samjha like np.sign(daae) normal chalao toh upar ke block wala\n",
    "# output aata hai, and jab ye karo daae[(daae.abs()>3)] = np.sign(daae) toh change ho jaata hai jabki apan np.sign(daae) ka value\n",
    "# daae[(daae.abs()>3)] ko de rahe hai par np.sign(daae) yahi change ho jaa raha hai"
   ]
  },
  {
   "cell_type": "code",
   "execution_count": 87,
   "id": "scheduled-guidance",
   "metadata": {},
   "outputs": [
    {
     "data": {
      "text/html": [
       "<div>\n",
       "<style scoped>\n",
       "    .dataframe tbody tr th:only-of-type {\n",
       "        vertical-align: middle;\n",
       "    }\n",
       "\n",
       "    .dataframe tbody tr th {\n",
       "        vertical-align: top;\n",
       "    }\n",
       "\n",
       "    .dataframe thead th {\n",
       "        text-align: right;\n",
       "    }\n",
       "</style>\n",
       "<table border=\"1\" class=\"dataframe\">\n",
       "  <thead>\n",
       "    <tr style=\"text-align: right;\">\n",
       "      <th></th>\n",
       "      <th>0</th>\n",
       "      <th>1</th>\n",
       "      <th>2</th>\n",
       "      <th>3</th>\n",
       "      <th>4</th>\n",
       "      <th>5</th>\n",
       "    </tr>\n",
       "  </thead>\n",
       "  <tbody>\n",
       "    <tr>\n",
       "      <th>0</th>\n",
       "      <td>1.0</td>\n",
       "      <td>-1.0</td>\n",
       "      <td>1.0</td>\n",
       "      <td>1.0</td>\n",
       "      <td>-1.0</td>\n",
       "      <td>1.0</td>\n",
       "    </tr>\n",
       "    <tr>\n",
       "      <th>1</th>\n",
       "      <td>-1.0</td>\n",
       "      <td>1.0</td>\n",
       "      <td>-1.0</td>\n",
       "      <td>1.0</td>\n",
       "      <td>1.0</td>\n",
       "      <td>1.0</td>\n",
       "    </tr>\n",
       "    <tr>\n",
       "      <th>2</th>\n",
       "      <td>-1.0</td>\n",
       "      <td>-1.0</td>\n",
       "      <td>1.0</td>\n",
       "      <td>-1.0</td>\n",
       "      <td>-1.0</td>\n",
       "      <td>1.0</td>\n",
       "    </tr>\n",
       "    <tr>\n",
       "      <th>3</th>\n",
       "      <td>1.0</td>\n",
       "      <td>-1.0</td>\n",
       "      <td>-1.0</td>\n",
       "      <td>1.0</td>\n",
       "      <td>-1.0</td>\n",
       "      <td>1.0</td>\n",
       "    </tr>\n",
       "    <tr>\n",
       "      <th>4</th>\n",
       "      <td>-1.0</td>\n",
       "      <td>-1.0</td>\n",
       "      <td>-1.0</td>\n",
       "      <td>1.0</td>\n",
       "      <td>-1.0</td>\n",
       "      <td>-1.0</td>\n",
       "    </tr>\n",
       "    <tr>\n",
       "      <th>...</th>\n",
       "      <td>...</td>\n",
       "      <td>...</td>\n",
       "      <td>...</td>\n",
       "      <td>...</td>\n",
       "      <td>...</td>\n",
       "      <td>...</td>\n",
       "    </tr>\n",
       "    <tr>\n",
       "      <th>995</th>\n",
       "      <td>-1.0</td>\n",
       "      <td>-1.0</td>\n",
       "      <td>1.0</td>\n",
       "      <td>-1.0</td>\n",
       "      <td>1.0</td>\n",
       "      <td>1.0</td>\n",
       "    </tr>\n",
       "    <tr>\n",
       "      <th>996</th>\n",
       "      <td>1.0</td>\n",
       "      <td>1.0</td>\n",
       "      <td>-1.0</td>\n",
       "      <td>-1.0</td>\n",
       "      <td>-1.0</td>\n",
       "      <td>1.0</td>\n",
       "    </tr>\n",
       "    <tr>\n",
       "      <th>997</th>\n",
       "      <td>1.0</td>\n",
       "      <td>1.0</td>\n",
       "      <td>-1.0</td>\n",
       "      <td>1.0</td>\n",
       "      <td>1.0</td>\n",
       "      <td>-1.0</td>\n",
       "    </tr>\n",
       "    <tr>\n",
       "      <th>998</th>\n",
       "      <td>1.0</td>\n",
       "      <td>-1.0</td>\n",
       "      <td>-1.0</td>\n",
       "      <td>1.0</td>\n",
       "      <td>1.0</td>\n",
       "      <td>-1.0</td>\n",
       "    </tr>\n",
       "    <tr>\n",
       "      <th>999</th>\n",
       "      <td>1.0</td>\n",
       "      <td>1.0</td>\n",
       "      <td>1.0</td>\n",
       "      <td>-1.0</td>\n",
       "      <td>-1.0</td>\n",
       "      <td>-1.0</td>\n",
       "    </tr>\n",
       "  </tbody>\n",
       "</table>\n",
       "<p>1000 rows × 6 columns</p>\n",
       "</div>"
      ],
      "text/plain": [
       "       0    1    2    3    4    5\n",
       "0    1.0 -1.0  1.0  1.0 -1.0  1.0\n",
       "1   -1.0  1.0 -1.0  1.0  1.0  1.0\n",
       "2   -1.0 -1.0  1.0 -1.0 -1.0  1.0\n",
       "3    1.0 -1.0 -1.0  1.0 -1.0  1.0\n",
       "4   -1.0 -1.0 -1.0  1.0 -1.0 -1.0\n",
       "..   ...  ...  ...  ...  ...  ...\n",
       "995 -1.0 -1.0  1.0 -1.0  1.0  1.0\n",
       "996  1.0  1.0 -1.0 -1.0 -1.0  1.0\n",
       "997  1.0  1.0 -1.0  1.0  1.0 -1.0\n",
       "998  1.0 -1.0 -1.0  1.0  1.0 -1.0\n",
       "999  1.0  1.0  1.0 -1.0 -1.0 -1.0\n",
       "\n",
       "[1000 rows x 6 columns]"
      ]
     },
     "execution_count": 87,
     "metadata": {},
     "output_type": "execute_result"
    }
   ],
   "source": [
    "np.sign(daae)"
   ]
  },
  {
   "cell_type": "code",
   "execution_count": null,
   "id": "greater-heater",
   "metadata": {},
   "outputs": [],
   "source": []
  },
  {
   "cell_type": "code",
   "execution_count": 88,
   "id": "silver-consumption",
   "metadata": {},
   "outputs": [
    {
     "data": {
      "text/html": [
       "<div>\n",
       "<style scoped>\n",
       "    .dataframe tbody tr th:only-of-type {\n",
       "        vertical-align: middle;\n",
       "    }\n",
       "\n",
       "    .dataframe tbody tr th {\n",
       "        vertical-align: top;\n",
       "    }\n",
       "\n",
       "    .dataframe thead th {\n",
       "        text-align: right;\n",
       "    }\n",
       "</style>\n",
       "<table border=\"1\" class=\"dataframe\">\n",
       "  <thead>\n",
       "    <tr style=\"text-align: right;\">\n",
       "      <th></th>\n",
       "      <th>0</th>\n",
       "      <th>1</th>\n",
       "      <th>2</th>\n",
       "      <th>3</th>\n",
       "      <th>4</th>\n",
       "      <th>5</th>\n",
       "    </tr>\n",
       "  </thead>\n",
       "  <tbody>\n",
       "    <tr>\n",
       "      <th>0</th>\n",
       "      <td>NaN</td>\n",
       "      <td>NaN</td>\n",
       "      <td>NaN</td>\n",
       "      <td>NaN</td>\n",
       "      <td>NaN</td>\n",
       "      <td>NaN</td>\n",
       "    </tr>\n",
       "    <tr>\n",
       "      <th>1</th>\n",
       "      <td>NaN</td>\n",
       "      <td>NaN</td>\n",
       "      <td>NaN</td>\n",
       "      <td>NaN</td>\n",
       "      <td>NaN</td>\n",
       "      <td>NaN</td>\n",
       "    </tr>\n",
       "    <tr>\n",
       "      <th>2</th>\n",
       "      <td>NaN</td>\n",
       "      <td>NaN</td>\n",
       "      <td>NaN</td>\n",
       "      <td>NaN</td>\n",
       "      <td>NaN</td>\n",
       "      <td>NaN</td>\n",
       "    </tr>\n",
       "    <tr>\n",
       "      <th>3</th>\n",
       "      <td>NaN</td>\n",
       "      <td>NaN</td>\n",
       "      <td>NaN</td>\n",
       "      <td>NaN</td>\n",
       "      <td>NaN</td>\n",
       "      <td>NaN</td>\n",
       "    </tr>\n",
       "    <tr>\n",
       "      <th>4</th>\n",
       "      <td>NaN</td>\n",
       "      <td>NaN</td>\n",
       "      <td>NaN</td>\n",
       "      <td>NaN</td>\n",
       "      <td>NaN</td>\n",
       "      <td>NaN</td>\n",
       "    </tr>\n",
       "    <tr>\n",
       "      <th>...</th>\n",
       "      <td>...</td>\n",
       "      <td>...</td>\n",
       "      <td>...</td>\n",
       "      <td>...</td>\n",
       "      <td>...</td>\n",
       "      <td>...</td>\n",
       "    </tr>\n",
       "    <tr>\n",
       "      <th>995</th>\n",
       "      <td>NaN</td>\n",
       "      <td>NaN</td>\n",
       "      <td>NaN</td>\n",
       "      <td>NaN</td>\n",
       "      <td>NaN</td>\n",
       "      <td>NaN</td>\n",
       "    </tr>\n",
       "    <tr>\n",
       "      <th>996</th>\n",
       "      <td>NaN</td>\n",
       "      <td>NaN</td>\n",
       "      <td>NaN</td>\n",
       "      <td>NaN</td>\n",
       "      <td>NaN</td>\n",
       "      <td>NaN</td>\n",
       "    </tr>\n",
       "    <tr>\n",
       "      <th>997</th>\n",
       "      <td>NaN</td>\n",
       "      <td>NaN</td>\n",
       "      <td>NaN</td>\n",
       "      <td>NaN</td>\n",
       "      <td>NaN</td>\n",
       "      <td>NaN</td>\n",
       "    </tr>\n",
       "    <tr>\n",
       "      <th>998</th>\n",
       "      <td>NaN</td>\n",
       "      <td>NaN</td>\n",
       "      <td>NaN</td>\n",
       "      <td>NaN</td>\n",
       "      <td>NaN</td>\n",
       "      <td>NaN</td>\n",
       "    </tr>\n",
       "    <tr>\n",
       "      <th>999</th>\n",
       "      <td>NaN</td>\n",
       "      <td>NaN</td>\n",
       "      <td>NaN</td>\n",
       "      <td>NaN</td>\n",
       "      <td>NaN</td>\n",
       "      <td>NaN</td>\n",
       "    </tr>\n",
       "  </tbody>\n",
       "</table>\n",
       "<p>1000 rows × 6 columns</p>\n",
       "</div>"
      ],
      "text/plain": [
       "      0   1   2   3   4   5\n",
       "0   NaN NaN NaN NaN NaN NaN\n",
       "1   NaN NaN NaN NaN NaN NaN\n",
       "2   NaN NaN NaN NaN NaN NaN\n",
       "3   NaN NaN NaN NaN NaN NaN\n",
       "4   NaN NaN NaN NaN NaN NaN\n",
       "..   ..  ..  ..  ..  ..  ..\n",
       "995 NaN NaN NaN NaN NaN NaN\n",
       "996 NaN NaN NaN NaN NaN NaN\n",
       "997 NaN NaN NaN NaN NaN NaN\n",
       "998 NaN NaN NaN NaN NaN NaN\n",
       "999 NaN NaN NaN NaN NaN NaN\n",
       "\n",
       "[1000 rows x 6 columns]"
      ]
     },
     "execution_count": 88,
     "metadata": {},
     "output_type": "execute_result"
    }
   ],
   "source": [
    "daae[daae.abs()>3]"
   ]
  },
  {
   "cell_type": "markdown",
   "id": "patient-doctrine",
   "metadata": {},
   "source": [
    "### Permutation and Random Sampling"
   ]
  },
  {
   "cell_type": "code",
   "execution_count": 89,
   "id": "scheduled-patent",
   "metadata": {},
   "outputs": [
    {
     "data": {
      "text/html": [
       "<div>\n",
       "<style scoped>\n",
       "    .dataframe tbody tr th:only-of-type {\n",
       "        vertical-align: middle;\n",
       "    }\n",
       "\n",
       "    .dataframe tbody tr th {\n",
       "        vertical-align: top;\n",
       "    }\n",
       "\n",
       "    .dataframe thead th {\n",
       "        text-align: right;\n",
       "    }\n",
       "</style>\n",
       "<table border=\"1\" class=\"dataframe\">\n",
       "  <thead>\n",
       "    <tr style=\"text-align: right;\">\n",
       "      <th></th>\n",
       "      <th>0</th>\n",
       "      <th>1</th>\n",
       "      <th>2</th>\n",
       "      <th>3</th>\n",
       "      <th>4</th>\n",
       "      <th>5</th>\n",
       "      <th>6</th>\n",
       "    </tr>\n",
       "  </thead>\n",
       "  <tbody>\n",
       "    <tr>\n",
       "      <th>0</th>\n",
       "      <td>0</td>\n",
       "      <td>1</td>\n",
       "      <td>2</td>\n",
       "      <td>3</td>\n",
       "      <td>4</td>\n",
       "      <td>5</td>\n",
       "      <td>6</td>\n",
       "    </tr>\n",
       "    <tr>\n",
       "      <th>1</th>\n",
       "      <td>7</td>\n",
       "      <td>8</td>\n",
       "      <td>9</td>\n",
       "      <td>10</td>\n",
       "      <td>11</td>\n",
       "      <td>12</td>\n",
       "      <td>13</td>\n",
       "    </tr>\n",
       "    <tr>\n",
       "      <th>2</th>\n",
       "      <td>14</td>\n",
       "      <td>15</td>\n",
       "      <td>16</td>\n",
       "      <td>17</td>\n",
       "      <td>18</td>\n",
       "      <td>19</td>\n",
       "      <td>20</td>\n",
       "    </tr>\n",
       "    <tr>\n",
       "      <th>3</th>\n",
       "      <td>21</td>\n",
       "      <td>22</td>\n",
       "      <td>23</td>\n",
       "      <td>24</td>\n",
       "      <td>25</td>\n",
       "      <td>26</td>\n",
       "      <td>27</td>\n",
       "    </tr>\n",
       "    <tr>\n",
       "      <th>4</th>\n",
       "      <td>28</td>\n",
       "      <td>29</td>\n",
       "      <td>30</td>\n",
       "      <td>31</td>\n",
       "      <td>32</td>\n",
       "      <td>33</td>\n",
       "      <td>34</td>\n",
       "    </tr>\n",
       "  </tbody>\n",
       "</table>\n",
       "</div>"
      ],
      "text/plain": [
       "    0   1   2   3   4   5   6\n",
       "0   0   1   2   3   4   5   6\n",
       "1   7   8   9  10  11  12  13\n",
       "2  14  15  16  17  18  19  20\n",
       "3  21  22  23  24  25  26  27\n",
       "4  28  29  30  31  32  33  34"
      ]
     },
     "execution_count": 89,
     "metadata": {},
     "output_type": "execute_result"
    }
   ],
   "source": [
    "daa = pd.DataFrame(np.arange(35).reshape((5,7)))\n",
    "\n",
    "daa"
   ]
  },
  {
   "cell_type": "code",
   "execution_count": 90,
   "id": "selected-civilian",
   "metadata": {},
   "outputs": [
    {
     "data": {
      "text/plain": [
       "array([1, 2, 0, 3, 4])"
      ]
     },
     "execution_count": 90,
     "metadata": {},
     "output_type": "execute_result"
    }
   ],
   "source": [
    "xample = np.random.permutation(5)\n",
    "\n",
    "xample"
   ]
  },
  {
   "cell_type": "code",
   "execution_count": 91,
   "id": "secure-taste",
   "metadata": {},
   "outputs": [
    {
     "data": {
      "text/html": [
       "<div>\n",
       "<style scoped>\n",
       "    .dataframe tbody tr th:only-of-type {\n",
       "        vertical-align: middle;\n",
       "    }\n",
       "\n",
       "    .dataframe tbody tr th {\n",
       "        vertical-align: top;\n",
       "    }\n",
       "\n",
       "    .dataframe thead th {\n",
       "        text-align: right;\n",
       "    }\n",
       "</style>\n",
       "<table border=\"1\" class=\"dataframe\">\n",
       "  <thead>\n",
       "    <tr style=\"text-align: right;\">\n",
       "      <th></th>\n",
       "      <th>0</th>\n",
       "      <th>1</th>\n",
       "      <th>2</th>\n",
       "      <th>3</th>\n",
       "      <th>4</th>\n",
       "      <th>5</th>\n",
       "      <th>6</th>\n",
       "    </tr>\n",
       "  </thead>\n",
       "  <tbody>\n",
       "    <tr>\n",
       "      <th>1</th>\n",
       "      <td>7</td>\n",
       "      <td>8</td>\n",
       "      <td>9</td>\n",
       "      <td>10</td>\n",
       "      <td>11</td>\n",
       "      <td>12</td>\n",
       "      <td>13</td>\n",
       "    </tr>\n",
       "    <tr>\n",
       "      <th>2</th>\n",
       "      <td>14</td>\n",
       "      <td>15</td>\n",
       "      <td>16</td>\n",
       "      <td>17</td>\n",
       "      <td>18</td>\n",
       "      <td>19</td>\n",
       "      <td>20</td>\n",
       "    </tr>\n",
       "    <tr>\n",
       "      <th>0</th>\n",
       "      <td>0</td>\n",
       "      <td>1</td>\n",
       "      <td>2</td>\n",
       "      <td>3</td>\n",
       "      <td>4</td>\n",
       "      <td>5</td>\n",
       "      <td>6</td>\n",
       "    </tr>\n",
       "    <tr>\n",
       "      <th>3</th>\n",
       "      <td>21</td>\n",
       "      <td>22</td>\n",
       "      <td>23</td>\n",
       "      <td>24</td>\n",
       "      <td>25</td>\n",
       "      <td>26</td>\n",
       "      <td>27</td>\n",
       "    </tr>\n",
       "    <tr>\n",
       "      <th>4</th>\n",
       "      <td>28</td>\n",
       "      <td>29</td>\n",
       "      <td>30</td>\n",
       "      <td>31</td>\n",
       "      <td>32</td>\n",
       "      <td>33</td>\n",
       "      <td>34</td>\n",
       "    </tr>\n",
       "  </tbody>\n",
       "</table>\n",
       "</div>"
      ],
      "text/plain": [
       "    0   1   2   3   4   5   6\n",
       "1   7   8   9  10  11  12  13\n",
       "2  14  15  16  17  18  19  20\n",
       "0   0   1   2   3   4   5   6\n",
       "3  21  22  23  24  25  26  27\n",
       "4  28  29  30  31  32  33  34"
      ]
     },
     "execution_count": 91,
     "metadata": {},
     "output_type": "execute_result"
    }
   ],
   "source": [
    "daa.take(xample) # by default it will print value row wise only"
   ]
  },
  {
   "cell_type": "code",
   "execution_count": 92,
   "id": "lesbian-bleeding",
   "metadata": {},
   "outputs": [
    {
     "data": {
      "text/html": [
       "<div>\n",
       "<style scoped>\n",
       "    .dataframe tbody tr th:only-of-type {\n",
       "        vertical-align: middle;\n",
       "    }\n",
       "\n",
       "    .dataframe tbody tr th {\n",
       "        vertical-align: top;\n",
       "    }\n",
       "\n",
       "    .dataframe thead th {\n",
       "        text-align: right;\n",
       "    }\n",
       "</style>\n",
       "<table border=\"1\" class=\"dataframe\">\n",
       "  <thead>\n",
       "    <tr style=\"text-align: right;\">\n",
       "      <th></th>\n",
       "      <th>0</th>\n",
       "      <th>1</th>\n",
       "      <th>2</th>\n",
       "      <th>3</th>\n",
       "      <th>4</th>\n",
       "      <th>5</th>\n",
       "      <th>6</th>\n",
       "    </tr>\n",
       "  </thead>\n",
       "  <tbody>\n",
       "    <tr>\n",
       "      <th>1</th>\n",
       "      <td>7</td>\n",
       "      <td>8</td>\n",
       "      <td>9</td>\n",
       "      <td>10</td>\n",
       "      <td>11</td>\n",
       "      <td>12</td>\n",
       "      <td>13</td>\n",
       "    </tr>\n",
       "    <tr>\n",
       "      <th>2</th>\n",
       "      <td>14</td>\n",
       "      <td>15</td>\n",
       "      <td>16</td>\n",
       "      <td>17</td>\n",
       "      <td>18</td>\n",
       "      <td>19</td>\n",
       "      <td>20</td>\n",
       "    </tr>\n",
       "    <tr>\n",
       "      <th>0</th>\n",
       "      <td>0</td>\n",
       "      <td>1</td>\n",
       "      <td>2</td>\n",
       "      <td>3</td>\n",
       "      <td>4</td>\n",
       "      <td>5</td>\n",
       "      <td>6</td>\n",
       "    </tr>\n",
       "    <tr>\n",
       "      <th>3</th>\n",
       "      <td>21</td>\n",
       "      <td>22</td>\n",
       "      <td>23</td>\n",
       "      <td>24</td>\n",
       "      <td>25</td>\n",
       "      <td>26</td>\n",
       "      <td>27</td>\n",
       "    </tr>\n",
       "    <tr>\n",
       "      <th>4</th>\n",
       "      <td>28</td>\n",
       "      <td>29</td>\n",
       "      <td>30</td>\n",
       "      <td>31</td>\n",
       "      <td>32</td>\n",
       "      <td>33</td>\n",
       "      <td>34</td>\n",
       "    </tr>\n",
       "  </tbody>\n",
       "</table>\n",
       "</div>"
      ],
      "text/plain": [
       "    0   1   2   3   4   5   6\n",
       "1   7   8   9  10  11  12  13\n",
       "2  14  15  16  17  18  19  20\n",
       "0   0   1   2   3   4   5   6\n",
       "3  21  22  23  24  25  26  27\n",
       "4  28  29  30  31  32  33  34"
      ]
     },
     "execution_count": 92,
     "metadata": {},
     "output_type": "execute_result"
    }
   ],
   "source": [
    "daa.iloc[xample]"
   ]
  },
  {
   "cell_type": "code",
   "execution_count": 93,
   "id": "selected-examination",
   "metadata": {},
   "outputs": [
    {
     "data": {
      "text/html": [
       "<div>\n",
       "<style scoped>\n",
       "    .dataframe tbody tr th:only-of-type {\n",
       "        vertical-align: middle;\n",
       "    }\n",
       "\n",
       "    .dataframe tbody tr th {\n",
       "        vertical-align: top;\n",
       "    }\n",
       "\n",
       "    .dataframe thead th {\n",
       "        text-align: right;\n",
       "    }\n",
       "</style>\n",
       "<table border=\"1\" class=\"dataframe\">\n",
       "  <thead>\n",
       "    <tr style=\"text-align: right;\">\n",
       "      <th></th>\n",
       "      <th>0</th>\n",
       "      <th>1</th>\n",
       "      <th>2</th>\n",
       "      <th>3</th>\n",
       "      <th>4</th>\n",
       "      <th>5</th>\n",
       "      <th>6</th>\n",
       "    </tr>\n",
       "  </thead>\n",
       "  <tbody>\n",
       "    <tr>\n",
       "      <th>0</th>\n",
       "      <td>0</td>\n",
       "      <td>1</td>\n",
       "      <td>2</td>\n",
       "      <td>3</td>\n",
       "      <td>4</td>\n",
       "      <td>5</td>\n",
       "      <td>6</td>\n",
       "    </tr>\n",
       "    <tr>\n",
       "      <th>2</th>\n",
       "      <td>14</td>\n",
       "      <td>15</td>\n",
       "      <td>16</td>\n",
       "      <td>17</td>\n",
       "      <td>18</td>\n",
       "      <td>19</td>\n",
       "      <td>20</td>\n",
       "    </tr>\n",
       "    <tr>\n",
       "      <th>1</th>\n",
       "      <td>7</td>\n",
       "      <td>8</td>\n",
       "      <td>9</td>\n",
       "      <td>10</td>\n",
       "      <td>11</td>\n",
       "      <td>12</td>\n",
       "      <td>13</td>\n",
       "    </tr>\n",
       "    <tr>\n",
       "      <th>4</th>\n",
       "      <td>28</td>\n",
       "      <td>29</td>\n",
       "      <td>30</td>\n",
       "      <td>31</td>\n",
       "      <td>32</td>\n",
       "      <td>33</td>\n",
       "      <td>34</td>\n",
       "    </tr>\n",
       "    <tr>\n",
       "      <th>3</th>\n",
       "      <td>21</td>\n",
       "      <td>22</td>\n",
       "      <td>23</td>\n",
       "      <td>24</td>\n",
       "      <td>25</td>\n",
       "      <td>26</td>\n",
       "      <td>27</td>\n",
       "    </tr>\n",
       "  </tbody>\n",
       "</table>\n",
       "</div>"
      ],
      "text/plain": [
       "    0   1   2   3   4   5   6\n",
       "0   0   1   2   3   4   5   6\n",
       "2  14  15  16  17  18  19  20\n",
       "1   7   8   9  10  11  12  13\n",
       "4  28  29  30  31  32  33  34\n",
       "3  21  22  23  24  25  26  27"
      ]
     },
     "execution_count": 93,
     "metadata": {},
     "output_type": "execute_result"
    }
   ],
   "source": [
    "daa.sample(n = 5,replace = False) # You can pass replace = True if you want to repeat the row values\n"
   ]
  },
  {
   "cell_type": "code",
   "execution_count": 94,
   "id": "earned-utility",
   "metadata": {},
   "outputs": [
    {
     "data": {
      "text/html": [
       "<div>\n",
       "<style scoped>\n",
       "    .dataframe tbody tr th:only-of-type {\n",
       "        vertical-align: middle;\n",
       "    }\n",
       "\n",
       "    .dataframe tbody tr th {\n",
       "        vertical-align: top;\n",
       "    }\n",
       "\n",
       "    .dataframe thead th {\n",
       "        text-align: right;\n",
       "    }\n",
       "</style>\n",
       "<table border=\"1\" class=\"dataframe\">\n",
       "  <thead>\n",
       "    <tr style=\"text-align: right;\">\n",
       "      <th></th>\n",
       "      <th>2</th>\n",
       "      <th>5</th>\n",
       "      <th>1</th>\n",
       "      <th>4</th>\n",
       "      <th>0</th>\n",
       "    </tr>\n",
       "  </thead>\n",
       "  <tbody>\n",
       "    <tr>\n",
       "      <th>0</th>\n",
       "      <td>2</td>\n",
       "      <td>5</td>\n",
       "      <td>1</td>\n",
       "      <td>4</td>\n",
       "      <td>0</td>\n",
       "    </tr>\n",
       "    <tr>\n",
       "      <th>1</th>\n",
       "      <td>9</td>\n",
       "      <td>12</td>\n",
       "      <td>8</td>\n",
       "      <td>11</td>\n",
       "      <td>7</td>\n",
       "    </tr>\n",
       "    <tr>\n",
       "      <th>2</th>\n",
       "      <td>16</td>\n",
       "      <td>19</td>\n",
       "      <td>15</td>\n",
       "      <td>18</td>\n",
       "      <td>14</td>\n",
       "    </tr>\n",
       "    <tr>\n",
       "      <th>3</th>\n",
       "      <td>23</td>\n",
       "      <td>26</td>\n",
       "      <td>22</td>\n",
       "      <td>25</td>\n",
       "      <td>21</td>\n",
       "    </tr>\n",
       "    <tr>\n",
       "      <th>4</th>\n",
       "      <td>30</td>\n",
       "      <td>33</td>\n",
       "      <td>29</td>\n",
       "      <td>32</td>\n",
       "      <td>28</td>\n",
       "    </tr>\n",
       "  </tbody>\n",
       "</table>\n",
       "</div>"
      ],
      "text/plain": [
       "    2   5   1   4   0\n",
       "0   2   5   1   4   0\n",
       "1   9  12   8  11   7\n",
       "2  16  19  15  18  14\n",
       "3  23  26  22  25  21\n",
       "4  30  33  29  32  28"
      ]
     },
     "execution_count": 94,
     "metadata": {},
     "output_type": "execute_result"
    }
   ],
   "source": [
    "daa.sample(n = 5,axis = 'columns')"
   ]
  },
  {
   "cell_type": "code",
   "execution_count": 95,
   "id": "historic-kitty",
   "metadata": {},
   "outputs": [
    {
     "data": {
      "text/html": [
       "<div>\n",
       "<style scoped>\n",
       "    .dataframe tbody tr th:only-of-type {\n",
       "        vertical-align: middle;\n",
       "    }\n",
       "\n",
       "    .dataframe tbody tr th {\n",
       "        vertical-align: top;\n",
       "    }\n",
       "\n",
       "    .dataframe thead th {\n",
       "        text-align: right;\n",
       "    }\n",
       "</style>\n",
       "<table border=\"1\" class=\"dataframe\">\n",
       "  <thead>\n",
       "    <tr style=\"text-align: right;\">\n",
       "      <th></th>\n",
       "      <th>1</th>\n",
       "      <th>2</th>\n",
       "      <th>0</th>\n",
       "      <th>3</th>\n",
       "      <th>4</th>\n",
       "    </tr>\n",
       "  </thead>\n",
       "  <tbody>\n",
       "    <tr>\n",
       "      <th>0</th>\n",
       "      <td>1</td>\n",
       "      <td>2</td>\n",
       "      <td>0</td>\n",
       "      <td>3</td>\n",
       "      <td>4</td>\n",
       "    </tr>\n",
       "    <tr>\n",
       "      <th>1</th>\n",
       "      <td>8</td>\n",
       "      <td>9</td>\n",
       "      <td>7</td>\n",
       "      <td>10</td>\n",
       "      <td>11</td>\n",
       "    </tr>\n",
       "    <tr>\n",
       "      <th>2</th>\n",
       "      <td>15</td>\n",
       "      <td>16</td>\n",
       "      <td>14</td>\n",
       "      <td>17</td>\n",
       "      <td>18</td>\n",
       "    </tr>\n",
       "    <tr>\n",
       "      <th>3</th>\n",
       "      <td>22</td>\n",
       "      <td>23</td>\n",
       "      <td>21</td>\n",
       "      <td>24</td>\n",
       "      <td>25</td>\n",
       "    </tr>\n",
       "    <tr>\n",
       "      <th>4</th>\n",
       "      <td>29</td>\n",
       "      <td>30</td>\n",
       "      <td>28</td>\n",
       "      <td>31</td>\n",
       "      <td>32</td>\n",
       "    </tr>\n",
       "  </tbody>\n",
       "</table>\n",
       "</div>"
      ],
      "text/plain": [
       "    1   2   0   3   4\n",
       "0   1   2   0   3   4\n",
       "1   8   9   7  10  11\n",
       "2  15  16  14  17  18\n",
       "3  22  23  21  24  25\n",
       "4  29  30  28  31  32"
      ]
     },
     "execution_count": 95,
     "metadata": {},
     "output_type": "execute_result"
    }
   ],
   "source": [
    "daa.take(xample,axis = 'columns')"
   ]
  },
  {
   "cell_type": "markdown",
   "id": "comparable-popularity",
   "metadata": {},
   "source": [
    "### Computing Indicator / Dummy Variables"
   ]
  },
  {
   "cell_type": "code",
   "execution_count": 96,
   "id": "every-manchester",
   "metadata": {},
   "outputs": [
    {
     "data": {
      "text/html": [
       "<div>\n",
       "<style scoped>\n",
       "    .dataframe tbody tr th:only-of-type {\n",
       "        vertical-align: middle;\n",
       "    }\n",
       "\n",
       "    .dataframe tbody tr th {\n",
       "        vertical-align: top;\n",
       "    }\n",
       "\n",
       "    .dataframe thead th {\n",
       "        text-align: right;\n",
       "    }\n",
       "</style>\n",
       "<table border=\"1\" class=\"dataframe\">\n",
       "  <thead>\n",
       "    <tr style=\"text-align: right;\">\n",
       "      <th></th>\n",
       "      <th>kiss</th>\n",
       "      <th>datta</th>\n",
       "    </tr>\n",
       "  </thead>\n",
       "  <tbody>\n",
       "    <tr>\n",
       "      <th>0</th>\n",
       "      <td>b</td>\n",
       "      <td>0</td>\n",
       "    </tr>\n",
       "    <tr>\n",
       "      <th>1</th>\n",
       "      <td>b</td>\n",
       "      <td>1</td>\n",
       "    </tr>\n",
       "    <tr>\n",
       "      <th>2</th>\n",
       "      <td>a</td>\n",
       "      <td>2</td>\n",
       "    </tr>\n",
       "    <tr>\n",
       "      <th>3</th>\n",
       "      <td>c</td>\n",
       "      <td>3</td>\n",
       "    </tr>\n",
       "    <tr>\n",
       "      <th>4</th>\n",
       "      <td>a</td>\n",
       "      <td>4</td>\n",
       "    </tr>\n",
       "    <tr>\n",
       "      <th>5</th>\n",
       "      <td>b</td>\n",
       "      <td>5</td>\n",
       "    </tr>\n",
       "  </tbody>\n",
       "</table>\n",
       "</div>"
      ],
      "text/plain": [
       "  kiss  datta\n",
       "0    b      0\n",
       "1    b      1\n",
       "2    a      2\n",
       "3    c      3\n",
       "4    a      4\n",
       "5    b      5"
      ]
     },
     "execution_count": 96,
     "metadata": {},
     "output_type": "execute_result"
    }
   ],
   "source": [
    "sf = pd.DataFrame({'kiss':['b','b','a','c','a','b'],'datta':range(6)})\n",
    "\n",
    "sf"
   ]
  },
  {
   "cell_type": "code",
   "execution_count": 97,
   "id": "boxed-armenia",
   "metadata": {},
   "outputs": [
    {
     "data": {
      "text/html": [
       "<div>\n",
       "<style scoped>\n",
       "    .dataframe tbody tr th:only-of-type {\n",
       "        vertical-align: middle;\n",
       "    }\n",
       "\n",
       "    .dataframe tbody tr th {\n",
       "        vertical-align: top;\n",
       "    }\n",
       "\n",
       "    .dataframe thead th {\n",
       "        text-align: right;\n",
       "    }\n",
       "</style>\n",
       "<table border=\"1\" class=\"dataframe\">\n",
       "  <thead>\n",
       "    <tr style=\"text-align: right;\">\n",
       "      <th></th>\n",
       "      <th>a</th>\n",
       "      <th>b</th>\n",
       "      <th>c</th>\n",
       "    </tr>\n",
       "  </thead>\n",
       "  <tbody>\n",
       "    <tr>\n",
       "      <th>0</th>\n",
       "      <td>0</td>\n",
       "      <td>1</td>\n",
       "      <td>0</td>\n",
       "    </tr>\n",
       "    <tr>\n",
       "      <th>1</th>\n",
       "      <td>0</td>\n",
       "      <td>1</td>\n",
       "      <td>0</td>\n",
       "    </tr>\n",
       "    <tr>\n",
       "      <th>2</th>\n",
       "      <td>1</td>\n",
       "      <td>0</td>\n",
       "      <td>0</td>\n",
       "    </tr>\n",
       "    <tr>\n",
       "      <th>3</th>\n",
       "      <td>0</td>\n",
       "      <td>0</td>\n",
       "      <td>1</td>\n",
       "    </tr>\n",
       "    <tr>\n",
       "      <th>4</th>\n",
       "      <td>1</td>\n",
       "      <td>0</td>\n",
       "      <td>0</td>\n",
       "    </tr>\n",
       "    <tr>\n",
       "      <th>5</th>\n",
       "      <td>0</td>\n",
       "      <td>1</td>\n",
       "      <td>0</td>\n",
       "    </tr>\n",
       "  </tbody>\n",
       "</table>\n",
       "</div>"
      ],
      "text/plain": [
       "   a  b  c\n",
       "0  0  1  0\n",
       "1  0  1  0\n",
       "2  1  0  0\n",
       "3  0  0  1\n",
       "4  1  0  0\n",
       "5  0  1  0"
      ]
     },
     "execution_count": 97,
     "metadata": {},
     "output_type": "execute_result"
    }
   ],
   "source": [
    "op = pd.get_dummies(sf['kiss'])  # So basically what this does is that it will give 1 for the value present in the columns and on the particular index\n",
    "\n",
    "op "
   ]
  },
  {
   "cell_type": "markdown",
   "id": "married-dressing",
   "metadata": {},
   "source": [
    "#### You can also add some prefix"
   ]
  },
  {
   "cell_type": "code",
   "execution_count": 98,
   "id": "corrected-equilibrium",
   "metadata": {},
   "outputs": [
    {
     "data": {
      "text/html": [
       "<div>\n",
       "<style scoped>\n",
       "    .dataframe tbody tr th:only-of-type {\n",
       "        vertical-align: middle;\n",
       "    }\n",
       "\n",
       "    .dataframe tbody tr th {\n",
       "        vertical-align: top;\n",
       "    }\n",
       "\n",
       "    .dataframe thead th {\n",
       "        text-align: right;\n",
       "    }\n",
       "</style>\n",
       "<table border=\"1\" class=\"dataframe\">\n",
       "  <thead>\n",
       "    <tr style=\"text-align: right;\">\n",
       "      <th></th>\n",
       "      <th>manu_a</th>\n",
       "      <th>manu_b</th>\n",
       "      <th>manu_c</th>\n",
       "    </tr>\n",
       "  </thead>\n",
       "  <tbody>\n",
       "    <tr>\n",
       "      <th>0</th>\n",
       "      <td>0</td>\n",
       "      <td>1</td>\n",
       "      <td>0</td>\n",
       "    </tr>\n",
       "    <tr>\n",
       "      <th>1</th>\n",
       "      <td>0</td>\n",
       "      <td>1</td>\n",
       "      <td>0</td>\n",
       "    </tr>\n",
       "    <tr>\n",
       "      <th>2</th>\n",
       "      <td>1</td>\n",
       "      <td>0</td>\n",
       "      <td>0</td>\n",
       "    </tr>\n",
       "    <tr>\n",
       "      <th>3</th>\n",
       "      <td>0</td>\n",
       "      <td>0</td>\n",
       "      <td>1</td>\n",
       "    </tr>\n",
       "    <tr>\n",
       "      <th>4</th>\n",
       "      <td>1</td>\n",
       "      <td>0</td>\n",
       "      <td>0</td>\n",
       "    </tr>\n",
       "    <tr>\n",
       "      <th>5</th>\n",
       "      <td>0</td>\n",
       "      <td>1</td>\n",
       "      <td>0</td>\n",
       "    </tr>\n",
       "  </tbody>\n",
       "</table>\n",
       "</div>"
      ],
      "text/plain": [
       "   manu_a  manu_b  manu_c\n",
       "0       0       1       0\n",
       "1       0       1       0\n",
       "2       1       0       0\n",
       "3       0       0       1\n",
       "4       1       0       0\n",
       "5       0       1       0"
      ]
     },
     "execution_count": 98,
     "metadata": {},
     "output_type": "execute_result"
    }
   ],
   "source": [
    "dummy = pd.get_dummies(sf['kiss'],prefix = 'manu')\n",
    "\n",
    "dummy # You have only given manu, (_) part has been added by the function "
   ]
  },
  {
   "cell_type": "code",
   "execution_count": 99,
   "id": "architectural-clothing",
   "metadata": {},
   "outputs": [
    {
     "data": {
      "text/html": [
       "<div>\n",
       "<style scoped>\n",
       "    .dataframe tbody tr th:only-of-type {\n",
       "        vertical-align: middle;\n",
       "    }\n",
       "\n",
       "    .dataframe tbody tr th {\n",
       "        vertical-align: top;\n",
       "    }\n",
       "\n",
       "    .dataframe thead th {\n",
       "        text-align: right;\n",
       "    }\n",
       "</style>\n",
       "<table border=\"1\" class=\"dataframe\">\n",
       "  <thead>\n",
       "    <tr style=\"text-align: right;\">\n",
       "      <th></th>\n",
       "      <th>kiss</th>\n",
       "      <th>manu_a</th>\n",
       "      <th>manu_b</th>\n",
       "      <th>manu_c</th>\n",
       "    </tr>\n",
       "  </thead>\n",
       "  <tbody>\n",
       "    <tr>\n",
       "      <th>0</th>\n",
       "      <td>b</td>\n",
       "      <td>0</td>\n",
       "      <td>1</td>\n",
       "      <td>0</td>\n",
       "    </tr>\n",
       "    <tr>\n",
       "      <th>1</th>\n",
       "      <td>b</td>\n",
       "      <td>0</td>\n",
       "      <td>1</td>\n",
       "      <td>0</td>\n",
       "    </tr>\n",
       "    <tr>\n",
       "      <th>2</th>\n",
       "      <td>a</td>\n",
       "      <td>1</td>\n",
       "      <td>0</td>\n",
       "      <td>0</td>\n",
       "    </tr>\n",
       "    <tr>\n",
       "      <th>3</th>\n",
       "      <td>c</td>\n",
       "      <td>0</td>\n",
       "      <td>0</td>\n",
       "      <td>1</td>\n",
       "    </tr>\n",
       "    <tr>\n",
       "      <th>4</th>\n",
       "      <td>a</td>\n",
       "      <td>1</td>\n",
       "      <td>0</td>\n",
       "      <td>0</td>\n",
       "    </tr>\n",
       "    <tr>\n",
       "      <th>5</th>\n",
       "      <td>b</td>\n",
       "      <td>0</td>\n",
       "      <td>1</td>\n",
       "      <td>0</td>\n",
       "    </tr>\n",
       "  </tbody>\n",
       "</table>\n",
       "</div>"
      ],
      "text/plain": [
       "  kiss  manu_a  manu_b  manu_c\n",
       "0    b       0       1       0\n",
       "1    b       0       1       0\n",
       "2    a       1       0       0\n",
       "3    c       0       0       1\n",
       "4    a       1       0       0\n",
       "5    b       0       1       0"
      ]
     },
     "execution_count": 99,
     "metadata": {},
     "output_type": "execute_result"
    }
   ],
   "source": [
    "# little imp join function\n",
    "\n",
    "\n",
    "out = sf[['kiss']].join(dummy)\n",
    "\n",
    "out"
   ]
  },
  {
   "cell_type": "code",
   "execution_count": 100,
   "id": "extra-coral",
   "metadata": {},
   "outputs": [
    {
     "data": {
      "text/html": [
       "<div>\n",
       "<style scoped>\n",
       "    .dataframe tbody tr th:only-of-type {\n",
       "        vertical-align: middle;\n",
       "    }\n",
       "\n",
       "    .dataframe tbody tr th {\n",
       "        vertical-align: top;\n",
       "    }\n",
       "\n",
       "    .dataframe thead th {\n",
       "        text-align: right;\n",
       "    }\n",
       "</style>\n",
       "<table border=\"1\" class=\"dataframe\">\n",
       "  <thead>\n",
       "    <tr style=\"text-align: right;\">\n",
       "      <th></th>\n",
       "      <th>datta</th>\n",
       "      <th>manu_a</th>\n",
       "      <th>manu_b</th>\n",
       "      <th>manu_c</th>\n",
       "    </tr>\n",
       "  </thead>\n",
       "  <tbody>\n",
       "    <tr>\n",
       "      <th>0</th>\n",
       "      <td>0</td>\n",
       "      <td>0</td>\n",
       "      <td>1</td>\n",
       "      <td>0</td>\n",
       "    </tr>\n",
       "    <tr>\n",
       "      <th>1</th>\n",
       "      <td>1</td>\n",
       "      <td>0</td>\n",
       "      <td>1</td>\n",
       "      <td>0</td>\n",
       "    </tr>\n",
       "    <tr>\n",
       "      <th>2</th>\n",
       "      <td>2</td>\n",
       "      <td>1</td>\n",
       "      <td>0</td>\n",
       "      <td>0</td>\n",
       "    </tr>\n",
       "    <tr>\n",
       "      <th>3</th>\n",
       "      <td>3</td>\n",
       "      <td>0</td>\n",
       "      <td>0</td>\n",
       "      <td>1</td>\n",
       "    </tr>\n",
       "    <tr>\n",
       "      <th>4</th>\n",
       "      <td>4</td>\n",
       "      <td>1</td>\n",
       "      <td>0</td>\n",
       "      <td>0</td>\n",
       "    </tr>\n",
       "    <tr>\n",
       "      <th>5</th>\n",
       "      <td>5</td>\n",
       "      <td>0</td>\n",
       "      <td>1</td>\n",
       "      <td>0</td>\n",
       "    </tr>\n",
       "  </tbody>\n",
       "</table>\n",
       "</div>"
      ],
      "text/plain": [
       "   datta  manu_a  manu_b  manu_c\n",
       "0      0       0       1       0\n",
       "1      1       0       1       0\n",
       "2      2       1       0       0\n",
       "3      3       0       0       1\n",
       "4      4       1       0       0\n",
       "5      5       0       1       0"
      ]
     },
     "execution_count": 100,
     "metadata": {},
     "output_type": "execute_result"
    }
   ],
   "source": [
    "out = sf[['datta']].join(dummy)\n",
    "\n",
    "out"
   ]
  },
  {
   "cell_type": "code",
   "execution_count": 101,
   "id": "visible-halifax",
   "metadata": {},
   "outputs": [
    {
     "name": "stdout",
     "output_type": "stream",
     "text": [
      "C:\\Users\\manas\\PycharmProjects\\wes mckinney\n"
     ]
    }
   ],
   "source": [
    "print(o.getcwd())"
   ]
  },
  {
   "cell_type": "code",
   "execution_count": 102,
   "id": "precious-mention",
   "metadata": {},
   "outputs": [],
   "source": [
    "mnames = ['movie_id','title','genres']"
   ]
  },
  {
   "cell_type": "code",
   "execution_count": 103,
   "id": "starting-separate",
   "metadata": {},
   "outputs": [],
   "source": [
    "# Now in the below written code understand fewthings, first is the read_table funtion, this is used to read DAT file\n",
    "# next is the sep part, it works like the split() function, it will look for the parameter that you passed and will\n",
    "# divide the file contents accordingly\n",
    "# Header ka use nahi pata utna"
   ]
  },
  {
   "cell_type": "code",
   "execution_count": 104,
   "id": "fleet-scope",
   "metadata": {},
   "outputs": [
    {
     "data": {
      "text/html": [
       "<div>\n",
       "<style scoped>\n",
       "    .dataframe tbody tr th:only-of-type {\n",
       "        vertical-align: middle;\n",
       "    }\n",
       "\n",
       "    .dataframe tbody tr th {\n",
       "        vertical-align: top;\n",
       "    }\n",
       "\n",
       "    .dataframe thead th {\n",
       "        text-align: right;\n",
       "    }\n",
       "</style>\n",
       "<table border=\"1\" class=\"dataframe\">\n",
       "  <thead>\n",
       "    <tr style=\"text-align: right;\">\n",
       "      <th></th>\n",
       "      <th>movie_id</th>\n",
       "      <th>title</th>\n",
       "      <th>genres</th>\n",
       "    </tr>\n",
       "  </thead>\n",
       "  <tbody>\n",
       "    <tr>\n",
       "      <th>0</th>\n",
       "      <td>1</td>\n",
       "      <td>Toy Story (1995)</td>\n",
       "      <td>Animation|Children's|Comedy</td>\n",
       "    </tr>\n",
       "    <tr>\n",
       "      <th>1</th>\n",
       "      <td>2</td>\n",
       "      <td>Jumanji (1995)</td>\n",
       "      <td>Adventure|Children's|Fantasy</td>\n",
       "    </tr>\n",
       "    <tr>\n",
       "      <th>2</th>\n",
       "      <td>3</td>\n",
       "      <td>Grumpier Old Men (1995)</td>\n",
       "      <td>Comedy|Romance</td>\n",
       "    </tr>\n",
       "    <tr>\n",
       "      <th>3</th>\n",
       "      <td>4</td>\n",
       "      <td>Waiting to Exhale (1995)</td>\n",
       "      <td>Comedy|Drama</td>\n",
       "    </tr>\n",
       "    <tr>\n",
       "      <th>4</th>\n",
       "      <td>5</td>\n",
       "      <td>Father of the Bride Part II (1995)</td>\n",
       "      <td>Comedy</td>\n",
       "    </tr>\n",
       "    <tr>\n",
       "      <th>...</th>\n",
       "      <td>...</td>\n",
       "      <td>...</td>\n",
       "      <td>...</td>\n",
       "    </tr>\n",
       "    <tr>\n",
       "      <th>3878</th>\n",
       "      <td>3948</td>\n",
       "      <td>Meet the Parents (2000)</td>\n",
       "      <td>Comedy</td>\n",
       "    </tr>\n",
       "    <tr>\n",
       "      <th>3879</th>\n",
       "      <td>3949</td>\n",
       "      <td>Requiem for a Dream (2000)</td>\n",
       "      <td>Drama</td>\n",
       "    </tr>\n",
       "    <tr>\n",
       "      <th>3880</th>\n",
       "      <td>3950</td>\n",
       "      <td>Tigerland (2000)</td>\n",
       "      <td>Drama</td>\n",
       "    </tr>\n",
       "    <tr>\n",
       "      <th>3881</th>\n",
       "      <td>3951</td>\n",
       "      <td>Two Family House (2000)</td>\n",
       "      <td>Drama</td>\n",
       "    </tr>\n",
       "    <tr>\n",
       "      <th>3882</th>\n",
       "      <td>3952</td>\n",
       "      <td>Contender, The (2000)</td>\n",
       "      <td>Drama|Thriller</td>\n",
       "    </tr>\n",
       "  </tbody>\n",
       "</table>\n",
       "<p>3883 rows × 3 columns</p>\n",
       "</div>"
      ],
      "text/plain": [
       "      movie_id                               title  \\\n",
       "0            1                    Toy Story (1995)   \n",
       "1            2                      Jumanji (1995)   \n",
       "2            3             Grumpier Old Men (1995)   \n",
       "3            4            Waiting to Exhale (1995)   \n",
       "4            5  Father of the Bride Part II (1995)   \n",
       "...        ...                                 ...   \n",
       "3878      3948             Meet the Parents (2000)   \n",
       "3879      3949          Requiem for a Dream (2000)   \n",
       "3880      3950                    Tigerland (2000)   \n",
       "3881      3951             Two Family House (2000)   \n",
       "3882      3952               Contender, The (2000)   \n",
       "\n",
       "                            genres  \n",
       "0      Animation|Children's|Comedy  \n",
       "1     Adventure|Children's|Fantasy  \n",
       "2                   Comedy|Romance  \n",
       "3                     Comedy|Drama  \n",
       "4                           Comedy  \n",
       "...                            ...  \n",
       "3878                        Comedy  \n",
       "3879                         Drama  \n",
       "3880                         Drama  \n",
       "3881                         Drama  \n",
       "3882                Drama|Thriller  \n",
       "\n",
       "[3883 rows x 3 columns]"
      ]
     },
     "execution_count": 104,
     "metadata": {},
     "output_type": "execute_result"
    }
   ],
   "source": [
    "movies = pd.read_table('datasets/movielens/movies.dat',sep = '::',\n",
    "                      header = None, names = mnames,engine = 'python'\n",
    "                      )\n",
    "\n",
    "movies"
   ]
  },
  {
   "cell_type": "code",
   "execution_count": 105,
   "id": "cubic-correlation",
   "metadata": {},
   "outputs": [],
   "source": [
    "# movies = pd.read_table('datasets/movielens/movies.dat',sep = '::',\n",
    "#                       header = 123, names = mnames,engine = 'python'\n",
    "#                       )\n",
    "\n",
    "# movies"
   ]
  },
  {
   "cell_type": "code",
   "execution_count": 106,
   "id": "straight-count",
   "metadata": {},
   "outputs": [],
   "source": [
    "# Special function str.get_dummies()"
   ]
  },
  {
   "cell_type": "code",
   "execution_count": 107,
   "id": "requested-kennedy",
   "metadata": {},
   "outputs": [
    {
     "data": {
      "text/html": [
       "<div>\n",
       "<style scoped>\n",
       "    .dataframe tbody tr th:only-of-type {\n",
       "        vertical-align: middle;\n",
       "    }\n",
       "\n",
       "    .dataframe tbody tr th {\n",
       "        vertical-align: top;\n",
       "    }\n",
       "\n",
       "    .dataframe thead th {\n",
       "        text-align: right;\n",
       "    }\n",
       "</style>\n",
       "<table border=\"1\" class=\"dataframe\">\n",
       "  <thead>\n",
       "    <tr style=\"text-align: right;\">\n",
       "      <th></th>\n",
       "      <th>Action</th>\n",
       "      <th>Adventure</th>\n",
       "      <th>Animation</th>\n",
       "      <th>Children's</th>\n",
       "      <th>Comedy</th>\n",
       "      <th>Crime</th>\n",
       "      <th>Documentary</th>\n",
       "      <th>Drama</th>\n",
       "      <th>Fantasy</th>\n",
       "      <th>Film-Noir</th>\n",
       "      <th>Horror</th>\n",
       "      <th>Musical</th>\n",
       "      <th>Mystery</th>\n",
       "      <th>Romance</th>\n",
       "      <th>Sci-Fi</th>\n",
       "      <th>Thriller</th>\n",
       "      <th>War</th>\n",
       "      <th>Western</th>\n",
       "    </tr>\n",
       "  </thead>\n",
       "  <tbody>\n",
       "    <tr>\n",
       "      <th>0</th>\n",
       "      <td>0</td>\n",
       "      <td>0</td>\n",
       "      <td>1</td>\n",
       "      <td>1</td>\n",
       "      <td>1</td>\n",
       "      <td>0</td>\n",
       "      <td>0</td>\n",
       "      <td>0</td>\n",
       "      <td>0</td>\n",
       "      <td>0</td>\n",
       "      <td>0</td>\n",
       "      <td>0</td>\n",
       "      <td>0</td>\n",
       "      <td>0</td>\n",
       "      <td>0</td>\n",
       "      <td>0</td>\n",
       "      <td>0</td>\n",
       "      <td>0</td>\n",
       "    </tr>\n",
       "    <tr>\n",
       "      <th>1</th>\n",
       "      <td>0</td>\n",
       "      <td>1</td>\n",
       "      <td>0</td>\n",
       "      <td>1</td>\n",
       "      <td>0</td>\n",
       "      <td>0</td>\n",
       "      <td>0</td>\n",
       "      <td>0</td>\n",
       "      <td>1</td>\n",
       "      <td>0</td>\n",
       "      <td>0</td>\n",
       "      <td>0</td>\n",
       "      <td>0</td>\n",
       "      <td>0</td>\n",
       "      <td>0</td>\n",
       "      <td>0</td>\n",
       "      <td>0</td>\n",
       "      <td>0</td>\n",
       "    </tr>\n",
       "    <tr>\n",
       "      <th>2</th>\n",
       "      <td>0</td>\n",
       "      <td>0</td>\n",
       "      <td>0</td>\n",
       "      <td>0</td>\n",
       "      <td>1</td>\n",
       "      <td>0</td>\n",
       "      <td>0</td>\n",
       "      <td>0</td>\n",
       "      <td>0</td>\n",
       "      <td>0</td>\n",
       "      <td>0</td>\n",
       "      <td>0</td>\n",
       "      <td>0</td>\n",
       "      <td>1</td>\n",
       "      <td>0</td>\n",
       "      <td>0</td>\n",
       "      <td>0</td>\n",
       "      <td>0</td>\n",
       "    </tr>\n",
       "    <tr>\n",
       "      <th>3</th>\n",
       "      <td>0</td>\n",
       "      <td>0</td>\n",
       "      <td>0</td>\n",
       "      <td>0</td>\n",
       "      <td>1</td>\n",
       "      <td>0</td>\n",
       "      <td>0</td>\n",
       "      <td>1</td>\n",
       "      <td>0</td>\n",
       "      <td>0</td>\n",
       "      <td>0</td>\n",
       "      <td>0</td>\n",
       "      <td>0</td>\n",
       "      <td>0</td>\n",
       "      <td>0</td>\n",
       "      <td>0</td>\n",
       "      <td>0</td>\n",
       "      <td>0</td>\n",
       "    </tr>\n",
       "    <tr>\n",
       "      <th>4</th>\n",
       "      <td>0</td>\n",
       "      <td>0</td>\n",
       "      <td>0</td>\n",
       "      <td>0</td>\n",
       "      <td>1</td>\n",
       "      <td>0</td>\n",
       "      <td>0</td>\n",
       "      <td>0</td>\n",
       "      <td>0</td>\n",
       "      <td>0</td>\n",
       "      <td>0</td>\n",
       "      <td>0</td>\n",
       "      <td>0</td>\n",
       "      <td>0</td>\n",
       "      <td>0</td>\n",
       "      <td>0</td>\n",
       "      <td>0</td>\n",
       "      <td>0</td>\n",
       "    </tr>\n",
       "    <tr>\n",
       "      <th>...</th>\n",
       "      <td>...</td>\n",
       "      <td>...</td>\n",
       "      <td>...</td>\n",
       "      <td>...</td>\n",
       "      <td>...</td>\n",
       "      <td>...</td>\n",
       "      <td>...</td>\n",
       "      <td>...</td>\n",
       "      <td>...</td>\n",
       "      <td>...</td>\n",
       "      <td>...</td>\n",
       "      <td>...</td>\n",
       "      <td>...</td>\n",
       "      <td>...</td>\n",
       "      <td>...</td>\n",
       "      <td>...</td>\n",
       "      <td>...</td>\n",
       "      <td>...</td>\n",
       "    </tr>\n",
       "    <tr>\n",
       "      <th>3878</th>\n",
       "      <td>0</td>\n",
       "      <td>0</td>\n",
       "      <td>0</td>\n",
       "      <td>0</td>\n",
       "      <td>1</td>\n",
       "      <td>0</td>\n",
       "      <td>0</td>\n",
       "      <td>0</td>\n",
       "      <td>0</td>\n",
       "      <td>0</td>\n",
       "      <td>0</td>\n",
       "      <td>0</td>\n",
       "      <td>0</td>\n",
       "      <td>0</td>\n",
       "      <td>0</td>\n",
       "      <td>0</td>\n",
       "      <td>0</td>\n",
       "      <td>0</td>\n",
       "    </tr>\n",
       "    <tr>\n",
       "      <th>3879</th>\n",
       "      <td>0</td>\n",
       "      <td>0</td>\n",
       "      <td>0</td>\n",
       "      <td>0</td>\n",
       "      <td>0</td>\n",
       "      <td>0</td>\n",
       "      <td>0</td>\n",
       "      <td>1</td>\n",
       "      <td>0</td>\n",
       "      <td>0</td>\n",
       "      <td>0</td>\n",
       "      <td>0</td>\n",
       "      <td>0</td>\n",
       "      <td>0</td>\n",
       "      <td>0</td>\n",
       "      <td>0</td>\n",
       "      <td>0</td>\n",
       "      <td>0</td>\n",
       "    </tr>\n",
       "    <tr>\n",
       "      <th>3880</th>\n",
       "      <td>0</td>\n",
       "      <td>0</td>\n",
       "      <td>0</td>\n",
       "      <td>0</td>\n",
       "      <td>0</td>\n",
       "      <td>0</td>\n",
       "      <td>0</td>\n",
       "      <td>1</td>\n",
       "      <td>0</td>\n",
       "      <td>0</td>\n",
       "      <td>0</td>\n",
       "      <td>0</td>\n",
       "      <td>0</td>\n",
       "      <td>0</td>\n",
       "      <td>0</td>\n",
       "      <td>0</td>\n",
       "      <td>0</td>\n",
       "      <td>0</td>\n",
       "    </tr>\n",
       "    <tr>\n",
       "      <th>3881</th>\n",
       "      <td>0</td>\n",
       "      <td>0</td>\n",
       "      <td>0</td>\n",
       "      <td>0</td>\n",
       "      <td>0</td>\n",
       "      <td>0</td>\n",
       "      <td>0</td>\n",
       "      <td>1</td>\n",
       "      <td>0</td>\n",
       "      <td>0</td>\n",
       "      <td>0</td>\n",
       "      <td>0</td>\n",
       "      <td>0</td>\n",
       "      <td>0</td>\n",
       "      <td>0</td>\n",
       "      <td>0</td>\n",
       "      <td>0</td>\n",
       "      <td>0</td>\n",
       "    </tr>\n",
       "    <tr>\n",
       "      <th>3882</th>\n",
       "      <td>0</td>\n",
       "      <td>0</td>\n",
       "      <td>0</td>\n",
       "      <td>0</td>\n",
       "      <td>0</td>\n",
       "      <td>0</td>\n",
       "      <td>0</td>\n",
       "      <td>1</td>\n",
       "      <td>0</td>\n",
       "      <td>0</td>\n",
       "      <td>0</td>\n",
       "      <td>0</td>\n",
       "      <td>0</td>\n",
       "      <td>0</td>\n",
       "      <td>0</td>\n",
       "      <td>1</td>\n",
       "      <td>0</td>\n",
       "      <td>0</td>\n",
       "    </tr>\n",
       "  </tbody>\n",
       "</table>\n",
       "<p>3883 rows × 18 columns</p>\n",
       "</div>"
      ],
      "text/plain": [
       "      Action  Adventure  Animation  Children's  Comedy  Crime  Documentary  \\\n",
       "0          0          0          1           1       1      0            0   \n",
       "1          0          1          0           1       0      0            0   \n",
       "2          0          0          0           0       1      0            0   \n",
       "3          0          0          0           0       1      0            0   \n",
       "4          0          0          0           0       1      0            0   \n",
       "...      ...        ...        ...         ...     ...    ...          ...   \n",
       "3878       0          0          0           0       1      0            0   \n",
       "3879       0          0          0           0       0      0            0   \n",
       "3880       0          0          0           0       0      0            0   \n",
       "3881       0          0          0           0       0      0            0   \n",
       "3882       0          0          0           0       0      0            0   \n",
       "\n",
       "      Drama  Fantasy  Film-Noir  Horror  Musical  Mystery  Romance  Sci-Fi  \\\n",
       "0         0        0          0       0        0        0        0       0   \n",
       "1         0        1          0       0        0        0        0       0   \n",
       "2         0        0          0       0        0        0        1       0   \n",
       "3         1        0          0       0        0        0        0       0   \n",
       "4         0        0          0       0        0        0        0       0   \n",
       "...     ...      ...        ...     ...      ...      ...      ...     ...   \n",
       "3878      0        0          0       0        0        0        0       0   \n",
       "3879      1        0          0       0        0        0        0       0   \n",
       "3880      1        0          0       0        0        0        0       0   \n",
       "3881      1        0          0       0        0        0        0       0   \n",
       "3882      1        0          0       0        0        0        0       0   \n",
       "\n",
       "      Thriller  War  Western  \n",
       "0            0    0        0  \n",
       "1            0    0        0  \n",
       "2            0    0        0  \n",
       "3            0    0        0  \n",
       "4            0    0        0  \n",
       "...        ...  ...      ...  \n",
       "3878         0    0        0  \n",
       "3879         0    0        0  \n",
       "3880         0    0        0  \n",
       "3881         0    0        0  \n",
       "3882         1    0        0  \n",
       "\n",
       "[3883 rows x 18 columns]"
      ]
     },
     "execution_count": 107,
     "metadata": {},
     "output_type": "execute_result"
    }
   ],
   "source": [
    "new_dummy  = movies['genres'].str.get_dummies('|') # So this is nice right, it took the separator also and worked\n",
    "new_dummy"
   ]
  },
  {
   "cell_type": "code",
   "execution_count": 108,
   "id": "electric-belly",
   "metadata": {},
   "outputs": [
    {
     "data": {
      "text/html": [
       "<div>\n",
       "<style scoped>\n",
       "    .dataframe tbody tr th:only-of-type {\n",
       "        vertical-align: middle;\n",
       "    }\n",
       "\n",
       "    .dataframe tbody tr th {\n",
       "        vertical-align: top;\n",
       "    }\n",
       "\n",
       "    .dataframe thead th {\n",
       "        text-align: right;\n",
       "    }\n",
       "</style>\n",
       "<table border=\"1\" class=\"dataframe\">\n",
       "  <thead>\n",
       "    <tr style=\"text-align: right;\">\n",
       "      <th></th>\n",
       "      <th>movie_id</th>\n",
       "      <th>title</th>\n",
       "      <th>genres</th>\n",
       "      <th>MeraMovieAction</th>\n",
       "      <th>MeraMovieAdventure</th>\n",
       "      <th>MeraMovieAnimation</th>\n",
       "      <th>MeraMovieChildren's</th>\n",
       "      <th>MeraMovieComedy</th>\n",
       "      <th>MeraMovieCrime</th>\n",
       "      <th>MeraMovieDocumentary</th>\n",
       "      <th>...</th>\n",
       "      <th>MeraMovieFantasy</th>\n",
       "      <th>MeraMovieFilm-Noir</th>\n",
       "      <th>MeraMovieHorror</th>\n",
       "      <th>MeraMovieMusical</th>\n",
       "      <th>MeraMovieMystery</th>\n",
       "      <th>MeraMovieRomance</th>\n",
       "      <th>MeraMovieSci-Fi</th>\n",
       "      <th>MeraMovieThriller</th>\n",
       "      <th>MeraMovieWar</th>\n",
       "      <th>MeraMovieWestern</th>\n",
       "    </tr>\n",
       "  </thead>\n",
       "  <tbody>\n",
       "    <tr>\n",
       "      <th>0</th>\n",
       "      <td>1</td>\n",
       "      <td>Toy Story (1995)</td>\n",
       "      <td>Animation|Children's|Comedy</td>\n",
       "      <td>0</td>\n",
       "      <td>0</td>\n",
       "      <td>1</td>\n",
       "      <td>1</td>\n",
       "      <td>1</td>\n",
       "      <td>0</td>\n",
       "      <td>0</td>\n",
       "      <td>...</td>\n",
       "      <td>0</td>\n",
       "      <td>0</td>\n",
       "      <td>0</td>\n",
       "      <td>0</td>\n",
       "      <td>0</td>\n",
       "      <td>0</td>\n",
       "      <td>0</td>\n",
       "      <td>0</td>\n",
       "      <td>0</td>\n",
       "      <td>0</td>\n",
       "    </tr>\n",
       "    <tr>\n",
       "      <th>1</th>\n",
       "      <td>2</td>\n",
       "      <td>Jumanji (1995)</td>\n",
       "      <td>Adventure|Children's|Fantasy</td>\n",
       "      <td>0</td>\n",
       "      <td>1</td>\n",
       "      <td>0</td>\n",
       "      <td>1</td>\n",
       "      <td>0</td>\n",
       "      <td>0</td>\n",
       "      <td>0</td>\n",
       "      <td>...</td>\n",
       "      <td>1</td>\n",
       "      <td>0</td>\n",
       "      <td>0</td>\n",
       "      <td>0</td>\n",
       "      <td>0</td>\n",
       "      <td>0</td>\n",
       "      <td>0</td>\n",
       "      <td>0</td>\n",
       "      <td>0</td>\n",
       "      <td>0</td>\n",
       "    </tr>\n",
       "    <tr>\n",
       "      <th>2</th>\n",
       "      <td>3</td>\n",
       "      <td>Grumpier Old Men (1995)</td>\n",
       "      <td>Comedy|Romance</td>\n",
       "      <td>0</td>\n",
       "      <td>0</td>\n",
       "      <td>0</td>\n",
       "      <td>0</td>\n",
       "      <td>1</td>\n",
       "      <td>0</td>\n",
       "      <td>0</td>\n",
       "      <td>...</td>\n",
       "      <td>0</td>\n",
       "      <td>0</td>\n",
       "      <td>0</td>\n",
       "      <td>0</td>\n",
       "      <td>0</td>\n",
       "      <td>1</td>\n",
       "      <td>0</td>\n",
       "      <td>0</td>\n",
       "      <td>0</td>\n",
       "      <td>0</td>\n",
       "    </tr>\n",
       "    <tr>\n",
       "      <th>3</th>\n",
       "      <td>4</td>\n",
       "      <td>Waiting to Exhale (1995)</td>\n",
       "      <td>Comedy|Drama</td>\n",
       "      <td>0</td>\n",
       "      <td>0</td>\n",
       "      <td>0</td>\n",
       "      <td>0</td>\n",
       "      <td>1</td>\n",
       "      <td>0</td>\n",
       "      <td>0</td>\n",
       "      <td>...</td>\n",
       "      <td>0</td>\n",
       "      <td>0</td>\n",
       "      <td>0</td>\n",
       "      <td>0</td>\n",
       "      <td>0</td>\n",
       "      <td>0</td>\n",
       "      <td>0</td>\n",
       "      <td>0</td>\n",
       "      <td>0</td>\n",
       "      <td>0</td>\n",
       "    </tr>\n",
       "    <tr>\n",
       "      <th>4</th>\n",
       "      <td>5</td>\n",
       "      <td>Father of the Bride Part II (1995)</td>\n",
       "      <td>Comedy</td>\n",
       "      <td>0</td>\n",
       "      <td>0</td>\n",
       "      <td>0</td>\n",
       "      <td>0</td>\n",
       "      <td>1</td>\n",
       "      <td>0</td>\n",
       "      <td>0</td>\n",
       "      <td>...</td>\n",
       "      <td>0</td>\n",
       "      <td>0</td>\n",
       "      <td>0</td>\n",
       "      <td>0</td>\n",
       "      <td>0</td>\n",
       "      <td>0</td>\n",
       "      <td>0</td>\n",
       "      <td>0</td>\n",
       "      <td>0</td>\n",
       "      <td>0</td>\n",
       "    </tr>\n",
       "    <tr>\n",
       "      <th>...</th>\n",
       "      <td>...</td>\n",
       "      <td>...</td>\n",
       "      <td>...</td>\n",
       "      <td>...</td>\n",
       "      <td>...</td>\n",
       "      <td>...</td>\n",
       "      <td>...</td>\n",
       "      <td>...</td>\n",
       "      <td>...</td>\n",
       "      <td>...</td>\n",
       "      <td>...</td>\n",
       "      <td>...</td>\n",
       "      <td>...</td>\n",
       "      <td>...</td>\n",
       "      <td>...</td>\n",
       "      <td>...</td>\n",
       "      <td>...</td>\n",
       "      <td>...</td>\n",
       "      <td>...</td>\n",
       "      <td>...</td>\n",
       "      <td>...</td>\n",
       "    </tr>\n",
       "    <tr>\n",
       "      <th>3878</th>\n",
       "      <td>3948</td>\n",
       "      <td>Meet the Parents (2000)</td>\n",
       "      <td>Comedy</td>\n",
       "      <td>0</td>\n",
       "      <td>0</td>\n",
       "      <td>0</td>\n",
       "      <td>0</td>\n",
       "      <td>1</td>\n",
       "      <td>0</td>\n",
       "      <td>0</td>\n",
       "      <td>...</td>\n",
       "      <td>0</td>\n",
       "      <td>0</td>\n",
       "      <td>0</td>\n",
       "      <td>0</td>\n",
       "      <td>0</td>\n",
       "      <td>0</td>\n",
       "      <td>0</td>\n",
       "      <td>0</td>\n",
       "      <td>0</td>\n",
       "      <td>0</td>\n",
       "    </tr>\n",
       "    <tr>\n",
       "      <th>3879</th>\n",
       "      <td>3949</td>\n",
       "      <td>Requiem for a Dream (2000)</td>\n",
       "      <td>Drama</td>\n",
       "      <td>0</td>\n",
       "      <td>0</td>\n",
       "      <td>0</td>\n",
       "      <td>0</td>\n",
       "      <td>0</td>\n",
       "      <td>0</td>\n",
       "      <td>0</td>\n",
       "      <td>...</td>\n",
       "      <td>0</td>\n",
       "      <td>0</td>\n",
       "      <td>0</td>\n",
       "      <td>0</td>\n",
       "      <td>0</td>\n",
       "      <td>0</td>\n",
       "      <td>0</td>\n",
       "      <td>0</td>\n",
       "      <td>0</td>\n",
       "      <td>0</td>\n",
       "    </tr>\n",
       "    <tr>\n",
       "      <th>3880</th>\n",
       "      <td>3950</td>\n",
       "      <td>Tigerland (2000)</td>\n",
       "      <td>Drama</td>\n",
       "      <td>0</td>\n",
       "      <td>0</td>\n",
       "      <td>0</td>\n",
       "      <td>0</td>\n",
       "      <td>0</td>\n",
       "      <td>0</td>\n",
       "      <td>0</td>\n",
       "      <td>...</td>\n",
       "      <td>0</td>\n",
       "      <td>0</td>\n",
       "      <td>0</td>\n",
       "      <td>0</td>\n",
       "      <td>0</td>\n",
       "      <td>0</td>\n",
       "      <td>0</td>\n",
       "      <td>0</td>\n",
       "      <td>0</td>\n",
       "      <td>0</td>\n",
       "    </tr>\n",
       "    <tr>\n",
       "      <th>3881</th>\n",
       "      <td>3951</td>\n",
       "      <td>Two Family House (2000)</td>\n",
       "      <td>Drama</td>\n",
       "      <td>0</td>\n",
       "      <td>0</td>\n",
       "      <td>0</td>\n",
       "      <td>0</td>\n",
       "      <td>0</td>\n",
       "      <td>0</td>\n",
       "      <td>0</td>\n",
       "      <td>...</td>\n",
       "      <td>0</td>\n",
       "      <td>0</td>\n",
       "      <td>0</td>\n",
       "      <td>0</td>\n",
       "      <td>0</td>\n",
       "      <td>0</td>\n",
       "      <td>0</td>\n",
       "      <td>0</td>\n",
       "      <td>0</td>\n",
       "      <td>0</td>\n",
       "    </tr>\n",
       "    <tr>\n",
       "      <th>3882</th>\n",
       "      <td>3952</td>\n",
       "      <td>Contender, The (2000)</td>\n",
       "      <td>Drama|Thriller</td>\n",
       "      <td>0</td>\n",
       "      <td>0</td>\n",
       "      <td>0</td>\n",
       "      <td>0</td>\n",
       "      <td>0</td>\n",
       "      <td>0</td>\n",
       "      <td>0</td>\n",
       "      <td>...</td>\n",
       "      <td>0</td>\n",
       "      <td>0</td>\n",
       "      <td>0</td>\n",
       "      <td>0</td>\n",
       "      <td>0</td>\n",
       "      <td>0</td>\n",
       "      <td>0</td>\n",
       "      <td>1</td>\n",
       "      <td>0</td>\n",
       "      <td>0</td>\n",
       "    </tr>\n",
       "  </tbody>\n",
       "</table>\n",
       "<p>3883 rows × 21 columns</p>\n",
       "</div>"
      ],
      "text/plain": [
       "      movie_id                               title  \\\n",
       "0            1                    Toy Story (1995)   \n",
       "1            2                      Jumanji (1995)   \n",
       "2            3             Grumpier Old Men (1995)   \n",
       "3            4            Waiting to Exhale (1995)   \n",
       "4            5  Father of the Bride Part II (1995)   \n",
       "...        ...                                 ...   \n",
       "3878      3948             Meet the Parents (2000)   \n",
       "3879      3949          Requiem for a Dream (2000)   \n",
       "3880      3950                    Tigerland (2000)   \n",
       "3881      3951             Two Family House (2000)   \n",
       "3882      3952               Contender, The (2000)   \n",
       "\n",
       "                            genres  MeraMovieAction  MeraMovieAdventure  \\\n",
       "0      Animation|Children's|Comedy                0                   0   \n",
       "1     Adventure|Children's|Fantasy                0                   1   \n",
       "2                   Comedy|Romance                0                   0   \n",
       "3                     Comedy|Drama                0                   0   \n",
       "4                           Comedy                0                   0   \n",
       "...                            ...              ...                 ...   \n",
       "3878                        Comedy                0                   0   \n",
       "3879                         Drama                0                   0   \n",
       "3880                         Drama                0                   0   \n",
       "3881                         Drama                0                   0   \n",
       "3882                Drama|Thriller                0                   0   \n",
       "\n",
       "      MeraMovieAnimation  MeraMovieChildren's  MeraMovieComedy  \\\n",
       "0                      1                    1                1   \n",
       "1                      0                    1                0   \n",
       "2                      0                    0                1   \n",
       "3                      0                    0                1   \n",
       "4                      0                    0                1   \n",
       "...                  ...                  ...              ...   \n",
       "3878                   0                    0                1   \n",
       "3879                   0                    0                0   \n",
       "3880                   0                    0                0   \n",
       "3881                   0                    0                0   \n",
       "3882                   0                    0                0   \n",
       "\n",
       "      MeraMovieCrime  MeraMovieDocumentary  ...  MeraMovieFantasy  \\\n",
       "0                  0                     0  ...                 0   \n",
       "1                  0                     0  ...                 1   \n",
       "2                  0                     0  ...                 0   \n",
       "3                  0                     0  ...                 0   \n",
       "4                  0                     0  ...                 0   \n",
       "...              ...                   ...  ...               ...   \n",
       "3878               0                     0  ...                 0   \n",
       "3879               0                     0  ...                 0   \n",
       "3880               0                     0  ...                 0   \n",
       "3881               0                     0  ...                 0   \n",
       "3882               0                     0  ...                 0   \n",
       "\n",
       "      MeraMovieFilm-Noir  MeraMovieHorror  MeraMovieMusical  MeraMovieMystery  \\\n",
       "0                      0                0                 0                 0   \n",
       "1                      0                0                 0                 0   \n",
       "2                      0                0                 0                 0   \n",
       "3                      0                0                 0                 0   \n",
       "4                      0                0                 0                 0   \n",
       "...                  ...              ...               ...               ...   \n",
       "3878                   0                0                 0                 0   \n",
       "3879                   0                0                 0                 0   \n",
       "3880                   0                0                 0                 0   \n",
       "3881                   0                0                 0                 0   \n",
       "3882                   0                0                 0                 0   \n",
       "\n",
       "      MeraMovieRomance  MeraMovieSci-Fi  MeraMovieThriller  MeraMovieWar  \\\n",
       "0                    0                0                  0             0   \n",
       "1                    0                0                  0             0   \n",
       "2                    1                0                  0             0   \n",
       "3                    0                0                  0             0   \n",
       "4                    0                0                  0             0   \n",
       "...                ...              ...                ...           ...   \n",
       "3878                 0                0                  0             0   \n",
       "3879                 0                0                  0             0   \n",
       "3880                 0                0                  0             0   \n",
       "3881                 0                0                  0             0   \n",
       "3882                 0                0                  1             0   \n",
       "\n",
       "      MeraMovieWestern  \n",
       "0                    0  \n",
       "1                    0  \n",
       "2                    0  \n",
       "3                    0  \n",
       "4                    0  \n",
       "...                ...  \n",
       "3878                 0  \n",
       "3879                 0  \n",
       "3880                 0  \n",
       "3881                 0  \n",
       "3882                 0  \n",
       "\n",
       "[3883 rows x 21 columns]"
      ]
     },
     "execution_count": 108,
     "metadata": {},
     "output_type": "execute_result"
    }
   ],
   "source": [
    "movie_new = movies.join(new_dummy.add_prefix('MeraMovie'))\n",
    "\n",
    "\n",
    "movie_new"
   ]
  },
  {
   "cell_type": "code",
   "execution_count": 109,
   "id": "arctic-differential",
   "metadata": {},
   "outputs": [
    {
     "data": {
      "text/plain": [
       "movie_id                                          1\n",
       "title                              Toy Story (1995)\n",
       "genres                  Animation|Children's|Comedy\n",
       "MeraMovieAction                                   0\n",
       "MeraMovieAdventure                                0\n",
       "MeraMovieAnimation                                1\n",
       "MeraMovieChildren's                               1\n",
       "MeraMovieComedy                                   1\n",
       "MeraMovieCrime                                    0\n",
       "MeraMovieDocumentary                              0\n",
       "MeraMovieDrama                                    0\n",
       "MeraMovieFantasy                                  0\n",
       "MeraMovieFilm-Noir                                0\n",
       "MeraMovieHorror                                   0\n",
       "MeraMovieMusical                                  0\n",
       "MeraMovieMystery                                  0\n",
       "MeraMovieRomance                                  0\n",
       "MeraMovieSci-Fi                                   0\n",
       "MeraMovieThriller                                 0\n",
       "MeraMovieWar                                      0\n",
       "MeraMovieWestern                                  0\n",
       "Name: 0, dtype: object"
      ]
     },
     "execution_count": 109,
     "metadata": {},
     "output_type": "execute_result"
    }
   ],
   "source": [
    "movie_new.iloc[0]"
   ]
  },
  {
   "cell_type": "code",
   "execution_count": null,
   "id": "detected-halifax",
   "metadata": {},
   "outputs": [],
   "source": []
  },
  {
   "cell_type": "code",
   "execution_count": 110,
   "id": "corrected-stand",
   "metadata": {},
   "outputs": [],
   "source": [
    "# While this method is good, it is not that fast. It's best to combine it with numpy"
   ]
  },
  {
   "cell_type": "code",
   "execution_count": 111,
   "id": "extra-taste",
   "metadata": {},
   "outputs": [
    {
     "data": {
      "text/plain": [
       "array([0.65358959, 0.11500694, 0.95028286, 0.4821914 , 0.87247454,\n",
       "       0.21233268, 0.04070962, 0.39719446, 0.2331322 , 0.84174072])"
      ]
     },
     "execution_count": 111,
     "metadata": {},
     "output_type": "execute_result"
    }
   ],
   "source": [
    "np.random.seed(1000)\n",
    "\n",
    "vela = np.random.uniform(size = 10)\n",
    "\n",
    "vela"
   ]
  },
  {
   "cell_type": "code",
   "execution_count": 112,
   "id": "beautiful-jonathan",
   "metadata": {},
   "outputs": [],
   "source": [
    "binner = [0,0.2,0.4,0.6,0.8,1]"
   ]
  },
  {
   "cell_type": "code",
   "execution_count": 113,
   "id": "interpreted-clinton",
   "metadata": {},
   "outputs": [
    {
     "data": {
      "text/html": [
       "<div>\n",
       "<style scoped>\n",
       "    .dataframe tbody tr th:only-of-type {\n",
       "        vertical-align: middle;\n",
       "    }\n",
       "\n",
       "    .dataframe tbody tr th {\n",
       "        vertical-align: top;\n",
       "    }\n",
       "\n",
       "    .dataframe thead th {\n",
       "        text-align: right;\n",
       "    }\n",
       "</style>\n",
       "<table border=\"1\" class=\"dataframe\">\n",
       "  <thead>\n",
       "    <tr style=\"text-align: right;\">\n",
       "      <th></th>\n",
       "      <th>(0.0, 0.2]</th>\n",
       "      <th>(0.2, 0.4]</th>\n",
       "      <th>(0.4, 0.6]</th>\n",
       "      <th>(0.6, 0.8]</th>\n",
       "      <th>(0.8, 1.0]</th>\n",
       "    </tr>\n",
       "  </thead>\n",
       "  <tbody>\n",
       "    <tr>\n",
       "      <th>0</th>\n",
       "      <td>0</td>\n",
       "      <td>0</td>\n",
       "      <td>0</td>\n",
       "      <td>1</td>\n",
       "      <td>0</td>\n",
       "    </tr>\n",
       "    <tr>\n",
       "      <th>1</th>\n",
       "      <td>1</td>\n",
       "      <td>0</td>\n",
       "      <td>0</td>\n",
       "      <td>0</td>\n",
       "      <td>0</td>\n",
       "    </tr>\n",
       "    <tr>\n",
       "      <th>2</th>\n",
       "      <td>0</td>\n",
       "      <td>0</td>\n",
       "      <td>0</td>\n",
       "      <td>0</td>\n",
       "      <td>1</td>\n",
       "    </tr>\n",
       "    <tr>\n",
       "      <th>3</th>\n",
       "      <td>0</td>\n",
       "      <td>0</td>\n",
       "      <td>1</td>\n",
       "      <td>0</td>\n",
       "      <td>0</td>\n",
       "    </tr>\n",
       "    <tr>\n",
       "      <th>4</th>\n",
       "      <td>0</td>\n",
       "      <td>0</td>\n",
       "      <td>0</td>\n",
       "      <td>0</td>\n",
       "      <td>1</td>\n",
       "    </tr>\n",
       "    <tr>\n",
       "      <th>5</th>\n",
       "      <td>0</td>\n",
       "      <td>1</td>\n",
       "      <td>0</td>\n",
       "      <td>0</td>\n",
       "      <td>0</td>\n",
       "    </tr>\n",
       "    <tr>\n",
       "      <th>6</th>\n",
       "      <td>1</td>\n",
       "      <td>0</td>\n",
       "      <td>0</td>\n",
       "      <td>0</td>\n",
       "      <td>0</td>\n",
       "    </tr>\n",
       "    <tr>\n",
       "      <th>7</th>\n",
       "      <td>0</td>\n",
       "      <td>1</td>\n",
       "      <td>0</td>\n",
       "      <td>0</td>\n",
       "      <td>0</td>\n",
       "    </tr>\n",
       "    <tr>\n",
       "      <th>8</th>\n",
       "      <td>0</td>\n",
       "      <td>1</td>\n",
       "      <td>0</td>\n",
       "      <td>0</td>\n",
       "      <td>0</td>\n",
       "    </tr>\n",
       "    <tr>\n",
       "      <th>9</th>\n",
       "      <td>0</td>\n",
       "      <td>0</td>\n",
       "      <td>0</td>\n",
       "      <td>0</td>\n",
       "      <td>1</td>\n",
       "    </tr>\n",
       "  </tbody>\n",
       "</table>\n",
       "</div>"
      ],
      "text/plain": [
       "   (0.0, 0.2]  (0.2, 0.4]  (0.4, 0.6]  (0.6, 0.8]  (0.8, 1.0]\n",
       "0           0           0           0           1           0\n",
       "1           1           0           0           0           0\n",
       "2           0           0           0           0           1\n",
       "3           0           0           1           0           0\n",
       "4           0           0           0           0           1\n",
       "5           0           1           0           0           0\n",
       "6           1           0           0           0           0\n",
       "7           0           1           0           0           0\n",
       "8           0           1           0           0           0\n",
       "9           0           0           0           0           1"
      ]
     },
     "execution_count": 113,
     "metadata": {},
     "output_type": "execute_result"
    }
   ],
   "source": [
    "oss = pd.get_dummies(pd.cut(vela,binner))\n",
    "\n",
    "oss"
   ]
  },
  {
   "cell_type": "markdown",
   "id": "greenhouse-blade",
   "metadata": {},
   "source": [
    "### Extension Datatypes"
   ]
  },
  {
   "cell_type": "markdown",
   "id": "accessory-feelings",
   "metadata": {},
   "source": [
    "##### This was mainly developed to handle the shortcomings of Numpy based operations that lacked at handling missing values\n",
    "##### As the missing valuer were mostly converted to np.nan that was of float or int type depending on the data type of other values\n",
    "##### The extension data types also reduce the computational power required for string based data with missing values"
   ]
  },
  {
   "cell_type": "code",
   "execution_count": 114,
   "id": "monetary-spirituality",
   "metadata": {},
   "outputs": [
    {
     "data": {
      "text/plain": [
       "0      1.0\n",
       "1      3.0\n",
       "2      2.0\n",
       "3    112.0\n",
       "4      NaN\n",
       "dtype: float64"
      ]
     },
     "execution_count": 114,
     "metadata": {},
     "output_type": "execute_result"
    }
   ],
   "source": [
    "s = pd.Series([1,3,2,112,None])\n",
    "s"
   ]
  },
  {
   "cell_type": "code",
   "execution_count": 115,
   "id": "moving-tobacco",
   "metadata": {},
   "outputs": [
    {
     "data": {
      "text/plain": [
       "dtype('float64')"
      ]
     },
     "execution_count": 115,
     "metadata": {},
     "output_type": "execute_result"
    }
   ],
   "source": [
    "s.dtype"
   ]
  },
  {
   "cell_type": "code",
   "execution_count": 116,
   "id": "arctic-wholesale",
   "metadata": {},
   "outputs": [
    {
     "data": {
      "text/plain": [
       "0       1\n",
       "1       3\n",
       "2       2\n",
       "3     112\n",
       "4    <NA>\n",
       "dtype: Int64"
      ]
     },
     "execution_count": 116,
     "metadata": {},
     "output_type": "execute_result"
    }
   ],
   "source": [
    "s = pd.Series([1,3,2,112,None],dtype = pd.Int64Dtype()) # Now this is extension based typecasting\n",
    "s"
   ]
  },
  {
   "cell_type": "code",
   "execution_count": 117,
   "id": "related-truth",
   "metadata": {},
   "outputs": [],
   "source": [
    "# You can do this for string now"
   ]
  },
  {
   "cell_type": "code",
   "execution_count": 118,
   "id": "basic-recycling",
   "metadata": {},
   "outputs": [
    {
     "data": {
      "text/plain": [
       "0      one\n",
       "1      two\n",
       "2    three\n",
       "3     None\n",
       "4    chaar\n",
       "dtype: object"
      ]
     },
     "execution_count": 118,
     "metadata": {},
     "output_type": "execute_result"
    }
   ],
   "source": [
    "ss = pd.Series(['one','two','three',None,'chaar'])\n",
    "\n",
    "ss"
   ]
  },
  {
   "cell_type": "code",
   "execution_count": 119,
   "id": "informational-church",
   "metadata": {},
   "outputs": [
    {
     "data": {
      "text/plain": [
       "0      one\n",
       "1      two\n",
       "2    three\n",
       "3     <NA>\n",
       "4    chaar\n",
       "dtype: string"
      ]
     },
     "execution_count": 119,
     "metadata": {},
     "output_type": "execute_result"
    }
   ],
   "source": [
    "ss = pd.Series(['one','two','three',None,'chaar'], dtype = pd.StringDtype())\n",
    "\n",
    "ss"
   ]
  },
  {
   "cell_type": "code",
   "execution_count": 120,
   "id": "fantastic-battlefield",
   "metadata": {},
   "outputs": [
    {
     "data": {
      "text/html": [
       "<div>\n",
       "<style scoped>\n",
       "    .dataframe tbody tr th:only-of-type {\n",
       "        vertical-align: middle;\n",
       "    }\n",
       "\n",
       "    .dataframe tbody tr th {\n",
       "        vertical-align: top;\n",
       "    }\n",
       "\n",
       "    .dataframe thead th {\n",
       "        text-align: right;\n",
       "    }\n",
       "</style>\n",
       "<table border=\"1\" class=\"dataframe\">\n",
       "  <thead>\n",
       "    <tr style=\"text-align: right;\">\n",
       "      <th></th>\n",
       "      <th>A</th>\n",
       "      <th>B</th>\n",
       "      <th>C</th>\n",
       "    </tr>\n",
       "  </thead>\n",
       "  <tbody>\n",
       "    <tr>\n",
       "      <th>0</th>\n",
       "      <td>1.0</td>\n",
       "      <td>one</td>\n",
       "      <td>False</td>\n",
       "    </tr>\n",
       "    <tr>\n",
       "      <th>1</th>\n",
       "      <td>2.0</td>\n",
       "      <td>two</td>\n",
       "      <td>None</td>\n",
       "    </tr>\n",
       "    <tr>\n",
       "      <th>2</th>\n",
       "      <td>NaN</td>\n",
       "      <td>three</td>\n",
       "      <td>False</td>\n",
       "    </tr>\n",
       "    <tr>\n",
       "      <th>3</th>\n",
       "      <td>4.0</td>\n",
       "      <td>None</td>\n",
       "      <td>True</td>\n",
       "    </tr>\n",
       "  </tbody>\n",
       "</table>\n",
       "</div>"
      ],
      "text/plain": [
       "     A      B      C\n",
       "0  1.0    one  False\n",
       "1  2.0    two   None\n",
       "2  NaN  three  False\n",
       "3  4.0   None   True"
      ]
     },
     "execution_count": 120,
     "metadata": {},
     "output_type": "execute_result"
    }
   ],
   "source": [
    "abc = pd.DataFrame({'A':[1,2,None,4],\n",
    "                   'B':['one','two','three',None],\n",
    "                    'C':[False,None,False,True]\n",
    "                   \n",
    "                   })\n",
    "\n",
    "abc"
   ]
  },
  {
   "cell_type": "code",
   "execution_count": 121,
   "id": "editorial-illinois",
   "metadata": {},
   "outputs": [
    {
     "data": {
      "text/html": [
       "<div>\n",
       "<style scoped>\n",
       "    .dataframe tbody tr th:only-of-type {\n",
       "        vertical-align: middle;\n",
       "    }\n",
       "\n",
       "    .dataframe tbody tr th {\n",
       "        vertical-align: top;\n",
       "    }\n",
       "\n",
       "    .dataframe thead th {\n",
       "        text-align: right;\n",
       "    }\n",
       "</style>\n",
       "<table border=\"1\" class=\"dataframe\">\n",
       "  <thead>\n",
       "    <tr style=\"text-align: right;\">\n",
       "      <th></th>\n",
       "      <th>A</th>\n",
       "      <th>B</th>\n",
       "      <th>C</th>\n",
       "    </tr>\n",
       "  </thead>\n",
       "  <tbody>\n",
       "    <tr>\n",
       "      <th>0</th>\n",
       "      <td>1</td>\n",
       "      <td>one</td>\n",
       "      <td>False</td>\n",
       "    </tr>\n",
       "    <tr>\n",
       "      <th>1</th>\n",
       "      <td>2</td>\n",
       "      <td>two</td>\n",
       "      <td>&lt;NA&gt;</td>\n",
       "    </tr>\n",
       "    <tr>\n",
       "      <th>2</th>\n",
       "      <td>&lt;NA&gt;</td>\n",
       "      <td>three</td>\n",
       "      <td>False</td>\n",
       "    </tr>\n",
       "    <tr>\n",
       "      <th>3</th>\n",
       "      <td>4</td>\n",
       "      <td>&lt;NA&gt;</td>\n",
       "      <td>True</td>\n",
       "    </tr>\n",
       "  </tbody>\n",
       "</table>\n",
       "</div>"
      ],
      "text/plain": [
       "      A      B      C\n",
       "0     1    one  False\n",
       "1     2    two   <NA>\n",
       "2  <NA>  three  False\n",
       "3     4   <NA>   True"
      ]
     },
     "execution_count": 121,
     "metadata": {},
     "output_type": "execute_result"
    }
   ],
   "source": [
    "abc['A'] = abc['A'].astype(pd.Int64Dtype())\n",
    "\n",
    "abc['B'] = abc['B'].astype(pd.StringDtype())\n",
    "\n",
    "abc['C'] = abc['C'].astype(pd.BooleanDtype())\n",
    "\n",
    "abc"
   ]
  },
  {
   "cell_type": "markdown",
   "id": "remarkable-turner",
   "metadata": {},
   "source": [
    "## String Manipulation"
   ]
  },
  {
   "cell_type": "markdown",
   "id": "burning-input",
   "metadata": {},
   "source": [
    "## Regular Expression"
   ]
  },
  {
   "cell_type": "code",
   "execution_count": 122,
   "id": "tutorial-nelson",
   "metadata": {},
   "outputs": [
    {
     "name": "stdout",
     "output_type": "stream",
     "text": [
      "['fii', 'hhee', 'aaha', 'naah']\n"
     ]
    }
   ],
   "source": [
    "rr = \"fii  hhee        aaha    naah\"\n",
    "\n",
    "# 1st method\n",
    "\n",
    "print(re.split(r\"\\s+\",rr)) # \\s+ is the describer for splitting expression that has multiple whitespaces\n",
    "\n",
    "\n",
    "\n",
    "regex = re.compile(r\"\\s+\") # What you have done here is made an object of re.compile(r\"\\s+\") which you can use for working\n",
    "\n",
    "# on multiple strings\n",
    "\n"
   ]
  },
  {
   "cell_type": "code",
   "execution_count": null,
   "id": "unique-behalf",
   "metadata": {},
   "outputs": [],
   "source": []
  },
  {
   "cell_type": "code",
   "execution_count": 123,
   "id": "authorized-empire",
   "metadata": {},
   "outputs": [
    {
     "data": {
      "text/plain": [
       "['char007.ted@google.com',\n",
       " 'job@google.com',\n",
       " 'shub@google.com',\n",
       " 'debs@google.com']"
      ]
     },
     "execution_count": 123,
     "metadata": {},
     "output_type": "execute_result"
    }
   ],
   "source": [
    "text = \"\"\"\n",
    "\n",
    "Charlie char007.ted@google.com\n",
    "Jobie job@google.com\n",
    "shubhu shub@google.com\n",
    "Debu debs@google.com\n",
    "\n",
    "\"\"\"\n",
    "\n",
    "\n",
    "pattern = r\"[A-Z0-9._%+-]+@[A-Z0-9.-]+\\.[A-Z]{1,4}\"\n",
    "\n",
    "\n",
    "# Now, let's understand the pattern\n",
    "\n",
    "# 1st [A-Z0-9._%+-] check if the pattern has  A to Z or 0 to 9 and if it contains ._%+-\n",
    "\n",
    "# 2nd @[A-Z0-9.-] the next part in string should start with @ and has  A to Z or 0 to 9 and if it contains .-\n",
    "\n",
    "# 3rd \\.[A-Z]{1,4} the next part should start with . and A to Z and min length should be 1 and max len be 4\n",
    "\n",
    "\n",
    "regex = re.compile(pattern,flags = re.IGNORECASE)\n",
    "\n",
    "\n",
    "regex.findall(text)"
   ]
  },
  {
   "cell_type": "code",
   "execution_count": 124,
   "id": "distinct-carpet",
   "metadata": {},
   "outputs": [
    {
     "data": {
      "text/plain": [
       "['char007.ted@google.com',\n",
       " 'job@google.com',\n",
       " 'shub@google.com',\n",
       " 'debs@google.com']"
      ]
     },
     "execution_count": 124,
     "metadata": {},
     "output_type": "execute_result"
    }
   ],
   "source": [
    "regex.findall(text)"
   ]
  },
  {
   "cell_type": "markdown",
   "id": "adult-journalism",
   "metadata": {},
   "source": [
    "#### Sub method"
   ]
  },
  {
   "cell_type": "code",
   "execution_count": 125,
   "id": "functioning-posting",
   "metadata": {},
   "outputs": [
    {
     "name": "stdout",
     "output_type": "stream",
     "text": [
      "\n",
      "\n",
      "Charlie SHIT IS REAL\n",
      "Jobie SHIT IS REAL\n",
      "shubhu SHIT IS REAL\n",
      "Debu SHIT IS REAL\n",
      "\n",
      "\n"
     ]
    }
   ],
   "source": [
    "print(regex.sub(r\"SHIT IS REAL\",text)) # basically substitute it for something else"
   ]
  },
  {
   "cell_type": "code",
   "execution_count": 126,
   "id": "compressed-communist",
   "metadata": {},
   "outputs": [],
   "source": [
    "# Suppose you wanted to divide the data that you get, or like print it in a specific way, then pass the pattern in tuples"
   ]
  },
  {
   "cell_type": "code",
   "execution_count": 127,
   "id": "gorgeous-actor",
   "metadata": {},
   "outputs": [],
   "source": [
    "pattern = r\"([A-Z0-9._%+-]+)@([A-Z0-9.-]+)\\.([A-Z]{1,4})\""
   ]
  },
  {
   "cell_type": "code",
   "execution_count": 128,
   "id": "amino-xerox",
   "metadata": {},
   "outputs": [
    {
     "data": {
      "text/plain": [
       "[('char007.ted', 'google', 'com'),\n",
       " ('job', 'google', 'com'),\n",
       " ('shub', 'google', 'com'),\n",
       " ('debs', 'google', 'com')]"
      ]
     },
     "execution_count": 128,
     "metadata": {},
     "output_type": "execute_result"
    }
   ],
   "source": [
    "\n",
    "regex = re.compile(pattern,flags = re.IGNORECASE)\n",
    "\n",
    "\n",
    "regex.findall(text)"
   ]
  },
  {
   "cell_type": "code",
   "execution_count": 129,
   "id": "cooked-mother",
   "metadata": {},
   "outputs": [],
   "source": [
    "# Also to print in a special way"
   ]
  },
  {
   "cell_type": "code",
   "execution_count": 130,
   "id": "suffering-champagne",
   "metadata": {},
   "outputs": [
    {
     "name": "stdout",
     "output_type": "stream",
     "text": [
      "\n",
      "\n",
      "Charlie Naam:- char007.ted , Kaam:- google , Daam:- com \n",
      "Jobie Naam:- job , Kaam:- google , Daam:- com \n",
      "shubhu Naam:- shub , Kaam:- google , Daam:- com \n",
      "Debu Naam:- debs , Kaam:- google , Daam:- com \n",
      "\n",
      "\n"
     ]
    }
   ],
   "source": [
    "print(regex.sub(r\"Naam:- \\1 , Kaam:- \\2 , Daam:- \\3 \",text))"
   ]
  },
  {
   "cell_type": "markdown",
   "id": "young-start",
   "metadata": {},
   "source": [
    "## String functions in Pandas"
   ]
  },
  {
   "cell_type": "code",
   "execution_count": 131,
   "id": "entertaining-format",
   "metadata": {},
   "outputs": [],
   "source": [
    "data = {'Charlie': 'char007.ted@google.com',\n",
    "'Jobie': 'job@shitter.com',\n",
    "'shubhu' : 'shub@simp.com',\n",
    "'Debu' : 'debs@google.com',\n",
    "'wes' : np.nan\n",
    "        \n",
    "}"
   ]
  },
  {
   "cell_type": "code",
   "execution_count": 132,
   "id": "constitutional-newsletter",
   "metadata": {},
   "outputs": [
    {
     "data": {
      "text/plain": [
       "Charlie    char007.ted@google.com\n",
       "Jobie             job@shitter.com\n",
       "shubhu              shub@simp.com\n",
       "Debu              debs@google.com\n",
       "wes                           NaN\n",
       "dtype: object"
      ]
     },
     "execution_count": 132,
     "metadata": {},
     "output_type": "execute_result"
    }
   ],
   "source": [
    "datte = pd.Series(data)\n",
    "\n",
    "datte"
   ]
  },
  {
   "cell_type": "code",
   "execution_count": 133,
   "id": "cultural-fourth",
   "metadata": {},
   "outputs": [],
   "source": [
    "# To check if the string contains a particular expression"
   ]
  },
  {
   "cell_type": "code",
   "execution_count": 134,
   "id": "engaging-actor",
   "metadata": {},
   "outputs": [
    {
     "data": {
      "text/plain": [
       "Charlie     True\n",
       "Jobie      False\n",
       "shubhu     False\n",
       "Debu        True\n",
       "wes          NaN\n",
       "dtype: object"
      ]
     },
     "execution_count": 134,
     "metadata": {},
     "output_type": "execute_result"
    }
   ],
   "source": [
    "datte.str.contains('google')"
   ]
  },
  {
   "cell_type": "code",
   "execution_count": 135,
   "id": "coordinate-windsor",
   "metadata": {},
   "outputs": [],
   "source": [
    "# Now to do string processing even better we will use extension type"
   ]
  },
  {
   "cell_type": "code",
   "execution_count": 136,
   "id": "sonic-trauma",
   "metadata": {},
   "outputs": [],
   "source": [
    "dattext = datte.astype('string')"
   ]
  },
  {
   "cell_type": "code",
   "execution_count": 137,
   "id": "banned-naples",
   "metadata": {},
   "outputs": [
    {
     "data": {
      "text/plain": [
       "Charlie    char007.ted@google.com\n",
       "Jobie             job@shitter.com\n",
       "shubhu              shub@simp.com\n",
       "Debu              debs@google.com\n",
       "wes                          <NA>\n",
       "dtype: string"
      ]
     },
     "execution_count": 137,
     "metadata": {},
     "output_type": "execute_result"
    }
   ],
   "source": [
    "dattext"
   ]
  },
  {
   "cell_type": "code",
   "execution_count": 138,
   "id": "failing-authentication",
   "metadata": {},
   "outputs": [
    {
     "data": {
      "text/plain": [
       "Charlie     True\n",
       "Jobie      False\n",
       "shubhu     False\n",
       "Debu        True\n",
       "wes         <NA>\n",
       "dtype: boolean"
      ]
     },
     "execution_count": 138,
     "metadata": {},
     "output_type": "execute_result"
    }
   ],
   "source": [
    "dattext.str.contains('google')"
   ]
  },
  {
   "cell_type": "code",
   "execution_count": 139,
   "id": "photographic-being",
   "metadata": {},
   "outputs": [],
   "source": [
    "# You can use regular expression as well"
   ]
  },
  {
   "cell_type": "code",
   "execution_count": 140,
   "id": "hungry-modem",
   "metadata": {},
   "outputs": [],
   "source": [
    "pattern = r\"([A-Z0-9._%+-]+)@([A-Z0-9.-]+)\\.([A-Z]{1,4})\""
   ]
  },
  {
   "cell_type": "code",
   "execution_count": 141,
   "id": "announced-billion",
   "metadata": {},
   "outputs": [
    {
     "data": {
      "text/plain": [
       "Charlie    [(char007.ted, google, com)]\n",
       "Jobie             [(job, shitter, com)]\n",
       "shubhu              [(shub, simp, com)]\n",
       "Debu              [(debs, google, com)]\n",
       "wes                                <NA>\n",
       "dtype: object"
      ]
     },
     "execution_count": 141,
     "metadata": {},
     "output_type": "execute_result"
    }
   ],
   "source": [
    "# Here we will apply regular expression in a little differnt format\n",
    "\n",
    "\n",
    "dattext.str.findall(pattern,flags = re.IGNORECASE)\n"
   ]
  },
  {
   "cell_type": "code",
   "execution_count": 142,
   "id": "fundamental-badge",
   "metadata": {},
   "outputs": [],
   "source": [
    "# Now you can use the extract method and use the regular expression output as a DataFrame"
   ]
  },
  {
   "cell_type": "code",
   "execution_count": 143,
   "id": "respective-shade",
   "metadata": {},
   "outputs": [
    {
     "data": {
      "text/html": [
       "<div>\n",
       "<style scoped>\n",
       "    .dataframe tbody tr th:only-of-type {\n",
       "        vertical-align: middle;\n",
       "    }\n",
       "\n",
       "    .dataframe tbody tr th {\n",
       "        vertical-align: top;\n",
       "    }\n",
       "\n",
       "    .dataframe thead th {\n",
       "        text-align: right;\n",
       "    }\n",
       "</style>\n",
       "<table border=\"1\" class=\"dataframe\">\n",
       "  <thead>\n",
       "    <tr style=\"text-align: right;\">\n",
       "      <th></th>\n",
       "      <th>0</th>\n",
       "      <th>1</th>\n",
       "      <th>2</th>\n",
       "    </tr>\n",
       "  </thead>\n",
       "  <tbody>\n",
       "    <tr>\n",
       "      <th>Charlie</th>\n",
       "      <td>char007.ted</td>\n",
       "      <td>google</td>\n",
       "      <td>com</td>\n",
       "    </tr>\n",
       "    <tr>\n",
       "      <th>Jobie</th>\n",
       "      <td>job</td>\n",
       "      <td>shitter</td>\n",
       "      <td>com</td>\n",
       "    </tr>\n",
       "    <tr>\n",
       "      <th>shubhu</th>\n",
       "      <td>shub</td>\n",
       "      <td>simp</td>\n",
       "      <td>com</td>\n",
       "    </tr>\n",
       "    <tr>\n",
       "      <th>Debu</th>\n",
       "      <td>debs</td>\n",
       "      <td>google</td>\n",
       "      <td>com</td>\n",
       "    </tr>\n",
       "    <tr>\n",
       "      <th>wes</th>\n",
       "      <td>&lt;NA&gt;</td>\n",
       "      <td>&lt;NA&gt;</td>\n",
       "      <td>&lt;NA&gt;</td>\n",
       "    </tr>\n",
       "  </tbody>\n",
       "</table>\n",
       "</div>"
      ],
      "text/plain": [
       "                   0        1     2\n",
       "Charlie  char007.ted   google   com\n",
       "Jobie            job  shitter   com\n",
       "shubhu          shub     simp   com\n",
       "Debu            debs   google   com\n",
       "wes             <NA>     <NA>  <NA>"
      ]
     },
     "execution_count": 143,
     "metadata": {},
     "output_type": "execute_result"
    }
   ],
   "source": [
    "dattext.str.extract(pattern,flags = re.IGNORECASE)"
   ]
  },
  {
   "cell_type": "markdown",
   "id": "hazardous-green",
   "metadata": {},
   "source": [
    "## Categorical Data"
   ]
  },
  {
   "cell_type": "markdown",
   "id": "pretty-catch",
   "metadata": {},
   "source": [
    "### Background and Motivation\n"
   ]
  },
  {
   "cell_type": "code",
   "execution_count": 144,
   "id": "lucky-samba",
   "metadata": {},
   "outputs": [
    {
     "data": {
      "text/plain": [
       "0     apple\n",
       "1    orange\n",
       "2     apple\n",
       "3     apple\n",
       "4     apple\n",
       "5    orange\n",
       "6     apple\n",
       "7     apple\n",
       "dtype: object"
      ]
     },
     "execution_count": 144,
     "metadata": {},
     "output_type": "execute_result"
    }
   ],
   "source": [
    "values = pd.Series(['apple','orange','apple','apple'] * 2)\n",
    "\n",
    "values"
   ]
  },
  {
   "cell_type": "code",
   "execution_count": 145,
   "id": "precise-family",
   "metadata": {},
   "outputs": [
    {
     "name": "stdout",
     "output_type": "stream",
     "text": [
      "['apple' 'orange']\n"
     ]
    },
    {
     "data": {
      "text/plain": [
       "apple     6\n",
       "orange    2\n",
       "dtype: int64"
      ]
     },
     "execution_count": 145,
     "metadata": {},
     "output_type": "execute_result"
    }
   ],
   "source": [
    "print(pd.unique(values))\n",
    "\n",
    "\n",
    "pd.value_counts(values)"
   ]
  },
  {
   "cell_type": "code",
   "execution_count": 146,
   "id": "assured-profile",
   "metadata": {},
   "outputs": [],
   "source": [
    "values = pd.Series([0,1,2,0,2,2,2,2,0,1,1,2,1,1])\n",
    "\n",
    "dii = pd.Series(['apple','orange','kaju katli']) "
   ]
  },
  {
   "cell_type": "code",
   "execution_count": 147,
   "id": "structured-maximum",
   "metadata": {},
   "outputs": [
    {
     "data": {
      "text/plain": [
       "0         apple\n",
       "1        orange\n",
       "2    kaju katli\n",
       "0         apple\n",
       "2    kaju katli\n",
       "2    kaju katli\n",
       "2    kaju katli\n",
       "2    kaju katli\n",
       "0         apple\n",
       "1        orange\n",
       "1        orange\n",
       "2    kaju katli\n",
       "1        orange\n",
       "1        orange\n",
       "dtype: object"
      ]
     },
     "execution_count": 147,
     "metadata": {},
     "output_type": "execute_result"
    }
   ],
   "source": [
    "dii.take(values) # So how this works is that for every number change in values, it look for a change in dii and map it accordingly"
   ]
  },
  {
   "cell_type": "markdown",
   "id": "aging-pilot",
   "metadata": {},
   "source": [
    "## Categorical Extension Type in pandas"
   ]
  },
  {
   "cell_type": "code",
   "execution_count": 148,
   "id": "formed-reach",
   "metadata": {},
   "outputs": [],
   "source": [
    "# Now, the use of this is that it saves space while storage as it will map the string values to integer values\n",
    "\n",
    "# Like, if there are 3 different string values, the value stored in it will be 0,1,2"
   ]
  },
  {
   "cell_type": "code",
   "execution_count": 149,
   "id": "hidden-screen",
   "metadata": {},
   "outputs": [
    {
     "data": {
      "text/plain": [
       "['apple',\n",
       " 'orange',\n",
       " 'apple',\n",
       " 'apple',\n",
       " 'kaju katli',\n",
       " 'apple',\n",
       " 'kaju katli',\n",
       " 'kaju katli',\n",
       " 'orange',\n",
       " 'orange',\n",
       " 'apple',\n",
       " 'orange',\n",
       " 'apple',\n",
       " 'apple',\n",
       " 'kaju katli',\n",
       " 'apple',\n",
       " 'kaju katli',\n",
       " 'kaju katli',\n",
       " 'orange',\n",
       " 'orange']"
      ]
     },
     "execution_count": 149,
     "metadata": {},
     "output_type": "execute_result"
    }
   ],
   "source": [
    "B = ['apple','orange','apple','apple','kaju katli','apple','kaju katli','kaju katli','orange','orange'] *2\n",
    "\n",
    "\n",
    "B"
   ]
  },
  {
   "cell_type": "code",
   "execution_count": 150,
   "id": "talented-aluminum",
   "metadata": {},
   "outputs": [
    {
     "name": "stdout",
     "output_type": "stream",
     "text": [
      "20\n"
     ]
    },
    {
     "data": {
      "text/plain": [
       "Generator(PCG64) at 0x1BE51270958"
      ]
     },
     "execution_count": 150,
     "metadata": {},
     "output_type": "execute_result"
    }
   ],
   "source": [
    "bl = len(B)\n",
    "\n",
    "rnd = np.random.default_rng(seed = 123)\n",
    "\n",
    "print(bl)\n",
    "\n",
    "rnd"
   ]
  },
  {
   "cell_type": "code",
   "execution_count": 151,
   "id": "qualified-david",
   "metadata": {},
   "outputs": [
    {
     "data": {
      "text/html": [
       "<div>\n",
       "<style scoped>\n",
       "    .dataframe tbody tr th:only-of-type {\n",
       "        vertical-align: middle;\n",
       "    }\n",
       "\n",
       "    .dataframe tbody tr th {\n",
       "        vertical-align: top;\n",
       "    }\n",
       "\n",
       "    .dataframe thead th {\n",
       "        text-align: right;\n",
       "    }\n",
       "</style>\n",
       "<table border=\"1\" class=\"dataframe\">\n",
       "  <thead>\n",
       "    <tr style=\"text-align: right;\">\n",
       "      <th></th>\n",
       "      <th>basket_no</th>\n",
       "      <th>Fruits</th>\n",
       "      <th>weight</th>\n",
       "      <th>count</th>\n",
       "    </tr>\n",
       "  </thead>\n",
       "  <tbody>\n",
       "    <tr>\n",
       "      <th>0</th>\n",
       "      <td>0</td>\n",
       "      <td>apple</td>\n",
       "      <td>4.538911</td>\n",
       "      <td>10</td>\n",
       "    </tr>\n",
       "    <tr>\n",
       "      <th>1</th>\n",
       "      <td>1</td>\n",
       "      <td>orange</td>\n",
       "      <td>3.734894</td>\n",
       "      <td>18</td>\n",
       "    </tr>\n",
       "    <tr>\n",
       "      <th>2</th>\n",
       "      <td>2</td>\n",
       "      <td>apple</td>\n",
       "      <td>5.472725</td>\n",
       "      <td>17</td>\n",
       "    </tr>\n",
       "    <tr>\n",
       "      <th>3</th>\n",
       "      <td>3</td>\n",
       "      <td>apple</td>\n",
       "      <td>3.641289</td>\n",
       "      <td>10</td>\n",
       "    </tr>\n",
       "    <tr>\n",
       "      <th>4</th>\n",
       "      <td>4</td>\n",
       "      <td>kaju katli</td>\n",
       "      <td>5.224401</td>\n",
       "      <td>21</td>\n",
       "    </tr>\n",
       "    <tr>\n",
       "      <th>5</th>\n",
       "      <td>5</td>\n",
       "      <td>apple</td>\n",
       "      <td>4.889821</td>\n",
       "      <td>12</td>\n",
       "    </tr>\n",
       "    <tr>\n",
       "      <th>6</th>\n",
       "      <td>6</td>\n",
       "      <td>kaju katli</td>\n",
       "      <td>5.782222</td>\n",
       "      <td>13</td>\n",
       "    </tr>\n",
       "    <tr>\n",
       "      <th>7</th>\n",
       "      <td>7</td>\n",
       "      <td>kaju katli</td>\n",
       "      <td>3.695725</td>\n",
       "      <td>12</td>\n",
       "    </tr>\n",
       "    <tr>\n",
       "      <th>8</th>\n",
       "      <td>8</td>\n",
       "      <td>orange</td>\n",
       "      <td>5.397375</td>\n",
       "      <td>14</td>\n",
       "    </tr>\n",
       "    <tr>\n",
       "      <th>9</th>\n",
       "      <td>9</td>\n",
       "      <td>orange</td>\n",
       "      <td>4.554495</td>\n",
       "      <td>12</td>\n",
       "    </tr>\n",
       "    <tr>\n",
       "      <th>10</th>\n",
       "      <td>10</td>\n",
       "      <td>apple</td>\n",
       "      <td>3.694667</td>\n",
       "      <td>14</td>\n",
       "    </tr>\n",
       "    <tr>\n",
       "      <th>11</th>\n",
       "      <td>11</td>\n",
       "      <td>orange</td>\n",
       "      <td>3.497712</td>\n",
       "      <td>20</td>\n",
       "    </tr>\n",
       "    <tr>\n",
       "      <th>12</th>\n",
       "      <td>12</td>\n",
       "      <td>apple</td>\n",
       "      <td>4.493367</td>\n",
       "      <td>15</td>\n",
       "    </tr>\n",
       "    <tr>\n",
       "      <th>13</th>\n",
       "      <td>13</td>\n",
       "      <td>apple</td>\n",
       "      <td>4.748174</td>\n",
       "      <td>22</td>\n",
       "    </tr>\n",
       "    <tr>\n",
       "      <th>14</th>\n",
       "      <td>14</td>\n",
       "      <td>kaju katli</td>\n",
       "      <td>3.553014</td>\n",
       "      <td>15</td>\n",
       "    </tr>\n",
       "    <tr>\n",
       "      <th>15</th>\n",
       "      <td>15</td>\n",
       "      <td>apple</td>\n",
       "      <td>3.044685</td>\n",
       "      <td>13</td>\n",
       "    </tr>\n",
       "    <tr>\n",
       "      <th>16</th>\n",
       "      <td>16</td>\n",
       "      <td>kaju katli</td>\n",
       "      <td>4.413400</td>\n",
       "      <td>20</td>\n",
       "    </tr>\n",
       "    <tr>\n",
       "      <th>17</th>\n",
       "      <td>17</td>\n",
       "      <td>kaju katli</td>\n",
       "      <td>5.184730</td>\n",
       "      <td>20</td>\n",
       "    </tr>\n",
       "    <tr>\n",
       "      <th>18</th>\n",
       "      <td>18</td>\n",
       "      <td>orange</td>\n",
       "      <td>5.755801</td>\n",
       "      <td>21</td>\n",
       "    </tr>\n",
       "    <tr>\n",
       "      <th>19</th>\n",
       "      <td>19</td>\n",
       "      <td>orange</td>\n",
       "      <td>4.876602</td>\n",
       "      <td>21</td>\n",
       "    </tr>\n",
       "  </tbody>\n",
       "</table>\n",
       "</div>"
      ],
      "text/plain": [
       "    basket_no      Fruits    weight  count\n",
       "0           0       apple  4.538911     10\n",
       "1           1      orange  3.734894     18\n",
       "2           2       apple  5.472725     17\n",
       "3           3       apple  3.641289     10\n",
       "4           4  kaju katli  5.224401     21\n",
       "5           5       apple  4.889821     12\n",
       "6           6  kaju katli  5.782222     13\n",
       "7           7  kaju katli  3.695725     12\n",
       "8           8      orange  5.397375     14\n",
       "9           9      orange  4.554495     12\n",
       "10         10       apple  3.694667     14\n",
       "11         11      orange  3.497712     20\n",
       "12         12       apple  4.493367     15\n",
       "13         13       apple  4.748174     22\n",
       "14         14  kaju katli  3.553014     15\n",
       "15         15       apple  3.044685     13\n",
       "16         16  kaju katli  4.413400     20\n",
       "17         17  kaju katli  5.184730     20\n",
       "18         18      orange  5.755801     21\n",
       "19         19      orange  4.876602     21"
      ]
     },
     "execution_count": 151,
     "metadata": {},
     "output_type": "execute_result"
    }
   ],
   "source": [
    "fruit_ninja = pd.DataFrame({'Fruits':B,'basket_no':np.arange(bl),\n",
    "                           'count':rnd.integers(10,23,size = bl),\n",
    "                            'weight':rnd.uniform(3,6,size = bl)\n",
    "                            \n",
    "                           },columns = ['basket_no','Fruits','weight','count']            )\n",
    "\n",
    "\n",
    "fruit_ninja"
   ]
  },
  {
   "cell_type": "code",
   "execution_count": 152,
   "id": "established-center",
   "metadata": {},
   "outputs": [
    {
     "data": {
      "text/plain": [
       "0          apple\n",
       "1         orange\n",
       "2          apple\n",
       "3          apple\n",
       "4     kaju katli\n",
       "5          apple\n",
       "6     kaju katli\n",
       "7     kaju katli\n",
       "8         orange\n",
       "9         orange\n",
       "10         apple\n",
       "11        orange\n",
       "12         apple\n",
       "13         apple\n",
       "14    kaju katli\n",
       "15         apple\n",
       "16    kaju katli\n",
       "17    kaju katli\n",
       "18        orange\n",
       "19        orange\n",
       "Name: Fruits, dtype: category\n",
       "Categories (3, object): ['apple', 'kaju katli', 'orange']"
      ]
     },
     "execution_count": 152,
     "metadata": {},
     "output_type": "execute_result"
    }
   ],
   "source": [
    "# Now to convert into category\n",
    "\n",
    "fruit_cat = fruit_ninja['Fruits'].astype('category')\n",
    "\n",
    "fruit_cat"
   ]
  },
  {
   "cell_type": "code",
   "execution_count": 153,
   "id": "stunning-mechanism",
   "metadata": {},
   "outputs": [],
   "source": [
    "# Now, to access it and make changes accordingly we need to do it using category's array function"
   ]
  },
  {
   "cell_type": "code",
   "execution_count": 154,
   "id": "assumed-charleston",
   "metadata": {},
   "outputs": [
    {
     "data": {
      "text/plain": [
       "['apple', 'orange', 'apple', 'apple', 'kaju katli', ..., 'apple', 'kaju katli', 'kaju katli', 'orange', 'orange']\n",
       "Length: 20\n",
       "Categories (3, object): ['apple', 'kaju katli', 'orange']"
      ]
     },
     "execution_count": 154,
     "metadata": {},
     "output_type": "execute_result"
    }
   ],
   "source": [
    "car = fruit_cat.array\n",
    "\n",
    "car"
   ]
  },
  {
   "cell_type": "code",
   "execution_count": 155,
   "id": "patent-juvenile",
   "metadata": {},
   "outputs": [
    {
     "data": {
      "text/plain": [
       "Index(['apple', 'kaju katli', 'orange'], dtype='object')"
      ]
     },
     "execution_count": 155,
     "metadata": {},
     "output_type": "execute_result"
    }
   ],
   "source": [
    "car.categories"
   ]
  },
  {
   "cell_type": "code",
   "execution_count": 156,
   "id": "deluxe-ordinance",
   "metadata": {},
   "outputs": [
    {
     "data": {
      "text/plain": [
       "array([0, 2, 0, 0, 1, 0, 1, 1, 2, 2, 0, 2, 0, 0, 1, 0, 1, 1, 2, 2],\n",
       "      dtype=int8)"
      ]
     },
     "execution_count": 156,
     "metadata": {},
     "output_type": "execute_result"
    }
   ],
   "source": [
    "car.codes"
   ]
  },
  {
   "cell_type": "markdown",
   "id": "stable-income",
   "metadata": {},
   "source": [
    "#### Useful trick\n"
   ]
  },
  {
   "cell_type": "code",
   "execution_count": 157,
   "id": "rocky-campus",
   "metadata": {},
   "outputs": [],
   "source": [
    "# To get the mapping of the codes with the strings, do this"
   ]
  },
  {
   "cell_type": "code",
   "execution_count": 158,
   "id": "exact-qatar",
   "metadata": {},
   "outputs": [
    {
     "data": {
      "text/plain": [
       "{0: 'apple', 1: 'kaju katli', 2: 'orange'}"
      ]
     },
     "execution_count": 158,
     "metadata": {},
     "output_type": "execute_result"
    }
   ],
   "source": [
    "mapped = dict(enumerate(car.categories))\n",
    "\n",
    "mapped"
   ]
  },
  {
   "cell_type": "code",
   "execution_count": 159,
   "id": "macro-toolbox",
   "metadata": {},
   "outputs": [],
   "source": [
    "# You can make the DataFrame columns also into categories"
   ]
  },
  {
   "cell_type": "code",
   "execution_count": 160,
   "id": "ideal-smile",
   "metadata": {},
   "outputs": [
    {
     "data": {
      "text/plain": [
       "0          apple\n",
       "1         orange\n",
       "2          apple\n",
       "3          apple\n",
       "4     kaju katli\n",
       "5          apple\n",
       "6     kaju katli\n",
       "7     kaju katli\n",
       "8         orange\n",
       "9         orange\n",
       "10         apple\n",
       "11        orange\n",
       "12         apple\n",
       "13         apple\n",
       "14    kaju katli\n",
       "15         apple\n",
       "16    kaju katli\n",
       "17    kaju katli\n",
       "18        orange\n",
       "19        orange\n",
       "Name: Fruits, dtype: category\n",
       "Categories (3, object): ['apple', 'kaju katli', 'orange']"
      ]
     },
     "execution_count": 160,
     "metadata": {},
     "output_type": "execute_result"
    }
   ],
   "source": [
    "fruit_ninja['Fruits'] = fruit_ninja['Fruits'].astype('category')\n",
    "\n",
    "\n",
    "fruit_ninja['Fruits']"
   ]
  },
  {
   "cell_type": "code",
   "execution_count": 161,
   "id": "wired-charter",
   "metadata": {},
   "outputs": [],
   "source": [
    "# You can also create one category from scratch"
   ]
  },
  {
   "cell_type": "code",
   "execution_count": 162,
   "id": "human-heater",
   "metadata": {},
   "outputs": [
    {
     "data": {
      "text/plain": [
       "['chup', 'chaap', 'reh', 'chup', 'chup', 'reh']\n",
       "Categories (3, object): ['chaap', 'chup', 'reh']"
      ]
     },
     "execution_count": 162,
     "metadata": {},
     "output_type": "execute_result"
    }
   ],
   "source": [
    "manscat = pd.Categorical(['chup','chaap','reh','chup','chup','reh'])\n",
    "\n",
    "\n",
    "manscat"
   ]
  },
  {
   "cell_type": "code",
   "execution_count": 163,
   "id": "racial-thomas",
   "metadata": {},
   "outputs": [],
   "source": [
    "# Now if you have obtained categorical encoded data from somewhere else use from_codes"
   ]
  },
  {
   "cell_type": "code",
   "execution_count": 164,
   "id": "naval-medication",
   "metadata": {},
   "outputs": [],
   "source": [
    "caw = ['chup','chaap','reh']\n",
    "\n",
    "code = [2,1,0,1,2,1,1,2,1,2]"
   ]
  },
  {
   "cell_type": "code",
   "execution_count": 165,
   "id": "flexible-series",
   "metadata": {},
   "outputs": [
    {
     "data": {
      "text/plain": [
       "['reh', 'chaap', 'chup', 'chaap', 'reh', 'chaap', 'chaap', 'reh', 'chaap', 'reh']\n",
       "Categories (3, object): ['chup', 'chaap', 'reh']"
      ]
     },
     "execution_count": 165,
     "metadata": {},
     "output_type": "execute_result"
    }
   ],
   "source": [
    "maca = pd.Categorical.from_codes(code,caw)\n",
    "\n",
    "maca"
   ]
  },
  {
   "cell_type": "code",
   "execution_count": 166,
   "id": "documented-story",
   "metadata": {},
   "outputs": [],
   "source": [
    "# Now you can also order the categories"
   ]
  },
  {
   "cell_type": "code",
   "execution_count": 167,
   "id": "parallel-stone",
   "metadata": {},
   "outputs": [
    {
     "data": {
      "text/plain": [
       "['reh', 'chaap', 'chup', 'chaap', 'reh', 'chaap', 'chaap', 'reh', 'chaap', 'reh']\n",
       "Categories (3, object): ['chup' < 'chaap' < 'reh']"
      ]
     },
     "execution_count": 167,
     "metadata": {},
     "output_type": "execute_result"
    }
   ],
   "source": [
    "maca = pd.Categorical.from_codes(code,caw,ordered = True)\n",
    "\n",
    "maca"
   ]
  },
  {
   "cell_type": "code",
   "execution_count": 168,
   "id": "tough-infrastructure",
   "metadata": {},
   "outputs": [],
   "source": [
    "# if you already have an unordered category, do this"
   ]
  },
  {
   "cell_type": "code",
   "execution_count": 169,
   "id": "cognitive-ability",
   "metadata": {},
   "outputs": [
    {
     "data": {
      "text/plain": [
       "['reh', 'chaap', 'chup', 'chaap', 'reh', 'chaap', 'chaap', 'reh', 'chaap', 'reh']\n",
       "Categories (3, object): ['chup', 'chaap', 'reh']"
      ]
     },
     "execution_count": 169,
     "metadata": {},
     "output_type": "execute_result"
    }
   ],
   "source": [
    "messi = pd.Categorical.from_codes(code,caw)\n",
    "\n",
    "messi"
   ]
  },
  {
   "cell_type": "code",
   "execution_count": 170,
   "id": "fifteen-thesaurus",
   "metadata": {},
   "outputs": [
    {
     "data": {
      "text/plain": [
       "['reh', 'chaap', 'chup', 'chaap', 'reh', 'chaap', 'chaap', 'reh', 'chaap', 'reh']\n",
       "Categories (3, object): ['chup' < 'chaap' < 'reh']"
      ]
     },
     "execution_count": 170,
     "metadata": {},
     "output_type": "execute_result"
    }
   ],
   "source": [
    "    messi.as_ordered()"
   ]
  },
  {
   "cell_type": "markdown",
   "id": "threaded-contamination",
   "metadata": {},
   "source": [
    "### Computation with categoricals"
   ]
  },
  {
   "cell_type": "code",
   "execution_count": 171,
   "id": "located-cigarette",
   "metadata": {},
   "outputs": [],
   "source": [
    "# Here we will see the use of the group by and other aggregate functions"
   ]
  },
  {
   "cell_type": "code",
   "execution_count": 172,
   "id": "alternative-punishment",
   "metadata": {},
   "outputs": [],
   "source": [
    "# First lets start with some random data"
   ]
  },
  {
   "cell_type": "code",
   "execution_count": 173,
   "id": "affected-sunglasses",
   "metadata": {},
   "outputs": [
    {
     "data": {
      "text/plain": [
       "array([-0.4696353 , -0.34941124, -1.40464869, ...,  0.61942069,\n",
       "        0.59034187,  0.7252722 ])"
      ]
     },
     "execution_count": 173,
     "metadata": {},
     "output_type": "execute_result"
    }
   ],
   "source": [
    "rands = np.random.default_rng(seed = 4000)\n",
    "\n",
    "daws = rands.standard_normal(2000)\n",
    "\n",
    "daws"
   ]
  },
  {
   "cell_type": "code",
   "execution_count": 174,
   "id": "elegant-perception",
   "metadata": {},
   "outputs": [],
   "source": [
    "# Now let's get qcut"
   ]
  },
  {
   "cell_type": "code",
   "execution_count": 175,
   "id": "small-development",
   "metadata": {},
   "outputs": [
    {
     "data": {
      "text/plain": [
       "[(-0.487, -0.378], (-0.378, -0.249], (-1.632, -1.239], (0.0178, 0.133], (1.264, 1.642], ..., (-1.632, -1.239], (-0.988, -0.794], (0.501, 0.647], (0.501, 0.647], (0.647, 0.834]]\n",
       "Length: 2000\n",
       "Categories (20, interval[float64]): [(-3.302, -1.632] < (-1.632, -1.239] < (-1.239, -0.988] < (-0.988, -0.794] ... (0.834, 1.033] < (1.033, 1.264] < (1.264, 1.642] < (1.642, 3.927]]"
      ]
     },
     "execution_count": 175,
     "metadata": {},
     "output_type": "execute_result"
    }
   ],
   "source": [
    "oot = pd.qcut(daws,20)\n",
    "\n",
    "oot"
   ]
  },
  {
   "cell_type": "code",
   "execution_count": 176,
   "id": "printable-arthur",
   "metadata": {},
   "outputs": [],
   "source": [
    "# Now, to make the data more presentable first we will assign them labels and then do the group by functions"
   ]
  },
  {
   "cell_type": "code",
   "execution_count": 177,
   "id": "meaning-grill",
   "metadata": {},
   "outputs": [
    {
     "data": {
      "text/plain": [
       "['Q7', 'Q8', 'Q2', 'Q11', 'Q19', ..., 'Q2', 'Q4', 'Q15', 'Q15', 'Q16']\n",
       "Length: 2000\n",
       "Categories (20, object): ['Q1' < 'Q2' < 'Q3' < 'Q4' ... 'Q17' < 'Q18' < 'Q19' < 'Q20']"
      ]
     },
     "execution_count": 177,
     "metadata": {},
     "output_type": "execute_result"
    }
   ],
   "source": [
    "oot = pd.qcut(daws,20,labels = ['Q1','Q2','Q3','Q4','Q5','Q6','Q7','Q8','Q9','Q10','Q11','Q12','Q13','Q14','Q15','Q16','Q17','Q18','Q19','Q20'])\n",
    "\n",
    "oot"
   ]
  },
  {
   "cell_type": "code",
   "execution_count": 178,
   "id": "floppy-fellow",
   "metadata": {},
   "outputs": [],
   "source": [
    "# Now to make it more presentable we will do this"
   ]
  },
  {
   "cell_type": "code",
   "execution_count": 179,
   "id": "intermediate-million",
   "metadata": {},
   "outputs": [
    {
     "data": {
      "text/plain": [
       "0        Q7\n",
       "1        Q8\n",
       "2        Q2\n",
       "3       Q11\n",
       "4       Q19\n",
       "       ... \n",
       "1995     Q2\n",
       "1996     Q4\n",
       "1997    Q15\n",
       "1998    Q15\n",
       "1999    Q16\n",
       "Name: check, Length: 2000, dtype: category\n",
       "Categories (20, object): ['Q1' < 'Q2' < 'Q3' < 'Q4' ... 'Q17' < 'Q18' < 'Q19' < 'Q20']"
      ]
     },
     "execution_count": 179,
     "metadata": {},
     "output_type": "execute_result"
    }
   ],
   "source": [
    "# First we will pass the data as series\n",
    "\n",
    "ooto = pd.Series(oot,name = 'check')\n",
    "\n",
    "ooto\n"
   ]
  },
  {
   "cell_type": "markdown",
   "id": "parental-stream",
   "metadata": {},
   "source": [
    "## Now here is the interesting part, although you maybe seeing the data as Q1,Q2 and so on\n",
    "## Actually they are mapped to proper intervals and will assign them to values they encounter"
   ]
  },
  {
   "cell_type": "code",
   "execution_count": null,
   "id": "special-contest",
   "metadata": {},
   "outputs": [],
   "source": []
  },
  {
   "cell_type": "code",
   "execution_count": 180,
   "id": "municipal-barrier",
   "metadata": {},
   "outputs": [
    {
     "data": {
      "text/plain": [
       "0      -0.469635\n",
       "1      -0.349411\n",
       "2      -1.404649\n",
       "3       0.037629\n",
       "4       1.297645\n",
       "          ...   \n",
       "1995   -1.388217\n",
       "1996   -0.949673\n",
       "1997    0.619421\n",
       "1998    0.590342\n",
       "1999    0.725272\n",
       "Length: 2000, dtype: float64"
      ]
     },
     "execution_count": 180,
     "metadata": {},
     "output_type": "execute_result"
    }
   ],
   "source": [
    "pd.Series(daws)"
   ]
  },
  {
   "cell_type": "code",
   "execution_count": 181,
   "id": "serious-vegetation",
   "metadata": {},
   "outputs": [
    {
     "data": {
      "text/html": [
       "<div>\n",
       "<style scoped>\n",
       "    .dataframe tbody tr th:only-of-type {\n",
       "        vertical-align: middle;\n",
       "    }\n",
       "\n",
       "    .dataframe tbody tr th {\n",
       "        vertical-align: top;\n",
       "    }\n",
       "\n",
       "    .dataframe thead th {\n",
       "        text-align: right;\n",
       "    }\n",
       "</style>\n",
       "<table border=\"1\" class=\"dataframe\">\n",
       "  <thead>\n",
       "    <tr style=\"text-align: right;\">\n",
       "      <th></th>\n",
       "      <th>check</th>\n",
       "      <th>count</th>\n",
       "      <th>min</th>\n",
       "      <th>max</th>\n",
       "    </tr>\n",
       "  </thead>\n",
       "  <tbody>\n",
       "    <tr>\n",
       "      <th>0</th>\n",
       "      <td>Q1</td>\n",
       "      <td>100</td>\n",
       "      <td>-3.301240</td>\n",
       "      <td>-1.641030</td>\n",
       "    </tr>\n",
       "    <tr>\n",
       "      <th>1</th>\n",
       "      <td>Q2</td>\n",
       "      <td>100</td>\n",
       "      <td>-1.631212</td>\n",
       "      <td>-1.249216</td>\n",
       "    </tr>\n",
       "    <tr>\n",
       "      <th>2</th>\n",
       "      <td>Q3</td>\n",
       "      <td>100</td>\n",
       "      <td>-1.238329</td>\n",
       "      <td>-0.988348</td>\n",
       "    </tr>\n",
       "    <tr>\n",
       "      <th>3</th>\n",
       "      <td>Q4</td>\n",
       "      <td>100</td>\n",
       "      <td>-0.987854</td>\n",
       "      <td>-0.794725</td>\n",
       "    </tr>\n",
       "    <tr>\n",
       "      <th>4</th>\n",
       "      <td>Q5</td>\n",
       "      <td>100</td>\n",
       "      <td>-0.793503</td>\n",
       "      <td>-0.649379</td>\n",
       "    </tr>\n",
       "    <tr>\n",
       "      <th>5</th>\n",
       "      <td>Q6</td>\n",
       "      <td>100</td>\n",
       "      <td>-0.644327</td>\n",
       "      <td>-0.486804</td>\n",
       "    </tr>\n",
       "    <tr>\n",
       "      <th>6</th>\n",
       "      <td>Q7</td>\n",
       "      <td>100</td>\n",
       "      <td>-0.486517</td>\n",
       "      <td>-0.379919</td>\n",
       "    </tr>\n",
       "    <tr>\n",
       "      <th>7</th>\n",
       "      <td>Q8</td>\n",
       "      <td>100</td>\n",
       "      <td>-0.377708</td>\n",
       "      <td>-0.248883</td>\n",
       "    </tr>\n",
       "    <tr>\n",
       "      <th>8</th>\n",
       "      <td>Q9</td>\n",
       "      <td>100</td>\n",
       "      <td>-0.248655</td>\n",
       "      <td>-0.122205</td>\n",
       "    </tr>\n",
       "    <tr>\n",
       "      <th>9</th>\n",
       "      <td>Q10</td>\n",
       "      <td>100</td>\n",
       "      <td>-0.121178</td>\n",
       "      <td>0.015208</td>\n",
       "    </tr>\n",
       "    <tr>\n",
       "      <th>10</th>\n",
       "      <td>Q11</td>\n",
       "      <td>100</td>\n",
       "      <td>0.020414</td>\n",
       "      <td>0.133031</td>\n",
       "    </tr>\n",
       "    <tr>\n",
       "      <th>11</th>\n",
       "      <td>Q12</td>\n",
       "      <td>100</td>\n",
       "      <td>0.133085</td>\n",
       "      <td>0.245764</td>\n",
       "    </tr>\n",
       "    <tr>\n",
       "      <th>12</th>\n",
       "      <td>Q13</td>\n",
       "      <td>100</td>\n",
       "      <td>0.246942</td>\n",
       "      <td>0.357048</td>\n",
       "    </tr>\n",
       "    <tr>\n",
       "      <th>13</th>\n",
       "      <td>Q14</td>\n",
       "      <td>100</td>\n",
       "      <td>0.357145</td>\n",
       "      <td>0.498843</td>\n",
       "    </tr>\n",
       "    <tr>\n",
       "      <th>14</th>\n",
       "      <td>Q15</td>\n",
       "      <td>100</td>\n",
       "      <td>0.505783</td>\n",
       "      <td>0.645592</td>\n",
       "    </tr>\n",
       "    <tr>\n",
       "      <th>15</th>\n",
       "      <td>Q16</td>\n",
       "      <td>100</td>\n",
       "      <td>0.649980</td>\n",
       "      <td>0.833267</td>\n",
       "    </tr>\n",
       "    <tr>\n",
       "      <th>16</th>\n",
       "      <td>Q17</td>\n",
       "      <td>100</td>\n",
       "      <td>0.834934</td>\n",
       "      <td>1.032717</td>\n",
       "    </tr>\n",
       "    <tr>\n",
       "      <th>17</th>\n",
       "      <td>Q18</td>\n",
       "      <td>100</td>\n",
       "      <td>1.037498</td>\n",
       "      <td>1.264159</td>\n",
       "    </tr>\n",
       "    <tr>\n",
       "      <th>18</th>\n",
       "      <td>Q19</td>\n",
       "      <td>100</td>\n",
       "      <td>1.265072</td>\n",
       "      <td>1.642183</td>\n",
       "    </tr>\n",
       "    <tr>\n",
       "      <th>19</th>\n",
       "      <td>Q20</td>\n",
       "      <td>100</td>\n",
       "      <td>1.643282</td>\n",
       "      <td>3.926958</td>\n",
       "    </tr>\n",
       "  </tbody>\n",
       "</table>\n",
       "</div>"
      ],
      "text/plain": [
       "   check  count       min       max\n",
       "0     Q1    100 -3.301240 -1.641030\n",
       "1     Q2    100 -1.631212 -1.249216\n",
       "2     Q3    100 -1.238329 -0.988348\n",
       "3     Q4    100 -0.987854 -0.794725\n",
       "4     Q5    100 -0.793503 -0.649379\n",
       "5     Q6    100 -0.644327 -0.486804\n",
       "6     Q7    100 -0.486517 -0.379919\n",
       "7     Q8    100 -0.377708 -0.248883\n",
       "8     Q9    100 -0.248655 -0.122205\n",
       "9    Q10    100 -0.121178  0.015208\n",
       "10   Q11    100  0.020414  0.133031\n",
       "11   Q12    100  0.133085  0.245764\n",
       "12   Q13    100  0.246942  0.357048\n",
       "13   Q14    100  0.357145  0.498843\n",
       "14   Q15    100  0.505783  0.645592\n",
       "15   Q16    100  0.649980  0.833267\n",
       "16   Q17    100  0.834934  1.032717\n",
       "17   Q18    100  1.037498  1.264159\n",
       "18   Q19    100  1.265072  1.642183\n",
       "19   Q20    100  1.643282  3.926958"
      ]
     },
     "execution_count": 181,
     "metadata": {},
     "output_type": "execute_result"
    }
   ],
   "source": [
    "res = (pd.Series(daws)\n",
    "      .groupby(ooto)\n",
    "       .agg(['count','min','max'])\n",
    "       .reset_index()\n",
    "      )\n",
    "\n",
    "res"
   ]
  },
  {
   "cell_type": "code",
   "execution_count": 182,
   "id": "twelve-samba",
   "metadata": {},
   "outputs": [],
   "source": [
    "dda = pd.Series(['aap','ache','ho','aap','go'])"
   ]
  },
  {
   "cell_type": "code",
   "execution_count": 183,
   "id": "spanish-eagle",
   "metadata": {},
   "outputs": [
    {
     "data": {
      "text/plain": [
       "0     aap\n",
       "1    ache\n",
       "2      ho\n",
       "3     aap\n",
       "4      go\n",
       "dtype: category\n",
       "Categories (4, object): ['aap', 'ache', 'go', 'ho']"
      ]
     },
     "execution_count": 183,
     "metadata": {},
     "output_type": "execute_result"
    }
   ],
   "source": [
    "da = dda.astype('category')\n",
    "\n",
    "da"
   ]
  },
  {
   "cell_type": "markdown",
   "id": "hollywood-little",
   "metadata": {},
   "source": [
    "## Categorical Methods"
   ]
  },
  {
   "cell_type": "code",
   "execution_count": null,
   "id": "previous-heating",
   "metadata": {},
   "outputs": [],
   "source": [
    "# These are special series methods that are helpful in providing convinient access to the categories codes's "
   ]
  },
  {
   "cell_type": "code",
   "execution_count": 184,
   "id": "applied-sandwich",
   "metadata": {},
   "outputs": [
    {
     "data": {
      "text/plain": [
       "0    a\n",
       "1    v\n",
       "2    c\n",
       "3    k\n",
       "4    a\n",
       "5    v\n",
       "6    c\n",
       "7    k\n",
       "dtype: object"
      ]
     },
     "execution_count": 184,
     "metadata": {},
     "output_type": "execute_result"
    }
   ],
   "source": [
    "pdd = pd.Series(['a','v','c','k']*2)\n",
    "\n",
    "pdd"
   ]
  },
  {
   "cell_type": "code",
   "execution_count": 185,
   "id": "requested-bunch",
   "metadata": {},
   "outputs": [
    {
     "data": {
      "text/plain": [
       "0    a\n",
       "1    v\n",
       "2    c\n",
       "3    k\n",
       "4    a\n",
       "5    v\n",
       "6    c\n",
       "7    k\n",
       "dtype: category\n",
       "Categories (4, object): ['a', 'c', 'k', 'v']"
      ]
     },
     "execution_count": 185,
     "metadata": {},
     "output_type": "execute_result"
    }
   ],
   "source": [
    "pdd_cat = pdd.astype('category')\n",
    "\n",
    "pdd_cat"
   ]
  },
  {
   "cell_type": "code",
   "execution_count": null,
   "id": "stable-looking",
   "metadata": {},
   "outputs": [],
   "source": [
    "# To see the code of each object,"
   ]
  },
  {
   "cell_type": "code",
   "execution_count": 186,
   "id": "medieval-watts",
   "metadata": {},
   "outputs": [
    {
     "data": {
      "text/plain": [
       "0    0\n",
       "1    3\n",
       "2    1\n",
       "3    2\n",
       "4    0\n",
       "5    3\n",
       "6    1\n",
       "7    2\n",
       "dtype: int8"
      ]
     },
     "execution_count": 186,
     "metadata": {},
     "output_type": "execute_result"
    }
   ],
   "source": [
    "pdd_cat.cat.codes"
   ]
  },
  {
   "cell_type": "code",
   "execution_count": 187,
   "id": "thrown-channels",
   "metadata": {},
   "outputs": [],
   "source": [
    "# Suppose that we know there could be more data present and could not be seen, so we do this"
   ]
  },
  {
   "cell_type": "code",
   "execution_count": 212,
   "id": "hindu-outline",
   "metadata": {},
   "outputs": [],
   "source": [
    "temp_cat = ['a','b','c','d','e','f','g','h','i','j','k','l','m','n','o','p','q','r','s','t','u','w','x','v','y','z']"
   ]
  },
  {
   "cell_type": "code",
   "execution_count": 214,
   "id": "monthly-triple",
   "metadata": {},
   "outputs": [],
   "source": [
    "# Like we have passed an entire list of alphabets to the cat and letting them take their places correspondingly\n",
    "\n",
    "# If you remove 'v' from list then Nan will come in its place"
   ]
  },
  {
   "cell_type": "code",
   "execution_count": 215,
   "id": "widespread-review",
   "metadata": {},
   "outputs": [
    {
     "data": {
      "text/plain": [
       "0    a\n",
       "1    v\n",
       "2    c\n",
       "3    k\n",
       "4    a\n",
       "5    v\n",
       "6    c\n",
       "7    k\n",
       "dtype: category\n",
       "Categories (26, object): ['a', 'b', 'c', 'd', ..., 'x', 'v', 'y', 'z']"
      ]
     },
     "execution_count": 215,
     "metadata": {},
     "output_type": "execute_result"
    }
   ],
   "source": [
    "cat2 = pdd_cat.cat.set_categories(temp_cat)\n",
    "\n",
    "cat2\n"
   ]
  },
  {
   "cell_type": "code",
   "execution_count": 200,
   "id": "ethical-joining",
   "metadata": {},
   "outputs": [],
   "source": [
    "# Now, the values will change"
   ]
  },
  {
   "cell_type": "code",
   "execution_count": 216,
   "id": "considerable-castle",
   "metadata": {},
   "outputs": [
    {
     "data": {
      "text/plain": [
       "a    2\n",
       "c    2\n",
       "k    2\n",
       "v    2\n",
       "dtype: int64"
      ]
     },
     "execution_count": 216,
     "metadata": {},
     "output_type": "execute_result"
    }
   ],
   "source": [
    "pdd_cat.value_counts()"
   ]
  },
  {
   "cell_type": "code",
   "execution_count": 218,
   "id": "tamil-appearance",
   "metadata": {},
   "outputs": [
    {
     "data": {
      "text/plain": [
       "a    2\n",
       "c    2\n",
       "v    2\n",
       "k    2\n",
       "o    0\n",
       "y    0\n",
       "x    0\n",
       "w    0\n",
       "u    0\n",
       "t    0\n",
       "s    0\n",
       "r    0\n",
       "q    0\n",
       "p    0\n",
       "n    0\n",
       "b    0\n",
       "m    0\n",
       "l    0\n",
       "j    0\n",
       "i    0\n",
       "h    0\n",
       "g    0\n",
       "f    0\n",
       "e    0\n",
       "d    0\n",
       "z    0\n",
       "dtype: int64"
      ]
     },
     "execution_count": 218,
     "metadata": {},
     "output_type": "execute_result"
    }
   ],
   "source": [
    "cat2.value_counts()"
   ]
  },
  {
   "cell_type": "code",
   "execution_count": 217,
   "id": "eligible-marble",
   "metadata": {},
   "outputs": [],
   "source": [
    "# Now suppose you want to remove unused data from the category"
   ]
  },
  {
   "cell_type": "code",
   "execution_count": 219,
   "id": "dutch-decision",
   "metadata": {},
   "outputs": [
    {
     "data": {
      "text/plain": [
       "0    a\n",
       "1    v\n",
       "4    a\n",
       "5    v\n",
       "dtype: category\n",
       "Categories (26, object): ['a', 'b', 'c', 'd', ..., 'x', 'v', 'y', 'z']"
      ]
     },
     "execution_count": 219,
     "metadata": {},
     "output_type": "execute_result"
    }
   ],
   "source": [
    "cat2_un = cat2[cat2.isin(('a','v'))]\n",
    "\n",
    "cat2_un"
   ]
  },
  {
   "cell_type": "code",
   "execution_count": 220,
   "id": "fleet-filename",
   "metadata": {},
   "outputs": [
    {
     "data": {
      "text/plain": [
       "0    a\n",
       "1    v\n",
       "4    a\n",
       "5    v\n",
       "dtype: category\n",
       "Categories (2, object): ['a', 'v']"
      ]
     },
     "execution_count": 220,
     "metadata": {},
     "output_type": "execute_result"
    }
   ],
   "source": [
    "cat2_un.cat.remove_unused_categories()"
   ]
  },
  {
   "cell_type": "code",
   "execution_count": 221,
   "id": "growing-observation",
   "metadata": {},
   "outputs": [],
   "source": [
    "# Now, if you want to suppose create dummy variables for better data processing, you can do that"
   ]
  },
  {
   "cell_type": "code",
   "execution_count": 223,
   "id": "weird-consultancy",
   "metadata": {},
   "outputs": [
    {
     "data": {
      "text/html": [
       "<div>\n",
       "<style scoped>\n",
       "    .dataframe tbody tr th:only-of-type {\n",
       "        vertical-align: middle;\n",
       "    }\n",
       "\n",
       "    .dataframe tbody tr th {\n",
       "        vertical-align: top;\n",
       "    }\n",
       "\n",
       "    .dataframe thead th {\n",
       "        text-align: right;\n",
       "    }\n",
       "</style>\n",
       "<table border=\"1\" class=\"dataframe\">\n",
       "  <thead>\n",
       "    <tr style=\"text-align: right;\">\n",
       "      <th></th>\n",
       "      <th>a</th>\n",
       "      <th>b</th>\n",
       "      <th>c</th>\n",
       "      <th>d</th>\n",
       "      <th>e</th>\n",
       "      <th>f</th>\n",
       "      <th>g</th>\n",
       "      <th>h</th>\n",
       "      <th>i</th>\n",
       "      <th>j</th>\n",
       "      <th>...</th>\n",
       "      <th>q</th>\n",
       "      <th>r</th>\n",
       "      <th>s</th>\n",
       "      <th>t</th>\n",
       "      <th>u</th>\n",
       "      <th>w</th>\n",
       "      <th>x</th>\n",
       "      <th>v</th>\n",
       "      <th>y</th>\n",
       "      <th>z</th>\n",
       "    </tr>\n",
       "  </thead>\n",
       "  <tbody>\n",
       "    <tr>\n",
       "      <th>0</th>\n",
       "      <td>1</td>\n",
       "      <td>0</td>\n",
       "      <td>0</td>\n",
       "      <td>0</td>\n",
       "      <td>0</td>\n",
       "      <td>0</td>\n",
       "      <td>0</td>\n",
       "      <td>0</td>\n",
       "      <td>0</td>\n",
       "      <td>0</td>\n",
       "      <td>...</td>\n",
       "      <td>0</td>\n",
       "      <td>0</td>\n",
       "      <td>0</td>\n",
       "      <td>0</td>\n",
       "      <td>0</td>\n",
       "      <td>0</td>\n",
       "      <td>0</td>\n",
       "      <td>0</td>\n",
       "      <td>0</td>\n",
       "      <td>0</td>\n",
       "    </tr>\n",
       "    <tr>\n",
       "      <th>1</th>\n",
       "      <td>0</td>\n",
       "      <td>0</td>\n",
       "      <td>0</td>\n",
       "      <td>0</td>\n",
       "      <td>0</td>\n",
       "      <td>0</td>\n",
       "      <td>0</td>\n",
       "      <td>0</td>\n",
       "      <td>0</td>\n",
       "      <td>0</td>\n",
       "      <td>...</td>\n",
       "      <td>0</td>\n",
       "      <td>0</td>\n",
       "      <td>0</td>\n",
       "      <td>0</td>\n",
       "      <td>0</td>\n",
       "      <td>0</td>\n",
       "      <td>0</td>\n",
       "      <td>1</td>\n",
       "      <td>0</td>\n",
       "      <td>0</td>\n",
       "    </tr>\n",
       "    <tr>\n",
       "      <th>2</th>\n",
       "      <td>0</td>\n",
       "      <td>0</td>\n",
       "      <td>1</td>\n",
       "      <td>0</td>\n",
       "      <td>0</td>\n",
       "      <td>0</td>\n",
       "      <td>0</td>\n",
       "      <td>0</td>\n",
       "      <td>0</td>\n",
       "      <td>0</td>\n",
       "      <td>...</td>\n",
       "      <td>0</td>\n",
       "      <td>0</td>\n",
       "      <td>0</td>\n",
       "      <td>0</td>\n",
       "      <td>0</td>\n",
       "      <td>0</td>\n",
       "      <td>0</td>\n",
       "      <td>0</td>\n",
       "      <td>0</td>\n",
       "      <td>0</td>\n",
       "    </tr>\n",
       "    <tr>\n",
       "      <th>3</th>\n",
       "      <td>0</td>\n",
       "      <td>0</td>\n",
       "      <td>0</td>\n",
       "      <td>0</td>\n",
       "      <td>0</td>\n",
       "      <td>0</td>\n",
       "      <td>0</td>\n",
       "      <td>0</td>\n",
       "      <td>0</td>\n",
       "      <td>0</td>\n",
       "      <td>...</td>\n",
       "      <td>0</td>\n",
       "      <td>0</td>\n",
       "      <td>0</td>\n",
       "      <td>0</td>\n",
       "      <td>0</td>\n",
       "      <td>0</td>\n",
       "      <td>0</td>\n",
       "      <td>0</td>\n",
       "      <td>0</td>\n",
       "      <td>0</td>\n",
       "    </tr>\n",
       "    <tr>\n",
       "      <th>4</th>\n",
       "      <td>1</td>\n",
       "      <td>0</td>\n",
       "      <td>0</td>\n",
       "      <td>0</td>\n",
       "      <td>0</td>\n",
       "      <td>0</td>\n",
       "      <td>0</td>\n",
       "      <td>0</td>\n",
       "      <td>0</td>\n",
       "      <td>0</td>\n",
       "      <td>...</td>\n",
       "      <td>0</td>\n",
       "      <td>0</td>\n",
       "      <td>0</td>\n",
       "      <td>0</td>\n",
       "      <td>0</td>\n",
       "      <td>0</td>\n",
       "      <td>0</td>\n",
       "      <td>0</td>\n",
       "      <td>0</td>\n",
       "      <td>0</td>\n",
       "    </tr>\n",
       "    <tr>\n",
       "      <th>5</th>\n",
       "      <td>0</td>\n",
       "      <td>0</td>\n",
       "      <td>0</td>\n",
       "      <td>0</td>\n",
       "      <td>0</td>\n",
       "      <td>0</td>\n",
       "      <td>0</td>\n",
       "      <td>0</td>\n",
       "      <td>0</td>\n",
       "      <td>0</td>\n",
       "      <td>...</td>\n",
       "      <td>0</td>\n",
       "      <td>0</td>\n",
       "      <td>0</td>\n",
       "      <td>0</td>\n",
       "      <td>0</td>\n",
       "      <td>0</td>\n",
       "      <td>0</td>\n",
       "      <td>1</td>\n",
       "      <td>0</td>\n",
       "      <td>0</td>\n",
       "    </tr>\n",
       "    <tr>\n",
       "      <th>6</th>\n",
       "      <td>0</td>\n",
       "      <td>0</td>\n",
       "      <td>1</td>\n",
       "      <td>0</td>\n",
       "      <td>0</td>\n",
       "      <td>0</td>\n",
       "      <td>0</td>\n",
       "      <td>0</td>\n",
       "      <td>0</td>\n",
       "      <td>0</td>\n",
       "      <td>...</td>\n",
       "      <td>0</td>\n",
       "      <td>0</td>\n",
       "      <td>0</td>\n",
       "      <td>0</td>\n",
       "      <td>0</td>\n",
       "      <td>0</td>\n",
       "      <td>0</td>\n",
       "      <td>0</td>\n",
       "      <td>0</td>\n",
       "      <td>0</td>\n",
       "    </tr>\n",
       "    <tr>\n",
       "      <th>7</th>\n",
       "      <td>0</td>\n",
       "      <td>0</td>\n",
       "      <td>0</td>\n",
       "      <td>0</td>\n",
       "      <td>0</td>\n",
       "      <td>0</td>\n",
       "      <td>0</td>\n",
       "      <td>0</td>\n",
       "      <td>0</td>\n",
       "      <td>0</td>\n",
       "      <td>...</td>\n",
       "      <td>0</td>\n",
       "      <td>0</td>\n",
       "      <td>0</td>\n",
       "      <td>0</td>\n",
       "      <td>0</td>\n",
       "      <td>0</td>\n",
       "      <td>0</td>\n",
       "      <td>0</td>\n",
       "      <td>0</td>\n",
       "      <td>0</td>\n",
       "    </tr>\n",
       "  </tbody>\n",
       "</table>\n",
       "<p>8 rows × 26 columns</p>\n",
       "</div>"
      ],
      "text/plain": [
       "   a  b  c  d  e  f  g  h  i  j  ...  q  r  s  t  u  w  x  v  y  z\n",
       "0  1  0  0  0  0  0  0  0  0  0  ...  0  0  0  0  0  0  0  0  0  0\n",
       "1  0  0  0  0  0  0  0  0  0  0  ...  0  0  0  0  0  0  0  1  0  0\n",
       "2  0  0  1  0  0  0  0  0  0  0  ...  0  0  0  0  0  0  0  0  0  0\n",
       "3  0  0  0  0  0  0  0  0  0  0  ...  0  0  0  0  0  0  0  0  0  0\n",
       "4  1  0  0  0  0  0  0  0  0  0  ...  0  0  0  0  0  0  0  0  0  0\n",
       "5  0  0  0  0  0  0  0  0  0  0  ...  0  0  0  0  0  0  0  1  0  0\n",
       "6  0  0  1  0  0  0  0  0  0  0  ...  0  0  0  0  0  0  0  0  0  0\n",
       "7  0  0  0  0  0  0  0  0  0  0  ...  0  0  0  0  0  0  0  0  0  0\n",
       "\n",
       "[8 rows x 26 columns]"
      ]
     },
     "execution_count": 223,
     "metadata": {},
     "output_type": "execute_result"
    }
   ],
   "source": [
    "pd.get_dummies(cat2)"
   ]
  },
  {
   "cell_type": "code",
   "execution_count": null,
   "id": "interior-venue",
   "metadata": {},
   "outputs": [],
   "source": []
  },
  {
   "cell_type": "code",
   "execution_count": null,
   "id": "standing-destination",
   "metadata": {},
   "outputs": [],
   "source": []
  },
  {
   "cell_type": "code",
   "execution_count": null,
   "id": "political-kidney",
   "metadata": {},
   "outputs": [],
   "source": []
  },
  {
   "cell_type": "code",
   "execution_count": null,
   "id": "preceding-print",
   "metadata": {},
   "outputs": [],
   "source": []
  },
  {
   "cell_type": "code",
   "execution_count": null,
   "id": "breathing-monte",
   "metadata": {},
   "outputs": [],
   "source": []
  },
  {
   "cell_type": "code",
   "execution_count": null,
   "id": "capable-criminal",
   "metadata": {},
   "outputs": [],
   "source": []
  },
  {
   "cell_type": "code",
   "execution_count": null,
   "id": "careful-nomination",
   "metadata": {},
   "outputs": [],
   "source": []
  },
  {
   "cell_type": "code",
   "execution_count": null,
   "id": "fatal-function",
   "metadata": {},
   "outputs": [],
   "source": []
  },
  {
   "cell_type": "code",
   "execution_count": null,
   "id": "destroyed-stereo",
   "metadata": {},
   "outputs": [],
   "source": []
  },
  {
   "cell_type": "code",
   "execution_count": null,
   "id": "earned-candy",
   "metadata": {},
   "outputs": [],
   "source": []
  },
  {
   "cell_type": "code",
   "execution_count": null,
   "id": "forced-adventure",
   "metadata": {},
   "outputs": [],
   "source": []
  },
  {
   "cell_type": "code",
   "execution_count": null,
   "id": "superior-acoustic",
   "metadata": {},
   "outputs": [],
   "source": []
  },
  {
   "cell_type": "code",
   "execution_count": null,
   "id": "subtle-tribe",
   "metadata": {},
   "outputs": [],
   "source": []
  }
 ],
 "metadata": {
  "kernelspec": {
   "display_name": "Python 3 (ipykernel)",
   "language": "python",
   "name": "python3"
  },
  "language_info": {
   "codemirror_mode": {
    "name": "ipython",
    "version": 3
   },
   "file_extension": ".py",
   "mimetype": "text/x-python",
   "name": "python",
   "nbconvert_exporter": "python",
   "pygments_lexer": "ipython3",
   "version": "3.11.2"
  }
 },
 "nbformat": 4,
 "nbformat_minor": 5
}
